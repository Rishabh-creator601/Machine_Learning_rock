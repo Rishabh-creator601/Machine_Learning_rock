{
 "cells": [
  {
   "cell_type": "code",
   "execution_count": 57,
   "id": "8fa7cd3f",
   "metadata": {},
   "outputs": [],
   "source": [
    "from optuna.samplers import RandomSampler,TPESampler\n",
    "from optuna.visualization import plot_optimization_history, plot_parallel_coordinate, plot_slice, plot_contour, plot_param_importances\n",
    "from optuna.study import create_study\n",
    "from seedtools import load_seed\n",
    "from sklearn.model_selection import train_test_split\n",
    "from sklearn.ensemble import RandomForestClassifier\n",
    "from sklearn.svm import SVC \n",
    "from sklearn.linear_model import LogisticRegression\n",
    "from sklearn.metrics import classification_report\n",
    "from sklearn.preprocessing import StandardScaler\n",
    "import pandas as pd\n",
    "import numpy as np \n",
    "import matplotlib.pyplot as plt "
   ]
  },
  {
   "cell_type": "markdown",
   "id": "7b021de6",
   "metadata": {},
   "source": [
    "## CONTENTS \n",
    "- Best hyperparamteres \n",
    "- Best Model\n",
    "\n",
    "*each of it contains*:  \n",
    "- `objective function`\n",
    "-  study \n",
    "- testing \n",
    "- visualization "
   ]
  },
  {
   "cell_type": "code",
   "execution_count": 32,
   "id": "5a396996",
   "metadata": {},
   "outputs": [
    {
     "name": "stdout",
     "output_type": "stream",
     "text": [
      "Shape: [768, 9]\n",
      "Columns: ['Pregnancies', 'Glucose', 'BloodPressure', 'SkinThickness', 'Insulin', 'BMI', 'DiabetesPedigreeFunction', 'Age', 'Outcome']\n",
      "Description: Data Description is not yed provided\n"
     ]
    }
   ],
   "source": [
    "data =  load_seed(\"pima_indians_diabetest.csv\").data \n",
    "ss = StandardScaler()\n",
    "\n",
    "\n",
    "x =  ss.fit_transform(data.drop(columns=[\"Outcome\"]))\n",
    "y =  data[\"Outcome\"]\n",
    "\n",
    "\n",
    "x_train,x_test, y_train, y_test = train_test_split(x, y, test_size=0.3, random_state=42)"
   ]
  },
  {
   "cell_type": "markdown",
   "id": "78b0a4c6",
   "metadata": {},
   "source": [
    "## Best Parameters "
   ]
  },
  {
   "cell_type": "markdown",
   "id": "9472821c",
   "metadata": {},
   "source": [
    "| Feature          | RandomSampler | TPESampler         | GridSampler         |\n",
    "| ---------------- | ------------- | ------------------ | ------------------- |\n",
    "| Type             | Pure random   | Bayesian           | Exhaustive          |\n",
    "| Learns from past | ❌             | ✅                  | ❌                   |\n",
    "| Speed            | 🚀 Fast       | ⚡ Efficient        | 🐢 Slow (if large)  |\n",
    "| Best for         | Quick tests   | Most real problems | Small search spaces |\n",
    "\n",
    "SAMPLERS JUST FOR BEST PARAMTERES \n"
   ]
  },
  {
   "cell_type": "markdown",
   "id": "5822a549",
   "metadata": {},
   "source": [
    "**`Objective function`**"
   ]
  },
  {
   "cell_type": "code",
   "execution_count": null,
   "id": "631cc951",
   "metadata": {},
   "outputs": [
    {
     "name": "stderr",
     "output_type": "stream",
     "text": [
      "[I 2025-07-03 18:16:52,962] A new study created in memory with name: no-name-d56a6bb1-922a-4505-b345-7d746866d4c7\n",
      "[I 2025-07-03 18:16:53,162] Trial 0 finished with value: 0.7489177489177489 and parameters: {'n_estimators': 160, 'max_depth': 12}. Best is trial 0 with value: 0.7489177489177489.\n",
      "[I 2025-07-03 18:16:53,230] Trial 1 finished with value: 0.7402597402597403 and parameters: {'n_estimators': 57, 'max_depth': 8}. Best is trial 0 with value: 0.7489177489177489.\n",
      "[I 2025-07-03 18:16:53,353] Trial 2 finished with value: 0.7445887445887446 and parameters: {'n_estimators': 109, 'max_depth': 19}. Best is trial 0 with value: 0.7489177489177489.\n",
      "[I 2025-07-03 18:16:53,487] Trial 3 finished with value: 0.7489177489177489 and parameters: {'n_estimators': 119, 'max_depth': 8}. Best is trial 0 with value: 0.7489177489177489.\n",
      "[I 2025-07-03 18:16:53,548] Trial 4 finished with value: 0.7445887445887446 and parameters: {'n_estimators': 52, 'max_depth': 7}. Best is trial 0 with value: 0.7489177489177489.\n",
      "[I 2025-07-03 18:16:53,619] Trial 5 finished with value: 0.7532467532467533 and parameters: {'n_estimators': 58, 'max_depth': 20}. Best is trial 5 with value: 0.7532467532467533.\n",
      "[I 2025-07-03 18:16:53,737] Trial 6 finished with value: 0.7489177489177489 and parameters: {'n_estimators': 129, 'max_depth': 3}. Best is trial 5 with value: 0.7532467532467533.\n",
      "[I 2025-07-03 18:16:53,914] Trial 7 finished with value: 0.7619047619047619 and parameters: {'n_estimators': 156, 'max_depth': 14}. Best is trial 7 with value: 0.7619047619047619.\n",
      "[I 2025-07-03 18:16:54,036] Trial 8 finished with value: 0.7359307359307359 and parameters: {'n_estimators': 98, 'max_depth': 9}. Best is trial 7 with value: 0.7619047619047619.\n",
      "[I 2025-07-03 18:16:54,197] Trial 9 finished with value: 0.7445887445887446 and parameters: {'n_estimators': 145, 'max_depth': 17}. Best is trial 7 with value: 0.7619047619047619.\n",
      "[I 2025-07-03 18:16:54,327] Trial 10 finished with value: 0.7662337662337663 and parameters: {'n_estimators': 109, 'max_depth': 7}. Best is trial 10 with value: 0.7662337662337663.\n",
      "[I 2025-07-03 18:16:54,421] Trial 11 finished with value: 0.7316017316017316 and parameters: {'n_estimators': 81, 'max_depth': 17}. Best is trial 10 with value: 0.7662337662337663.\n",
      "[I 2025-07-03 18:16:54,490] Trial 12 finished with value: 0.7532467532467533 and parameters: {'n_estimators': 56, 'max_depth': 10}. Best is trial 10 with value: 0.7662337662337663.\n",
      "[I 2025-07-03 18:16:54,705] Trial 13 finished with value: 0.7532467532467533 and parameters: {'n_estimators': 187, 'max_depth': 18}. Best is trial 10 with value: 0.7662337662337663.\n",
      "[I 2025-07-03 18:16:54,924] Trial 14 finished with value: 0.7575757575757576 and parameters: {'n_estimators': 184, 'max_depth': 18}. Best is trial 10 with value: 0.7662337662337663.\n",
      "[I 2025-07-03 18:16:55,059] Trial 15 finished with value: 0.7532467532467533 and parameters: {'n_estimators': 142, 'max_depth': 3}. Best is trial 10 with value: 0.7662337662337663.\n",
      "[I 2025-07-03 18:16:55,153] Trial 16 finished with value: 0.7359307359307359 and parameters: {'n_estimators': 74, 'max_depth': 10}. Best is trial 10 with value: 0.7662337662337663.\n",
      "[I 2025-07-03 18:16:55,348] Trial 17 finished with value: 0.7575757575757576 and parameters: {'n_estimators': 159, 'max_depth': 19}. Best is trial 10 with value: 0.7662337662337663.\n",
      "[I 2025-07-03 18:16:55,552] Trial 18 finished with value: 0.7359307359307359 and parameters: {'n_estimators': 127, 'max_depth': 16}. Best is trial 10 with value: 0.7662337662337663.\n",
      "[I 2025-07-03 18:16:55,740] Trial 19 finished with value: 0.7575757575757576 and parameters: {'n_estimators': 158, 'max_depth': 7}. Best is trial 10 with value: 0.7662337662337663.\n",
      "[I 2025-07-03 18:16:55,894] Trial 20 finished with value: 0.7619047619047619 and parameters: {'n_estimators': 140, 'max_depth': 6}. Best is trial 10 with value: 0.7662337662337663.\n",
      "[I 2025-07-03 18:16:56,026] Trial 21 finished with value: 0.7532467532467533 and parameters: {'n_estimators': 147, 'max_depth': 3}. Best is trial 10 with value: 0.7662337662337663.\n",
      "[I 2025-07-03 18:16:56,189] Trial 22 finished with value: 0.7532467532467533 and parameters: {'n_estimators': 181, 'max_depth': 3}. Best is trial 10 with value: 0.7662337662337663.\n",
      "[I 2025-07-03 18:16:56,330] Trial 23 finished with value: 0.7316017316017316 and parameters: {'n_estimators': 122, 'max_depth': 10}. Best is trial 10 with value: 0.7662337662337663.\n",
      "[I 2025-07-03 18:16:56,393] Trial 24 finished with value: 0.7402597402597403 and parameters: {'n_estimators': 55, 'max_depth': 7}. Best is trial 10 with value: 0.7662337662337663.\n",
      "[I 2025-07-03 18:16:56,505] Trial 25 finished with value: 0.7445887445887446 and parameters: {'n_estimators': 99, 'max_depth': 10}. Best is trial 10 with value: 0.7662337662337663.\n",
      "[I 2025-07-03 18:16:56,678] Trial 26 finished with value: 0.7489177489177489 and parameters: {'n_estimators': 155, 'max_depth': 19}. Best is trial 10 with value: 0.7662337662337663.\n",
      "[I 2025-07-03 18:16:56,792] Trial 27 finished with value: 0.7402597402597403 and parameters: {'n_estimators': 97, 'max_depth': 15}. Best is trial 10 with value: 0.7662337662337663.\n",
      "[I 2025-07-03 18:16:56,942] Trial 28 finished with value: 0.7489177489177489 and parameters: {'n_estimators': 137, 'max_depth': 10}. Best is trial 10 with value: 0.7662337662337663.\n",
      "[I 2025-07-03 18:16:57,133] Trial 29 finished with value: 0.7575757575757576 and parameters: {'n_estimators': 168, 'max_depth': 17}. Best is trial 10 with value: 0.7662337662337663.\n",
      "[I 2025-07-03 18:16:57,190] Trial 30 finished with value: 0.7619047619047619 and parameters: {'n_estimators': 58, 'max_depth': 4}. Best is trial 10 with value: 0.7662337662337663.\n",
      "[I 2025-07-03 18:16:57,310] Trial 31 finished with value: 0.7489177489177489 and parameters: {'n_estimators': 104, 'max_depth': 20}. Best is trial 10 with value: 0.7662337662337663.\n",
      "[I 2025-07-03 18:16:57,508] Trial 32 finished with value: 0.7575757575757576 and parameters: {'n_estimators': 170, 'max_depth': 6}. Best is trial 10 with value: 0.7662337662337663.\n",
      "[I 2025-07-03 18:16:57,610] Trial 33 finished with value: 0.7359307359307359 and parameters: {'n_estimators': 87, 'max_depth': 17}. Best is trial 10 with value: 0.7662337662337663.\n",
      "[I 2025-07-03 18:16:57,678] Trial 34 finished with value: 0.7489177489177489 and parameters: {'n_estimators': 52, 'max_depth': 20}. Best is trial 10 with value: 0.7662337662337663.\n",
      "[I 2025-07-03 18:16:57,874] Trial 35 finished with value: 0.7402597402597403 and parameters: {'n_estimators': 170, 'max_depth': 9}. Best is trial 10 with value: 0.7662337662337663.\n",
      "[I 2025-07-03 18:16:58,094] Trial 36 finished with value: 0.7575757575757576 and parameters: {'n_estimators': 179, 'max_depth': 15}. Best is trial 10 with value: 0.7662337662337663.\n",
      "[I 2025-07-03 18:16:58,238] Trial 37 finished with value: 0.7489177489177489 and parameters: {'n_estimators': 120, 'max_depth': 19}. Best is trial 10 with value: 0.7662337662337663.\n",
      "[I 2025-07-03 18:16:58,306] Trial 38 finished with value: 0.7445887445887446 and parameters: {'n_estimators': 56, 'max_depth': 9}. Best is trial 10 with value: 0.7662337662337663.\n",
      "[I 2025-07-03 18:16:58,456] Trial 39 finished with value: 0.7402597402597403 and parameters: {'n_estimators': 132, 'max_depth': 9}. Best is trial 10 with value: 0.7662337662337663.\n",
      "[I 2025-07-03 18:16:58,544] Trial 40 finished with value: 0.7575757575757576 and parameters: {'n_estimators': 85, 'max_depth': 5}. Best is trial 10 with value: 0.7662337662337663.\n",
      "[I 2025-07-03 18:16:58,633] Trial 41 finished with value: 0.7489177489177489 and parameters: {'n_estimators': 78, 'max_depth': 6}. Best is trial 10 with value: 0.7662337662337663.\n",
      "[I 2025-07-03 18:16:58,876] Trial 42 finished with value: 0.7575757575757576 and parameters: {'n_estimators': 191, 'max_depth': 14}. Best is trial 10 with value: 0.7662337662337663.\n",
      "[I 2025-07-03 18:16:58,953] Trial 43 finished with value: 0.7445887445887446 and parameters: {'n_estimators': 64, 'max_depth': 7}. Best is trial 10 with value: 0.7662337662337663.\n",
      "[I 2025-07-03 18:16:59,105] Trial 44 finished with value: 0.7445887445887446 and parameters: {'n_estimators': 116, 'max_depth': 16}. Best is trial 10 with value: 0.7662337662337663.\n",
      "[I 2025-07-03 18:16:59,241] Trial 45 finished with value: 0.7489177489177489 and parameters: {'n_estimators': 106, 'max_depth': 19}. Best is trial 10 with value: 0.7662337662337663.\n",
      "[I 2025-07-03 18:16:59,354] Trial 46 finished with value: 0.7402597402597403 and parameters: {'n_estimators': 97, 'max_depth': 11}. Best is trial 10 with value: 0.7662337662337663.\n",
      "[I 2025-07-03 18:16:59,459] Trial 47 finished with value: 0.7532467532467533 and parameters: {'n_estimators': 79, 'max_depth': 12}. Best is trial 10 with value: 0.7662337662337663.\n",
      "[I 2025-07-03 18:16:59,541] Trial 48 finished with value: 0.7532467532467533 and parameters: {'n_estimators': 64, 'max_depth': 18}. Best is trial 10 with value: 0.7662337662337663.\n",
      "[I 2025-07-03 18:16:59,800] Trial 49 finished with value: 0.7575757575757576 and parameters: {'n_estimators': 178, 'max_depth': 15}. Best is trial 10 with value: 0.7662337662337663.\n"
     ]
    }
   ],
   "source": [
    "def objective(trial):\n",
    "    n_estimators = trial.suggest_int('n_estimators', 50, 200)\n",
    "    max_depth = trial.suggest_int('max_depth', 3, 20)\n",
    "\n",
    "\n",
    "    model = RandomForestClassifier(n_estimators=n_estimators,max_depth=max_depth,random_state=42)\n",
    "    model.fit(x_train,y_train)\n",
    "    score =model.score(x_test,y_test)\n",
    "\n",
    "    return score  # for optuna \n",
    "\n",
    "study = create_study(direction='maximize', sampler=RandomSampler()) # ACC -> MAXIMIZE || ERROR -> MINIMIZE \n",
    "study.optimize(objective, n_trials=50)"
   ]
  },
  {
   "cell_type": "markdown",
   "id": "9e1683dd",
   "metadata": {},
   "source": [
    "**study**"
   ]
  },
  {
   "cell_type": "code",
   "execution_count": 36,
   "id": "7e796c3a",
   "metadata": {},
   "outputs": [
    {
     "name": "stdout",
     "output_type": "stream",
     "text": [
      "Best trial accuracy: 0.7662337662337663\n",
      "Best hyperparameters: {'n_estimators': 109, 'max_depth': 7}\n"
     ]
    }
   ],
   "source": [
    "\n",
    "print(f'Best trial accuracy: {study.best_trial.value}')\n",
    "print(f'Best hyperparameters: {study.best_trial.params}')"
   ]
  },
  {
   "cell_type": "code",
   "execution_count": 55,
   "id": "85c14290",
   "metadata": {},
   "outputs": [
    {
     "data": {
      "text/html": [
       "<div>\n",
       "<style scoped>\n",
       "    .dataframe tbody tr th:only-of-type {\n",
       "        vertical-align: middle;\n",
       "    }\n",
       "\n",
       "    .dataframe tbody tr th {\n",
       "        vertical-align: top;\n",
       "    }\n",
       "\n",
       "    .dataframe thead th {\n",
       "        text-align: right;\n",
       "    }\n",
       "</style>\n",
       "<table border=\"1\" class=\"dataframe\">\n",
       "  <thead>\n",
       "    <tr style=\"text-align: right;\">\n",
       "      <th></th>\n",
       "      <th>value</th>\n",
       "      <th>params_max_depth</th>\n",
       "      <th>params_n_estimators</th>\n",
       "    </tr>\n",
       "  </thead>\n",
       "  <tbody>\n",
       "    <tr>\n",
       "      <th>0</th>\n",
       "      <td>0.748918</td>\n",
       "      <td>12</td>\n",
       "      <td>160</td>\n",
       "    </tr>\n",
       "    <tr>\n",
       "      <th>1</th>\n",
       "      <td>0.740260</td>\n",
       "      <td>8</td>\n",
       "      <td>57</td>\n",
       "    </tr>\n",
       "    <tr>\n",
       "      <th>2</th>\n",
       "      <td>0.744589</td>\n",
       "      <td>19</td>\n",
       "      <td>109</td>\n",
       "    </tr>\n",
       "  </tbody>\n",
       "</table>\n",
       "</div>"
      ],
      "text/plain": [
       "      value  params_max_depth  params_n_estimators\n",
       "0  0.748918                12                  160\n",
       "1  0.740260                 8                   57\n",
       "2  0.744589                19                  109"
      ]
     },
     "execution_count": 55,
     "metadata": {},
     "output_type": "execute_result"
    }
   ],
   "source": [
    "study.trials_dataframe()[[\"value\",\"params_max_depth\",\"params_n_estimators\"]].head(3)"
   ]
  },
  {
   "cell_type": "markdown",
   "id": "3e97e1f2",
   "metadata": {},
   "source": [
    "**Model testing**"
   ]
  },
  {
   "cell_type": "code",
   "execution_count": 37,
   "id": "83f3d09c",
   "metadata": {},
   "outputs": [
    {
     "name": "stdout",
     "output_type": "stream",
     "text": [
      "              precision    recall  f1-score   support\n",
      "\n",
      "           0       0.83      0.81      0.82       151\n",
      "           1       0.66      0.68      0.67        80\n",
      "\n",
      "    accuracy                           0.77       231\n",
      "   macro avg       0.74      0.74      0.74       231\n",
      "weighted avg       0.77      0.77      0.77       231\n",
      "\n"
     ]
    }
   ],
   "source": [
    "\n",
    "rf = RandomForestClassifier(**study.best_trial.params, random_state=42)\n",
    "rf.fit(x_train, y_train)\n",
    "y_pred = rf.predict(x_test)\n",
    "\n",
    "\n",
    "print(classification_report(y_test,rf.predict(x_test)))"
   ]
  },
  {
   "cell_type": "markdown",
   "id": "a9646f45",
   "metadata": {},
   "source": [
    "**Visualization**"
   ]
  },
  {
   "cell_type": "code",
   "execution_count": 47,
   "id": "c2d49d41",
   "metadata": {},
   "outputs": [
    {
     "name": "stdout",
     "output_type": "stream",
     "text": [
      "After 10 Trials , trials are not needed\n"
     ]
    },
    {
     "data": {
      "application/vnd.plotly.v1+json": {
       "config": {
        "plotlyServerURL": "https://plot.ly"
       },
       "data": [
        {
         "mode": "markers",
         "name": "Objective Value",
         "type": "scatter",
         "x": [
          0,
          1,
          2,
          3,
          4,
          5,
          6,
          7,
          8,
          9,
          10,
          11,
          12,
          13,
          14,
          15,
          16,
          17,
          18,
          19,
          20,
          21,
          22,
          23,
          24,
          25,
          26,
          27,
          28,
          29,
          30,
          31,
          32,
          33,
          34,
          35,
          36,
          37,
          38,
          39,
          40,
          41,
          42,
          43,
          44,
          45,
          46,
          47,
          48,
          49
         ],
         "y": [
          0.7489177489177489,
          0.7402597402597403,
          0.7445887445887446,
          0.7489177489177489,
          0.7445887445887446,
          0.7532467532467533,
          0.7489177489177489,
          0.7619047619047619,
          0.7359307359307359,
          0.7445887445887446,
          0.7662337662337663,
          0.7316017316017316,
          0.7532467532467533,
          0.7532467532467533,
          0.7575757575757576,
          0.7532467532467533,
          0.7359307359307359,
          0.7575757575757576,
          0.7359307359307359,
          0.7575757575757576,
          0.7619047619047619,
          0.7532467532467533,
          0.7532467532467533,
          0.7316017316017316,
          0.7402597402597403,
          0.7445887445887446,
          0.7489177489177489,
          0.7402597402597403,
          0.7489177489177489,
          0.7575757575757576,
          0.7619047619047619,
          0.7489177489177489,
          0.7575757575757576,
          0.7359307359307359,
          0.7489177489177489,
          0.7402597402597403,
          0.7575757575757576,
          0.7489177489177489,
          0.7445887445887446,
          0.7402597402597403,
          0.7575757575757576,
          0.7489177489177489,
          0.7575757575757576,
          0.7445887445887446,
          0.7445887445887446,
          0.7489177489177489,
          0.7402597402597403,
          0.7532467532467533,
          0.7532467532467533,
          0.7575757575757576
         ]
        },
        {
         "mode": "lines",
         "name": "Best Value",
         "type": "scatter",
         "x": [
          0,
          1,
          2,
          3,
          4,
          5,
          6,
          7,
          8,
          9,
          10,
          11,
          12,
          13,
          14,
          15,
          16,
          17,
          18,
          19,
          20,
          21,
          22,
          23,
          24,
          25,
          26,
          27,
          28,
          29,
          30,
          31,
          32,
          33,
          34,
          35,
          36,
          37,
          38,
          39,
          40,
          41,
          42,
          43,
          44,
          45,
          46,
          47,
          48,
          49
         ],
         "y": [
          0.7489177489177489,
          0.7489177489177489,
          0.7489177489177489,
          0.7489177489177489,
          0.7489177489177489,
          0.7532467532467533,
          0.7532467532467533,
          0.7619047619047619,
          0.7619047619047619,
          0.7619047619047619,
          0.7662337662337663,
          0.7662337662337663,
          0.7662337662337663,
          0.7662337662337663,
          0.7662337662337663,
          0.7662337662337663,
          0.7662337662337663,
          0.7662337662337663,
          0.7662337662337663,
          0.7662337662337663,
          0.7662337662337663,
          0.7662337662337663,
          0.7662337662337663,
          0.7662337662337663,
          0.7662337662337663,
          0.7662337662337663,
          0.7662337662337663,
          0.7662337662337663,
          0.7662337662337663,
          0.7662337662337663,
          0.7662337662337663,
          0.7662337662337663,
          0.7662337662337663,
          0.7662337662337663,
          0.7662337662337663,
          0.7662337662337663,
          0.7662337662337663,
          0.7662337662337663,
          0.7662337662337663,
          0.7662337662337663,
          0.7662337662337663,
          0.7662337662337663,
          0.7662337662337663,
          0.7662337662337663,
          0.7662337662337663,
          0.7662337662337663,
          0.7662337662337663,
          0.7662337662337663,
          0.7662337662337663,
          0.7662337662337663
         ]
        },
        {
         "marker": {
          "color": "#cccccc"
         },
         "mode": "markers",
         "name": "Infeasible Trial",
         "showlegend": false,
         "type": "scatter",
         "x": [],
         "y": []
        }
       ],
       "layout": {
        "template": {
         "data": {
          "bar": [
           {
            "error_x": {
             "color": "#2a3f5f"
            },
            "error_y": {
             "color": "#2a3f5f"
            },
            "marker": {
             "line": {
              "color": "#E5ECF6",
              "width": 0.5
             },
             "pattern": {
              "fillmode": "overlay",
              "size": 10,
              "solidity": 0.2
             }
            },
            "type": "bar"
           }
          ],
          "barpolar": [
           {
            "marker": {
             "line": {
              "color": "#E5ECF6",
              "width": 0.5
             },
             "pattern": {
              "fillmode": "overlay",
              "size": 10,
              "solidity": 0.2
             }
            },
            "type": "barpolar"
           }
          ],
          "carpet": [
           {
            "aaxis": {
             "endlinecolor": "#2a3f5f",
             "gridcolor": "white",
             "linecolor": "white",
             "minorgridcolor": "white",
             "startlinecolor": "#2a3f5f"
            },
            "baxis": {
             "endlinecolor": "#2a3f5f",
             "gridcolor": "white",
             "linecolor": "white",
             "minorgridcolor": "white",
             "startlinecolor": "#2a3f5f"
            },
            "type": "carpet"
           }
          ],
          "choropleth": [
           {
            "colorbar": {
             "outlinewidth": 0,
             "ticks": ""
            },
            "type": "choropleth"
           }
          ],
          "contour": [
           {
            "colorbar": {
             "outlinewidth": 0,
             "ticks": ""
            },
            "colorscale": [
             [
              0,
              "#0d0887"
             ],
             [
              0.1111111111111111,
              "#46039f"
             ],
             [
              0.2222222222222222,
              "#7201a8"
             ],
             [
              0.3333333333333333,
              "#9c179e"
             ],
             [
              0.4444444444444444,
              "#bd3786"
             ],
             [
              0.5555555555555556,
              "#d8576b"
             ],
             [
              0.6666666666666666,
              "#ed7953"
             ],
             [
              0.7777777777777778,
              "#fb9f3a"
             ],
             [
              0.8888888888888888,
              "#fdca26"
             ],
             [
              1,
              "#f0f921"
             ]
            ],
            "type": "contour"
           }
          ],
          "contourcarpet": [
           {
            "colorbar": {
             "outlinewidth": 0,
             "ticks": ""
            },
            "type": "contourcarpet"
           }
          ],
          "heatmap": [
           {
            "colorbar": {
             "outlinewidth": 0,
             "ticks": ""
            },
            "colorscale": [
             [
              0,
              "#0d0887"
             ],
             [
              0.1111111111111111,
              "#46039f"
             ],
             [
              0.2222222222222222,
              "#7201a8"
             ],
             [
              0.3333333333333333,
              "#9c179e"
             ],
             [
              0.4444444444444444,
              "#bd3786"
             ],
             [
              0.5555555555555556,
              "#d8576b"
             ],
             [
              0.6666666666666666,
              "#ed7953"
             ],
             [
              0.7777777777777778,
              "#fb9f3a"
             ],
             [
              0.8888888888888888,
              "#fdca26"
             ],
             [
              1,
              "#f0f921"
             ]
            ],
            "type": "heatmap"
           }
          ],
          "histogram": [
           {
            "marker": {
             "pattern": {
              "fillmode": "overlay",
              "size": 10,
              "solidity": 0.2
             }
            },
            "type": "histogram"
           }
          ],
          "histogram2d": [
           {
            "colorbar": {
             "outlinewidth": 0,
             "ticks": ""
            },
            "colorscale": [
             [
              0,
              "#0d0887"
             ],
             [
              0.1111111111111111,
              "#46039f"
             ],
             [
              0.2222222222222222,
              "#7201a8"
             ],
             [
              0.3333333333333333,
              "#9c179e"
             ],
             [
              0.4444444444444444,
              "#bd3786"
             ],
             [
              0.5555555555555556,
              "#d8576b"
             ],
             [
              0.6666666666666666,
              "#ed7953"
             ],
             [
              0.7777777777777778,
              "#fb9f3a"
             ],
             [
              0.8888888888888888,
              "#fdca26"
             ],
             [
              1,
              "#f0f921"
             ]
            ],
            "type": "histogram2d"
           }
          ],
          "histogram2dcontour": [
           {
            "colorbar": {
             "outlinewidth": 0,
             "ticks": ""
            },
            "colorscale": [
             [
              0,
              "#0d0887"
             ],
             [
              0.1111111111111111,
              "#46039f"
             ],
             [
              0.2222222222222222,
              "#7201a8"
             ],
             [
              0.3333333333333333,
              "#9c179e"
             ],
             [
              0.4444444444444444,
              "#bd3786"
             ],
             [
              0.5555555555555556,
              "#d8576b"
             ],
             [
              0.6666666666666666,
              "#ed7953"
             ],
             [
              0.7777777777777778,
              "#fb9f3a"
             ],
             [
              0.8888888888888888,
              "#fdca26"
             ],
             [
              1,
              "#f0f921"
             ]
            ],
            "type": "histogram2dcontour"
           }
          ],
          "mesh3d": [
           {
            "colorbar": {
             "outlinewidth": 0,
             "ticks": ""
            },
            "type": "mesh3d"
           }
          ],
          "parcoords": [
           {
            "line": {
             "colorbar": {
              "outlinewidth": 0,
              "ticks": ""
             }
            },
            "type": "parcoords"
           }
          ],
          "pie": [
           {
            "automargin": true,
            "type": "pie"
           }
          ],
          "scatter": [
           {
            "fillpattern": {
             "fillmode": "overlay",
             "size": 10,
             "solidity": 0.2
            },
            "type": "scatter"
           }
          ],
          "scatter3d": [
           {
            "line": {
             "colorbar": {
              "outlinewidth": 0,
              "ticks": ""
             }
            },
            "marker": {
             "colorbar": {
              "outlinewidth": 0,
              "ticks": ""
             }
            },
            "type": "scatter3d"
           }
          ],
          "scattercarpet": [
           {
            "marker": {
             "colorbar": {
              "outlinewidth": 0,
              "ticks": ""
             }
            },
            "type": "scattercarpet"
           }
          ],
          "scattergeo": [
           {
            "marker": {
             "colorbar": {
              "outlinewidth": 0,
              "ticks": ""
             }
            },
            "type": "scattergeo"
           }
          ],
          "scattergl": [
           {
            "marker": {
             "colorbar": {
              "outlinewidth": 0,
              "ticks": ""
             }
            },
            "type": "scattergl"
           }
          ],
          "scattermap": [
           {
            "marker": {
             "colorbar": {
              "outlinewidth": 0,
              "ticks": ""
             }
            },
            "type": "scattermap"
           }
          ],
          "scattermapbox": [
           {
            "marker": {
             "colorbar": {
              "outlinewidth": 0,
              "ticks": ""
             }
            },
            "type": "scattermapbox"
           }
          ],
          "scatterpolar": [
           {
            "marker": {
             "colorbar": {
              "outlinewidth": 0,
              "ticks": ""
             }
            },
            "type": "scatterpolar"
           }
          ],
          "scatterpolargl": [
           {
            "marker": {
             "colorbar": {
              "outlinewidth": 0,
              "ticks": ""
             }
            },
            "type": "scatterpolargl"
           }
          ],
          "scatterternary": [
           {
            "marker": {
             "colorbar": {
              "outlinewidth": 0,
              "ticks": ""
             }
            },
            "type": "scatterternary"
           }
          ],
          "surface": [
           {
            "colorbar": {
             "outlinewidth": 0,
             "ticks": ""
            },
            "colorscale": [
             [
              0,
              "#0d0887"
             ],
             [
              0.1111111111111111,
              "#46039f"
             ],
             [
              0.2222222222222222,
              "#7201a8"
             ],
             [
              0.3333333333333333,
              "#9c179e"
             ],
             [
              0.4444444444444444,
              "#bd3786"
             ],
             [
              0.5555555555555556,
              "#d8576b"
             ],
             [
              0.6666666666666666,
              "#ed7953"
             ],
             [
              0.7777777777777778,
              "#fb9f3a"
             ],
             [
              0.8888888888888888,
              "#fdca26"
             ],
             [
              1,
              "#f0f921"
             ]
            ],
            "type": "surface"
           }
          ],
          "table": [
           {
            "cells": {
             "fill": {
              "color": "#EBF0F8"
             },
             "line": {
              "color": "white"
             }
            },
            "header": {
             "fill": {
              "color": "#C8D4E3"
             },
             "line": {
              "color": "white"
             }
            },
            "type": "table"
           }
          ]
         },
         "layout": {
          "annotationdefaults": {
           "arrowcolor": "#2a3f5f",
           "arrowhead": 0,
           "arrowwidth": 1
          },
          "autotypenumbers": "strict",
          "coloraxis": {
           "colorbar": {
            "outlinewidth": 0,
            "ticks": ""
           }
          },
          "colorscale": {
           "diverging": [
            [
             0,
             "#8e0152"
            ],
            [
             0.1,
             "#c51b7d"
            ],
            [
             0.2,
             "#de77ae"
            ],
            [
             0.3,
             "#f1b6da"
            ],
            [
             0.4,
             "#fde0ef"
            ],
            [
             0.5,
             "#f7f7f7"
            ],
            [
             0.6,
             "#e6f5d0"
            ],
            [
             0.7,
             "#b8e186"
            ],
            [
             0.8,
             "#7fbc41"
            ],
            [
             0.9,
             "#4d9221"
            ],
            [
             1,
             "#276419"
            ]
           ],
           "sequential": [
            [
             0,
             "#0d0887"
            ],
            [
             0.1111111111111111,
             "#46039f"
            ],
            [
             0.2222222222222222,
             "#7201a8"
            ],
            [
             0.3333333333333333,
             "#9c179e"
            ],
            [
             0.4444444444444444,
             "#bd3786"
            ],
            [
             0.5555555555555556,
             "#d8576b"
            ],
            [
             0.6666666666666666,
             "#ed7953"
            ],
            [
             0.7777777777777778,
             "#fb9f3a"
            ],
            [
             0.8888888888888888,
             "#fdca26"
            ],
            [
             1,
             "#f0f921"
            ]
           ],
           "sequentialminus": [
            [
             0,
             "#0d0887"
            ],
            [
             0.1111111111111111,
             "#46039f"
            ],
            [
             0.2222222222222222,
             "#7201a8"
            ],
            [
             0.3333333333333333,
             "#9c179e"
            ],
            [
             0.4444444444444444,
             "#bd3786"
            ],
            [
             0.5555555555555556,
             "#d8576b"
            ],
            [
             0.6666666666666666,
             "#ed7953"
            ],
            [
             0.7777777777777778,
             "#fb9f3a"
            ],
            [
             0.8888888888888888,
             "#fdca26"
            ],
            [
             1,
             "#f0f921"
            ]
           ]
          },
          "colorway": [
           "#636efa",
           "#EF553B",
           "#00cc96",
           "#ab63fa",
           "#FFA15A",
           "#19d3f3",
           "#FF6692",
           "#B6E880",
           "#FF97FF",
           "#FECB52"
          ],
          "font": {
           "color": "#2a3f5f"
          },
          "geo": {
           "bgcolor": "white",
           "lakecolor": "white",
           "landcolor": "#E5ECF6",
           "showlakes": true,
           "showland": true,
           "subunitcolor": "white"
          },
          "hoverlabel": {
           "align": "left"
          },
          "hovermode": "closest",
          "mapbox": {
           "style": "light"
          },
          "paper_bgcolor": "white",
          "plot_bgcolor": "#E5ECF6",
          "polar": {
           "angularaxis": {
            "gridcolor": "white",
            "linecolor": "white",
            "ticks": ""
           },
           "bgcolor": "#E5ECF6",
           "radialaxis": {
            "gridcolor": "white",
            "linecolor": "white",
            "ticks": ""
           }
          },
          "scene": {
           "xaxis": {
            "backgroundcolor": "#E5ECF6",
            "gridcolor": "white",
            "gridwidth": 2,
            "linecolor": "white",
            "showbackground": true,
            "ticks": "",
            "zerolinecolor": "white"
           },
           "yaxis": {
            "backgroundcolor": "#E5ECF6",
            "gridcolor": "white",
            "gridwidth": 2,
            "linecolor": "white",
            "showbackground": true,
            "ticks": "",
            "zerolinecolor": "white"
           },
           "zaxis": {
            "backgroundcolor": "#E5ECF6",
            "gridcolor": "white",
            "gridwidth": 2,
            "linecolor": "white",
            "showbackground": true,
            "ticks": "",
            "zerolinecolor": "white"
           }
          },
          "shapedefaults": {
           "line": {
            "color": "#2a3f5f"
           }
          },
          "ternary": {
           "aaxis": {
            "gridcolor": "white",
            "linecolor": "white",
            "ticks": ""
           },
           "baxis": {
            "gridcolor": "white",
            "linecolor": "white",
            "ticks": ""
           },
           "bgcolor": "#E5ECF6",
           "caxis": {
            "gridcolor": "white",
            "linecolor": "white",
            "ticks": ""
           }
          },
          "title": {
           "x": 0.05
          },
          "xaxis": {
           "automargin": true,
           "gridcolor": "white",
           "linecolor": "white",
           "ticks": "",
           "title": {
            "standoff": 15
           },
           "zerolinecolor": "white",
           "zerolinewidth": 2
          },
          "yaxis": {
           "automargin": true,
           "gridcolor": "white",
           "linecolor": "white",
           "ticks": "",
           "title": {
            "standoff": 15
           },
           "zerolinecolor": "white",
           "zerolinewidth": 2
          }
         }
        },
        "title": {
         "text": "Optimization History Plot"
        },
        "xaxis": {
         "title": {
          "text": "Trial"
         }
        },
        "yaxis": {
         "title": {
          "text": "Objective Value"
         }
        }
       }
      }
     },
     "metadata": {},
     "output_type": "display_data"
    }
   ],
   "source": [
    "print(f\"After {study.best_trial.number} Trials , trials are not needed\")\n",
    "plot_optimization_history(study).show()"
   ]
  },
  {
   "attachments": {
    "image.png": {
     "image/png": "[encoded data removed]"
    }
   },
   "cell_type": "markdown",
   "id": "c8415053",
   "metadata": {},
   "source": [
    "**remove image during coding** 👇\n",
    "![image.png](attachment:image.png)"
   ]
  },
  {
   "cell_type": "code",
   "execution_count": 48,
   "id": "ae094e60",
   "metadata": {},
   "outputs": [
    {
     "data": {
      "application/vnd.plotly.v1+json": {
       "config": {
        "plotlyServerURL": "https://plot.ly"
       },
       "data": [
        {
         "colorbar": {
          "title": {
           "text": "Objective Value"
          }
         },
         "colorscale": [
          [
           0,
           "rgb(247,251,255)"
          ],
          [
           0.125,
           "rgb(222,235,247)"
          ],
          [
           0.25,
           "rgb(198,219,239)"
          ],
          [
           0.375,
           "rgb(158,202,225)"
          ],
          [
           0.5,
           "rgb(107,174,214)"
          ],
          [
           0.625,
           "rgb(66,146,198)"
          ],
          [
           0.75,
           "rgb(33,113,181)"
          ],
          [
           0.875,
           "rgb(8,81,156)"
          ],
          [
           1,
           "rgb(8,48,107)"
          ]
         ],
         "connectgaps": true,
         "contours": {
          "coloring": "heatmap"
         },
         "hoverinfo": "none",
         "line": {
          "smoothing": 1.3
         },
         "reversescale": false,
         "type": "contour",
         "x": [
          2.15,
          3,
          4,
          5,
          6,
          7,
          8,
          9,
          10,
          11,
          12,
          14,
          15,
          16,
          17,
          18,
          19,
          20,
          20.85
         ],
         "y": [
          45.05,
          52,
          55,
          56,
          57,
          58,
          64,
          74,
          78,
          79,
          81,
          85,
          87,
          97,
          98,
          99,
          104,
          106,
          109,
          116,
          119,
          120,
          122,
          127,
          129,
          132,
          137,
          140,
          142,
          145,
          147,
          155,
          156,
          158,
          159,
          160,
          168,
          170,
          178,
          179,
          181,
          184,
          187,
          191,
          197.95
         ],
         "z": {
          "bdata": "AAAAAAAA+H8AAAAAAAD4fwAAAAAAAPh/AAAAAAAA+H8AAAAAAAD4fwAAAAAAAPh/AAAAAAAA+H8AAAAAAAD4fwAAAAAAAPh/AAAAAAAA+H8AAAAAAAD4fwAAAAAAAPh/AAAAAAAA+H8AAAAAAAD4fwAAAAAAAPh/AAAAAAAA+H8AAAAAAAD4fwAAAAAAAPh/AAAAAAAA+H8AAAAAAAD4fwAAAAAAAPh/AAAAAAAA+H8AAAAAAAD4fwAAAAAAAPh/r05fxqvT5z8AAAAAAAD4fwAAAAAAAPh/AAAAAAAA+H8AAAAAAAD4fwAAAAAAAPh/AAAAAAAA+H8AAAAAAAD4fwAAAAAAAPh/AAAAAAAA+H8AAAAAAAD4fwAAAAAAAPh/idzfWiL35z8AAAAAAAD4fwAAAAAAAPh/AAAAAAAA+H8AAAAAAAD4fwAAAAAAAPh/AAAAAAAA+H/VwN4xNbDnPwAAAAAAAPh/AAAAAAAA+H8AAAAAAAD4fwAAAAAAAPh/AAAAAAAA+H8AAAAAAAD4fwAAAAAAAPh/AAAAAAAA+H8AAAAAAAD4fwAAAAAAAPh/AAAAAAAA+H8AAAAAAAD4fwAAAAAAAPh/AAAAAAAA+H8AAAAAAAD4fwAAAAAAAPh/AAAAAAAA+H8AAAAAAAD4fwAAAAAAAPh/AAAAAAAA+H+vTl/Gq9PnP2RqYO+YGug/AAAAAAAA+H8AAAAAAAD4fwAAAAAAAPh/AAAAAAAA+H8AAAAAAAD4fwAAAAAAAPh/AAAAAAAA+H8AAAAAAAD4fwAAAAAAAPh/AAAAAAAA+H8AAAAAAAD4fwAAAAAAAPh/AAAAAAAA+H8AAAAAAAD4fwAAAAAAAPh/AAAAAAAA+H/VwN4xNbDnPwAAAAAAAPh/AAAAAAAA+H8AAAAAAAD4fwAAAAAAAPh/AAAAAAAA+H8AAAAAAAD4fwAAAAAAAPh/AAAAAAAA+H8AAAAAAAD4fwAAAAAAAPh/AAAAAAAA+H8AAAAAAAD4fwAAAAAAAPh/AAAAAAAA+H8YhmEYhmHoPwAAAAAAAPh/AAAAAAAA+H8AAAAAAAD4fwAAAAAAAPh/AAAAAAAA+H8AAAAAAAD4fwAAAAAAAPh/AAAAAAAA+H8AAAAAAAD4fwAAAAAAAPh/AAAAAAAA+H8AAAAAAAD4fwAAAAAAAPh/AAAAAAAA+H9kamDvmBroPwAAAAAAAPh/AAAAAAAA+H8AAAAAAAD4fwAAAAAAAPh/AAAAAAAA+H8AAAAAAAD4f69OX8ar0+c/AAAAAAAA+H8AAAAAAAD4fwAAAAAAAPh/AAAAAAAA+H8AAAAAAAD4fwAAAAAAAPh/AAAAAAAA+H8AAAAAAAD4fwAAAAAAAPh/ZGpg75ga6D8AAAAAAAD4fwAAAAAAAPh/AAAAAAAA+H8AAAAAAAD4fwAAAAAAAPh/AAAAAAAA+H8AAAAAAAD4fwAAAAAAAPh/AAAAAAAA+H8AAAAAAAD4fwAAAAAAAPh/+jJenb6M5z8AAAAAAAD4fwAAAAAAAPh/AAAAAAAA+H8AAAAAAAD4fwAAAAAAAPh/AAAAAAAA+H8AAAAAAAD4fwAAAAAAAPh/AAAAAAAA+H8AAAAAAAD4fwAAAAAAAPh/AAAAAAAA+H8AAAAAAAD4fwAAAAAAAPh/idzfWiL35z8AAAAAAAD4fwAAAAAAAPh/AAAAAAAA+H8AAAAAAAD4fwAAAAAAAPh/AAAAAAAA+H8AAAAAAAD4fwAAAAAAAPh/AAAAAAAA+H8AAAAAAAD4fwAAAAAAAPh/AAAAAAAA+H8AAAAAAAD4fwAAAAAAAPh/AAAAAAAA+H8AAAAAAAD4fwAAAAAAAPh/AAAAAAAA+H8AAAAAAAD4fwAAAAAAAPh/AAAAAAAA+H8AAAAAAAD4fwAAAAAAAPh/AAAAAAAA+H9kamDvmBroPwAAAAAAAPh/AAAAAAAA+H8AAAAAAAD4fwAAAAAAAPh/AAAAAAAA+H8AAAAAAAD4fwAAAAAAAPh/AAAAAAAA+H8AAAAAAAD4fwAAAAAAAPh/AAAAAAAA+H8AAAAAAAD4fwAAAAAAAPh/AAAAAAAA+H8AAAAAAAD4fwAAAAAAAPh/AAAAAAAA+H8AAAAAAAD4fwAAAAAAAPh/AAAAAAAA+H8AAAAAAAD4fwAAAAAAAPh/IKXdCEhp5z8AAAAAAAD4fwAAAAAAAPh/AAAAAAAA+H8AAAAAAAD4fwAAAAAAAPh/AAAAAAAA+H8AAAAAAAD4fz744IMPPug/AAAAAAAA+H8AAAAAAAD4fwAAAAAAAPh/AAAAAAAA+H8AAAAAAAD4fwAAAAAAAPh/AAAAAAAA+H8AAAAAAAD4fwAAAAAAAPh/AAAAAAAA+H8AAAAAAAD4fwAAAAAAAPh/AAAAAAAA+H8AAAAAAAD4fwAAAAAAAPh/AAAAAAAA+H8AAAAAAAD4fwAAAAAAAPh/AAAAAAAA+H8AAAAAAAD4fwAAAAAAAPh/AAAAAAAA+H8AAAAAAAD4fwAAAAAAAPh/AAAAAAAA+H8AAAAAAAD4fwAAAAAAAPh/AAAAAAAA+H8AAAAAAAD4f/oyXp2+jOc/AAAAAAAA+H8AAAAAAAD4fwAAAAAAAPh/AAAAAAAA+H8AAAAAAAD4fwAAAAAAAPh/AAAAAAAA+H8AAAAAAAD4fwAAAAAAAPh/AAAAAAAA+H8AAAAAAAD4fwAAAAAAAPh/AAAAAAAA+H/VwN4xNbDnPwAAAAAAAPh/AAAAAAAA+H/VwN4xNbDnPwAAAAAAAPh/AAAAAAAA+H8AAAAAAAD4fwAAAAAAAPh/AAAAAAAA+H8AAAAAAAD4fwAAAAAAAPh/AAAAAAAA+H8AAAAAAAD4fwAAAAAAAPh/AAAAAAAA+H8AAAAAAAD4fwAAAAAAAPh/+jJenb6M5z8AAAAAAAD4fwAAAAAAAPh/AAAAAAAA+H8AAAAAAAD4fwAAAAAAAPh/AAAAAAAA+H8AAAAAAAD4fwAAAAAAAPh/AAAAAAAA+H8AAAAAAAD4fwAAAAAAAPh/AAAAAAAA+H8AAAAAAAD4fwAAAAAAAPh/AAAAAAAA+H8AAAAAAAD4fwAAAAAAAPh/AAAAAAAA+H8AAAAAAAD4f69OX8ar0+c/AAAAAAAA+H8AAAAAAAD4fwAAAAAAAPh/AAAAAAAA+H8AAAAAAAD4fwAAAAAAAPh/AAAAAAAA+H8AAAAAAAD4fwAAAAAAAPh/AAAAAAAA+H8AAAAAAAD4fwAAAAAAAPh/AAAAAAAA+H8AAAAAAAD4fwAAAAAAAPh/AAAAAAAA+H8AAAAAAAD4fwAAAAAAAPh/AAAAAAAA+H8AAAAAAAD4fwAAAAAAAPh/AAAAAAAA+H8AAAAAAAD4fwAAAAAAAPh/AAAAAAAA+H8AAAAAAAD4fwAAAAAAAPh/idzfWiL35z8AAAAAAAD4fwAAAAAAAPh/AAAAAAAA+H8AAAAAAAD4fwAAAAAAAPh/AAAAAAAA+H8AAAAAAAD4fwAAAAAAAPh/AAAAAAAA+H8AAAAAAAD4fwAAAAAAAPh/AAAAAAAA+H8AAAAAAAD4fwAAAAAAAPh/AAAAAAAA+H8AAAAAAAD4fwAAAAAAAPh/idzfWiL35z8AAAAAAAD4fwAAAAAAAPh/AAAAAAAA+H8AAAAAAAD4fwAAAAAAAPh/AAAAAAAA+H8AAAAAAAD4f/MT4qz8hOg/AAAAAAAA+H8AAAAAAAD4fwAAAAAAAPh/AAAAAAAA+H8AAAAAAAD4fwAAAAAAAPh/AAAAAAAA+H8AAAAAAAD4fwAAAAAAAPh/AAAAAAAA+H+vTl/Gq9PnPwAAAAAAAPh/AAAAAAAA+H8AAAAAAAD4fwAAAAAAAPh/AAAAAAAA+H8AAAAAAAD4fwAAAAAAAPh/AAAAAAAA+H8AAAAAAAD4fwAAAAAAAPh/AAAAAAAA+H8AAAAAAAD4fwAAAAAAAPh/AAAAAAAA+H8AAAAAAAD4f69OX8ar0+c/AAAAAAAA+H8AAAAAAAD4fwAAAAAAAPh/AAAAAAAA+H8AAAAAAAD4fwAAAAAAAPh/AAAAAAAA+H8AAAAAAAD4fwAAAAAAAPh/AAAAAAAA+H8AAAAAAAD4f4nc31oi9+c/AAAAAAAA+H8AAAAAAAD4fwAAAAAAAPh/AAAAAAAA+H8AAAAAAAD4fwAAAAAAAPh/AAAAAAAA+H8AAAAAAAD4fwAAAAAAAPh/AAAAAAAA+H8AAAAAAAD4fwAAAAAAAPh/AAAAAAAA+H8AAAAAAAD4fwAAAAAAAPh/AAAAAAAA+H8AAAAAAAD4fwAAAAAAAPh/AAAAAAAA+H8AAAAAAAD4fwAAAAAAAPh/AAAAAAAA+H8AAAAAAAD4fwAAAAAAAPh/AAAAAAAA+H8AAAAAAAD4fwAAAAAAAPh/AAAAAAAA+H+J3N9aIvfnPwAAAAAAAPh/AAAAAAAA+H8AAAAAAAD4fwAAAAAAAPh/AAAAAAAA+H8AAAAAAAD4fwAAAAAAAPh/AAAAAAAA+H8AAAAAAAD4fwAAAAAAAPh/IKXdCEhp5z8AAAAAAAD4fwAAAAAAAPh/AAAAAAAA+H8AAAAAAAD4fwAAAAAAAPh/AAAAAAAA+H8AAAAAAAD4fwAAAAAAAPh/AAAAAAAA+H8AAAAAAAD4fwAAAAAAAPh/AAAAAAAA+H8AAAAAAAD4fwAAAAAAAPh/AAAAAAAA+H8AAAAAAAD4fwAAAAAAAPh/AAAAAAAA+H8AAAAAAAD4fwAAAAAAAPh/AAAAAAAA+H8AAAAAAAD4fwAAAAAAAPh/+jJenb6M5z8AAAAAAAD4fwAAAAAAAPh/AAAAAAAA+H8AAAAAAAD4fwAAAAAAAPh/AAAAAAAA+H+J3N9aIvfnPwAAAAAAAPh/AAAAAAAA+H8AAAAAAAD4fwAAAAAAAPh/AAAAAAAA+H8AAAAAAAD4fwAAAAAAAPh/AAAAAAAA+H8AAAAAAAD4fwAAAAAAAPh/AAAAAAAA+H8AAAAAAAD4fwAAAAAAAPh/AAAAAAAA+H8AAAAAAAD4fwAAAAAAAPh/AAAAAAAA+H8AAAAAAAD4fwAAAAAAAPh/AAAAAAAA+H8AAAAAAAD4fwAAAAAAAPh/AAAAAAAA+H8AAAAAAAD4f9XA3jE1sOc/AAAAAAAA+H8AAAAAAAD4fwAAAAAAAPh/AAAAAAAA+H8AAAAAAAD4fwAAAAAAAPh/AAAAAAAA+H8AAAAAAAD4fwAAAAAAAPh/AAAAAAAA+H8AAAAAAAD4fwAAAAAAAPh/AAAAAAAA+H8AAAAAAAD4fwAAAAAAAPh/AAAAAAAA+H8AAAAAAAD4fwAAAAAAAPh/AAAAAAAA+H+J3N9aIvfnPwAAAAAAAPh/AAAAAAAA+H8AAAAAAAD4fwAAAAAAAPh/AAAAAAAA+H8AAAAAAAD4fwAAAAAAAPh/AAAAAAAA+H8AAAAAAAD4fwAAAAAAAPh/AAAAAAAA+H8AAAAAAAD4fwAAAAAAAPh/AAAAAAAA+H8YhmEYhmHoPwAAAAAAAPh/AAAAAAAA+H8AAAAAAAD4fwAAAAAAAPh/AAAAAAAA+H8AAAAAAAD4fwAAAAAAAPh/AAAAAAAA+H8AAAAAAAD4fwAAAAAAAPh/AAAAAAAA+H8AAAAAAAD4fwAAAAAAAPh/AAAAAAAA+H8AAAAAAAD4f2RqYO+YGug/AAAAAAAA+H8AAAAAAAD4fwAAAAAAAPh/AAAAAAAA+H8AAAAAAAD4fwAAAAAAAPh/AAAAAAAA+H8AAAAAAAD4fwAAAAAAAPh/AAAAAAAA+H8AAAAAAAD4fwAAAAAAAPh/AAAAAAAA+H8AAAAAAAD4fwAAAAAAAPh/AAAAAAAA+H8AAAAAAAD4fwAAAAAAAPh/AAAAAAAA+H8AAAAAAAD4fwAAAAAAAPh/AAAAAAAA+H8AAAAAAAD4fwAAAAAAAPh/AAAAAAAA+H8AAAAAAAD4fwAAAAAAAPh/AAAAAAAA+H8AAAAAAAD4fwAAAAAAAPh/AAAAAAAA+H+vTl/Gq9PnPwAAAAAAAPh/AAAAAAAA+H8AAAAAAAD4fwAAAAAAAPh/AAAAAAAA+H9kamDvmBroPwAAAAAAAPh/AAAAAAAA+H8AAAAAAAD4fwAAAAAAAPh/AAAAAAAA+H8AAAAAAAD4fwAAAAAAAPh/AAAAAAAA+H8AAAAAAAD4fwAAAAAAAPh/AAAAAAAA+H8AAAAAAAD4fwAAAAAAAPh/AAAAAAAA+H8AAAAAAAD4fwAAAAAAAPh/AAAAAAAA+H8AAAAAAAD4fwAAAAAAAPh/AAAAAAAA+H8AAAAAAAD4fwAAAAAAAPh/AAAAAAAA+H8AAAAAAAD4fwAAAAAAAPh/AAAAAAAA+H8AAAAAAAD4fwAAAAAAAPh/AAAAAAAA+H8AAAAAAAD4fwAAAAAAAPh/AAAAAAAA+H8AAAAAAAD4f4nc31oi9+c/AAAAAAAA+H8AAAAAAAD4fwAAAAAAAPh/AAAAAAAA+H8AAAAAAAD4fwAAAAAAAPh/AAAAAAAA+H8AAAAAAAD4fwAAAAAAAPh/AAAAAAAA+H8AAAAAAAD4fwAAAAAAAPh/AAAAAAAA+H8YhmEYhmHoPwAAAAAAAPh/AAAAAAAA+H8AAAAAAAD4fwAAAAAAAPh/AAAAAAAA+H8AAAAAAAD4fwAAAAAAAPh/AAAAAAAA+H8AAAAAAAD4fwAAAAAAAPh/AAAAAAAA+H8AAAAAAAD4fz744IMPPug/AAAAAAAA+H8AAAAAAAD4fwAAAAAAAPh/AAAAAAAA+H8AAAAAAAD4fwAAAAAAAPh/AAAAAAAA+H8AAAAAAAD4fwAAAAAAAPh/AAAAAAAA+H8AAAAAAAD4fwAAAAAAAPh/AAAAAAAA+H8AAAAAAAD4fwAAAAAAAPh/AAAAAAAA+H8AAAAAAAD4fwAAAAAAAPh/AAAAAAAA+H8AAAAAAAD4fwAAAAAAAPh/AAAAAAAA+H8AAAAAAAD4fwAAAAAAAPh/AAAAAAAA+H8AAAAAAAD4fwAAAAAAAPh/AAAAAAAA+H8AAAAAAAD4fz744IMPPug/AAAAAAAA+H8AAAAAAAD4fwAAAAAAAPh/AAAAAAAA+H8AAAAAAAD4fwAAAAAAAPh/AAAAAAAA+H8AAAAAAAD4fwAAAAAAAPh/AAAAAAAA+H8AAAAAAAD4fwAAAAAAAPh/idzfWiL35z8AAAAAAAD4fwAAAAAAAPh/AAAAAAAA+H8AAAAAAAD4fwAAAAAAAPh/AAAAAAAA+H8AAAAAAAD4fwAAAAAAAPh/AAAAAAAA+H8AAAAAAAD4fwAAAAAAAPh/AAAAAAAA+H8AAAAAAAD4fwAAAAAAAPh/AAAAAAAA+H8AAAAAAAD4fwAAAAAAAPh/AAAAAAAA+H8AAAAAAAD4fwAAAAAAAPh/AAAAAAAA+H8AAAAAAAD4fz744IMPPug/AAAAAAAA+H8AAAAAAAD4fwAAAAAAAPh/AAAAAAAA+H8AAAAAAAD4fwAAAAAAAPh/AAAAAAAA+H8AAAAAAAD4fz744IMPPug/AAAAAAAA+H8AAAAAAAD4f9XA3jE1sOc/AAAAAAAA+H8AAAAAAAD4fwAAAAAAAPh/AAAAAAAA+H8AAAAAAAD4fwAAAAAAAPh/AAAAAAAA+H8AAAAAAAD4fwAAAAAAAPh/AAAAAAAA+H8AAAAAAAD4fwAAAAAAAPh/AAAAAAAA+H8AAAAAAAD4fwAAAAAAAPh/AAAAAAAA+H8AAAAAAAD4fwAAAAAAAPh/AAAAAAAA+H8AAAAAAAD4fwAAAAAAAPh/AAAAAAAA+H8AAAAAAAD4fz744IMPPug/AAAAAAAA+H8AAAAAAAD4fwAAAAAAAPh/AAAAAAAA+H8AAAAAAAD4fwAAAAAAAPh/AAAAAAAA+H8AAAAAAAD4fwAAAAAAAPh/AAAAAAAA+H8AAAAAAAD4fwAAAAAAAPh/AAAAAAAA+H8AAAAAAAD4fwAAAAAAAPh/AAAAAAAA+H8AAAAAAAD4fwAAAAAAAPh/Pvjggw8+6D8AAAAAAAD4fwAAAAAAAPh/AAAAAAAA+H8AAAAAAAD4fwAAAAAAAPh/AAAAAAAA+H8AAAAAAAD4f2RqYO+YGug/AAAAAAAA+H8AAAAAAAD4fwAAAAAAAPh/AAAAAAAA+H8AAAAAAAD4fwAAAAAAAPh/AAAAAAAA+H8AAAAAAAD4fwAAAAAAAPh/AAAAAAAA+H8AAAAAAAD4fwAAAAAAAPh/AAAAAAAA+H8AAAAAAAD4fwAAAAAAAPh/AAAAAAAA+H8AAAAAAAD4fwAAAAAAAPh/AAAAAAAA+H8AAAAAAAD4fwAAAAAAAPh/AAAAAAAA+H8AAAAAAAD4fwAAAAAAAPh/AAAAAAAA+H8AAAAAAAD4fwAAAAAAAPh/AAAAAAAA+H8AAAAAAAD4fwAAAAAAAPh/AAAAAAAA+H8AAAAAAAD4fz744IMPPug/AAAAAAAA+H8AAAAAAAD4fwAAAAAAAPh/AAAAAAAA+H8AAAAAAAD4fwAAAAAAAPh/AAAAAAAA+H8AAAAAAAD4fwAAAAAAAPh/AAAAAAAA+H8AAAAAAAD4fwAAAAAAAPh/AAAAAAAA+H8AAAAAAAD4fwAAAAAAAPh/AAAAAAAA+H8AAAAAAAD4fwAAAAAAAPh/ZGpg75ga6D8AAAAAAAD4fwAAAAAAAPh/AAAAAAAA+H8AAAAAAAD4fwAAAAAAAPh/AAAAAAAA+H8AAAAAAAD4fwAAAAAAAPh/AAAAAAAA+H8AAAAAAAD4fwAAAAAAAPh/AAAAAAAA+H8AAAAAAAD4fwAAAAAAAPh/Pvjggw8+6D8AAAAAAAD4fwAAAAAAAPh/AAAAAAAA+H8AAAAAAAD4fwAAAAAAAPh/AAAAAAAA+H8AAAAAAAD4fwAAAAAAAPh/AAAAAAAA+H8AAAAAAAD4fwAAAAAAAPh/AAAAAAAA+H8AAAAAAAD4fwAAAAAAAPh/AAAAAAAA+H8AAAAAAAD4fwAAAAAAAPh/AAAAAAAA+H8AAAAAAAD4fwAAAAAAAPh/AAAAAAAA+H8AAAAAAAD4fwAAAAAAAPh/AAAAAAAA+H8AAAAAAAD4fwAAAAAAAPh/",
          "dtype": "f8",
          "shape": "45, 19"
         }
        },
        {
         "marker": {
          "color": "black",
          "line": {
           "color": "Gray",
           "width": 2
          }
         },
         "mode": "markers",
         "name": "Feasible Trial",
         "showlegend": false,
         "type": "scatter",
         "x": [
          12,
          8,
          19,
          8,
          7,
          20,
          3,
          14,
          9,
          17,
          7,
          17,
          10,
          18,
          18,
          3,
          10,
          19,
          16,
          7,
          6,
          3,
          3,
          10,
          7,
          10,
          19,
          15,
          10,
          17,
          4,
          20,
          6,
          17,
          20,
          9,
          15,
          19,
          9,
          9,
          5,
          6,
          14,
          7,
          16,
          19,
          11,
          12,
          18,
          15
         ],
         "y": [
          160,
          57,
          109,
          119,
          52,
          58,
          129,
          156,
          98,
          145,
          109,
          81,
          56,
          187,
          184,
          142,
          74,
          159,
          127,
          158,
          140,
          147,
          181,
          122,
          55,
          99,
          155,
          97,
          137,
          168,
          58,
          104,
          170,
          87,
          52,
          170,
          179,
          120,
          56,
          132,
          85,
          78,
          191,
          64,
          116,
          106,
          97,
          79,
          64,
          178
         ]
        },
        {
         "marker": {
          "color": "#cccccc",
          "line": {
           "color": "Gray",
           "width": 2
          }
         },
         "mode": "markers",
         "name": "Infeasible Trial",
         "showlegend": false,
         "type": "scatter",
         "x": [],
         "y": []
        }
       ],
       "layout": {
        "template": {
         "data": {
          "bar": [
           {
            "error_x": {
             "color": "#2a3f5f"
            },
            "error_y": {
             "color": "#2a3f5f"
            },
            "marker": {
             "line": {
              "color": "#E5ECF6",
              "width": 0.5
             },
             "pattern": {
              "fillmode": "overlay",
              "size": 10,
              "solidity": 0.2
             }
            },
            "type": "bar"
           }
          ],
          "barpolar": [
           {
            "marker": {
             "line": {
              "color": "#E5ECF6",
              "width": 0.5
             },
             "pattern": {
              "fillmode": "overlay",
              "size": 10,
              "solidity": 0.2
             }
            },
            "type": "barpolar"
           }
          ],
          "carpet": [
           {
            "aaxis": {
             "endlinecolor": "#2a3f5f",
             "gridcolor": "white",
             "linecolor": "white",
             "minorgridcolor": "white",
             "startlinecolor": "#2a3f5f"
            },
            "baxis": {
             "endlinecolor": "#2a3f5f",
             "gridcolor": "white",
             "linecolor": "white",
             "minorgridcolor": "white",
             "startlinecolor": "#2a3f5f"
            },
            "type": "carpet"
           }
          ],
          "choropleth": [
           {
            "colorbar": {
             "outlinewidth": 0,
             "ticks": ""
            },
            "type": "choropleth"
           }
          ],
          "contour": [
           {
            "colorbar": {
             "outlinewidth": 0,
             "ticks": ""
            },
            "colorscale": [
             [
              0,
              "#0d0887"
             ],
             [
              0.1111111111111111,
              "#46039f"
             ],
             [
              0.2222222222222222,
              "#7201a8"
             ],
             [
              0.3333333333333333,
              "#9c179e"
             ],
             [
              0.4444444444444444,
              "#bd3786"
             ],
             [
              0.5555555555555556,
              "#d8576b"
             ],
             [
              0.6666666666666666,
              "#ed7953"
             ],
             [
              0.7777777777777778,
              "#fb9f3a"
             ],
             [
              0.8888888888888888,
              "#fdca26"
             ],
             [
              1,
              "#f0f921"
             ]
            ],
            "type": "contour"
           }
          ],
          "contourcarpet": [
           {
            "colorbar": {
             "outlinewidth": 0,
             "ticks": ""
            },
            "type": "contourcarpet"
           }
          ],
          "heatmap": [
           {
            "colorbar": {
             "outlinewidth": 0,
             "ticks": ""
            },
            "colorscale": [
             [
              0,
              "#0d0887"
             ],
             [
              0.1111111111111111,
              "#46039f"
             ],
             [
              0.2222222222222222,
              "#7201a8"
             ],
             [
              0.3333333333333333,
              "#9c179e"
             ],
             [
              0.4444444444444444,
              "#bd3786"
             ],
             [
              0.5555555555555556,
              "#d8576b"
             ],
             [
              0.6666666666666666,
              "#ed7953"
             ],
             [
              0.7777777777777778,
              "#fb9f3a"
             ],
             [
              0.8888888888888888,
              "#fdca26"
             ],
             [
              1,
              "#f0f921"
             ]
            ],
            "type": "heatmap"
           }
          ],
          "histogram": [
           {
            "marker": {
             "pattern": {
              "fillmode": "overlay",
              "size": 10,
              "solidity": 0.2
             }
            },
            "type": "histogram"
           }
          ],
          "histogram2d": [
           {
            "colorbar": {
             "outlinewidth": 0,
             "ticks": ""
            },
            "colorscale": [
             [
              0,
              "#0d0887"
             ],
             [
              0.1111111111111111,
              "#46039f"
             ],
             [
              0.2222222222222222,
              "#7201a8"
             ],
             [
              0.3333333333333333,
              "#9c179e"
             ],
             [
              0.4444444444444444,
              "#bd3786"
             ],
             [
              0.5555555555555556,
              "#d8576b"
             ],
             [
              0.6666666666666666,
              "#ed7953"
             ],
             [
              0.7777777777777778,
              "#fb9f3a"
             ],
             [
              0.8888888888888888,
              "#fdca26"
             ],
             [
              1,
              "#f0f921"
             ]
            ],
            "type": "histogram2d"
           }
          ],
          "histogram2dcontour": [
           {
            "colorbar": {
             "outlinewidth": 0,
             "ticks": ""
            },
            "colorscale": [
             [
              0,
              "#0d0887"
             ],
             [
              0.1111111111111111,
              "#46039f"
             ],
             [
              0.2222222222222222,
              "#7201a8"
             ],
             [
              0.3333333333333333,
              "#9c179e"
             ],
             [
              0.4444444444444444,
              "#bd3786"
             ],
             [
              0.5555555555555556,
              "#d8576b"
             ],
             [
              0.6666666666666666,
              "#ed7953"
             ],
             [
              0.7777777777777778,
              "#fb9f3a"
             ],
             [
              0.8888888888888888,
              "#fdca26"
             ],
             [
              1,
              "#f0f921"
             ]
            ],
            "type": "histogram2dcontour"
           }
          ],
          "mesh3d": [
           {
            "colorbar": {
             "outlinewidth": 0,
             "ticks": ""
            },
            "type": "mesh3d"
           }
          ],
          "parcoords": [
           {
            "line": {
             "colorbar": {
              "outlinewidth": 0,
              "ticks": ""
             }
            },
            "type": "parcoords"
           }
          ],
          "pie": [
           {
            "automargin": true,
            "type": "pie"
           }
          ],
          "scatter": [
           {
            "fillpattern": {
             "fillmode": "overlay",
             "size": 10,
             "solidity": 0.2
            },
            "type": "scatter"
           }
          ],
          "scatter3d": [
           {
            "line": {
             "colorbar": {
              "outlinewidth": 0,
              "ticks": ""
             }
            },
            "marker": {
             "colorbar": {
              "outlinewidth": 0,
              "ticks": ""
             }
            },
            "type": "scatter3d"
           }
          ],
          "scattercarpet": [
           {
            "marker": {
             "colorbar": {
              "outlinewidth": 0,
              "ticks": ""
             }
            },
            "type": "scattercarpet"
           }
          ],
          "scattergeo": [
           {
            "marker": {
             "colorbar": {
              "outlinewidth": 0,
              "ticks": ""
             }
            },
            "type": "scattergeo"
           }
          ],
          "scattergl": [
           {
            "marker": {
             "colorbar": {
              "outlinewidth": 0,
              "ticks": ""
             }
            },
            "type": "scattergl"
           }
          ],
          "scattermap": [
           {
            "marker": {
             "colorbar": {
              "outlinewidth": 0,
              "ticks": ""
             }
            },
            "type": "scattermap"
           }
          ],
          "scattermapbox": [
           {
            "marker": {
             "colorbar": {
              "outlinewidth": 0,
              "ticks": ""
             }
            },
            "type": "scattermapbox"
           }
          ],
          "scatterpolar": [
           {
            "marker": {
             "colorbar": {
              "outlinewidth": 0,
              "ticks": ""
             }
            },
            "type": "scatterpolar"
           }
          ],
          "scatterpolargl": [
           {
            "marker": {
             "colorbar": {
              "outlinewidth": 0,
              "ticks": ""
             }
            },
            "type": "scatterpolargl"
           }
          ],
          "scatterternary": [
           {
            "marker": {
             "colorbar": {
              "outlinewidth": 0,
              "ticks": ""
             }
            },
            "type": "scatterternary"
           }
          ],
          "surface": [
           {
            "colorbar": {
             "outlinewidth": 0,
             "ticks": ""
            },
            "colorscale": [
             [
              0,
              "#0d0887"
             ],
             [
              0.1111111111111111,
              "#46039f"
             ],
             [
              0.2222222222222222,
              "#7201a8"
             ],
             [
              0.3333333333333333,
              "#9c179e"
             ],
             [
              0.4444444444444444,
              "#bd3786"
             ],
             [
              0.5555555555555556,
              "#d8576b"
             ],
             [
              0.6666666666666666,
              "#ed7953"
             ],
             [
              0.7777777777777778,
              "#fb9f3a"
             ],
             [
              0.8888888888888888,
              "#fdca26"
             ],
             [
              1,
              "#f0f921"
             ]
            ],
            "type": "surface"
           }
          ],
          "table": [
           {
            "cells": {
             "fill": {
              "color": "#EBF0F8"
             },
             "line": {
              "color": "white"
             }
            },
            "header": {
             "fill": {
              "color": "#C8D4E3"
             },
             "line": {
              "color": "white"
             }
            },
            "type": "table"
           }
          ]
         },
         "layout": {
          "annotationdefaults": {
           "arrowcolor": "#2a3f5f",
           "arrowhead": 0,
           "arrowwidth": 1
          },
          "autotypenumbers": "strict",
          "coloraxis": {
           "colorbar": {
            "outlinewidth": 0,
            "ticks": ""
           }
          },
          "colorscale": {
           "diverging": [
            [
             0,
             "#8e0152"
            ],
            [
             0.1,
             "#c51b7d"
            ],
            [
             0.2,
             "#de77ae"
            ],
            [
             0.3,
             "#f1b6da"
            ],
            [
             0.4,
             "#fde0ef"
            ],
            [
             0.5,
             "#f7f7f7"
            ],
            [
             0.6,
             "#e6f5d0"
            ],
            [
             0.7,
             "#b8e186"
            ],
            [
             0.8,
             "#7fbc41"
            ],
            [
             0.9,
             "#4d9221"
            ],
            [
             1,
             "#276419"
            ]
           ],
           "sequential": [
            [
             0,
             "#0d0887"
            ],
            [
             0.1111111111111111,
             "#46039f"
            ],
            [
             0.2222222222222222,
             "#7201a8"
            ],
            [
             0.3333333333333333,
             "#9c179e"
            ],
            [
             0.4444444444444444,
             "#bd3786"
            ],
            [
             0.5555555555555556,
             "#d8576b"
            ],
            [
             0.6666666666666666,
             "#ed7953"
            ],
            [
             0.7777777777777778,
             "#fb9f3a"
            ],
            [
             0.8888888888888888,
             "#fdca26"
            ],
            [
             1,
             "#f0f921"
            ]
           ],
           "sequentialminus": [
            [
             0,
             "#0d0887"
            ],
            [
             0.1111111111111111,
             "#46039f"
            ],
            [
             0.2222222222222222,
             "#7201a8"
            ],
            [
             0.3333333333333333,
             "#9c179e"
            ],
            [
             0.4444444444444444,
             "#bd3786"
            ],
            [
             0.5555555555555556,
             "#d8576b"
            ],
            [
             0.6666666666666666,
             "#ed7953"
            ],
            [
             0.7777777777777778,
             "#fb9f3a"
            ],
            [
             0.8888888888888888,
             "#fdca26"
            ],
            [
             1,
             "#f0f921"
            ]
           ]
          },
          "colorway": [
           "#636efa",
           "#EF553B",
           "#00cc96",
           "#ab63fa",
           "#FFA15A",
           "#19d3f3",
           "#FF6692",
           "#B6E880",
           "#FF97FF",
           "#FECB52"
          ],
          "font": {
           "color": "#2a3f5f"
          },
          "geo": {
           "bgcolor": "white",
           "lakecolor": "white",
           "landcolor": "#E5ECF6",
           "showlakes": true,
           "showland": true,
           "subunitcolor": "white"
          },
          "hoverlabel": {
           "align": "left"
          },
          "hovermode": "closest",
          "mapbox": {
           "style": "light"
          },
          "paper_bgcolor": "white",
          "plot_bgcolor": "#E5ECF6",
          "polar": {
           "angularaxis": {
            "gridcolor": "white",
            "linecolor": "white",
            "ticks": ""
           },
           "bgcolor": "#E5ECF6",
           "radialaxis": {
            "gridcolor": "white",
            "linecolor": "white",
            "ticks": ""
           }
          },
          "scene": {
           "xaxis": {
            "backgroundcolor": "#E5ECF6",
            "gridcolor": "white",
            "gridwidth": 2,
            "linecolor": "white",
            "showbackground": true,
            "ticks": "",
            "zerolinecolor": "white"
           },
           "yaxis": {
            "backgroundcolor": "#E5ECF6",
            "gridcolor": "white",
            "gridwidth": 2,
            "linecolor": "white",
            "showbackground": true,
            "ticks": "",
            "zerolinecolor": "white"
           },
           "zaxis": {
            "backgroundcolor": "#E5ECF6",
            "gridcolor": "white",
            "gridwidth": 2,
            "linecolor": "white",
            "showbackground": true,
            "ticks": "",
            "zerolinecolor": "white"
           }
          },
          "shapedefaults": {
           "line": {
            "color": "#2a3f5f"
           }
          },
          "ternary": {
           "aaxis": {
            "gridcolor": "white",
            "linecolor": "white",
            "ticks": ""
           },
           "baxis": {
            "gridcolor": "white",
            "linecolor": "white",
            "ticks": ""
           },
           "bgcolor": "#E5ECF6",
           "caxis": {
            "gridcolor": "white",
            "linecolor": "white",
            "ticks": ""
           }
          },
          "title": {
           "x": 0.05
          },
          "xaxis": {
           "automargin": true,
           "gridcolor": "white",
           "linecolor": "white",
           "ticks": "",
           "title": {
            "standoff": 15
           },
           "zerolinecolor": "white",
           "zerolinewidth": 2
          },
          "yaxis": {
           "automargin": true,
           "gridcolor": "white",
           "linecolor": "white",
           "ticks": "",
           "title": {
            "standoff": 15
           },
           "zerolinecolor": "white",
           "zerolinewidth": 2
          }
         }
        },
        "title": {
         "text": "Contour Plot"
        },
        "xaxis": {
         "range": [
          2.15,
          20.85
         ],
         "title": {
          "text": "max_depth"
         }
        },
        "yaxis": {
         "range": [
          45.05,
          197.95
         ],
         "title": {
          "text": "n_estimators"
         }
        }
       }
      }
     },
     "metadata": {},
     "output_type": "display_data"
    }
   ],
   "source": [
    "plot_contour(study).show()"
   ]
  },
  {
   "cell_type": "code",
   "execution_count": 49,
   "id": "fcd3e71c",
   "metadata": {},
   "outputs": [
    {
     "data": {
      "application/vnd.plotly.v1+json": {
       "config": {
        "plotlyServerURL": "https://plot.ly"
       },
       "data": [
        {
         "cliponaxis": false,
         "hovertemplate": [
          "max_depth (IntDistribution): 0.4506139612820453<extra></extra>",
          "n_estimators (IntDistribution): 0.5493860387179548<extra></extra>"
         ],
         "name": "Objective Value",
         "orientation": "h",
         "text": [
          "0.45",
          "0.55"
         ],
         "textposition": "outside",
         "type": "bar",
         "x": [
          0.4506139612820453,
          0.5493860387179548
         ],
         "y": [
          "max_depth",
          "n_estimators"
         ]
        }
       ],
       "layout": {
        "template": {
         "data": {
          "bar": [
           {
            "error_x": {
             "color": "#2a3f5f"
            },
            "error_y": {
             "color": "#2a3f5f"
            },
            "marker": {
             "line": {
              "color": "#E5ECF6",
              "width": 0.5
             },
             "pattern": {
              "fillmode": "overlay",
              "size": 10,
              "solidity": 0.2
             }
            },
            "type": "bar"
           }
          ],
          "barpolar": [
           {
            "marker": {
             "line": {
              "color": "#E5ECF6",
              "width": 0.5
             },
             "pattern": {
              "fillmode": "overlay",
              "size": 10,
              "solidity": 0.2
             }
            },
            "type": "barpolar"
           }
          ],
          "carpet": [
           {
            "aaxis": {
             "endlinecolor": "#2a3f5f",
             "gridcolor": "white",
             "linecolor": "white",
             "minorgridcolor": "white",
             "startlinecolor": "#2a3f5f"
            },
            "baxis": {
             "endlinecolor": "#2a3f5f",
             "gridcolor": "white",
             "linecolor": "white",
             "minorgridcolor": "white",
             "startlinecolor": "#2a3f5f"
            },
            "type": "carpet"
           }
          ],
          "choropleth": [
           {
            "colorbar": {
             "outlinewidth": 0,
             "ticks": ""
            },
            "type": "choropleth"
           }
          ],
          "contour": [
           {
            "colorbar": {
             "outlinewidth": 0,
             "ticks": ""
            },
            "colorscale": [
             [
              0,
              "#0d0887"
             ],
             [
              0.1111111111111111,
              "#46039f"
             ],
             [
              0.2222222222222222,
              "#7201a8"
             ],
             [
              0.3333333333333333,
              "#9c179e"
             ],
             [
              0.4444444444444444,
              "#bd3786"
             ],
             [
              0.5555555555555556,
              "#d8576b"
             ],
             [
              0.6666666666666666,
              "#ed7953"
             ],
             [
              0.7777777777777778,
              "#fb9f3a"
             ],
             [
              0.8888888888888888,
              "#fdca26"
             ],
             [
              1,
              "#f0f921"
             ]
            ],
            "type": "contour"
           }
          ],
          "contourcarpet": [
           {
            "colorbar": {
             "outlinewidth": 0,
             "ticks": ""
            },
            "type": "contourcarpet"
           }
          ],
          "heatmap": [
           {
            "colorbar": {
             "outlinewidth": 0,
             "ticks": ""
            },
            "colorscale": [
             [
              0,
              "#0d0887"
             ],
             [
              0.1111111111111111,
              "#46039f"
             ],
             [
              0.2222222222222222,
              "#7201a8"
             ],
             [
              0.3333333333333333,
              "#9c179e"
             ],
             [
              0.4444444444444444,
              "#bd3786"
             ],
             [
              0.5555555555555556,
              "#d8576b"
             ],
             [
              0.6666666666666666,
              "#ed7953"
             ],
             [
              0.7777777777777778,
              "#fb9f3a"
             ],
             [
              0.8888888888888888,
              "#fdca26"
             ],
             [
              1,
              "#f0f921"
             ]
            ],
            "type": "heatmap"
           }
          ],
          "histogram": [
           {
            "marker": {
             "pattern": {
              "fillmode": "overlay",
              "size": 10,
              "solidity": 0.2
             }
            },
            "type": "histogram"
           }
          ],
          "histogram2d": [
           {
            "colorbar": {
             "outlinewidth": 0,
             "ticks": ""
            },
            "colorscale": [
             [
              0,
              "#0d0887"
             ],
             [
              0.1111111111111111,
              "#46039f"
             ],
             [
              0.2222222222222222,
              "#7201a8"
             ],
             [
              0.3333333333333333,
              "#9c179e"
             ],
             [
              0.4444444444444444,
              "#bd3786"
             ],
             [
              0.5555555555555556,
              "#d8576b"
             ],
             [
              0.6666666666666666,
              "#ed7953"
             ],
             [
              0.7777777777777778,
              "#fb9f3a"
             ],
             [
              0.8888888888888888,
              "#fdca26"
             ],
             [
              1,
              "#f0f921"
             ]
            ],
            "type": "histogram2d"
           }
          ],
          "histogram2dcontour": [
           {
            "colorbar": {
             "outlinewidth": 0,
             "ticks": ""
            },
            "colorscale": [
             [
              0,
              "#0d0887"
             ],
             [
              0.1111111111111111,
              "#46039f"
             ],
             [
              0.2222222222222222,
              "#7201a8"
             ],
             [
              0.3333333333333333,
              "#9c179e"
             ],
             [
              0.4444444444444444,
              "#bd3786"
             ],
             [
              0.5555555555555556,
              "#d8576b"
             ],
             [
              0.6666666666666666,
              "#ed7953"
             ],
             [
              0.7777777777777778,
              "#fb9f3a"
             ],
             [
              0.8888888888888888,
              "#fdca26"
             ],
             [
              1,
              "#f0f921"
             ]
            ],
            "type": "histogram2dcontour"
           }
          ],
          "mesh3d": [
           {
            "colorbar": {
             "outlinewidth": 0,
             "ticks": ""
            },
            "type": "mesh3d"
           }
          ],
          "parcoords": [
           {
            "line": {
             "colorbar": {
              "outlinewidth": 0,
              "ticks": ""
             }
            },
            "type": "parcoords"
           }
          ],
          "pie": [
           {
            "automargin": true,
            "type": "pie"
           }
          ],
          "scatter": [
           {
            "fillpattern": {
             "fillmode": "overlay",
             "size": 10,
             "solidity": 0.2
            },
            "type": "scatter"
           }
          ],
          "scatter3d": [
           {
            "line": {
             "colorbar": {
              "outlinewidth": 0,
              "ticks": ""
             }
            },
            "marker": {
             "colorbar": {
              "outlinewidth": 0,
              "ticks": ""
             }
            },
            "type": "scatter3d"
           }
          ],
          "scattercarpet": [
           {
            "marker": {
             "colorbar": {
              "outlinewidth": 0,
              "ticks": ""
             }
            },
            "type": "scattercarpet"
           }
          ],
          "scattergeo": [
           {
            "marker": {
             "colorbar": {
              "outlinewidth": 0,
              "ticks": ""
             }
            },
            "type": "scattergeo"
           }
          ],
          "scattergl": [
           {
            "marker": {
             "colorbar": {
              "outlinewidth": 0,
              "ticks": ""
             }
            },
            "type": "scattergl"
           }
          ],
          "scattermap": [
           {
            "marker": {
             "colorbar": {
              "outlinewidth": 0,
              "ticks": ""
             }
            },
            "type": "scattermap"
           }
          ],
          "scattermapbox": [
           {
            "marker": {
             "colorbar": {
              "outlinewidth": 0,
              "ticks": ""
             }
            },
            "type": "scattermapbox"
           }
          ],
          "scatterpolar": [
           {
            "marker": {
             "colorbar": {
              "outlinewidth": 0,
              "ticks": ""
             }
            },
            "type": "scatterpolar"
           }
          ],
          "scatterpolargl": [
           {
            "marker": {
             "colorbar": {
              "outlinewidth": 0,
              "ticks": ""
             }
            },
            "type": "scatterpolargl"
           }
          ],
          "scatterternary": [
           {
            "marker": {
             "colorbar": {
              "outlinewidth": 0,
              "ticks": ""
             }
            },
            "type": "scatterternary"
           }
          ],
          "surface": [
           {
            "colorbar": {
             "outlinewidth": 0,
             "ticks": ""
            },
            "colorscale": [
             [
              0,
              "#0d0887"
             ],
             [
              0.1111111111111111,
              "#46039f"
             ],
             [
              0.2222222222222222,
              "#7201a8"
             ],
             [
              0.3333333333333333,
              "#9c179e"
             ],
             [
              0.4444444444444444,
              "#bd3786"
             ],
             [
              0.5555555555555556,
              "#d8576b"
             ],
             [
              0.6666666666666666,
              "#ed7953"
             ],
             [
              0.7777777777777778,
              "#fb9f3a"
             ],
             [
              0.8888888888888888,
              "#fdca26"
             ],
             [
              1,
              "#f0f921"
             ]
            ],
            "type": "surface"
           }
          ],
          "table": [
           {
            "cells": {
             "fill": {
              "color": "#EBF0F8"
             },
             "line": {
              "color": "white"
             }
            },
            "header": {
             "fill": {
              "color": "#C8D4E3"
             },
             "line": {
              "color": "white"
             }
            },
            "type": "table"
           }
          ]
         },
         "layout": {
          "annotationdefaults": {
           "arrowcolor": "#2a3f5f",
           "arrowhead": 0,
           "arrowwidth": 1
          },
          "autotypenumbers": "strict",
          "coloraxis": {
           "colorbar": {
            "outlinewidth": 0,
            "ticks": ""
           }
          },
          "colorscale": {
           "diverging": [
            [
             0,
             "#8e0152"
            ],
            [
             0.1,
             "#c51b7d"
            ],
            [
             0.2,
             "#de77ae"
            ],
            [
             0.3,
             "#f1b6da"
            ],
            [
             0.4,
             "#fde0ef"
            ],
            [
             0.5,
             "#f7f7f7"
            ],
            [
             0.6,
             "#e6f5d0"
            ],
            [
             0.7,
             "#b8e186"
            ],
            [
             0.8,
             "#7fbc41"
            ],
            [
             0.9,
             "#4d9221"
            ],
            [
             1,
             "#276419"
            ]
           ],
           "sequential": [
            [
             0,
             "#0d0887"
            ],
            [
             0.1111111111111111,
             "#46039f"
            ],
            [
             0.2222222222222222,
             "#7201a8"
            ],
            [
             0.3333333333333333,
             "#9c179e"
            ],
            [
             0.4444444444444444,
             "#bd3786"
            ],
            [
             0.5555555555555556,
             "#d8576b"
            ],
            [
             0.6666666666666666,
             "#ed7953"
            ],
            [
             0.7777777777777778,
             "#fb9f3a"
            ],
            [
             0.8888888888888888,
             "#fdca26"
            ],
            [
             1,
             "#f0f921"
            ]
           ],
           "sequentialminus": [
            [
             0,
             "#0d0887"
            ],
            [
             0.1111111111111111,
             "#46039f"
            ],
            [
             0.2222222222222222,
             "#7201a8"
            ],
            [
             0.3333333333333333,
             "#9c179e"
            ],
            [
             0.4444444444444444,
             "#bd3786"
            ],
            [
             0.5555555555555556,
             "#d8576b"
            ],
            [
             0.6666666666666666,
             "#ed7953"
            ],
            [
             0.7777777777777778,
             "#fb9f3a"
            ],
            [
             0.8888888888888888,
             "#fdca26"
            ],
            [
             1,
             "#f0f921"
            ]
           ]
          },
          "colorway": [
           "#636efa",
           "#EF553B",
           "#00cc96",
           "#ab63fa",
           "#FFA15A",
           "#19d3f3",
           "#FF6692",
           "#B6E880",
           "#FF97FF",
           "#FECB52"
          ],
          "font": {
           "color": "#2a3f5f"
          },
          "geo": {
           "bgcolor": "white",
           "lakecolor": "white",
           "landcolor": "#E5ECF6",
           "showlakes": true,
           "showland": true,
           "subunitcolor": "white"
          },
          "hoverlabel": {
           "align": "left"
          },
          "hovermode": "closest",
          "mapbox": {
           "style": "light"
          },
          "paper_bgcolor": "white",
          "plot_bgcolor": "#E5ECF6",
          "polar": {
           "angularaxis": {
            "gridcolor": "white",
            "linecolor": "white",
            "ticks": ""
           },
           "bgcolor": "#E5ECF6",
           "radialaxis": {
            "gridcolor": "white",
            "linecolor": "white",
            "ticks": ""
           }
          },
          "scene": {
           "xaxis": {
            "backgroundcolor": "#E5ECF6",
            "gridcolor": "white",
            "gridwidth": 2,
            "linecolor": "white",
            "showbackground": true,
            "ticks": "",
            "zerolinecolor": "white"
           },
           "yaxis": {
            "backgroundcolor": "#E5ECF6",
            "gridcolor": "white",
            "gridwidth": 2,
            "linecolor": "white",
            "showbackground": true,
            "ticks": "",
            "zerolinecolor": "white"
           },
           "zaxis": {
            "backgroundcolor": "#E5ECF6",
            "gridcolor": "white",
            "gridwidth": 2,
            "linecolor": "white",
            "showbackground": true,
            "ticks": "",
            "zerolinecolor": "white"
           }
          },
          "shapedefaults": {
           "line": {
            "color": "#2a3f5f"
           }
          },
          "ternary": {
           "aaxis": {
            "gridcolor": "white",
            "linecolor": "white",
            "ticks": ""
           },
           "baxis": {
            "gridcolor": "white",
            "linecolor": "white",
            "ticks": ""
           },
           "bgcolor": "#E5ECF6",
           "caxis": {
            "gridcolor": "white",
            "linecolor": "white",
            "ticks": ""
           }
          },
          "title": {
           "x": 0.05
          },
          "xaxis": {
           "automargin": true,
           "gridcolor": "white",
           "linecolor": "white",
           "ticks": "",
           "title": {
            "standoff": 15
           },
           "zerolinecolor": "white",
           "zerolinewidth": 2
          },
          "yaxis": {
           "automargin": true,
           "gridcolor": "white",
           "linecolor": "white",
           "ticks": "",
           "title": {
            "standoff": 15
           },
           "zerolinecolor": "white",
           "zerolinewidth": 2
          }
         }
        },
        "title": {
         "text": "Hyperparameter Importances"
        },
        "xaxis": {
         "title": {
          "text": "Hyperparameter Importance"
         }
        },
        "yaxis": {
         "title": {
          "text": "Hyperparameter"
         }
        }
       }
      }
     },
     "metadata": {},
     "output_type": "display_data"
    }
   ],
   "source": [
    "plot_param_importances(study).show()"
   ]
  },
  {
   "cell_type": "markdown",
   "id": "5ec87423",
   "metadata": {},
   "source": [
    "## Best Model "
   ]
  },
  {
   "cell_type": "markdown",
   "id": "f7b51e40",
   "metadata": {},
   "source": [
    "**`Objective function`**"
   ]
  },
  {
   "cell_type": "code",
   "execution_count": 69,
   "id": "48f2cbb6",
   "metadata": {},
   "outputs": [],
   "source": [
    "def objective(trial):\n",
    "    classifier_name = trial.suggest_categorical('classifier', ['SVM', 'RandomForest', 'LogisticRegression'])\n",
    "\n",
    "    if classifier_name == 'SVM':\n",
    "        C = trial.suggest_float('C', 0.1, 100, log=True)\n",
    "        kernel = trial.suggest_categorical('kernel', ['linear', 'rbf', 'poly', 'sigmoid'])\n",
    "        gamma = trial.suggest_categorical('gamma', ['scale', 'auto'])\n",
    "\n",
    "        model = SVC(C=C, kernel=kernel, gamma=gamma, random_state=42)\n",
    "\n",
    "    elif classifier_name == 'RandomForest':\n",
    "        n_estimators = trial.suggest_int('n_estimators', 50, 300)\n",
    "        max_depth = trial.suggest_int('max_depth', 3, 20)\n",
    "        min_samples_split = trial.suggest_int('min_samples_split', 2, 10)\n",
    "        min_samples_leaf = trial.suggest_int('min_samples_leaf', 1, 10)\n",
    "        bootstrap = trial.suggest_categorical('bootstrap', [True, False])\n",
    "\n",
    "        model = RandomForestClassifier(n_estimators=n_estimators,max_depth=max_depth,min_samples_split=min_samples_split,min_samples_leaf=min_samples_leaf,bootstrap=bootstrap,random_state=42\n",
    "        )\n",
    "\n",
    "    elif classifier_name == 'LogisticRegression':\n",
    "        C = trial.suggest_float('C', 1e-4, 100.0, log=True)\n",
    "        penalty = trial.suggest_categorical('penalty', ['l1', 'l2'])\n",
    "        solver = trial.suggest_categorical('solver', ['liblinear', 'saga'])\n",
    "        model = LogisticRegression(C=C,penalty=penalty,solver=solver,max_iter=1000,random_state=42)\n",
    "\n",
    "    model.fit(x_train, y_train)\n",
    "    score = model.score(x_test, y_test)\n",
    "\n",
    "    return score\n"
   ]
  },
  {
   "cell_type": "code",
   "execution_count": 70,
   "id": "820d081c",
   "metadata": {},
   "outputs": [
    {
     "name": "stderr",
     "output_type": "stream",
     "text": [
      "[I 2025-07-03 18:41:35,678] A new study created in memory with name: no-name-58a7a5f7-ec36-423f-a20c-70f8d6bc685d\n",
      "[I 2025-07-03 18:41:35,786] Trial 0 finished with value: 0.7532467532467533 and parameters: {'classifier': 'RandomForest', 'n_estimators': 101, 'max_depth': 15, 'min_samples_split': 10, 'min_samples_leaf': 9, 'bootstrap': False}. Best is trial 0 with value: 0.7532467532467533.\n",
      "[I 2025-07-03 18:41:35,789] Trial 1 finished with value: 0.6536796536796536 and parameters: {'classifier': 'LogisticRegression', 'C': 0.002404191607006383, 'penalty': 'l1', 'solver': 'liblinear'}. Best is trial 0 with value: 0.7532467532467533.\n",
      "[I 2025-07-03 18:41:35,801] Trial 2 finished with value: 0.7229437229437229 and parameters: {'classifier': 'SVM', 'C': 3.4730329971709923, 'kernel': 'rbf', 'gamma': 'scale'}. Best is trial 0 with value: 0.7532467532467533.\n",
      "[I 2025-07-03 18:41:35,809] Trial 3 finished with value: 0.7316017316017316 and parameters: {'classifier': 'SVM', 'C': 0.3777761306928868, 'kernel': 'poly', 'gamma': 'auto'}. Best is trial 0 with value: 0.7532467532467533.\n",
      "[I 2025-07-03 18:41:35,889] Trial 4 finished with value: 0.7532467532467533 and parameters: {'classifier': 'RandomForest', 'n_estimators': 79, 'max_depth': 4, 'min_samples_split': 4, 'min_samples_leaf': 4, 'bootstrap': True}. Best is trial 0 with value: 0.7532467532467533.\n",
      "[I 2025-07-03 18:41:36,021] Trial 5 finished with value: 0.7489177489177489 and parameters: {'classifier': 'RandomForest', 'n_estimators': 135, 'max_depth': 4, 'min_samples_split': 7, 'min_samples_leaf': 7, 'bootstrap': True}. Best is trial 0 with value: 0.7532467532467533.\n",
      "[I 2025-07-03 18:41:36,238] Trial 6 finished with value: 0.7662337662337663 and parameters: {'classifier': 'RandomForest', 'n_estimators': 273, 'max_depth': 4, 'min_samples_split': 8, 'min_samples_leaf': 7, 'bootstrap': False}. Best is trial 6 with value: 0.7662337662337663.\n",
      "[I 2025-07-03 18:41:36,530] Trial 7 finished with value: 0.7532467532467533 and parameters: {'classifier': 'RandomForest', 'n_estimators': 265, 'max_depth': 15, 'min_samples_split': 5, 'min_samples_leaf': 7, 'bootstrap': True}. Best is trial 6 with value: 0.7662337662337663.\n",
      "[I 2025-07-03 18:41:36,534] Trial 8 finished with value: 0.7359307359307359 and parameters: {'classifier': 'LogisticRegression', 'C': 15.301428601083368, 'penalty': 'l1', 'solver': 'liblinear'}. Best is trial 6 with value: 0.7662337662337663.\n",
      "[I 2025-07-03 18:41:36,537] Trial 9 finished with value: 0.6536796536796536 and parameters: {'classifier': 'LogisticRegression', 'C': 0.0001669471004437478, 'penalty': 'l1', 'solver': 'liblinear'}. Best is trial 6 with value: 0.7662337662337663.\n",
      "[I 2025-07-03 18:41:36,882] Trial 10 finished with value: 0.7575757575757576 and parameters: {'classifier': 'RandomForest', 'n_estimators': 296, 'max_depth': 9, 'min_samples_split': 9, 'min_samples_leaf': 2, 'bootstrap': False}. Best is trial 6 with value: 0.7662337662337663.\n",
      "[I 2025-07-03 18:41:37,206] Trial 11 finished with value: 0.7532467532467533 and parameters: {'classifier': 'RandomForest', 'n_estimators': 292, 'max_depth': 9, 'min_samples_split': 9, 'min_samples_leaf': 1, 'bootstrap': False}. Best is trial 6 with value: 0.7662337662337663.\n",
      "[I 2025-07-03 18:41:37,461] Trial 12 finished with value: 0.7489177489177489 and parameters: {'classifier': 'RandomForest', 'n_estimators': 225, 'max_depth': 8, 'min_samples_split': 8, 'min_samples_leaf': 3, 'bootstrap': False}. Best is trial 6 with value: 0.7662337662337663.\n",
      "[I 2025-07-03 18:41:37,778] Trial 13 finished with value: 0.7532467532467533 and parameters: {'classifier': 'RandomForest', 'n_estimators': 210, 'max_depth': 20, 'min_samples_split': 7, 'min_samples_leaf': 5, 'bootstrap': False}. Best is trial 6 with value: 0.7662337662337663.\n",
      "[I 2025-07-03 18:41:38,128] Trial 14 finished with value: 0.7532467532467533 and parameters: {'classifier': 'RandomForest', 'n_estimators': 288, 'max_depth': 7, 'min_samples_split': 2, 'min_samples_leaf': 1, 'bootstrap': False}. Best is trial 6 with value: 0.7662337662337663.\n",
      "[I 2025-07-03 18:41:38,141] Trial 15 finished with value: 0.6320346320346321 and parameters: {'classifier': 'SVM', 'C': 91.41484939154182, 'kernel': 'sigmoid', 'gamma': 'auto'}. Best is trial 6 with value: 0.7662337662337663.\n",
      "[I 2025-07-03 18:41:38,429] Trial 16 finished with value: 0.7662337662337663 and parameters: {'classifier': 'RandomForest', 'n_estimators': 237, 'max_depth': 12, 'min_samples_split': 10, 'min_samples_leaf': 10, 'bootstrap': False}. Best is trial 6 with value: 0.7662337662337663.\n",
      "[I 2025-07-03 18:41:38,658] Trial 17 finished with value: 0.7575757575757576 and parameters: {'classifier': 'RandomForest', 'n_estimators': 227, 'max_depth': 13, 'min_samples_split': 10, 'min_samples_leaf': 10, 'bootstrap': False}. Best is trial 6 with value: 0.7662337662337663.\n",
      "[I 2025-07-03 18:41:38,664] Trial 18 finished with value: 0.7532467532467533 and parameters: {'classifier': 'LogisticRegression', 'C': 0.025681255733683715, 'penalty': 'l2', 'solver': 'saga'}. Best is trial 6 with value: 0.7662337662337663.\n",
      "[I 2025-07-03 18:41:38,729] Trial 19 finished with value: 0.7445887445887446 and parameters: {'classifier': 'SVM', 'C': 44.69157360953517, 'kernel': 'linear', 'gamma': 'scale'}. Best is trial 6 with value: 0.7662337662337663.\n",
      "[I 2025-07-03 18:41:38,900] Trial 20 finished with value: 0.7575757575757576 and parameters: {'classifier': 'RandomForest', 'n_estimators': 176, 'max_depth': 12, 'min_samples_split': 8, 'min_samples_leaf': 8, 'bootstrap': False}. Best is trial 6 with value: 0.7662337662337663.\n",
      "[I 2025-07-03 18:41:39,150] Trial 21 finished with value: 0.7575757575757576 and parameters: {'classifier': 'RandomForest', 'n_estimators': 264, 'max_depth': 10, 'min_samples_split': 9, 'min_samples_leaf': 10, 'bootstrap': False}. Best is trial 6 with value: 0.7662337662337663.\n",
      "[I 2025-07-03 18:41:39,375] Trial 22 finished with value: 0.7705627705627706 and parameters: {'classifier': 'RandomForest', 'n_estimators': 258, 'max_depth': 5, 'min_samples_split': 10, 'min_samples_leaf': 6, 'bootstrap': False}. Best is trial 22 with value: 0.7705627705627706.\n",
      "[I 2025-07-03 18:41:39,589] Trial 23 finished with value: 0.7619047619047619 and parameters: {'classifier': 'RandomForest', 'n_estimators': 235, 'max_depth': 6, 'min_samples_split': 10, 'min_samples_leaf': 6, 'bootstrap': False}. Best is trial 22 with value: 0.7705627705627706.\n",
      "[I 2025-07-03 18:41:39,730] Trial 24 finished with value: 0.7662337662337663 and parameters: {'classifier': 'RandomForest', 'n_estimators': 183, 'max_depth': 3, 'min_samples_split': 8, 'min_samples_leaf': 6, 'bootstrap': False}. Best is trial 22 with value: 0.7705627705627706.\n",
      "[I 2025-07-03 18:41:39,964] Trial 25 finished with value: 0.7662337662337663 and parameters: {'classifier': 'RandomForest', 'n_estimators': 250, 'max_depth': 5, 'min_samples_split': 10, 'min_samples_leaf': 8, 'bootstrap': False}. Best is trial 22 with value: 0.7705627705627706.\n",
      "[I 2025-07-03 18:41:40,195] Trial 26 finished with value: 0.7489177489177489 and parameters: {'classifier': 'RandomForest', 'n_estimators': 196, 'max_depth': 15, 'min_samples_split': 6, 'min_samples_leaf': 5, 'bootstrap': True}. Best is trial 22 with value: 0.7705627705627706.\n",
      "[I 2025-07-03 18:41:40,375] Trial 27 finished with value: 0.7575757575757576 and parameters: {'classifier': 'RandomForest', 'n_estimators': 147, 'max_depth': 11, 'min_samples_split': 9, 'min_samples_leaf': 8, 'bootstrap': False}. Best is trial 22 with value: 0.7705627705627706.\n",
      "[I 2025-07-03 18:41:40,392] Trial 28 finished with value: 0.7489177489177489 and parameters: {'classifier': 'SVM', 'C': 2.84830300932086, 'kernel': 'linear', 'gamma': 'scale'}. Best is trial 22 with value: 0.7705627705627706.\n",
      "[I 2025-07-03 18:41:40,402] Trial 29 finished with value: 0.6536796536796536 and parameters: {'classifier': 'LogisticRegression', 'C': 0.0001378303435907213, 'penalty': 'l2', 'solver': 'saga'}. Best is trial 22 with value: 0.7705627705627706.\n",
      "[I 2025-07-03 18:41:40,675] Trial 30 finished with value: 0.7575757575757576 and parameters: {'classifier': 'RandomForest', 'n_estimators': 261, 'max_depth': 18, 'min_samples_split': 7, 'min_samples_leaf': 7, 'bootstrap': False}. Best is trial 22 with value: 0.7705627705627706.\n",
      "[I 2025-07-03 18:41:40,845] Trial 31 finished with value: 0.7619047619047619 and parameters: {'classifier': 'RandomForest', 'n_estimators': 196, 'max_depth': 3, 'min_samples_split': 8, 'min_samples_leaf': 6, 'bootstrap': False}. Best is trial 22 with value: 0.7705627705627706.\n",
      "[I 2025-07-03 18:41:41,036] Trial 32 finished with value: 0.7705627705627706 and parameters: {'classifier': 'RandomForest', 'n_estimators': 246, 'max_depth': 3, 'min_samples_split': 8, 'min_samples_leaf': 4, 'bootstrap': False}. Best is trial 22 with value: 0.7705627705627706.\n",
      "[I 2025-07-03 18:41:41,267] Trial 33 finished with value: 0.7532467532467533 and parameters: {'classifier': 'RandomForest', 'n_estimators': 243, 'max_depth': 6, 'min_samples_split': 9, 'min_samples_leaf': 4, 'bootstrap': False}. Best is trial 22 with value: 0.7705627705627706.\n",
      "[I 2025-07-03 18:41:41,540] Trial 34 finished with value: 0.7662337662337663 and parameters: {'classifier': 'RandomForest', 'n_estimators': 273, 'max_depth': 5, 'min_samples_split': 10, 'min_samples_leaf': 4, 'bootstrap': False}. Best is trial 22 with value: 0.7705627705627706.\n",
      "[I 2025-07-03 18:41:41,836] Trial 35 finished with value: 0.7445887445887446 and parameters: {'classifier': 'RandomForest', 'n_estimators': 275, 'max_depth': 13, 'min_samples_split': 6, 'min_samples_leaf': 3, 'bootstrap': False}. Best is trial 22 with value: 0.7705627705627706.\n",
      "[I 2025-07-03 18:41:41,846] Trial 36 finished with value: 0.6363636363636364 and parameters: {'classifier': 'SVM', 'C': 2.822263284915027, 'kernel': 'sigmoid', 'gamma': 'auto'}. Best is trial 22 with value: 0.7705627705627706.\n",
      "[I 2025-07-03 18:41:42,012] Trial 37 finished with value: 0.7619047619047619 and parameters: {'classifier': 'RandomForest', 'n_estimators': 212, 'max_depth': 3, 'min_samples_split': 8, 'min_samples_leaf': 9, 'bootstrap': False}. Best is trial 22 with value: 0.7705627705627706.\n",
      "[I 2025-07-03 18:41:42,022] Trial 38 finished with value: 0.7402597402597403 and parameters: {'classifier': 'LogisticRegression', 'C': 0.0826078379359988, 'penalty': 'l2', 'solver': 'saga'}. Best is trial 22 with value: 0.7705627705627706.\n",
      "[I 2025-07-03 18:41:42,284] Trial 39 finished with value: 0.7662337662337663 and parameters: {'classifier': 'RandomForest', 'n_estimators': 250, 'max_depth': 7, 'min_samples_split': 9, 'min_samples_leaf': 5, 'bootstrap': True}. Best is trial 22 with value: 0.7705627705627706.\n",
      "[I 2025-07-03 18:41:42,526] Trial 40 finished with value: 0.7662337662337663 and parameters: {'classifier': 'RandomForest', 'n_estimators': 280, 'max_depth': 5, 'min_samples_split': 5, 'min_samples_leaf': 9, 'bootstrap': False}. Best is trial 22 with value: 0.7705627705627706.\n",
      "[I 2025-07-03 18:41:42,668] Trial 41 finished with value: 0.7619047619047619 and parameters: {'classifier': 'RandomForest', 'n_estimators': 173, 'max_depth': 3, 'min_samples_split': 8, 'min_samples_leaf': 6, 'bootstrap': False}. Best is trial 22 with value: 0.7705627705627706.\n",
      "[I 2025-07-03 18:41:42,876] Trial 42 finished with value: 0.7705627705627706 and parameters: {'classifier': 'RandomForest', 'n_estimators': 249, 'max_depth': 4, 'min_samples_split': 7, 'min_samples_leaf': 6, 'bootstrap': False}. Best is trial 22 with value: 0.7705627705627706.\n",
      "[I 2025-07-03 18:41:43,102] Trial 43 finished with value: 0.7662337662337663 and parameters: {'classifier': 'RandomForest', 'n_estimators': 249, 'max_depth': 4, 'min_samples_split': 7, 'min_samples_leaf': 7, 'bootstrap': False}. Best is trial 22 with value: 0.7705627705627706.\n",
      "[I 2025-07-03 18:41:43,338] Trial 44 finished with value: 0.7662337662337663 and parameters: {'classifier': 'RandomForest', 'n_estimators': 233, 'max_depth': 6, 'min_samples_split': 10, 'min_samples_leaf': 5, 'bootstrap': False}. Best is trial 22 with value: 0.7705627705627706.\n",
      "[I 2025-07-03 18:41:43,544] Trial 45 finished with value: 0.7705627705627706 and parameters: {'classifier': 'RandomForest', 'n_estimators': 215, 'max_depth': 4, 'min_samples_split': 7, 'min_samples_leaf': 3, 'bootstrap': False}. Best is trial 22 with value: 0.7705627705627706.\n",
      "[I 2025-07-03 18:41:43,551] Trial 46 finished with value: 0.6536796536796536 and parameters: {'classifier': 'LogisticRegression', 'C': 0.0022536262575896257, 'penalty': 'l1', 'solver': 'saga'}. Best is trial 22 with value: 0.7705627705627706.\n",
      "[I 2025-07-03 18:41:43,571] Trial 47 finished with value: 0.7316017316017316 and parameters: {'classifier': 'SVM', 'C': 9.550861545714847, 'kernel': 'poly', 'gamma': 'scale'}. Best is trial 22 with value: 0.7705627705627706.\n",
      "[I 2025-07-03 18:41:43,811] Trial 48 finished with value: 0.7619047619047619 and parameters: {'classifier': 'RandomForest', 'n_estimators': 214, 'max_depth': 4, 'min_samples_split': 7, 'min_samples_leaf': 3, 'bootstrap': True}. Best is trial 22 with value: 0.7705627705627706.\n",
      "[I 2025-07-03 18:41:43,910] Trial 49 finished with value: 0.7662337662337663 and parameters: {'classifier': 'RandomForest', 'n_estimators': 102, 'max_depth': 5, 'min_samples_split': 6, 'min_samples_leaf': 4, 'bootstrap': False}. Best is trial 22 with value: 0.7705627705627706.\n",
      "[I 2025-07-03 18:41:44,186] Trial 50 finished with value: 0.7705627705627706 and parameters: {'classifier': 'RandomForest', 'n_estimators': 258, 'max_depth': 4, 'min_samples_split': 5, 'min_samples_leaf': 2, 'bootstrap': True}. Best is trial 22 with value: 0.7705627705627706.\n",
      "[I 2025-07-03 18:41:44,476] Trial 51 finished with value: 0.7705627705627706 and parameters: {'classifier': 'RandomForest', 'n_estimators': 259, 'max_depth': 4, 'min_samples_split': 5, 'min_samples_leaf': 2, 'bootstrap': True}. Best is trial 22 with value: 0.7705627705627706.\n",
      "[I 2025-07-03 18:41:44,741] Trial 52 finished with value: 0.7662337662337663 and parameters: {'classifier': 'RandomForest', 'n_estimators': 257, 'max_depth': 4, 'min_samples_split': 5, 'min_samples_leaf': 2, 'bootstrap': True}. Best is trial 22 with value: 0.7705627705627706.\n",
      "[I 2025-07-03 18:41:44,991] Trial 53 finished with value: 0.7619047619047619 and parameters: {'classifier': 'RandomForest', 'n_estimators': 269, 'max_depth': 3, 'min_samples_split': 4, 'min_samples_leaf': 2, 'bootstrap': True}. Best is trial 22 with value: 0.7705627705627706.\n",
      "[I 2025-07-03 18:41:45,261] Trial 54 finished with value: 0.7575757575757576 and parameters: {'classifier': 'RandomForest', 'n_estimators': 223, 'max_depth': 5, 'min_samples_split': 4, 'min_samples_leaf': 2, 'bootstrap': True}. Best is trial 22 with value: 0.7705627705627706.\n",
      "[I 2025-07-03 18:41:45,578] Trial 55 finished with value: 0.7575757575757576 and parameters: {'classifier': 'RandomForest', 'n_estimators': 242, 'max_depth': 7, 'min_samples_split': 5, 'min_samples_leaf': 3, 'bootstrap': True}. Best is trial 22 with value: 0.7705627705627706.\n",
      "[I 2025-07-03 18:41:45,908] Trial 56 finished with value: 0.7662337662337663 and parameters: {'classifier': 'RandomForest', 'n_estimators': 297, 'max_depth': 4, 'min_samples_split': 6, 'min_samples_leaf': 3, 'bootstrap': True}. Best is trial 22 with value: 0.7705627705627706.\n",
      "[I 2025-07-03 18:41:45,977] Trial 57 finished with value: 0.7445887445887446 and parameters: {'classifier': 'RandomForest', 'n_estimators': 51, 'max_depth': 6, 'min_samples_split': 3, 'min_samples_leaf': 1, 'bootstrap': True}. Best is trial 22 with value: 0.7705627705627706.\n",
      "[I 2025-07-03 18:41:45,984] Trial 58 finished with value: 0.7142857142857143 and parameters: {'classifier': 'LogisticRegression', 'C': 0.003812253204625344, 'penalty': 'l2', 'solver': 'liblinear'}. Best is trial 22 with value: 0.7705627705627706.\n",
      "[I 2025-07-03 18:41:46,324] Trial 59 finished with value: 0.7532467532467533 and parameters: {'classifier': 'RandomForest', 'n_estimators': 283, 'max_depth': 8, 'min_samples_split': 5, 'min_samples_leaf': 2, 'bootstrap': True}. Best is trial 22 with value: 0.7705627705627706.\n",
      "[I 2025-07-03 18:41:46,338] Trial 60 finished with value: 0.7489177489177489 and parameters: {'classifier': 'SVM', 'C': 0.987851633591341, 'kernel': 'rbf', 'gamma': 'auto'}. Best is trial 22 with value: 0.7705627705627706.\n",
      "[I 2025-07-03 18:41:46,640] Trial 61 finished with value: 0.7575757575757576 and parameters: {'classifier': 'RandomForest', 'n_estimators': 253, 'max_depth': 4, 'min_samples_split': 7, 'min_samples_leaf': 7, 'bootstrap': True}. Best is trial 22 with value: 0.7705627705627706.\n",
      "[I 2025-07-03 18:41:46,928] Trial 62 finished with value: 0.7705627705627706 and parameters: {'classifier': 'RandomForest', 'n_estimators': 263, 'max_depth': 3, 'min_samples_split': 6, 'min_samples_leaf': 4, 'bootstrap': False}. Best is trial 22 with value: 0.7705627705627706.\n",
      "[I 2025-07-03 18:41:47,189] Trial 63 finished with value: 0.7705627705627706 and parameters: {'classifier': 'RandomForest', 'n_estimators': 263, 'max_depth': 3, 'min_samples_split': 6, 'min_samples_leaf': 4, 'bootstrap': False}. Best is trial 22 with value: 0.7705627705627706.\n",
      "[I 2025-07-03 18:41:47,474] Trial 64 finished with value: 0.7575757575757576 and parameters: {'classifier': 'RandomForest', 'n_estimators': 225, 'max_depth': 5, 'min_samples_split': 6, 'min_samples_leaf': 3, 'bootstrap': False}. Best is trial 22 with value: 0.7705627705627706.\n",
      "[I 2025-07-03 18:41:47,747] Trial 65 finished with value: 0.7792207792207793 and parameters: {'classifier': 'RandomForest', 'n_estimators': 285, 'max_depth': 4, 'min_samples_split': 5, 'min_samples_leaf': 4, 'bootstrap': False}. Best is trial 65 with value: 0.7792207792207793.\n",
      "[I 2025-07-03 18:41:48,061] Trial 66 finished with value: 0.7662337662337663 and parameters: {'classifier': 'RandomForest', 'n_estimators': 289, 'max_depth': 4, 'min_samples_split': 4, 'min_samples_leaf': 1, 'bootstrap': True}. Best is trial 65 with value: 0.7792207792207793.\n",
      "[I 2025-07-03 18:41:48,352] Trial 67 finished with value: 0.7575757575757576 and parameters: {'classifier': 'RandomForest', 'n_estimators': 300, 'max_depth': 6, 'min_samples_split': 5, 'min_samples_leaf': 2, 'bootstrap': False}. Best is trial 65 with value: 0.7792207792207793.\n",
      "[I 2025-07-03 18:41:48,611] Trial 68 finished with value: 0.7748917748917749 and parameters: {'classifier': 'RandomForest', 'n_estimators': 281, 'max_depth': 4, 'min_samples_split': 7, 'min_samples_leaf': 5, 'bootstrap': False}. Best is trial 65 with value: 0.7792207792207793.\n",
      "[I 2025-07-03 18:41:48,897] Trial 69 finished with value: 0.7662337662337663 and parameters: {'classifier': 'RandomForest', 'n_estimators': 283, 'max_depth': 5, 'min_samples_split': 7, 'min_samples_leaf': 5, 'bootstrap': False}. Best is trial 65 with value: 0.7792207792207793.\n",
      "[I 2025-07-03 18:41:49,093] Trial 70 finished with value: 0.7662337662337663 and parameters: {'classifier': 'RandomForest', 'n_estimators': 240, 'max_depth': 3, 'min_samples_split': 7, 'min_samples_leaf': 6, 'bootstrap': False}. Best is trial 65 with value: 0.7792207792207793.\n",
      "[I 2025-07-03 18:41:49,356] Trial 71 finished with value: 0.7748917748917749 and parameters: {'classifier': 'RandomForest', 'n_estimators': 274, 'max_depth': 4, 'min_samples_split': 5, 'min_samples_leaf': 5, 'bootstrap': False}. Best is trial 65 with value: 0.7792207792207793.\n",
      "[I 2025-07-03 18:41:49,604] Trial 72 finished with value: 0.7748917748917749 and parameters: {'classifier': 'RandomForest', 'n_estimators': 270, 'max_depth': 4, 'min_samples_split': 7, 'min_samples_leaf': 5, 'bootstrap': False}. Best is trial 65 with value: 0.7792207792207793.\n",
      "[I 2025-07-03 18:41:49,874] Trial 73 finished with value: 0.7619047619047619 and parameters: {'classifier': 'RandomForest', 'n_estimators': 272, 'max_depth': 5, 'min_samples_split': 7, 'min_samples_leaf': 5, 'bootstrap': False}. Best is trial 65 with value: 0.7792207792207793.\n",
      "[I 2025-07-03 18:41:50,153] Trial 74 finished with value: 0.7662337662337663 and parameters: {'classifier': 'RandomForest', 'n_estimators': 291, 'max_depth': 6, 'min_samples_split': 8, 'min_samples_leaf': 5, 'bootstrap': False}. Best is trial 65 with value: 0.7792207792207793.\n",
      "[I 2025-07-03 18:41:50,386] Trial 75 finished with value: 0.7705627705627706 and parameters: {'classifier': 'RandomForest', 'n_estimators': 278, 'max_depth': 3, 'min_samples_split': 8, 'min_samples_leaf': 4, 'bootstrap': False}. Best is trial 65 with value: 0.7792207792207793.\n",
      "[I 2025-07-03 18:41:50,402] Trial 76 finished with value: 0.70995670995671 and parameters: {'classifier': 'SVM', 'C': 17.690521601562207, 'kernel': 'rbf', 'gamma': 'auto'}. Best is trial 65 with value: 0.7792207792207793.\n",
      "[I 2025-07-03 18:41:50,410] Trial 77 finished with value: 0.7272727272727273 and parameters: {'classifier': 'LogisticRegression', 'C': 0.008625563384832328, 'penalty': 'l2', 'solver': 'liblinear'}. Best is trial 65 with value: 0.7792207792207793.\n",
      "[I 2025-07-03 18:41:50,662] Trial 78 finished with value: 0.7748917748917749 and parameters: {'classifier': 'RandomForest', 'n_estimators': 274, 'max_depth': 4, 'min_samples_split': 7, 'min_samples_leaf': 6, 'bootstrap': False}. Best is trial 65 with value: 0.7792207792207793.\n",
      "[I 2025-07-03 18:41:50,912] Trial 79 finished with value: 0.7705627705627706 and parameters: {'classifier': 'RandomForest', 'n_estimators': 269, 'max_depth': 5, 'min_samples_split': 6, 'min_samples_leaf': 6, 'bootstrap': False}. Best is trial 65 with value: 0.7792207792207793.\n",
      "[I 2025-07-03 18:41:51,278] Trial 80 finished with value: 0.7532467532467533 and parameters: {'classifier': 'RandomForest', 'n_estimators': 288, 'max_depth': 18, 'min_samples_split': 7, 'min_samples_leaf': 5, 'bootstrap': False}. Best is trial 65 with value: 0.7792207792207793.\n",
      "[I 2025-07-03 18:41:51,541] Trial 81 finished with value: 0.7705627705627706 and parameters: {'classifier': 'RandomForest', 'n_estimators': 248, 'max_depth': 4, 'min_samples_split': 7, 'min_samples_leaf': 6, 'bootstrap': False}. Best is trial 65 with value: 0.7792207792207793.\n",
      "[I 2025-07-03 18:41:51,814] Trial 82 finished with value: 0.7748917748917749 and parameters: {'classifier': 'RandomForest', 'n_estimators': 278, 'max_depth': 4, 'min_samples_split': 8, 'min_samples_leaf': 5, 'bootstrap': False}. Best is trial 65 with value: 0.7792207792207793.\n",
      "[I 2025-07-03 18:41:52,053] Trial 83 finished with value: 0.7662337662337663 and parameters: {'classifier': 'RandomForest', 'n_estimators': 278, 'max_depth': 3, 'min_samples_split': 9, 'min_samples_leaf': 5, 'bootstrap': False}. Best is trial 65 with value: 0.7792207792207793.\n",
      "[I 2025-07-03 18:41:52,295] Trial 84 finished with value: 0.7705627705627706 and parameters: {'classifier': 'RandomForest', 'n_estimators': 269, 'max_depth': 5, 'min_samples_split': 8, 'min_samples_leaf': 6, 'bootstrap': False}. Best is trial 65 with value: 0.7792207792207793.\n",
      "[I 2025-07-03 18:41:52,566] Trial 85 finished with value: 0.7662337662337663 and parameters: {'classifier': 'RandomForest', 'n_estimators': 287, 'max_depth': 7, 'min_samples_split': 8, 'min_samples_leaf': 4, 'bootstrap': False}. Best is trial 65 with value: 0.7792207792207793.\n",
      "[I 2025-07-03 18:41:52,773] Trial 86 finished with value: 0.7662337662337663 and parameters: {'classifier': 'RandomForest', 'n_estimators': 276, 'max_depth': 3, 'min_samples_split': 9, 'min_samples_leaf': 6, 'bootstrap': False}. Best is trial 65 with value: 0.7792207792207793.\n",
      "[I 2025-07-03 18:41:53,012] Trial 87 finished with value: 0.7748917748917749 and parameters: {'classifier': 'RandomForest', 'n_estimators': 296, 'max_depth': 4, 'min_samples_split': 7, 'min_samples_leaf': 5, 'bootstrap': False}. Best is trial 65 with value: 0.7792207792207793.\n",
      "[I 2025-07-03 18:41:53,277] Trial 88 finished with value: 0.7662337662337663 and parameters: {'classifier': 'RandomForest', 'n_estimators': 295, 'max_depth': 6, 'min_samples_split': 8, 'min_samples_leaf': 5, 'bootstrap': False}. Best is trial 65 with value: 0.7792207792207793.\n",
      "[I 2025-07-03 18:41:53,284] Trial 89 finished with value: 0.6536796536796536 and parameters: {'classifier': 'LogisticRegression', 'C': 0.0006767993805010839, 'penalty': 'l1', 'solver': 'saga'}. Best is trial 65 with value: 0.7792207792207793.\n",
      "[I 2025-07-03 18:41:53,518] Trial 90 finished with value: 0.7792207792207793 and parameters: {'classifier': 'RandomForest', 'n_estimators': 284, 'max_depth': 4, 'min_samples_split': 6, 'min_samples_leaf': 4, 'bootstrap': False}. Best is trial 65 with value: 0.7792207792207793.\n",
      "[I 2025-07-03 18:41:53,745] Trial 91 finished with value: 0.7792207792207793 and parameters: {'classifier': 'RandomForest', 'n_estimators': 284, 'max_depth': 4, 'min_samples_split': 6, 'min_samples_leaf': 4, 'bootstrap': False}. Best is trial 65 with value: 0.7792207792207793.\n",
      "[I 2025-07-03 18:41:53,988] Trial 92 finished with value: 0.7748917748917749 and parameters: {'classifier': 'RandomForest', 'n_estimators': 299, 'max_depth': 4, 'min_samples_split': 6, 'min_samples_leaf': 5, 'bootstrap': False}. Best is trial 65 with value: 0.7792207792207793.\n",
      "[I 2025-07-03 18:41:54,229] Trial 93 finished with value: 0.7748917748917749 and parameters: {'classifier': 'RandomForest', 'n_estimators': 300, 'max_depth': 4, 'min_samples_split': 6, 'min_samples_leaf': 5, 'bootstrap': False}. Best is trial 65 with value: 0.7792207792207793.\n",
      "[I 2025-07-03 18:41:54,484] Trial 94 finished with value: 0.7792207792207793 and parameters: {'classifier': 'RandomForest', 'n_estimators': 292, 'max_depth': 4, 'min_samples_split': 6, 'min_samples_leaf': 4, 'bootstrap': False}. Best is trial 65 with value: 0.7792207792207793.\n",
      "[I 2025-07-03 18:41:54,790] Trial 95 finished with value: 0.7662337662337663 and parameters: {'classifier': 'RandomForest', 'n_estimators': 287, 'max_depth': 5, 'min_samples_split': 6, 'min_samples_leaf': 4, 'bootstrap': False}. Best is trial 65 with value: 0.7792207792207793.\n",
      "[I 2025-07-03 18:41:55,075] Trial 96 finished with value: 0.7792207792207793 and parameters: {'classifier': 'RandomForest', 'n_estimators': 281, 'max_depth': 4, 'min_samples_split': 6, 'min_samples_leaf': 4, 'bootstrap': False}. Best is trial 65 with value: 0.7792207792207793.\n",
      "[I 2025-07-03 18:41:55,089] Trial 97 finished with value: 0.7532467532467533 and parameters: {'classifier': 'SVM', 'C': 0.747586957459206, 'kernel': 'poly', 'gamma': 'scale'}. Best is trial 65 with value: 0.7792207792207793.\n",
      "[I 2025-07-03 18:41:55,343] Trial 98 finished with value: 0.7705627705627706 and parameters: {'classifier': 'RandomForest', 'n_estimators': 281, 'max_depth': 3, 'min_samples_split': 5, 'min_samples_leaf': 4, 'bootstrap': False}. Best is trial 65 with value: 0.7792207792207793.\n",
      "[I 2025-07-03 18:41:55,676] Trial 99 finished with value: 0.7619047619047619 and parameters: {'classifier': 'RandomForest', 'n_estimators': 271, 'max_depth': 10, 'min_samples_split': 6, 'min_samples_leaf': 4, 'bootstrap': False}. Best is trial 65 with value: 0.7792207792207793.\n"
     ]
    }
   ],
   "source": [
    "study = create_study(direction='maximize')\n",
    "study.optimize(objective, n_trials=100)"
   ]
  },
  {
   "cell_type": "markdown",
   "id": "f0f02b00",
   "metadata": {},
   "source": [
    "**study**"
   ]
  },
  {
   "cell_type": "code",
   "execution_count": 71,
   "id": "80d8c5d1",
   "metadata": {},
   "outputs": [
    {
     "name": "stdout",
     "output_type": "stream",
     "text": [
      "Best trial accuracy: 0.7792207792207793\n",
      "Best hyperparameters: {'classifier': 'RandomForest', 'n_estimators': 285, 'max_depth': 4, 'min_samples_split': 5, 'min_samples_leaf': 4, 'bootstrap': False}\n"
     ]
    }
   ],
   "source": [
    "\n",
    "print(f'Best trial accuracy: {study.best_trial.value}')\n",
    "print(f'Best hyperparameters: {study.best_trial.params}')"
   ]
  },
  {
   "cell_type": "code",
   "execution_count": 82,
   "id": "d1f22c94",
   "metadata": {},
   "outputs": [
    {
     "data": {
      "text/html": [
       "<div>\n",
       "<style scoped>\n",
       "    .dataframe tbody tr th:only-of-type {\n",
       "        vertical-align: middle;\n",
       "    }\n",
       "\n",
       "    .dataframe tbody tr th {\n",
       "        vertical-align: top;\n",
       "    }\n",
       "\n",
       "    .dataframe thead th {\n",
       "        text-align: right;\n",
       "    }\n",
       "</style>\n",
       "<table border=\"1\" class=\"dataframe\">\n",
       "  <thead>\n",
       "    <tr style=\"text-align: right;\">\n",
       "      <th></th>\n",
       "      <th>value</th>\n",
       "      <th>params_C</th>\n",
       "      <th>params_bootstrap</th>\n",
       "      <th>params_classifier</th>\n",
       "      <th>params_gamma</th>\n",
       "      <th>params_kernel</th>\n",
       "      <th>params_max_depth</th>\n",
       "      <th>params_min_samples_leaf</th>\n",
       "      <th>params_min_samples_split</th>\n",
       "      <th>params_n_estimators</th>\n",
       "      <th>params_penalty</th>\n",
       "      <th>params_solver</th>\n",
       "    </tr>\n",
       "  </thead>\n",
       "  <tbody>\n",
       "    <tr>\n",
       "      <th>0</th>\n",
       "      <td>0.753247</td>\n",
       "      <td>NaN</td>\n",
       "      <td>False</td>\n",
       "      <td>RandomForest</td>\n",
       "      <td>NaN</td>\n",
       "      <td>NaN</td>\n",
       "      <td>15.0</td>\n",
       "      <td>9.0</td>\n",
       "      <td>10.0</td>\n",
       "      <td>101.0</td>\n",
       "      <td>NaN</td>\n",
       "      <td>NaN</td>\n",
       "    </tr>\n",
       "    <tr>\n",
       "      <th>1</th>\n",
       "      <td>0.653680</td>\n",
       "      <td>0.002404</td>\n",
       "      <td>NaN</td>\n",
       "      <td>LogisticRegression</td>\n",
       "      <td>NaN</td>\n",
       "      <td>NaN</td>\n",
       "      <td>NaN</td>\n",
       "      <td>NaN</td>\n",
       "      <td>NaN</td>\n",
       "      <td>NaN</td>\n",
       "      <td>l1</td>\n",
       "      <td>liblinear</td>\n",
       "    </tr>\n",
       "    <tr>\n",
       "      <th>2</th>\n",
       "      <td>0.722944</td>\n",
       "      <td>3.473033</td>\n",
       "      <td>NaN</td>\n",
       "      <td>SVM</td>\n",
       "      <td>scale</td>\n",
       "      <td>rbf</td>\n",
       "      <td>NaN</td>\n",
       "      <td>NaN</td>\n",
       "      <td>NaN</td>\n",
       "      <td>NaN</td>\n",
       "      <td>NaN</td>\n",
       "      <td>NaN</td>\n",
       "    </tr>\n",
       "  </tbody>\n",
       "</table>\n",
       "</div>"
      ],
      "text/plain": [
       "      value  params_C params_bootstrap   params_classifier params_gamma  \\\n",
       "0  0.753247       NaN            False        RandomForest          NaN   \n",
       "1  0.653680  0.002404              NaN  LogisticRegression          NaN   \n",
       "2  0.722944  3.473033              NaN                 SVM        scale   \n",
       "\n",
       "  params_kernel  params_max_depth  params_min_samples_leaf  \\\n",
       "0           NaN              15.0                      9.0   \n",
       "1           NaN               NaN                      NaN   \n",
       "2           rbf               NaN                      NaN   \n",
       "\n",
       "   params_min_samples_split  params_n_estimators params_penalty params_solver  \n",
       "0                      10.0                101.0            NaN           NaN  \n",
       "1                       NaN                  NaN             l1     liblinear  \n",
       "2                       NaN                  NaN            NaN           NaN  "
      ]
     },
     "execution_count": 82,
     "metadata": {},
     "output_type": "execute_result"
    }
   ],
   "source": [
    "study.trials_dataframe()[['value','params_C', 'params_bootstrap', 'params_classifier', 'params_gamma', 'params_kernel', 'params_max_depth', 'params_min_samples_leaf', 'params_min_samples_split', 'params_n_estimators', 'params_penalty', 'params_solver']].head(3)"
   ]
  },
  {
   "cell_type": "code",
   "execution_count": 72,
   "id": "578e2446",
   "metadata": {},
   "outputs": [
    {
     "data": {
      "text/plain": [
       "params_classifier\n",
       "RandomForest          80\n",
       "LogisticRegression    10\n",
       "SVM                   10\n",
       "Name: count, dtype: int64"
      ]
     },
     "execution_count": 72,
     "metadata": {},
     "output_type": "execute_result"
    }
   ],
   "source": [
    "study.trials_dataframe()['params_classifier'].value_counts()"
   ]
  },
  {
   "cell_type": "code",
   "execution_count": 73,
   "id": "819c5091",
   "metadata": {},
   "outputs": [
    {
     "data": {
      "text/plain": [
       "params_classifier\n",
       "LogisticRegression    0.693939\n",
       "RandomForest          0.764340\n",
       "SVM                   0.716017\n",
       "Name: value, dtype: float64"
      ]
     },
     "execution_count": 73,
     "metadata": {},
     "output_type": "execute_result"
    }
   ],
   "source": [
    "study.trials_dataframe().groupby('params_classifier')['value'].mean()"
   ]
  },
  {
   "cell_type": "markdown",
   "id": "26df1d9f",
   "metadata": {},
   "source": [
    "**Model testing**"
   ]
  },
  {
   "cell_type": "code",
   "execution_count": 101,
   "id": "0640f8af",
   "metadata": {},
   "outputs": [
    {
     "name": "stdout",
     "output_type": "stream",
     "text": [
      "Score : 0.7705627705627706\n",
      "              precision    recall  f1-score   support\n",
      "\n",
      "           0       0.79      0.88      0.83       151\n",
      "           1       0.71      0.56      0.63        80\n",
      "\n",
      "    accuracy                           0.77       231\n",
      "   macro avg       0.75      0.72      0.73       231\n",
      "weighted avg       0.76      0.77      0.76       231\n",
      "\n"
     ]
    }
   ],
   "source": [
    "best_param =  study.best_trial.params\n",
    "\n",
    "del  best_param[\"classifier\"]\n",
    "\n",
    "model =  RandomForestClassifier(**best_param)\n",
    "model.fit(x_train,y_train)\n",
    "\n",
    "print(\"Score :\",model.score(x_test,y_test))\n",
    "print(classification_report(y_test,model.predict(x_test)))\n"
   ]
  },
  {
   "cell_type": "markdown",
   "id": "79372a5e",
   "metadata": {},
   "source": [
    "**Visualization**"
   ]
  },
  {
   "cell_type": "code",
   "execution_count": 85,
   "id": "477857c9",
   "metadata": {},
   "outputs": [
    {
     "name": "stdout",
     "output_type": "stream",
     "text": [
      "After 65 Trials , trials are not needed\n"
     ]
    },
    {
     "data": {
      "application/vnd.plotly.v1+json": {
       "config": {
        "plotlyServerURL": "https://plot.ly"
       },
       "data": [
        {
         "mode": "markers",
         "name": "Objective Value",
         "type": "scatter",
         "x": [
          0,
          1,
          2,
          3,
          4,
          5,
          6,
          7,
          8,
          9,
          10,
          11,
          12,
          13,
          14,
          15,
          16,
          17,
          18,
          19,
          20,
          21,
          22,
          23,
          24,
          25,
          26,
          27,
          28,
          29,
          30,
          31,
          32,
          33,
          34,
          35,
          36,
          37,
          38,
          39,
          40,
          41,
          42,
          43,
          44,
          45,
          46,
          47,
          48,
          49,
          50,
          51,
          52,
          53,
          54,
          55,
          56,
          57,
          58,
          59,
          60,
          61,
          62,
          63,
          64,
          65,
          66,
          67,
          68,
          69,
          70,
          71,
          72,
          73,
          74,
          75,
          76,
          77,
          78,
          79,
          80,
          81,
          82,
          83,
          84,
          85,
          86,
          87,
          88,
          89,
          90,
          91,
          92,
          93,
          94,
          95,
          96,
          97,
          98,
          99
         ],
         "y": [
          0.7532467532467533,
          0.6536796536796536,
          0.7229437229437229,
          0.7316017316017316,
          0.7532467532467533,
          0.7489177489177489,
          0.7662337662337663,
          0.7532467532467533,
          0.7359307359307359,
          0.6536796536796536,
          0.7575757575757576,
          0.7532467532467533,
          0.7489177489177489,
          0.7532467532467533,
          0.7532467532467533,
          0.6320346320346321,
          0.7662337662337663,
          0.7575757575757576,
          0.7532467532467533,
          0.7445887445887446,
          0.7575757575757576,
          0.7575757575757576,
          0.7705627705627706,
          0.7619047619047619,
          0.7662337662337663,
          0.7662337662337663,
          0.7489177489177489,
          0.7575757575757576,
          0.7489177489177489,
          0.6536796536796536,
          0.7575757575757576,
          0.7619047619047619,
          0.7705627705627706,
          0.7532467532467533,
          0.7662337662337663,
          0.7445887445887446,
          0.6363636363636364,
          0.7619047619047619,
          0.7402597402597403,
          0.7662337662337663,
          0.7662337662337663,
          0.7619047619047619,
          0.7705627705627706,
          0.7662337662337663,
          0.7662337662337663,
          0.7705627705627706,
          0.6536796536796536,
          0.7316017316017316,
          0.7619047619047619,
          0.7662337662337663,
          0.7705627705627706,
          0.7705627705627706,
          0.7662337662337663,
          0.7619047619047619,
          0.7575757575757576,
          0.7575757575757576,
          0.7662337662337663,
          0.7445887445887446,
          0.7142857142857143,
          0.7532467532467533,
          0.7489177489177489,
          0.7575757575757576,
          0.7705627705627706,
          0.7705627705627706,
          0.7575757575757576,
          0.7792207792207793,
          0.7662337662337663,
          0.7575757575757576,
          0.7748917748917749,
          0.7662337662337663,
          0.7662337662337663,
          0.7748917748917749,
          0.7748917748917749,
          0.7619047619047619,
          0.7662337662337663,
          0.7705627705627706,
          0.70995670995671,
          0.7272727272727273,
          0.7748917748917749,
          0.7705627705627706,
          0.7532467532467533,
          0.7705627705627706,
          0.7748917748917749,
          0.7662337662337663,
          0.7705627705627706,
          0.7662337662337663,
          0.7662337662337663,
          0.7748917748917749,
          0.7662337662337663,
          0.6536796536796536,
          0.7792207792207793,
          0.7792207792207793,
          0.7748917748917749,
          0.7748917748917749,
          0.7792207792207793,
          0.7662337662337663,
          0.7792207792207793,
          0.7532467532467533,
          0.7705627705627706,
          0.7619047619047619
         ]
        },
        {
         "mode": "lines",
         "name": "Best Value",
         "type": "scatter",
         "x": [
          0,
          1,
          2,
          3,
          4,
          5,
          6,
          7,
          8,
          9,
          10,
          11,
          12,
          13,
          14,
          15,
          16,
          17,
          18,
          19,
          20,
          21,
          22,
          23,
          24,
          25,
          26,
          27,
          28,
          29,
          30,
          31,
          32,
          33,
          34,
          35,
          36,
          37,
          38,
          39,
          40,
          41,
          42,
          43,
          44,
          45,
          46,
          47,
          48,
          49,
          50,
          51,
          52,
          53,
          54,
          55,
          56,
          57,
          58,
          59,
          60,
          61,
          62,
          63,
          64,
          65,
          66,
          67,
          68,
          69,
          70,
          71,
          72,
          73,
          74,
          75,
          76,
          77,
          78,
          79,
          80,
          81,
          82,
          83,
          84,
          85,
          86,
          87,
          88,
          89,
          90,
          91,
          92,
          93,
          94,
          95,
          96,
          97,
          98,
          99
         ],
         "y": [
          0.7532467532467533,
          0.7532467532467533,
          0.7532467532467533,
          0.7532467532467533,
          0.7532467532467533,
          0.7532467532467533,
          0.7662337662337663,
          0.7662337662337663,
          0.7662337662337663,
          0.7662337662337663,
          0.7662337662337663,
          0.7662337662337663,
          0.7662337662337663,
          0.7662337662337663,
          0.7662337662337663,
          0.7662337662337663,
          0.7662337662337663,
          0.7662337662337663,
          0.7662337662337663,
          0.7662337662337663,
          0.7662337662337663,
          0.7662337662337663,
          0.7705627705627706,
          0.7705627705627706,
          0.7705627705627706,
          0.7705627705627706,
          0.7705627705627706,
          0.7705627705627706,
          0.7705627705627706,
          0.7705627705627706,
          0.7705627705627706,
          0.7705627705627706,
          0.7705627705627706,
          0.7705627705627706,
          0.7705627705627706,
          0.7705627705627706,
          0.7705627705627706,
          0.7705627705627706,
          0.7705627705627706,
          0.7705627705627706,
          0.7705627705627706,
          0.7705627705627706,
          0.7705627705627706,
          0.7705627705627706,
          0.7705627705627706,
          0.7705627705627706,
          0.7705627705627706,
          0.7705627705627706,
          0.7705627705627706,
          0.7705627705627706,
          0.7705627705627706,
          0.7705627705627706,
          0.7705627705627706,
          0.7705627705627706,
          0.7705627705627706,
          0.7705627705627706,
          0.7705627705627706,
          0.7705627705627706,
          0.7705627705627706,
          0.7705627705627706,
          0.7705627705627706,
          0.7705627705627706,
          0.7705627705627706,
          0.7705627705627706,
          0.7705627705627706,
          0.7792207792207793,
          0.7792207792207793,
          0.7792207792207793,
          0.7792207792207793,
          0.7792207792207793,
          0.7792207792207793,
          0.7792207792207793,
          0.7792207792207793,
          0.7792207792207793,
          0.7792207792207793,
          0.7792207792207793,
          0.7792207792207793,
          0.7792207792207793,
          0.7792207792207793,
          0.7792207792207793,
          0.7792207792207793,
          0.7792207792207793,
          0.7792207792207793,
          0.7792207792207793,
          0.7792207792207793,
          0.7792207792207793,
          0.7792207792207793,
          0.7792207792207793,
          0.7792207792207793,
          0.7792207792207793,
          0.7792207792207793,
          0.7792207792207793,
          0.7792207792207793,
          0.7792207792207793,
          0.7792207792207793,
          0.7792207792207793,
          0.7792207792207793,
          0.7792207792207793,
          0.7792207792207793,
          0.7792207792207793
         ]
        },
        {
         "marker": {
          "color": "#cccccc"
         },
         "mode": "markers",
         "name": "Infeasible Trial",
         "showlegend": false,
         "type": "scatter",
         "x": [],
         "y": []
        }
       ],
       "layout": {
        "template": {
         "data": {
          "bar": [
           {
            "error_x": {
             "color": "#2a3f5f"
            },
            "error_y": {
             "color": "#2a3f5f"
            },
            "marker": {
             "line": {
              "color": "#E5ECF6",
              "width": 0.5
             },
             "pattern": {
              "fillmode": "overlay",
              "size": 10,
              "solidity": 0.2
             }
            },
            "type": "bar"
           }
          ],
          "barpolar": [
           {
            "marker": {
             "line": {
              "color": "#E5ECF6",
              "width": 0.5
             },
             "pattern": {
              "fillmode": "overlay",
              "size": 10,
              "solidity": 0.2
             }
            },
            "type": "barpolar"
           }
          ],
          "carpet": [
           {
            "aaxis": {
             "endlinecolor": "#2a3f5f",
             "gridcolor": "white",
             "linecolor": "white",
             "minorgridcolor": "white",
             "startlinecolor": "#2a3f5f"
            },
            "baxis": {
             "endlinecolor": "#2a3f5f",
             "gridcolor": "white",
             "linecolor": "white",
             "minorgridcolor": "white",
             "startlinecolor": "#2a3f5f"
            },
            "type": "carpet"
           }
          ],
          "choropleth": [
           {
            "colorbar": {
             "outlinewidth": 0,
             "ticks": ""
            },
            "type": "choropleth"
           }
          ],
          "contour": [
           {
            "colorbar": {
             "outlinewidth": 0,
             "ticks": ""
            },
            "colorscale": [
             [
              0,
              "#0d0887"
             ],
             [
              0.1111111111111111,
              "#46039f"
             ],
             [
              0.2222222222222222,
              "#7201a8"
             ],
             [
              0.3333333333333333,
              "#9c179e"
             ],
             [
              0.4444444444444444,
              "#bd3786"
             ],
             [
              0.5555555555555556,
              "#d8576b"
             ],
             [
              0.6666666666666666,
              "#ed7953"
             ],
             [
              0.7777777777777778,
              "#fb9f3a"
             ],
             [
              0.8888888888888888,
              "#fdca26"
             ],
             [
              1,
              "#f0f921"
             ]
            ],
            "type": "contour"
           }
          ],
          "contourcarpet": [
           {
            "colorbar": {
             "outlinewidth": 0,
             "ticks": ""
            },
            "type": "contourcarpet"
           }
          ],
          "heatmap": [
           {
            "colorbar": {
             "outlinewidth": 0,
             "ticks": ""
            },
            "colorscale": [
             [
              0,
              "#0d0887"
             ],
             [
              0.1111111111111111,
              "#46039f"
             ],
             [
              0.2222222222222222,
              "#7201a8"
             ],
             [
              0.3333333333333333,
              "#9c179e"
             ],
             [
              0.4444444444444444,
              "#bd3786"
             ],
             [
              0.5555555555555556,
              "#d8576b"
             ],
             [
              0.6666666666666666,
              "#ed7953"
             ],
             [
              0.7777777777777778,
              "#fb9f3a"
             ],
             [
              0.8888888888888888,
              "#fdca26"
             ],
             [
              1,
              "#f0f921"
             ]
            ],
            "type": "heatmap"
           }
          ],
          "histogram": [
           {
            "marker": {
             "pattern": {
              "fillmode": "overlay",
              "size": 10,
              "solidity": 0.2
             }
            },
            "type": "histogram"
           }
          ],
          "histogram2d": [
           {
            "colorbar": {
             "outlinewidth": 0,
             "ticks": ""
            },
            "colorscale": [
             [
              0,
              "#0d0887"
             ],
             [
              0.1111111111111111,
              "#46039f"
             ],
             [
              0.2222222222222222,
              "#7201a8"
             ],
             [
              0.3333333333333333,
              "#9c179e"
             ],
             [
              0.4444444444444444,
              "#bd3786"
             ],
             [
              0.5555555555555556,
              "#d8576b"
             ],
             [
              0.6666666666666666,
              "#ed7953"
             ],
             [
              0.7777777777777778,
              "#fb9f3a"
             ],
             [
              0.8888888888888888,
              "#fdca26"
             ],
             [
              1,
              "#f0f921"
             ]
            ],
            "type": "histogram2d"
           }
          ],
          "histogram2dcontour": [
           {
            "colorbar": {
             "outlinewidth": 0,
             "ticks": ""
            },
            "colorscale": [
             [
              0,
              "#0d0887"
             ],
             [
              0.1111111111111111,
              "#46039f"
             ],
             [
              0.2222222222222222,
              "#7201a8"
             ],
             [
              0.3333333333333333,
              "#9c179e"
             ],
             [
              0.4444444444444444,
              "#bd3786"
             ],
             [
              0.5555555555555556,
              "#d8576b"
             ],
             [
              0.6666666666666666,
              "#ed7953"
             ],
             [
              0.7777777777777778,
              "#fb9f3a"
             ],
             [
              0.8888888888888888,
              "#fdca26"
             ],
             [
              1,
              "#f0f921"
             ]
            ],
            "type": "histogram2dcontour"
           }
          ],
          "mesh3d": [
           {
            "colorbar": {
             "outlinewidth": 0,
             "ticks": ""
            },
            "type": "mesh3d"
           }
          ],
          "parcoords": [
           {
            "line": {
             "colorbar": {
              "outlinewidth": 0,
              "ticks": ""
             }
            },
            "type": "parcoords"
           }
          ],
          "pie": [
           {
            "automargin": true,
            "type": "pie"
           }
          ],
          "scatter": [
           {
            "fillpattern": {
             "fillmode": "overlay",
             "size": 10,
             "solidity": 0.2
            },
            "type": "scatter"
           }
          ],
          "scatter3d": [
           {
            "line": {
             "colorbar": {
              "outlinewidth": 0,
              "ticks": ""
             }
            },
            "marker": {
             "colorbar": {
              "outlinewidth": 0,
              "ticks": ""
             }
            },
            "type": "scatter3d"
           }
          ],
          "scattercarpet": [
           {
            "marker": {
             "colorbar": {
              "outlinewidth": 0,
              "ticks": ""
             }
            },
            "type": "scattercarpet"
           }
          ],
          "scattergeo": [
           {
            "marker": {
             "colorbar": {
              "outlinewidth": 0,
              "ticks": ""
             }
            },
            "type": "scattergeo"
           }
          ],
          "scattergl": [
           {
            "marker": {
             "colorbar": {
              "outlinewidth": 0,
              "ticks": ""
             }
            },
            "type": "scattergl"
           }
          ],
          "scattermap": [
           {
            "marker": {
             "colorbar": {
              "outlinewidth": 0,
              "ticks": ""
             }
            },
            "type": "scattermap"
           }
          ],
          "scattermapbox": [
           {
            "marker": {
             "colorbar": {
              "outlinewidth": 0,
              "ticks": ""
             }
            },
            "type": "scattermapbox"
           }
          ],
          "scatterpolar": [
           {
            "marker": {
             "colorbar": {
              "outlinewidth": 0,
              "ticks": ""
             }
            },
            "type": "scatterpolar"
           }
          ],
          "scatterpolargl": [
           {
            "marker": {
             "colorbar": {
              "outlinewidth": 0,
              "ticks": ""
             }
            },
            "type": "scatterpolargl"
           }
          ],
          "scatterternary": [
           {
            "marker": {
             "colorbar": {
              "outlinewidth": 0,
              "ticks": ""
             }
            },
            "type": "scatterternary"
           }
          ],
          "surface": [
           {
            "colorbar": {
             "outlinewidth": 0,
             "ticks": ""
            },
            "colorscale": [
             [
              0,
              "#0d0887"
             ],
             [
              0.1111111111111111,
              "#46039f"
             ],
             [
              0.2222222222222222,
              "#7201a8"
             ],
             [
              0.3333333333333333,
              "#9c179e"
             ],
             [
              0.4444444444444444,
              "#bd3786"
             ],
             [
              0.5555555555555556,
              "#d8576b"
             ],
             [
              0.6666666666666666,
              "#ed7953"
             ],
             [
              0.7777777777777778,
              "#fb9f3a"
             ],
             [
              0.8888888888888888,
              "#fdca26"
             ],
             [
              1,
              "#f0f921"
             ]
            ],
            "type": "surface"
           }
          ],
          "table": [
           {
            "cells": {
             "fill": {
              "color": "#EBF0F8"
             },
             "line": {
              "color": "white"
             }
            },
            "header": {
             "fill": {
              "color": "#C8D4E3"
             },
             "line": {
              "color": "white"
             }
            },
            "type": "table"
           }
          ]
         },
         "layout": {
          "annotationdefaults": {
           "arrowcolor": "#2a3f5f",
           "arrowhead": 0,
           "arrowwidth": 1
          },
          "autotypenumbers": "strict",
          "coloraxis": {
           "colorbar": {
            "outlinewidth": 0,
            "ticks": ""
           }
          },
          "colorscale": {
           "diverging": [
            [
             0,
             "#8e0152"
            ],
            [
             0.1,
             "#c51b7d"
            ],
            [
             0.2,
             "#de77ae"
            ],
            [
             0.3,
             "#f1b6da"
            ],
            [
             0.4,
             "#fde0ef"
            ],
            [
             0.5,
             "#f7f7f7"
            ],
            [
             0.6,
             "#e6f5d0"
            ],
            [
             0.7,
             "#b8e186"
            ],
            [
             0.8,
             "#7fbc41"
            ],
            [
             0.9,
             "#4d9221"
            ],
            [
             1,
             "#276419"
            ]
           ],
           "sequential": [
            [
             0,
             "#0d0887"
            ],
            [
             0.1111111111111111,
             "#46039f"
            ],
            [
             0.2222222222222222,
             "#7201a8"
            ],
            [
             0.3333333333333333,
             "#9c179e"
            ],
            [
             0.4444444444444444,
             "#bd3786"
            ],
            [
             0.5555555555555556,
             "#d8576b"
            ],
            [
             0.6666666666666666,
             "#ed7953"
            ],
            [
             0.7777777777777778,
             "#fb9f3a"
            ],
            [
             0.8888888888888888,
             "#fdca26"
            ],
            [
             1,
             "#f0f921"
            ]
           ],
           "sequentialminus": [
            [
             0,
             "#0d0887"
            ],
            [
             0.1111111111111111,
             "#46039f"
            ],
            [
             0.2222222222222222,
             "#7201a8"
            ],
            [
             0.3333333333333333,
             "#9c179e"
            ],
            [
             0.4444444444444444,
             "#bd3786"
            ],
            [
             0.5555555555555556,
             "#d8576b"
            ],
            [
             0.6666666666666666,
             "#ed7953"
            ],
            [
             0.7777777777777778,
             "#fb9f3a"
            ],
            [
             0.8888888888888888,
             "#fdca26"
            ],
            [
             1,
             "#f0f921"
            ]
           ]
          },
          "colorway": [
           "#636efa",
           "#EF553B",
           "#00cc96",
           "#ab63fa",
           "#FFA15A",
           "#19d3f3",
           "#FF6692",
           "#B6E880",
           "#FF97FF",
           "#FECB52"
          ],
          "font": {
           "color": "#2a3f5f"
          },
          "geo": {
           "bgcolor": "white",
           "lakecolor": "white",
           "landcolor": "#E5ECF6",
           "showlakes": true,
           "showland": true,
           "subunitcolor": "white"
          },
          "hoverlabel": {
           "align": "left"
          },
          "hovermode": "closest",
          "mapbox": {
           "style": "light"
          },
          "paper_bgcolor": "white",
          "plot_bgcolor": "#E5ECF6",
          "polar": {
           "angularaxis": {
            "gridcolor": "white",
            "linecolor": "white",
            "ticks": ""
           },
           "bgcolor": "#E5ECF6",
           "radialaxis": {
            "gridcolor": "white",
            "linecolor": "white",
            "ticks": ""
           }
          },
          "scene": {
           "xaxis": {
            "backgroundcolor": "#E5ECF6",
            "gridcolor": "white",
            "gridwidth": 2,
            "linecolor": "white",
            "showbackground": true,
            "ticks": "",
            "zerolinecolor": "white"
           },
           "yaxis": {
            "backgroundcolor": "#E5ECF6",
            "gridcolor": "white",
            "gridwidth": 2,
            "linecolor": "white",
            "showbackground": true,
            "ticks": "",
            "zerolinecolor": "white"
           },
           "zaxis": {
            "backgroundcolor": "#E5ECF6",
            "gridcolor": "white",
            "gridwidth": 2,
            "linecolor": "white",
            "showbackground": true,
            "ticks": "",
            "zerolinecolor": "white"
           }
          },
          "shapedefaults": {
           "line": {
            "color": "#2a3f5f"
           }
          },
          "ternary": {
           "aaxis": {
            "gridcolor": "white",
            "linecolor": "white",
            "ticks": ""
           },
           "baxis": {
            "gridcolor": "white",
            "linecolor": "white",
            "ticks": ""
           },
           "bgcolor": "#E5ECF6",
           "caxis": {
            "gridcolor": "white",
            "linecolor": "white",
            "ticks": ""
           }
          },
          "title": {
           "x": 0.05
          },
          "xaxis": {
           "automargin": true,
           "gridcolor": "white",
           "linecolor": "white",
           "ticks": "",
           "title": {
            "standoff": 15
           },
           "zerolinecolor": "white",
           "zerolinewidth": 2
          },
          "yaxis": {
           "automargin": true,
           "gridcolor": "white",
           "linecolor": "white",
           "ticks": "",
           "title": {
            "standoff": 15
           },
           "zerolinecolor": "white",
           "zerolinewidth": 2
          }
         }
        },
        "title": {
         "text": "Optimization History Plot"
        },
        "xaxis": {
         "title": {
          "text": "Trial"
         }
        },
        "yaxis": {
         "title": {
          "text": "Objective Value"
         }
        }
       }
      }
     },
     "metadata": {},
     "output_type": "display_data"
    }
   ],
   "source": [
    "print(f\"After {study.best_trial.number} Trials , trials are not needed\")\n",
    "plot_optimization_history(study).show()"
   ]
  },
  {
   "cell_type": "code",
   "execution_count": 86,
   "id": "3c749868",
   "metadata": {},
   "outputs": [
    {
     "data": {
      "application/vnd.plotly.v1+json": {
       "config": {
        "plotlyServerURL": "https://plot.ly"
       },
       "data": [
        {
         "cliponaxis": false,
         "hovertemplate": [
          "classifier (CategoricalDistribution): 1.0<extra></extra>"
         ],
         "name": "Objective Value",
         "orientation": "h",
         "text": [
          "1.00"
         ],
         "textposition": "outside",
         "type": "bar",
         "x": [
          1
         ],
         "y": [
          "classifier"
         ]
        }
       ],
       "layout": {
        "template": {
         "data": {
          "bar": [
           {
            "error_x": {
             "color": "#2a3f5f"
            },
            "error_y": {
             "color": "#2a3f5f"
            },
            "marker": {
             "line": {
              "color": "#E5ECF6",
              "width": 0.5
             },
             "pattern": {
              "fillmode": "overlay",
              "size": 10,
              "solidity": 0.2
             }
            },
            "type": "bar"
           }
          ],
          "barpolar": [
           {
            "marker": {
             "line": {
              "color": "#E5ECF6",
              "width": 0.5
             },
             "pattern": {
              "fillmode": "overlay",
              "size": 10,
              "solidity": 0.2
             }
            },
            "type": "barpolar"
           }
          ],
          "carpet": [
           {
            "aaxis": {
             "endlinecolor": "#2a3f5f",
             "gridcolor": "white",
             "linecolor": "white",
             "minorgridcolor": "white",
             "startlinecolor": "#2a3f5f"
            },
            "baxis": {
             "endlinecolor": "#2a3f5f",
             "gridcolor": "white",
             "linecolor": "white",
             "minorgridcolor": "white",
             "startlinecolor": "#2a3f5f"
            },
            "type": "carpet"
           }
          ],
          "choropleth": [
           {
            "colorbar": {
             "outlinewidth": 0,
             "ticks": ""
            },
            "type": "choropleth"
           }
          ],
          "contour": [
           {
            "colorbar": {
             "outlinewidth": 0,
             "ticks": ""
            },
            "colorscale": [
             [
              0,
              "#0d0887"
             ],
             [
              0.1111111111111111,
              "#46039f"
             ],
             [
              0.2222222222222222,
              "#7201a8"
             ],
             [
              0.3333333333333333,
              "#9c179e"
             ],
             [
              0.4444444444444444,
              "#bd3786"
             ],
             [
              0.5555555555555556,
              "#d8576b"
             ],
             [
              0.6666666666666666,
              "#ed7953"
             ],
             [
              0.7777777777777778,
              "#fb9f3a"
             ],
             [
              0.8888888888888888,
              "#fdca26"
             ],
             [
              1,
              "#f0f921"
             ]
            ],
            "type": "contour"
           }
          ],
          "contourcarpet": [
           {
            "colorbar": {
             "outlinewidth": 0,
             "ticks": ""
            },
            "type": "contourcarpet"
           }
          ],
          "heatmap": [
           {
            "colorbar": {
             "outlinewidth": 0,
             "ticks": ""
            },
            "colorscale": [
             [
              0,
              "#0d0887"
             ],
             [
              0.1111111111111111,
              "#46039f"
             ],
             [
              0.2222222222222222,
              "#7201a8"
             ],
             [
              0.3333333333333333,
              "#9c179e"
             ],
             [
              0.4444444444444444,
              "#bd3786"
             ],
             [
              0.5555555555555556,
              "#d8576b"
             ],
             [
              0.6666666666666666,
              "#ed7953"
             ],
             [
              0.7777777777777778,
              "#fb9f3a"
             ],
             [
              0.8888888888888888,
              "#fdca26"
             ],
             [
              1,
              "#f0f921"
             ]
            ],
            "type": "heatmap"
           }
          ],
          "histogram": [
           {
            "marker": {
             "pattern": {
              "fillmode": "overlay",
              "size": 10,
              "solidity": 0.2
             }
            },
            "type": "histogram"
           }
          ],
          "histogram2d": [
           {
            "colorbar": {
             "outlinewidth": 0,
             "ticks": ""
            },
            "colorscale": [
             [
              0,
              "#0d0887"
             ],
             [
              0.1111111111111111,
              "#46039f"
             ],
             [
              0.2222222222222222,
              "#7201a8"
             ],
             [
              0.3333333333333333,
              "#9c179e"
             ],
             [
              0.4444444444444444,
              "#bd3786"
             ],
             [
              0.5555555555555556,
              "#d8576b"
             ],
             [
              0.6666666666666666,
              "#ed7953"
             ],
             [
              0.7777777777777778,
              "#fb9f3a"
             ],
             [
              0.8888888888888888,
              "#fdca26"
             ],
             [
              1,
              "#f0f921"
             ]
            ],
            "type": "histogram2d"
           }
          ],
          "histogram2dcontour": [
           {
            "colorbar": {
             "outlinewidth": 0,
             "ticks": ""
            },
            "colorscale": [
             [
              0,
              "#0d0887"
             ],
             [
              0.1111111111111111,
              "#46039f"
             ],
             [
              0.2222222222222222,
              "#7201a8"
             ],
             [
              0.3333333333333333,
              "#9c179e"
             ],
             [
              0.4444444444444444,
              "#bd3786"
             ],
             [
              0.5555555555555556,
              "#d8576b"
             ],
             [
              0.6666666666666666,
              "#ed7953"
             ],
             [
              0.7777777777777778,
              "#fb9f3a"
             ],
             [
              0.8888888888888888,
              "#fdca26"
             ],
             [
              1,
              "#f0f921"
             ]
            ],
            "type": "histogram2dcontour"
           }
          ],
          "mesh3d": [
           {
            "colorbar": {
             "outlinewidth": 0,
             "ticks": ""
            },
            "type": "mesh3d"
           }
          ],
          "parcoords": [
           {
            "line": {
             "colorbar": {
              "outlinewidth": 0,
              "ticks": ""
             }
            },
            "type": "parcoords"
           }
          ],
          "pie": [
           {
            "automargin": true,
            "type": "pie"
           }
          ],
          "scatter": [
           {
            "fillpattern": {
             "fillmode": "overlay",
             "size": 10,
             "solidity": 0.2
            },
            "type": "scatter"
           }
          ],
          "scatter3d": [
           {
            "line": {
             "colorbar": {
              "outlinewidth": 0,
              "ticks": ""
             }
            },
            "marker": {
             "colorbar": {
              "outlinewidth": 0,
              "ticks": ""
             }
            },
            "type": "scatter3d"
           }
          ],
          "scattercarpet": [
           {
            "marker": {
             "colorbar": {
              "outlinewidth": 0,
              "ticks": ""
             }
            },
            "type": "scattercarpet"
           }
          ],
          "scattergeo": [
           {
            "marker": {
             "colorbar": {
              "outlinewidth": 0,
              "ticks": ""
             }
            },
            "type": "scattergeo"
           }
          ],
          "scattergl": [
           {
            "marker": {
             "colorbar": {
              "outlinewidth": 0,
              "ticks": ""
             }
            },
            "type": "scattergl"
           }
          ],
          "scattermap": [
           {
            "marker": {
             "colorbar": {
              "outlinewidth": 0,
              "ticks": ""
             }
            },
            "type": "scattermap"
           }
          ],
          "scattermapbox": [
           {
            "marker": {
             "colorbar": {
              "outlinewidth": 0,
              "ticks": ""
             }
            },
            "type": "scattermapbox"
           }
          ],
          "scatterpolar": [
           {
            "marker": {
             "colorbar": {
              "outlinewidth": 0,
              "ticks": ""
             }
            },
            "type": "scatterpolar"
           }
          ],
          "scatterpolargl": [
           {
            "marker": {
             "colorbar": {
              "outlinewidth": 0,
              "ticks": ""
             }
            },
            "type": "scatterpolargl"
           }
          ],
          "scatterternary": [
           {
            "marker": {
             "colorbar": {
              "outlinewidth": 0,
              "ticks": ""
             }
            },
            "type": "scatterternary"
           }
          ],
          "surface": [
           {
            "colorbar": {
             "outlinewidth": 0,
             "ticks": ""
            },
            "colorscale": [
             [
              0,
              "#0d0887"
             ],
             [
              0.1111111111111111,
              "#46039f"
             ],
             [
              0.2222222222222222,
              "#7201a8"
             ],
             [
              0.3333333333333333,
              "#9c179e"
             ],
             [
              0.4444444444444444,
              "#bd3786"
             ],
             [
              0.5555555555555556,
              "#d8576b"
             ],
             [
              0.6666666666666666,
              "#ed7953"
             ],
             [
              0.7777777777777778,
              "#fb9f3a"
             ],
             [
              0.8888888888888888,
              "#fdca26"
             ],
             [
              1,
              "#f0f921"
             ]
            ],
            "type": "surface"
           }
          ],
          "table": [
           {
            "cells": {
             "fill": {
              "color": "#EBF0F8"
             },
             "line": {
              "color": "white"
             }
            },
            "header": {
             "fill": {
              "color": "#C8D4E3"
             },
             "line": {
              "color": "white"
             }
            },
            "type": "table"
           }
          ]
         },
         "layout": {
          "annotationdefaults": {
           "arrowcolor": "#2a3f5f",
           "arrowhead": 0,
           "arrowwidth": 1
          },
          "autotypenumbers": "strict",
          "coloraxis": {
           "colorbar": {
            "outlinewidth": 0,
            "ticks": ""
           }
          },
          "colorscale": {
           "diverging": [
            [
             0,
             "#8e0152"
            ],
            [
             0.1,
             "#c51b7d"
            ],
            [
             0.2,
             "#de77ae"
            ],
            [
             0.3,
             "#f1b6da"
            ],
            [
             0.4,
             "#fde0ef"
            ],
            [
             0.5,
             "#f7f7f7"
            ],
            [
             0.6,
             "#e6f5d0"
            ],
            [
             0.7,
             "#b8e186"
            ],
            [
             0.8,
             "#7fbc41"
            ],
            [
             0.9,
             "#4d9221"
            ],
            [
             1,
             "#276419"
            ]
           ],
           "sequential": [
            [
             0,
             "#0d0887"
            ],
            [
             0.1111111111111111,
             "#46039f"
            ],
            [
             0.2222222222222222,
             "#7201a8"
            ],
            [
             0.3333333333333333,
             "#9c179e"
            ],
            [
             0.4444444444444444,
             "#bd3786"
            ],
            [
             0.5555555555555556,
             "#d8576b"
            ],
            [
             0.6666666666666666,
             "#ed7953"
            ],
            [
             0.7777777777777778,
             "#fb9f3a"
            ],
            [
             0.8888888888888888,
             "#fdca26"
            ],
            [
             1,
             "#f0f921"
            ]
           ],
           "sequentialminus": [
            [
             0,
             "#0d0887"
            ],
            [
             0.1111111111111111,
             "#46039f"
            ],
            [
             0.2222222222222222,
             "#7201a8"
            ],
            [
             0.3333333333333333,
             "#9c179e"
            ],
            [
             0.4444444444444444,
             "#bd3786"
            ],
            [
             0.5555555555555556,
             "#d8576b"
            ],
            [
             0.6666666666666666,
             "#ed7953"
            ],
            [
             0.7777777777777778,
             "#fb9f3a"
            ],
            [
             0.8888888888888888,
             "#fdca26"
            ],
            [
             1,
             "#f0f921"
            ]
           ]
          },
          "colorway": [
           "#636efa",
           "#EF553B",
           "#00cc96",
           "#ab63fa",
           "#FFA15A",
           "#19d3f3",
           "#FF6692",
           "#B6E880",
           "#FF97FF",
           "#FECB52"
          ],
          "font": {
           "color": "#2a3f5f"
          },
          "geo": {
           "bgcolor": "white",
           "lakecolor": "white",
           "landcolor": "#E5ECF6",
           "showlakes": true,
           "showland": true,
           "subunitcolor": "white"
          },
          "hoverlabel": {
           "align": "left"
          },
          "hovermode": "closest",
          "mapbox": {
           "style": "light"
          },
          "paper_bgcolor": "white",
          "plot_bgcolor": "#E5ECF6",
          "polar": {
           "angularaxis": {
            "gridcolor": "white",
            "linecolor": "white",
            "ticks": ""
           },
           "bgcolor": "#E5ECF6",
           "radialaxis": {
            "gridcolor": "white",
            "linecolor": "white",
            "ticks": ""
           }
          },
          "scene": {
           "xaxis": {
            "backgroundcolor": "#E5ECF6",
            "gridcolor": "white",
            "gridwidth": 2,
            "linecolor": "white",
            "showbackground": true,
            "ticks": "",
            "zerolinecolor": "white"
           },
           "yaxis": {
            "backgroundcolor": "#E5ECF6",
            "gridcolor": "white",
            "gridwidth": 2,
            "linecolor": "white",
            "showbackground": true,
            "ticks": "",
            "zerolinecolor": "white"
           },
           "zaxis": {
            "backgroundcolor": "#E5ECF6",
            "gridcolor": "white",
            "gridwidth": 2,
            "linecolor": "white",
            "showbackground": true,
            "ticks": "",
            "zerolinecolor": "white"
           }
          },
          "shapedefaults": {
           "line": {
            "color": "#2a3f5f"
           }
          },
          "ternary": {
           "aaxis": {
            "gridcolor": "white",
            "linecolor": "white",
            "ticks": ""
           },
           "baxis": {
            "gridcolor": "white",
            "linecolor": "white",
            "ticks": ""
           },
           "bgcolor": "#E5ECF6",
           "caxis": {
            "gridcolor": "white",
            "linecolor": "white",
            "ticks": ""
           }
          },
          "title": {
           "x": 0.05
          },
          "xaxis": {
           "automargin": true,
           "gridcolor": "white",
           "linecolor": "white",
           "ticks": "",
           "title": {
            "standoff": 15
           },
           "zerolinecolor": "white",
           "zerolinewidth": 2
          },
          "yaxis": {
           "automargin": true,
           "gridcolor": "white",
           "linecolor": "white",
           "ticks": "",
           "title": {
            "standoff": 15
           },
           "zerolinecolor": "white",
           "zerolinewidth": 2
          }
         }
        },
        "title": {
         "text": "Hyperparameter Importances"
        },
        "xaxis": {
         "title": {
          "text": "Hyperparameter Importance"
         }
        },
        "yaxis": {
         "title": {
          "text": "Hyperparameter"
         }
        }
       }
      }
     },
     "metadata": {},
     "output_type": "display_data"
    }
   ],
   "source": [
    "plot_param_importances(study).show()"
   ]
  }
 ],
 "metadata": {
  "kernelspec": {
   "display_name": "Python 3",
   "language": "python",
   "name": "python3"
  },
  "language_info": {
   "codemirror_mode": {
    "name": "ipython",
    "version": 3
   },
   "file_extension": ".py",
   "mimetype": "text/x-python",
   "name": "python",
   "nbconvert_exporter": "python",
   "pygments_lexer": "ipython3",
   "version": "3.11.9"
  }
 },
 "nbformat": 4,
 "nbformat_minor": 5
}
