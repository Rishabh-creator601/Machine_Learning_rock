{
 "cells": [
  {
   "cell_type": "code",
   "execution_count": 4,
   "id": "c2bdc842-aca7-45f4-bccc-1a24430319fc",
   "metadata": {},
   "outputs": [],
   "source": [
    "from sklearn.preprocessing import OrdinalEncoder,LabelEncoder,OneHotEncoder\n",
    "from sklearn.model_selection import train_test_split\n",
    "import pandas as pd; import numpy as np\n",
    "from seedtools.seed_file import load_seed\n",
    "from seedtools import configure_data_path,DATA_PATH"
   ]
  },
  {
   "cell_type": "code",
   "execution_count": 5,
   "id": "3b3724fd-7c1c-4f60-b3e2-e1b8b1c791d3",
   "metadata": {},
   "outputs": [],
   "source": [
    "data = load_seed(\"adult.csv\",quiet=True).data\n",
    "data =  data.drop(columns=[\"Age\",\"fnlgwt\",\"Education Num\",\"Capital Loss\",\"Hours/Week\",\"Capital Gain\"])"
   ]
  },
  {
   "cell_type": "code",
   "execution_count": 6,
   "id": "e4a55fa6-489d-4c5b-8941-213371f1e974",
   "metadata": {},
   "outputs": [
    {
     "data": {
      "text/html": [
       "<div>\n",
       "<style scoped>\n",
       "    .dataframe tbody tr th:only-of-type {\n",
       "        vertical-align: middle;\n",
       "    }\n",
       "\n",
       "    .dataframe tbody tr th {\n",
       "        vertical-align: top;\n",
       "    }\n",
       "\n",
       "    .dataframe thead th {\n",
       "        text-align: right;\n",
       "    }\n",
       "</style>\n",
       "<table border=\"1\" class=\"dataframe\">\n",
       "  <thead>\n",
       "    <tr style=\"text-align: right;\">\n",
       "      <th></th>\n",
       "      <th>Workclass</th>\n",
       "      <th>Education</th>\n",
       "      <th>Marital Status</th>\n",
       "      <th>Occupation</th>\n",
       "      <th>Relationship</th>\n",
       "      <th>Race</th>\n",
       "      <th>Sex</th>\n",
       "      <th>Country</th>\n",
       "      <th>Above/Below 50k</th>\n",
       "    </tr>\n",
       "  </thead>\n",
       "  <tbody>\n",
       "    <tr>\n",
       "      <th>0</th>\n",
       "      <td>State-gov</td>\n",
       "      <td>Bachelors</td>\n",
       "      <td>Never-married</td>\n",
       "      <td>Adm-clerical</td>\n",
       "      <td>Not-in-family</td>\n",
       "      <td>White</td>\n",
       "      <td>Male</td>\n",
       "      <td>United-States</td>\n",
       "      <td>&lt;=50K</td>\n",
       "    </tr>\n",
       "    <tr>\n",
       "      <th>1</th>\n",
       "      <td>Self-emp-not-inc</td>\n",
       "      <td>Bachelors</td>\n",
       "      <td>Married-civ-spouse</td>\n",
       "      <td>Exec-managerial</td>\n",
       "      <td>Husband</td>\n",
       "      <td>White</td>\n",
       "      <td>Male</td>\n",
       "      <td>United-States</td>\n",
       "      <td>&lt;=50K</td>\n",
       "    </tr>\n",
       "    <tr>\n",
       "      <th>2</th>\n",
       "      <td>Private</td>\n",
       "      <td>HS-grad</td>\n",
       "      <td>Divorced</td>\n",
       "      <td>Handlers-cleaners</td>\n",
       "      <td>Not-in-family</td>\n",
       "      <td>White</td>\n",
       "      <td>Male</td>\n",
       "      <td>United-States</td>\n",
       "      <td>&lt;=50K</td>\n",
       "    </tr>\n",
       "    <tr>\n",
       "      <th>3</th>\n",
       "      <td>Private</td>\n",
       "      <td>11th</td>\n",
       "      <td>Married-civ-spouse</td>\n",
       "      <td>Handlers-cleaners</td>\n",
       "      <td>Husband</td>\n",
       "      <td>Black</td>\n",
       "      <td>Male</td>\n",
       "      <td>United-States</td>\n",
       "      <td>&lt;=50K</td>\n",
       "    </tr>\n",
       "    <tr>\n",
       "      <th>4</th>\n",
       "      <td>Private</td>\n",
       "      <td>Bachelors</td>\n",
       "      <td>Married-civ-spouse</td>\n",
       "      <td>Prof-specialty</td>\n",
       "      <td>Wife</td>\n",
       "      <td>Black</td>\n",
       "      <td>Female</td>\n",
       "      <td>Cuba</td>\n",
       "      <td>&lt;=50K</td>\n",
       "    </tr>\n",
       "  </tbody>\n",
       "</table>\n",
       "</div>"
      ],
      "text/plain": [
       "           Workclass   Education       Marital Status          Occupation  \\\n",
       "0          State-gov   Bachelors        Never-married        Adm-clerical   \n",
       "1   Self-emp-not-inc   Bachelors   Married-civ-spouse     Exec-managerial   \n",
       "2            Private     HS-grad             Divorced   Handlers-cleaners   \n",
       "3            Private        11th   Married-civ-spouse   Handlers-cleaners   \n",
       "4            Private   Bachelors   Married-civ-spouse      Prof-specialty   \n",
       "\n",
       "     Relationship    Race      Sex         Country Above/Below 50k  \n",
       "0   Not-in-family   White     Male   United-States           <=50K  \n",
       "1         Husband   White     Male   United-States           <=50K  \n",
       "2   Not-in-family   White     Male   United-States           <=50K  \n",
       "3         Husband   Black     Male   United-States           <=50K  \n",
       "4            Wife   Black   Female            Cuba           <=50K  "
      ]
     },
     "execution_count": 6,
     "metadata": {},
     "output_type": "execute_result"
    }
   ],
   "source": [
    "data.head()"
   ]
  },
  {
   "cell_type": "code",
   "execution_count": 7,
   "id": "600aad37-1fdb-4bcf-8e10-f653adf35a3c",
   "metadata": {},
   "outputs": [
    {
     "data": {
      "text/plain": [
       "array([' White', ' Black', ' Asian-Pac-Islander', ' Amer-Indian-Eskimo',\n",
       "       ' Other'], dtype=object)"
      ]
     },
     "execution_count": 7,
     "metadata": {},
     "output_type": "execute_result"
    }
   ],
   "source": [
    "data[\"Race\"].unique()"
   ]
  },
  {
   "cell_type": "code",
   "execution_count": 8,
   "id": "62e8b18f-84cb-456d-bf5b-60a1198ef862",
   "metadata": {},
   "outputs": [],
   "source": [
    "x_train,x_test,y_train,y_test = train_test_split(data.drop(columns=[\"Above/Below 50k\"],axis=1),data[\"Above/Below 50k\"],test_size=0.2)"
   ]
  },
  {
   "cell_type": "markdown",
   "id": "c9036595-2a31-4df8-af0c-8b20ebfaa6a4",
   "metadata": {
    "jp-MarkdownHeadingCollapsed": true
   },
   "source": [
    "#### LABEL ENCODER :  use only for Target columns not features "
   ]
  },
  {
   "cell_type": "code",
   "execution_count": 9,
   "id": "4db249fb-665e-411b-9217-2ce3c2438829",
   "metadata": {},
   "outputs": [],
   "source": [
    "le = LabelEncoder()\n",
    "le.fit(y_train)\n",
    "y_train = le.transform(y_train)\n",
    "y_test =  le.transform(y_test)"
   ]
  },
  {
   "cell_type": "code",
   "execution_count": 10,
   "id": "bedc0633-5c1a-43b0-bcca-a02dc56478f6",
   "metadata": {},
   "outputs": [
    {
     "data": {
      "text/plain": [
       "array([' <=50K', ' >50K'], dtype=object)"
      ]
     },
     "execution_count": 10,
     "metadata": {},
     "output_type": "execute_result"
    }
   ],
   "source": [
    "le.classes_"
   ]
  },
  {
   "cell_type": "code",
   "execution_count": 11,
   "id": "a4cab172-3342-4cb6-b7e6-a531bb828169",
   "metadata": {},
   "outputs": [
    {
     "data": {
      "text/plain": [
       "array([0, 1, 0, 0, 0, 0, 1, 0, 1, 0, 1, 0, 0, 0, 0, 0, 0, 0, 0, 1])"
      ]
     },
     "execution_count": 11,
     "metadata": {},
     "output_type": "execute_result"
    }
   ],
   "source": [
    "y_train[:20]"
   ]
  },
  {
   "cell_type": "markdown",
   "id": "fbe58668-c66c-48e0-86d5-bec8ee1581ce",
   "metadata": {},
   "source": [
    "#### ORDINAL ENCODING \n",
    "##### It gives number based on value/importance like poor-> 0 good->1 great-> 2"
   ]
  },
  {
   "cell_type": "code",
   "execution_count": 12,
   "id": "3ff6ee08-d224-483b-80c8-fd9f9655e2d5",
   "metadata": {},
   "outputs": [
    {
     "name": "stderr",
     "output_type": "stream",
     "text": [
      "C:\\Users\\RISHABH\\AppData\\Local\\Temp\\ipykernel_10032\\745457477.py:2: FutureWarning: A value is trying to be set on a copy of a DataFrame or Series through chained assignment using an inplace method.\n",
      "The behavior will change in pandas 3.0. This inplace method will never work because the intermediate object on which we are setting values always behaves as a copy.\n",
      "\n",
      "For example, when doing 'df[col].method(value, inplace=True)', try using 'df.method({col: value}, inplace=True)' or df[col] = df[col].method(value) instead, to perform the operation inplace on the original object.\n",
      "\n",
      "\n",
      "  df.Race.replace({\" Asian-Pac-Islander\":\"Other\",\" Amer-Indian-Eskimo\":\"Other\",\" Other\":\"Other\"},inplace=True)\n",
      "C:\\Users\\RISHABH\\AppData\\Local\\Temp\\ipykernel_10032\\745457477.py:2: SettingWithCopyWarning: \n",
      "A value is trying to be set on a copy of a slice from a DataFrame\n",
      "\n",
      "See the caveats in the documentation: https://pandas.pydata.org/pandas-docs/stable/user_guide/indexing.html#returning-a-view-versus-a-copy\n",
      "  df.Race.replace({\" Asian-Pac-Islander\":\"Other\",\" Amer-Indian-Eskimo\":\"Other\",\" Other\":\"Other\"},inplace=True)\n",
      "C:\\Users\\RISHABH\\AppData\\Local\\Temp\\ipykernel_10032\\745457477.py:3: FutureWarning: A value is trying to be set on a copy of a DataFrame or Series through chained assignment using an inplace method.\n",
      "The behavior will change in pandas 3.0. This inplace method will never work because the intermediate object on which we are setting values always behaves as a copy.\n",
      "\n",
      "For example, when doing 'df[col].method(value, inplace=True)', try using 'df.method({col: value}, inplace=True)' or df[col] = df[col].method(value) instead, to perform the operation inplace on the original object.\n",
      "\n",
      "\n",
      "  df.Workclass.replace({\" State-gov\":\"gov\",\" Local-gov\":\"gov\",\" Federal-gov\":\"gov\",\n",
      "C:\\Users\\RISHABH\\AppData\\Local\\Temp\\ipykernel_10032\\745457477.py:3: SettingWithCopyWarning: \n",
      "A value is trying to be set on a copy of a slice from a DataFrame\n",
      "\n",
      "See the caveats in the documentation: https://pandas.pydata.org/pandas-docs/stable/user_guide/indexing.html#returning-a-view-versus-a-copy\n",
      "  df.Workclass.replace({\" State-gov\":\"gov\",\" Local-gov\":\"gov\",\" Federal-gov\":\"gov\",\n"
     ]
    }
   ],
   "source": [
    "df = data[[\"Race\",\"Workclass\",\"Above/Below 50k\"]]\n",
    "df.Race.replace({\" Asian-Pac-Islander\":\"Other\",\" Amer-Indian-Eskimo\":\"Other\",\" Other\":\"Other\"},inplace=True)\n",
    "df.Workclass.replace({\" State-gov\":\"gov\",\" Local-gov\":\"gov\",\" Federal-gov\":\"gov\",\n",
    "                     \" Never-worked\":\"unemployed\",\" Without-pay\":\"unemployed\",\n",
    "                     \" Private\":\"other\",\" Self-emp-inc\":\"other\",\" Self-emp-not-inc\":\"other\",' ?':\"other\"},inplace=True)"
   ]
  },
  {
   "cell_type": "code",
   "execution_count": 13,
   "id": "f46c394a-4797-48d5-9c9a-6a5c71d778e2",
   "metadata": {},
   "outputs": [],
   "source": [
    "x_train,x_test,y_train,y_test =  train_test_split(df.drop(columns=[\"Above/Below 50k\"],axis=1),df[\"Above/Below 50k\"])"
   ]
  },
  {
   "cell_type": "code",
   "execution_count": 14,
   "id": "a2727f15-6554-4c10-b18b-f7f873da905b",
   "metadata": {},
   "outputs": [],
   "source": [
    "oe = OrdinalEncoder(categories=[[\"Other\",\" Black\",\" White\"],[\"unemployed\",\"gov\",\"other\"]])"
   ]
  },
  {
   "cell_type": "code",
   "execution_count": 15,
   "id": "69d4b810-4469-49cd-b143-5b78c46cfd94",
   "metadata": {},
   "outputs": [],
   "source": [
    "x_train_trans  = oe.fit_transform(x_train)\n"
   ]
  },
  {
   "cell_type": "code",
   "execution_count": 16,
   "id": "d60b6486-dcef-4895-886d-15261d63b83d",
   "metadata": {},
   "outputs": [
    {
     "data": {
      "text/html": [
       "<div>\n",
       "<style scoped>\n",
       "    .dataframe tbody tr th:only-of-type {\n",
       "        vertical-align: middle;\n",
       "    }\n",
       "\n",
       "    .dataframe tbody tr th {\n",
       "        vertical-align: top;\n",
       "    }\n",
       "\n",
       "    .dataframe thead th {\n",
       "        text-align: right;\n",
       "    }\n",
       "</style>\n",
       "<table border=\"1\" class=\"dataframe\">\n",
       "  <thead>\n",
       "    <tr style=\"text-align: right;\">\n",
       "      <th></th>\n",
       "      <th>Race</th>\n",
       "      <th>Employed</th>\n",
       "    </tr>\n",
       "  </thead>\n",
       "  <tbody>\n",
       "    <tr>\n",
       "      <th>0</th>\n",
       "      <td>2.0</td>\n",
       "      <td>2.0</td>\n",
       "    </tr>\n",
       "    <tr>\n",
       "      <th>1</th>\n",
       "      <td>2.0</td>\n",
       "      <td>2.0</td>\n",
       "    </tr>\n",
       "    <tr>\n",
       "      <th>2</th>\n",
       "      <td>2.0</td>\n",
       "      <td>1.0</td>\n",
       "    </tr>\n",
       "    <tr>\n",
       "      <th>3</th>\n",
       "      <td>2.0</td>\n",
       "      <td>2.0</td>\n",
       "    </tr>\n",
       "    <tr>\n",
       "      <th>4</th>\n",
       "      <td>2.0</td>\n",
       "      <td>2.0</td>\n",
       "    </tr>\n",
       "    <tr>\n",
       "      <th>...</th>\n",
       "      <td>...</td>\n",
       "      <td>...</td>\n",
       "    </tr>\n",
       "    <tr>\n",
       "      <th>24415</th>\n",
       "      <td>2.0</td>\n",
       "      <td>2.0</td>\n",
       "    </tr>\n",
       "    <tr>\n",
       "      <th>24416</th>\n",
       "      <td>2.0</td>\n",
       "      <td>2.0</td>\n",
       "    </tr>\n",
       "    <tr>\n",
       "      <th>24417</th>\n",
       "      <td>2.0</td>\n",
       "      <td>2.0</td>\n",
       "    </tr>\n",
       "    <tr>\n",
       "      <th>24418</th>\n",
       "      <td>2.0</td>\n",
       "      <td>2.0</td>\n",
       "    </tr>\n",
       "    <tr>\n",
       "      <th>24419</th>\n",
       "      <td>0.0</td>\n",
       "      <td>2.0</td>\n",
       "    </tr>\n",
       "  </tbody>\n",
       "</table>\n",
       "<p>24420 rows × 2 columns</p>\n",
       "</div>"
      ],
      "text/plain": [
       "       Race  Employed\n",
       "0       2.0       2.0\n",
       "1       2.0       2.0\n",
       "2       2.0       1.0\n",
       "3       2.0       2.0\n",
       "4       2.0       2.0\n",
       "...     ...       ...\n",
       "24415   2.0       2.0\n",
       "24416   2.0       2.0\n",
       "24417   2.0       2.0\n",
       "24418   2.0       2.0\n",
       "24419   0.0       2.0\n",
       "\n",
       "[24420 rows x 2 columns]"
      ]
     },
     "execution_count": 16,
     "metadata": {},
     "output_type": "execute_result"
    }
   ],
   "source": [
    "pd.DataFrame(x_train_trans,columns=[\"Race\",\"Employed\"])"
   ]
  },
  {
   "cell_type": "code",
   "execution_count": 17,
   "id": "b7bdaea2-3b73-4c26-8788-e00a80326f12",
   "metadata": {},
   "outputs": [
    {
     "data": {
      "text/html": [
       "<div>\n",
       "<style scoped>\n",
       "    .dataframe tbody tr th:only-of-type {\n",
       "        vertical-align: middle;\n",
       "    }\n",
       "\n",
       "    .dataframe tbody tr th {\n",
       "        vertical-align: top;\n",
       "    }\n",
       "\n",
       "    .dataframe thead th {\n",
       "        text-align: right;\n",
       "    }\n",
       "</style>\n",
       "<table border=\"1\" class=\"dataframe\">\n",
       "  <thead>\n",
       "    <tr style=\"text-align: right;\">\n",
       "      <th></th>\n",
       "      <th>Race</th>\n",
       "      <th>Workclass</th>\n",
       "    </tr>\n",
       "  </thead>\n",
       "  <tbody>\n",
       "    <tr>\n",
       "      <th>12003</th>\n",
       "      <td>White</td>\n",
       "      <td>other</td>\n",
       "    </tr>\n",
       "    <tr>\n",
       "      <th>844</th>\n",
       "      <td>White</td>\n",
       "      <td>other</td>\n",
       "    </tr>\n",
       "    <tr>\n",
       "      <th>19336</th>\n",
       "      <td>White</td>\n",
       "      <td>gov</td>\n",
       "    </tr>\n",
       "    <tr>\n",
       "      <th>17368</th>\n",
       "      <td>White</td>\n",
       "      <td>other</td>\n",
       "    </tr>\n",
       "    <tr>\n",
       "      <th>26079</th>\n",
       "      <td>White</td>\n",
       "      <td>other</td>\n",
       "    </tr>\n",
       "    <tr>\n",
       "      <th>...</th>\n",
       "      <td>...</td>\n",
       "      <td>...</td>\n",
       "    </tr>\n",
       "    <tr>\n",
       "      <th>1734</th>\n",
       "      <td>White</td>\n",
       "      <td>other</td>\n",
       "    </tr>\n",
       "    <tr>\n",
       "      <th>24299</th>\n",
       "      <td>White</td>\n",
       "      <td>other</td>\n",
       "    </tr>\n",
       "    <tr>\n",
       "      <th>29689</th>\n",
       "      <td>White</td>\n",
       "      <td>other</td>\n",
       "    </tr>\n",
       "    <tr>\n",
       "      <th>16750</th>\n",
       "      <td>White</td>\n",
       "      <td>other</td>\n",
       "    </tr>\n",
       "    <tr>\n",
       "      <th>6902</th>\n",
       "      <td>Other</td>\n",
       "      <td>other</td>\n",
       "    </tr>\n",
       "  </tbody>\n",
       "</table>\n",
       "<p>24420 rows × 2 columns</p>\n",
       "</div>"
      ],
      "text/plain": [
       "         Race Workclass\n",
       "12003   White     other\n",
       "844     White     other\n",
       "19336   White       gov\n",
       "17368   White     other\n",
       "26079   White     other\n",
       "...       ...       ...\n",
       "1734    White     other\n",
       "24299   White     other\n",
       "29689   White     other\n",
       "16750   White     other\n",
       "6902    Other     other\n",
       "\n",
       "[24420 rows x 2 columns]"
      ]
     },
     "execution_count": 17,
     "metadata": {},
     "output_type": "execute_result"
    }
   ],
   "source": [
    "pd.DataFrame(x_train)"
   ]
  },
  {
   "cell_type": "markdown",
   "id": "d76bd5c6-21c6-4226-b092-d12819ebcde1",
   "metadata": {},
   "source": [
    "#### One Hot Encoding and pandas dummies \n",
    "##### The main differnce b/w these two is that dummies does not remember  the encoding thus cannot be applied to test class whereas one hot encoding remembers it and same encoding can be applied to test class and other categories get ignored "
   ]
  },
  {
   "cell_type": "code",
   "execution_count": 18,
   "id": "913d9ba8-dcb2-4e5f-921d-7e2e630d01d9",
   "metadata": {},
   "outputs": [
    {
     "name": "stderr",
     "output_type": "stream",
     "text": [
      "C:\\Users\\RISHABH\\AppData\\Local\\Temp\\ipykernel_10032\\3944156825.py:2: FutureWarning: A value is trying to be set on a copy of a DataFrame or Series through chained assignment using an inplace method.\n",
      "The behavior will change in pandas 3.0. This inplace method will never work because the intermediate object on which we are setting values always behaves as a copy.\n",
      "\n",
      "For example, when doing 'df[col].method(value, inplace=True)', try using 'df.method({col: value}, inplace=True)' or df[col] = df[col].method(value) instead, to perform the operation inplace on the original object.\n",
      "\n",
      "\n",
      "  df.Race.replace({\" Asian-Pac-Islander\":\"Other\",\" Amer-Indian-Eskimo\":\"Other\",\" Other\":\"Other\"},inplace=True)\n",
      "C:\\Users\\RISHABH\\AppData\\Local\\Temp\\ipykernel_10032\\3944156825.py:2: SettingWithCopyWarning: \n",
      "A value is trying to be set on a copy of a slice from a DataFrame\n",
      "\n",
      "See the caveats in the documentation: https://pandas.pydata.org/pandas-docs/stable/user_guide/indexing.html#returning-a-view-versus-a-copy\n",
      "  df.Race.replace({\" Asian-Pac-Islander\":\"Other\",\" Amer-Indian-Eskimo\":\"Other\",\" Other\":\"Other\"},inplace=True)\n",
      "C:\\Users\\RISHABH\\AppData\\Local\\Temp\\ipykernel_10032\\3944156825.py:3: FutureWarning: A value is trying to be set on a copy of a DataFrame or Series through chained assignment using an inplace method.\n",
      "The behavior will change in pandas 3.0. This inplace method will never work because the intermediate object on which we are setting values always behaves as a copy.\n",
      "\n",
      "For example, when doing 'df[col].method(value, inplace=True)', try using 'df.method({col: value}, inplace=True)' or df[col] = df[col].method(value) instead, to perform the operation inplace on the original object.\n",
      "\n",
      "\n",
      "  df.Workclass.replace({\" State-gov\":\"gov\",\" Local-gov\":\"gov\",\" Federal-gov\":\"gov\",\n",
      "C:\\Users\\RISHABH\\AppData\\Local\\Temp\\ipykernel_10032\\3944156825.py:3: SettingWithCopyWarning: \n",
      "A value is trying to be set on a copy of a slice from a DataFrame\n",
      "\n",
      "See the caveats in the documentation: https://pandas.pydata.org/pandas-docs/stable/user_guide/indexing.html#returning-a-view-versus-a-copy\n",
      "  df.Workclass.replace({\" State-gov\":\"gov\",\" Local-gov\":\"gov\",\" Federal-gov\":\"gov\",\n"
     ]
    }
   ],
   "source": [
    "df = data[[\"Race\",\"Workclass\",\"Sex\"]]\n",
    "df.Race.replace({\" Asian-Pac-Islander\":\"Other\",\" Amer-Indian-Eskimo\":\"Other\",\" Other\":\"Other\"},inplace=True)\n",
    "df.Workclass.replace({\" State-gov\":\"gov\",\" Local-gov\":\"gov\",\" Federal-gov\":\"gov\",\n",
    "                     \" Never-worked\":\"unemployed\",\" Without-pay\":\"unemployed\",\n",
    "                     \" Private\":\"other\",\" Self-emp-inc\":\"other\",\" Self-emp-not-inc\":\"other\",' ?':\"other\"},inplace=True)"
   ]
  },
  {
   "cell_type": "code",
   "execution_count": 19,
   "id": "1a4109c9-06d2-4747-aabb-0a48961348f7",
   "metadata": {},
   "outputs": [],
   "source": [
    "x_train,x_test,y_train,y_test =  train_test_split(df.drop(columns=[\"Sex\"],axis=1),df[\"Sex\"])"
   ]
  },
  {
   "cell_type": "code",
   "execution_count": 20,
   "id": "a676e75a-19cb-49ab-908c-919a2087ad0d",
   "metadata": {},
   "outputs": [
    {
     "data": {
      "text/html": [
       "<div>\n",
       "<style scoped>\n",
       "    .dataframe tbody tr th:only-of-type {\n",
       "        vertical-align: middle;\n",
       "    }\n",
       "\n",
       "    .dataframe tbody tr th {\n",
       "        vertical-align: top;\n",
       "    }\n",
       "\n",
       "    .dataframe thead th {\n",
       "        text-align: right;\n",
       "    }\n",
       "</style>\n",
       "<table border=\"1\" class=\"dataframe\">\n",
       "  <thead>\n",
       "    <tr style=\"text-align: right;\">\n",
       "      <th></th>\n",
       "      <th>Sex</th>\n",
       "      <th>Race_ Black</th>\n",
       "      <th>Race_ White</th>\n",
       "      <th>Race_Other</th>\n",
       "      <th>Workclass_gov</th>\n",
       "      <th>Workclass_other</th>\n",
       "      <th>Workclass_unemployed</th>\n",
       "    </tr>\n",
       "  </thead>\n",
       "  <tbody>\n",
       "    <tr>\n",
       "      <th>0</th>\n",
       "      <td>Male</td>\n",
       "      <td>False</td>\n",
       "      <td>True</td>\n",
       "      <td>False</td>\n",
       "      <td>True</td>\n",
       "      <td>False</td>\n",
       "      <td>False</td>\n",
       "    </tr>\n",
       "    <tr>\n",
       "      <th>1</th>\n",
       "      <td>Male</td>\n",
       "      <td>False</td>\n",
       "      <td>True</td>\n",
       "      <td>False</td>\n",
       "      <td>False</td>\n",
       "      <td>True</td>\n",
       "      <td>False</td>\n",
       "    </tr>\n",
       "    <tr>\n",
       "      <th>2</th>\n",
       "      <td>Male</td>\n",
       "      <td>False</td>\n",
       "      <td>True</td>\n",
       "      <td>False</td>\n",
       "      <td>False</td>\n",
       "      <td>True</td>\n",
       "      <td>False</td>\n",
       "    </tr>\n",
       "    <tr>\n",
       "      <th>3</th>\n",
       "      <td>Male</td>\n",
       "      <td>True</td>\n",
       "      <td>False</td>\n",
       "      <td>False</td>\n",
       "      <td>False</td>\n",
       "      <td>True</td>\n",
       "      <td>False</td>\n",
       "    </tr>\n",
       "    <tr>\n",
       "      <th>4</th>\n",
       "      <td>Female</td>\n",
       "      <td>True</td>\n",
       "      <td>False</td>\n",
       "      <td>False</td>\n",
       "      <td>False</td>\n",
       "      <td>True</td>\n",
       "      <td>False</td>\n",
       "    </tr>\n",
       "    <tr>\n",
       "      <th>...</th>\n",
       "      <td>...</td>\n",
       "      <td>...</td>\n",
       "      <td>...</td>\n",
       "      <td>...</td>\n",
       "      <td>...</td>\n",
       "      <td>...</td>\n",
       "      <td>...</td>\n",
       "    </tr>\n",
       "    <tr>\n",
       "      <th>32556</th>\n",
       "      <td>Female</td>\n",
       "      <td>False</td>\n",
       "      <td>True</td>\n",
       "      <td>False</td>\n",
       "      <td>False</td>\n",
       "      <td>True</td>\n",
       "      <td>False</td>\n",
       "    </tr>\n",
       "    <tr>\n",
       "      <th>32557</th>\n",
       "      <td>Male</td>\n",
       "      <td>False</td>\n",
       "      <td>True</td>\n",
       "      <td>False</td>\n",
       "      <td>False</td>\n",
       "      <td>True</td>\n",
       "      <td>False</td>\n",
       "    </tr>\n",
       "    <tr>\n",
       "      <th>32558</th>\n",
       "      <td>Female</td>\n",
       "      <td>False</td>\n",
       "      <td>True</td>\n",
       "      <td>False</td>\n",
       "      <td>False</td>\n",
       "      <td>True</td>\n",
       "      <td>False</td>\n",
       "    </tr>\n",
       "    <tr>\n",
       "      <th>32559</th>\n",
       "      <td>Male</td>\n",
       "      <td>False</td>\n",
       "      <td>True</td>\n",
       "      <td>False</td>\n",
       "      <td>False</td>\n",
       "      <td>True</td>\n",
       "      <td>False</td>\n",
       "    </tr>\n",
       "    <tr>\n",
       "      <th>32560</th>\n",
       "      <td>Female</td>\n",
       "      <td>False</td>\n",
       "      <td>True</td>\n",
       "      <td>False</td>\n",
       "      <td>False</td>\n",
       "      <td>True</td>\n",
       "      <td>False</td>\n",
       "    </tr>\n",
       "  </tbody>\n",
       "</table>\n",
       "<p>32561 rows × 7 columns</p>\n",
       "</div>"
      ],
      "text/plain": [
       "           Sex  Race_ Black  Race_ White  Race_Other  Workclass_gov  \\\n",
       "0         Male        False         True       False           True   \n",
       "1         Male        False         True       False          False   \n",
       "2         Male        False         True       False          False   \n",
       "3         Male         True        False       False          False   \n",
       "4       Female         True        False       False          False   \n",
       "...        ...          ...          ...         ...            ...   \n",
       "32556   Female        False         True       False          False   \n",
       "32557     Male        False         True       False          False   \n",
       "32558   Female        False         True       False          False   \n",
       "32559     Male        False         True       False          False   \n",
       "32560   Female        False         True       False          False   \n",
       "\n",
       "       Workclass_other  Workclass_unemployed  \n",
       "0                False                 False  \n",
       "1                 True                 False  \n",
       "2                 True                 False  \n",
       "3                 True                 False  \n",
       "4                 True                 False  \n",
       "...                ...                   ...  \n",
       "32556             True                 False  \n",
       "32557             True                 False  \n",
       "32558             True                 False  \n",
       "32559             True                 False  \n",
       "32560             True                 False  \n",
       "\n",
       "[32561 rows x 7 columns]"
      ]
     },
     "execution_count": 20,
     "metadata": {},
     "output_type": "execute_result"
    }
   ],
   "source": [
    "pd.get_dummies(df,columns=[\"Race\",\"Workclass\"])"
   ]
  },
  {
   "cell_type": "code",
   "execution_count": 21,
   "id": "4a7d3de6-9749-480a-84da-4e5fb498c911",
   "metadata": {},
   "outputs": [],
   "source": [
    "ohe = OneHotEncoder(handle_unknown=\"ignore\")"
   ]
  },
  {
   "cell_type": "code",
   "execution_count": 22,
   "id": "ce22c37f-3d2f-4193-a605-4679c8c439ac",
   "metadata": {},
   "outputs": [],
   "source": [
    "x_train_new = ohe.fit_transform(x_train).toarray()\n",
    "data_hash = data[[\"Race\",\"Workclass\"]]"
   ]
  },
  {
   "cell_type": "code",
   "execution_count": 23,
   "id": "25e2d520-7d00-4d0a-abdf-a529e93d18b2",
   "metadata": {},
   "outputs": [
    {
     "data": {
      "text/html": [
       "<div>\n",
       "<style scoped>\n",
       "    .dataframe tbody tr th:only-of-type {\n",
       "        vertical-align: middle;\n",
       "    }\n",
       "\n",
       "    .dataframe tbody tr th {\n",
       "        vertical-align: top;\n",
       "    }\n",
       "\n",
       "    .dataframe thead th {\n",
       "        text-align: right;\n",
       "    }\n",
       "</style>\n",
       "<table border=\"1\" class=\"dataframe\">\n",
       "  <thead>\n",
       "    <tr style=\"text-align: right;\">\n",
       "      <th></th>\n",
       "      <th>Race</th>\n",
       "      <th>Workclass</th>\n",
       "    </tr>\n",
       "  </thead>\n",
       "  <tbody>\n",
       "    <tr>\n",
       "      <th>0</th>\n",
       "      <td>White</td>\n",
       "      <td>State-gov</td>\n",
       "    </tr>\n",
       "    <tr>\n",
       "      <th>1</th>\n",
       "      <td>White</td>\n",
       "      <td>Self-emp-not-inc</td>\n",
       "    </tr>\n",
       "    <tr>\n",
       "      <th>2</th>\n",
       "      <td>White</td>\n",
       "      <td>Private</td>\n",
       "    </tr>\n",
       "    <tr>\n",
       "      <th>3</th>\n",
       "      <td>Black</td>\n",
       "      <td>Private</td>\n",
       "    </tr>\n",
       "    <tr>\n",
       "      <th>4</th>\n",
       "      <td>Black</td>\n",
       "      <td>Private</td>\n",
       "    </tr>\n",
       "  </tbody>\n",
       "</table>\n",
       "</div>"
      ],
      "text/plain": [
       "     Race          Workclass\n",
       "0   White          State-gov\n",
       "1   White   Self-emp-not-inc\n",
       "2   White            Private\n",
       "3   Black            Private\n",
       "4   Black            Private"
      ]
     },
     "execution_count": 23,
     "metadata": {},
     "output_type": "execute_result"
    }
   ],
   "source": [
    "data_hash.head()"
   ]
  },
  {
   "cell_type": "markdown",
   "id": "edcaa163-0a7a-4daa-9be8-5c716b8e7f01",
   "metadata": {},
   "source": [
    "##### SEE belowe table as in workclass nothing matches so it is given zero but in race something matches"
   ]
  },
  {
   "cell_type": "code",
   "execution_count": 24,
   "id": "8916fd1c-dbdf-4ffb-b33b-da56d8d83801",
   "metadata": {},
   "outputs": [
    {
     "data": {
      "text/plain": [
       "array([[1., 0., 0., 0., 0., 0.],\n",
       "       [0., 0., 0., 0., 0., 0.],\n",
       "       [0., 1., 0., 0., 0., 0.],\n",
       "       [1., 0., 0., 0., 0., 0.],\n",
       "       [0., 0., 0., 0., 0., 0.],\n",
       "       [0., 0., 0., 0., 0., 0.],\n",
       "       [0., 1., 0., 0., 0., 0.],\n",
       "       [0., 1., 0., 0., 0., 0.],\n",
       "       [0., 1., 0., 0., 0., 0.],\n",
       "       [0., 1., 0., 0., 0., 0.],\n",
       "       [0., 1., 0., 0., 0., 0.],\n",
       "       [1., 0., 0., 0., 0., 0.],\n",
       "       [1., 0., 0., 0., 0., 0.],\n",
       "       [0., 1., 0., 0., 0., 0.],\n",
       "       [0., 1., 0., 0., 0., 0.],\n",
       "       [0., 1., 0., 0., 0., 0.],\n",
       "       [0., 1., 0., 0., 0., 0.],\n",
       "       [0., 0., 0., 0., 0., 0.],\n",
       "       [0., 1., 0., 0., 0., 0.],\n",
       "       [0., 1., 0., 0., 0., 0.]])"
      ]
     },
     "execution_count": 24,
     "metadata": {},
     "output_type": "execute_result"
    }
   ],
   "source": [
    "ohe.transform(data_hash).toarray()[10:30]"
   ]
  },
  {
   "cell_type": "code",
   "execution_count": null,
   "id": "41292b95-4d62-4c81-8d3b-6adccd99c15b",
   "metadata": {},
   "outputs": [],
   "source": []
  }
 ],
 "metadata": {
  "kernelspec": {
   "display_name": "Python 3",
   "language": "python",
   "name": "python3"
  },
  "language_info": {
   "codemirror_mode": {
    "name": "ipython",
    "version": 3
   },
   "file_extension": ".py",
   "mimetype": "text/x-python",
   "name": "python",
   "nbconvert_exporter": "python",
   "pygments_lexer": "ipython3",
   "version": "3.11.9"
  }
 },
 "nbformat": 4,
 "nbformat_minor": 5
}
