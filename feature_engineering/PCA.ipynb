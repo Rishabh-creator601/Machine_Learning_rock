{
 "cells": [
  {
   "cell_type": "code",
   "execution_count": 77,
   "id": "d7944172",
   "metadata": {},
   "outputs": [],
   "source": [
    "import numpy as np\n",
    "import matplotlib.pyplot as plt \n",
    "import pandas as pd\n",
    "from seedtools import load_seed,mapper_auto,dropper\n",
    "from sklearn.model_selection import train_test_split\n",
    "from sklearn.preprocessing import StandardScaler\n",
    "from sklearn.decomposition import PCA\n",
    "from sklearn.ensemble import RandomForestClassifier\n",
    "import plotly.express as px\n",
    "\n",
    "#verbose = 0\n",
    "import warnings\n",
    "warnings.filterwarnings(\"ignore\")"
   ]
  },
  {
   "cell_type": "markdown",
   "id": "5be6aa11",
   "metadata": {},
   "source": [
    "## CONTENTS \n",
    "- PCA Implementation from scratch \n",
    "- PCA code"
   ]
  },
  {
   "cell_type": "markdown",
   "id": "d965cfe4",
   "metadata": {},
   "source": [
    "## PCA (from scratch)"
   ]
  },
  {
   "cell_type": "markdown",
   "id": "395f11d5",
   "metadata": {},
   "source": [
    "### <center> 1. Data Loading <center />"
   ]
  },
  {
   "cell_type": "code",
   "execution_count": 78,
   "id": "8d17a6a9",
   "metadata": {},
   "outputs": [
    {
     "data": {
      "text/html": [
       "<div>\n",
       "<style scoped>\n",
       "    .dataframe tbody tr th:only-of-type {\n",
       "        vertical-align: middle;\n",
       "    }\n",
       "\n",
       "    .dataframe tbody tr th {\n",
       "        vertical-align: top;\n",
       "    }\n",
       "\n",
       "    .dataframe thead th {\n",
       "        text-align: right;\n",
       "    }\n",
       "</style>\n",
       "<table border=\"1\" class=\"dataframe\">\n",
       "  <thead>\n",
       "    <tr style=\"text-align: right;\">\n",
       "      <th></th>\n",
       "      <th>f1</th>\n",
       "      <th>f2</th>\n",
       "      <th>f3</th>\n",
       "      <th>target</th>\n",
       "    </tr>\n",
       "  </thead>\n",
       "  <tbody>\n",
       "    <tr>\n",
       "      <th>0</th>\n",
       "      <td>-0.268437</td>\n",
       "      <td>0.821321</td>\n",
       "      <td>-0.659332</td>\n",
       "      <td>0</td>\n",
       "    </tr>\n",
       "    <tr>\n",
       "      <th>1</th>\n",
       "      <td>-0.158157</td>\n",
       "      <td>0.255968</td>\n",
       "      <td>-0.833861</td>\n",
       "      <td>0</td>\n",
       "    </tr>\n",
       "    <tr>\n",
       "      <th>2</th>\n",
       "      <td>1.716595</td>\n",
       "      <td>-1.048692</td>\n",
       "      <td>-1.396233</td>\n",
       "      <td>0</td>\n",
       "    </tr>\n",
       "  </tbody>\n",
       "</table>\n",
       "</div>"
      ],
      "text/plain": [
       "         f1        f2        f3  target\n",
       "0 -0.268437  0.821321 -0.659332       0\n",
       "1 -0.158157  0.255968 -0.833861       0\n",
       "2  1.716595 -1.048692 -1.396233       0"
      ]
     },
     "execution_count": 78,
     "metadata": {},
     "output_type": "execute_result"
    }
   ],
   "source": [
    "# Implementation on 3,3 for better visualization\n",
    "raw  =  load_seed(\"heart.csv\",quiet=True)\n",
    "data =  raw.data[[\"age\",\"thalach\",\"chol\",\"target\"]]\n",
    "data.columns = [\"f1\",\"f2\",\"f3\",\"target\"]\n",
    "\n",
    "ss =  StandardScaler()\n",
    "\n",
    "for col in [\"f1\",\"f2\",\"f3\"]:\n",
    "    data[col] =  ss.fit_transform(data[col].values.reshape(-1,1))\n",
    "\n",
    "data.head(3)"
   ]
  },
  {
   "cell_type": "code",
   "execution_count": 79,
   "id": "c88f66d6",
   "metadata": {},
   "outputs": [
    {
     "data": {
      "application/vnd.plotly.v1+json": {
       "config": {
        "plotlyServerURL": "https://plot.ly"
       },
       "data": [
        {
         "hovertemplate": "f1=%{x}<br>f2=%{y}<br>f3=%{z}<br>target=%{marker.color}<extra></extra>",
         "legendgroup": "",
         "marker": {
          "color": {
           "bdata": "AAAAAAABAAAAAAEAAQAAAQEAAQEAAQEBAQABAAAAAAEAAAEAAQEBAAEBAAABAQEAAQABAAEAAAABAQAAAQEAAQEAAQABAAAAAAAAAQEAAQEAAAABAQEBAAAAAQEAAAEBAQAAAQEBAQEBAAAAAAAAAQAAAAAAAAEBAQAAAQABAQEBAQEBAQEBAAEBAQEAAAABAQABAAEBAAAAAQABAQEBAQABAAAAAAABAQEBAAEBAAAAAAAAAAEAAQEAAAAAAAEBAQEAAQABAQABAQEBAQEAAQEAAQAAAQEBAAEAAAAAAQEBAQABAQAAAQABAQEAAAAAAQABAAEBAAABAQABAAAAAQEBAAEBAQEBAAEAAAABAQEBAAEAAQEAAQEBAQEAAQEBAQABAAEBAAAAAAEBAQEBAAEAAQEAAQAAAAEBAQEBAAEBAQAAAQEAAAABAQABAQAAAQEAAAEBAQEBAAABAAABAAABAAEAAAABAQEBAQABAAABAQAAAQABAQEBAAEAAAAAAAEBAAABAAABAAABAAABAQABAQEAAAEAAQABAAAAAAEBAQEBAQEBAAAAAQEAAAAAAQEBAQAAAQAAAAABAQEBAAEAAAEAAQABAAEBAQABAQEBAQEAAQABAQEBAAEAAAEAAAAAAQAAAAABAQEBAAABAQAAAQEBAQEBAAEAAQAAAQAAAAEAAAEAAAABAQAAAQABAQEAAQABAQEBAQABAAEBAAEAAAEBAQAAAAEAAAABAQABAQEAAAEBAQEBAQABAAABAQABAAEBAQAAAQAAAAABAAAAAAABAQABAAABAQEBAAAAAAAAAAAAAQEBAQAAAAAAAQAAAAEAAAEBAAABAAEAAQEAAQEBAAABAQEAAQEAAQEAAQABAAABAQEBAQABAAAAAQEAAAAAAQABAAAAAAAAAAABAQEAAQAAAQAAAAEAAQEBAAABAQABAAEBAQEAAAEBAAEBAQEAAAEAAQEAAQEAAQAAAAABAQABAQEAAAEBAQEBAQEBAAEBAAABAQEAAAAAAQEBAQAAAQEAAAABAAABAQEAAAAAAAAAAAEAAQEAAAEAAQAAAQEAAQEBAAAAAAEBAQEBAAAAAAEAAQEAAQABAQEAAAABAQEBAAEAAAAAAQABAAABAAAAAQEBAQAAAAAAAAEBAQEBAQEBAQAAAAEAAQEAAAAAAAABAAAAAQAAAAABAQEBAAEAAAEAAQEAAAAAAAEAAAABAAAAAAEBAAAAAQAAAAABAAEBAQABAQABAQEAAQEBAAEAAAEBAQEBAAEBAQEBAAEBAAEAAQEBAQEBAAABAAABAAEBAQEAAAABAQABAAABAAAAAAABAAEBAAEBAQAAAQAAAQAAAAABAQAAAQA=",
           "dtype": "i1"
          },
          "coloraxis": "coloraxis",
          "line": {
           "color": "DarkSlateGrey",
           "width": 2
          },
          "size": 12,
          "symbol": "circle"
         },
         "mode": "markers",
         "name": "",
         "scene": "scene",
         "showlegend": false,
         "type": "scatter3d",
         "x": {
          "bdata": "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",
          "dtype": "f8"
         },
         "y": {
          "bdata": "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",
          "dtype": "f8"
         },
         "z": {
          "bdata": "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",
          "dtype": "f8"
         }
        }
       ],
       "layout": {
        "coloraxis": {
         "colorbar": {
          "title": {
           "text": "target"
          }
         },
         "colorscale": [
          [
           0,
           "#0d0887"
          ],
          [
           0.1111111111111111,
           "#46039f"
          ],
          [
           0.2222222222222222,
           "#7201a8"
          ],
          [
           0.3333333333333333,
           "#9c179e"
          ],
          [
           0.4444444444444444,
           "#bd3786"
          ],
          [
           0.5555555555555556,
           "#d8576b"
          ],
          [
           0.6666666666666666,
           "#ed7953"
          ],
          [
           0.7777777777777778,
           "#fb9f3a"
          ],
          [
           0.8888888888888888,
           "#fdca26"
          ],
          [
           1,
           "#f0f921"
          ]
         ]
        },
        "legend": {
         "tracegroupgap": 0
        },
        "margin": {
         "t": 60
        },
        "scene": {
         "domain": {
          "x": [
           0,
           1
          ],
          "y": [
           0,
           1
          ]
         },
         "xaxis": {
          "title": {
           "text": "f1"
          }
         },
         "yaxis": {
          "title": {
           "text": "f2"
          }
         },
         "zaxis": {
          "title": {
           "text": "f3"
          }
         }
        },
        "template": {
         "data": {
          "bar": [
           {
            "error_x": {
             "color": "#2a3f5f"
            },
            "error_y": {
             "color": "#2a3f5f"
            },
            "marker": {
             "line": {
              "color": "#E5ECF6",
              "width": 0.5
             },
             "pattern": {
              "fillmode": "overlay",
              "size": 10,
              "solidity": 0.2
             }
            },
            "type": "bar"
           }
          ],
          "barpolar": [
           {
            "marker": {
             "line": {
              "color": "#E5ECF6",
              "width": 0.5
             },
             "pattern": {
              "fillmode": "overlay",
              "size": 10,
              "solidity": 0.2
             }
            },
            "type": "barpolar"
           }
          ],
          "carpet": [
           {
            "aaxis": {
             "endlinecolor": "#2a3f5f",
             "gridcolor": "white",
             "linecolor": "white",
             "minorgridcolor": "white",
             "startlinecolor": "#2a3f5f"
            },
            "baxis": {
             "endlinecolor": "#2a3f5f",
             "gridcolor": "white",
             "linecolor": "white",
             "minorgridcolor": "white",
             "startlinecolor": "#2a3f5f"
            },
            "type": "carpet"
           }
          ],
          "choropleth": [
           {
            "colorbar": {
             "outlinewidth": 0,
             "ticks": ""
            },
            "type": "choropleth"
           }
          ],
          "contour": [
           {
            "colorbar": {
             "outlinewidth": 0,
             "ticks": ""
            },
            "colorscale": [
             [
              0,
              "#0d0887"
             ],
             [
              0.1111111111111111,
              "#46039f"
             ],
             [
              0.2222222222222222,
              "#7201a8"
             ],
             [
              0.3333333333333333,
              "#9c179e"
             ],
             [
              0.4444444444444444,
              "#bd3786"
             ],
             [
              0.5555555555555556,
              "#d8576b"
             ],
             [
              0.6666666666666666,
              "#ed7953"
             ],
             [
              0.7777777777777778,
              "#fb9f3a"
             ],
             [
              0.8888888888888888,
              "#fdca26"
             ],
             [
              1,
              "#f0f921"
             ]
            ],
            "type": "contour"
           }
          ],
          "contourcarpet": [
           {
            "colorbar": {
             "outlinewidth": 0,
             "ticks": ""
            },
            "type": "contourcarpet"
           }
          ],
          "heatmap": [
           {
            "colorbar": {
             "outlinewidth": 0,
             "ticks": ""
            },
            "colorscale": [
             [
              0,
              "#0d0887"
             ],
             [
              0.1111111111111111,
              "#46039f"
             ],
             [
              0.2222222222222222,
              "#7201a8"
             ],
             [
              0.3333333333333333,
              "#9c179e"
             ],
             [
              0.4444444444444444,
              "#bd3786"
             ],
             [
              0.5555555555555556,
              "#d8576b"
             ],
             [
              0.6666666666666666,
              "#ed7953"
             ],
             [
              0.7777777777777778,
              "#fb9f3a"
             ],
             [
              0.8888888888888888,
              "#fdca26"
             ],
             [
              1,
              "#f0f921"
             ]
            ],
            "type": "heatmap"
           }
          ],
          "histogram": [
           {
            "marker": {
             "pattern": {
              "fillmode": "overlay",
              "size": 10,
              "solidity": 0.2
             }
            },
            "type": "histogram"
           }
          ],
          "histogram2d": [
           {
            "colorbar": {
             "outlinewidth": 0,
             "ticks": ""
            },
            "colorscale": [
             [
              0,
              "#0d0887"
             ],
             [
              0.1111111111111111,
              "#46039f"
             ],
             [
              0.2222222222222222,
              "#7201a8"
             ],
             [
              0.3333333333333333,
              "#9c179e"
             ],
             [
              0.4444444444444444,
              "#bd3786"
             ],
             [
              0.5555555555555556,
              "#d8576b"
             ],
             [
              0.6666666666666666,
              "#ed7953"
             ],
             [
              0.7777777777777778,
              "#fb9f3a"
             ],
             [
              0.8888888888888888,
              "#fdca26"
             ],
             [
              1,
              "#f0f921"
             ]
            ],
            "type": "histogram2d"
           }
          ],
          "histogram2dcontour": [
           {
            "colorbar": {
             "outlinewidth": 0,
             "ticks": ""
            },
            "colorscale": [
             [
              0,
              "#0d0887"
             ],
             [
              0.1111111111111111,
              "#46039f"
             ],
             [
              0.2222222222222222,
              "#7201a8"
             ],
             [
              0.3333333333333333,
              "#9c179e"
             ],
             [
              0.4444444444444444,
              "#bd3786"
             ],
             [
              0.5555555555555556,
              "#d8576b"
             ],
             [
              0.6666666666666666,
              "#ed7953"
             ],
             [
              0.7777777777777778,
              "#fb9f3a"
             ],
             [
              0.8888888888888888,
              "#fdca26"
             ],
             [
              1,
              "#f0f921"
             ]
            ],
            "type": "histogram2dcontour"
           }
          ],
          "mesh3d": [
           {
            "colorbar": {
             "outlinewidth": 0,
             "ticks": ""
            },
            "type": "mesh3d"
           }
          ],
          "parcoords": [
           {
            "line": {
             "colorbar": {
              "outlinewidth": 0,
              "ticks": ""
             }
            },
            "type": "parcoords"
           }
          ],
          "pie": [
           {
            "automargin": true,
            "type": "pie"
           }
          ],
          "scatter": [
           {
            "fillpattern": {
             "fillmode": "overlay",
             "size": 10,
             "solidity": 0.2
            },
            "type": "scatter"
           }
          ],
          "scatter3d": [
           {
            "line": {
             "colorbar": {
              "outlinewidth": 0,
              "ticks": ""
             }
            },
            "marker": {
             "colorbar": {
              "outlinewidth": 0,
              "ticks": ""
             }
            },
            "type": "scatter3d"
           }
          ],
          "scattercarpet": [
           {
            "marker": {
             "colorbar": {
              "outlinewidth": 0,
              "ticks": ""
             }
            },
            "type": "scattercarpet"
           }
          ],
          "scattergeo": [
           {
            "marker": {
             "colorbar": {
              "outlinewidth": 0,
              "ticks": ""
             }
            },
            "type": "scattergeo"
           }
          ],
          "scattergl": [
           {
            "marker": {
             "colorbar": {
              "outlinewidth": 0,
              "ticks": ""
             }
            },
            "type": "scattergl"
           }
          ],
          "scattermap": [
           {
            "marker": {
             "colorbar": {
              "outlinewidth": 0,
              "ticks": ""
             }
            },
            "type": "scattermap"
           }
          ],
          "scattermapbox": [
           {
            "marker": {
             "colorbar": {
              "outlinewidth": 0,
              "ticks": ""
             }
            },
            "type": "scattermapbox"
           }
          ],
          "scatterpolar": [
           {
            "marker": {
             "colorbar": {
              "outlinewidth": 0,
              "ticks": ""
             }
            },
            "type": "scatterpolar"
           }
          ],
          "scatterpolargl": [
           {
            "marker": {
             "colorbar": {
              "outlinewidth": 0,
              "ticks": ""
             }
            },
            "type": "scatterpolargl"
           }
          ],
          "scatterternary": [
           {
            "marker": {
             "colorbar": {
              "outlinewidth": 0,
              "ticks": ""
             }
            },
            "type": "scatterternary"
           }
          ],
          "surface": [
           {
            "colorbar": {
             "outlinewidth": 0,
             "ticks": ""
            },
            "colorscale": [
             [
              0,
              "#0d0887"
             ],
             [
              0.1111111111111111,
              "#46039f"
             ],
             [
              0.2222222222222222,
              "#7201a8"
             ],
             [
              0.3333333333333333,
              "#9c179e"
             ],
             [
              0.4444444444444444,
              "#bd3786"
             ],
             [
              0.5555555555555556,
              "#d8576b"
             ],
             [
              0.6666666666666666,
              "#ed7953"
             ],
             [
              0.7777777777777778,
              "#fb9f3a"
             ],
             [
              0.8888888888888888,
              "#fdca26"
             ],
             [
              1,
              "#f0f921"
             ]
            ],
            "type": "surface"
           }
          ],
          "table": [
           {
            "cells": {
             "fill": {
              "color": "#EBF0F8"
             },
             "line": {
              "color": "white"
             }
            },
            "header": {
             "fill": {
              "color": "#C8D4E3"
             },
             "line": {
              "color": "white"
             }
            },
            "type": "table"
           }
          ]
         },
         "layout": {
          "annotationdefaults": {
           "arrowcolor": "#2a3f5f",
           "arrowhead": 0,
           "arrowwidth": 1
          },
          "autotypenumbers": "strict",
          "coloraxis": {
           "colorbar": {
            "outlinewidth": 0,
            "ticks": ""
           }
          },
          "colorscale": {
           "diverging": [
            [
             0,
             "#8e0152"
            ],
            [
             0.1,
             "#c51b7d"
            ],
            [
             0.2,
             "#de77ae"
            ],
            [
             0.3,
             "#f1b6da"
            ],
            [
             0.4,
             "#fde0ef"
            ],
            [
             0.5,
             "#f7f7f7"
            ],
            [
             0.6,
             "#e6f5d0"
            ],
            [
             0.7,
             "#b8e186"
            ],
            [
             0.8,
             "#7fbc41"
            ],
            [
             0.9,
             "#4d9221"
            ],
            [
             1,
             "#276419"
            ]
           ],
           "sequential": [
            [
             0,
             "#0d0887"
            ],
            [
             0.1111111111111111,
             "#46039f"
            ],
            [
             0.2222222222222222,
             "#7201a8"
            ],
            [
             0.3333333333333333,
             "#9c179e"
            ],
            [
             0.4444444444444444,
             "#bd3786"
            ],
            [
             0.5555555555555556,
             "#d8576b"
            ],
            [
             0.6666666666666666,
             "#ed7953"
            ],
            [
             0.7777777777777778,
             "#fb9f3a"
            ],
            [
             0.8888888888888888,
             "#fdca26"
            ],
            [
             1,
             "#f0f921"
            ]
           ],
           "sequentialminus": [
            [
             0,
             "#0d0887"
            ],
            [
             0.1111111111111111,
             "#46039f"
            ],
            [
             0.2222222222222222,
             "#7201a8"
            ],
            [
             0.3333333333333333,
             "#9c179e"
            ],
            [
             0.4444444444444444,
             "#bd3786"
            ],
            [
             0.5555555555555556,
             "#d8576b"
            ],
            [
             0.6666666666666666,
             "#ed7953"
            ],
            [
             0.7777777777777778,
             "#fb9f3a"
            ],
            [
             0.8888888888888888,
             "#fdca26"
            ],
            [
             1,
             "#f0f921"
            ]
           ]
          },
          "colorway": [
           "#636efa",
           "#EF553B",
           "#00cc96",
           "#ab63fa",
           "#FFA15A",
           "#19d3f3",
           "#FF6692",
           "#B6E880",
           "#FF97FF",
           "#FECB52"
          ],
          "font": {
           "color": "#2a3f5f"
          },
          "geo": {
           "bgcolor": "white",
           "lakecolor": "white",
           "landcolor": "#E5ECF6",
           "showlakes": true,
           "showland": true,
           "subunitcolor": "white"
          },
          "hoverlabel": {
           "align": "left"
          },
          "hovermode": "closest",
          "mapbox": {
           "style": "light"
          },
          "paper_bgcolor": "white",
          "plot_bgcolor": "#E5ECF6",
          "polar": {
           "angularaxis": {
            "gridcolor": "white",
            "linecolor": "white",
            "ticks": ""
           },
           "bgcolor": "#E5ECF6",
           "radialaxis": {
            "gridcolor": "white",
            "linecolor": "white",
            "ticks": ""
           }
          },
          "scene": {
           "xaxis": {
            "backgroundcolor": "#E5ECF6",
            "gridcolor": "white",
            "gridwidth": 2,
            "linecolor": "white",
            "showbackground": true,
            "ticks": "",
            "zerolinecolor": "white"
           },
           "yaxis": {
            "backgroundcolor": "#E5ECF6",
            "gridcolor": "white",
            "gridwidth": 2,
            "linecolor": "white",
            "showbackground": true,
            "ticks": "",
            "zerolinecolor": "white"
           },
           "zaxis": {
            "backgroundcolor": "#E5ECF6",
            "gridcolor": "white",
            "gridwidth": 2,
            "linecolor": "white",
            "showbackground": true,
            "ticks": "",
            "zerolinecolor": "white"
           }
          },
          "shapedefaults": {
           "line": {
            "color": "#2a3f5f"
           }
          },
          "ternary": {
           "aaxis": {
            "gridcolor": "white",
            "linecolor": "white",
            "ticks": ""
           },
           "baxis": {
            "gridcolor": "white",
            "linecolor": "white",
            "ticks": ""
           },
           "bgcolor": "#E5ECF6",
           "caxis": {
            "gridcolor": "white",
            "linecolor": "white",
            "ticks": ""
           }
          },
          "title": {
           "x": 0.05
          },
          "xaxis": {
           "automargin": true,
           "gridcolor": "white",
           "linecolor": "white",
           "ticks": "",
           "title": {
            "standoff": 15
           },
           "zerolinecolor": "white",
           "zerolinewidth": 2
          },
          "yaxis": {
           "automargin": true,
           "gridcolor": "white",
           "linecolor": "white",
           "ticks": "",
           "title": {
            "standoff": 15
           },
           "zerolinecolor": "white",
           "zerolinewidth": 2
          }
         }
        }
       }
      }
     },
     "metadata": {},
     "output_type": "display_data"
    }
   ],
   "source": [
    "# original 3d data \n",
    "fig = px.scatter_3d(data,x=\"f1\",y=\"f2\",z=\"f3\",color=\"target\")\n",
    "fig.update_traces(marker=dict(size=12,line=dict(width=2, color='DarkSlateGrey')),selector=dict(mode='markers'))\n",
    "fig.show()"
   ]
  },
  {
   "cell_type": "markdown",
   "id": "f1653702",
   "metadata": {},
   "source": [
    "### <center> 2. Covariance Matrix <center />"
   ]
  },
  {
   "cell_type": "code",
   "execution_count": 80,
   "id": "23764e6e",
   "metadata": {},
   "outputs": [
    {
     "data": {
      "text/plain": [
       "array([[ 1.00097656, -0.39060816,  0.22003721],\n",
       "       [-0.39060816,  1.00097656, -0.02179335],\n",
       "       [ 0.22003721, -0.02179335,  1.00097656]])"
      ]
     },
     "execution_count": 80,
     "metadata": {},
     "output_type": "execute_result"
    }
   ],
   "source": [
    "## Covariance matrix\n",
    "cov_matrix =  np.cov([data.iloc[:,0],data.iloc[:,1],data.iloc[:,2]])\n",
    "cov_matrix"
   ]
  },
  {
   "cell_type": "markdown",
   "id": "c3b2473e",
   "metadata": {},
   "source": [
    "### <center> 3. Eigen Decomposition <center />"
   ]
  },
  {
   "cell_type": "code",
   "execution_count": 81,
   "id": "31e0ff44",
   "metadata": {},
   "outputs": [
    {
     "name": "stdout",
     "output_type": "stream",
     "text": [
      "Eigen Values : [1.4588497  0.56173023 0.98234977]\n",
      "Eigen Vectors : [[ 0.6995135  -0.71417243 -0.02527065]\n",
      " [-0.61414129 -0.61886451  0.48973176]\n",
      " [ 0.36539203  0.32705423  0.87150685]]\n"
     ]
    }
   ],
   "source": [
    "# eigen decomposition\n",
    "eigen_values,eigen_vectors =  np.linalg.eig(cov_matrix)\n",
    "print(\"Eigen Values :\",eigen_values)\n",
    "print(\"Eigen Vectors :\",eigen_vectors)"
   ]
  },
  {
   "cell_type": "markdown",
   "id": "1abfa1ee",
   "metadata": {},
   "source": [
    "#### 🔷 1. Eigenvalues:\n",
    "\n",
    "Eigenvalues = $\\begin{bmatrix} 1.4588 & 0.9823 & 0.5617 \\end{bmatrix}$\n",
    "\n",
    "\n",
    "*These tell us how much variance is captured along each principal component.*\n",
    "\n",
    "| PC (Principal Component) | Eigenvalue | % Variance Explained |\n",
    "|--------------------------|------------|------------------------|\n",
    "| PC1                      | 1.4588     | ~47.7%                 |\n",
    "| PC2                      | 0.9823     | ~32.1%                 |\n",
    "| PC3                      | 0.5617     | ~20.2%                 |\n",
    "\n",
    "\n",
    "📌 Total variance = 1.4588 + 0.9823 + 0.5617 ≈ 3.003\n",
    "\n",
    "#### 🔷 2. Eigenvectors:\n",
    "*Each eigenvector is a direction (axis) in the original 3D space that defines a principal component.*\n",
    "\n",
    "Eigen vectors =\n",
    "$\\begin{bmatrix}\n",
    "  0.6995 & -0.7142 & -0.0253 \\\\\n",
    " -0.6141 & -0.6189 &  0.4897 \\\\\n",
    "  0.3654 &  0.3271 &  0.8715\n",
    "\\end{bmatrix}$\n",
    "\n",
    "​\n",
    "  \n",
    "​\n",
    " \n",
    "**Each column is a principal component:**\n",
    "\n",
    "=> First column = PC1 direction <br />\n",
    "=> Second column = PC2 direction <br />\n",
    "=> Third column = PC3 direction\n",
    "\n"
   ]
  },
  {
   "cell_type": "markdown",
   "id": "957c4d8d",
   "metadata": {},
   "source": [
    "### <center> 4. New Projected Data  <center />"
   ]
  },
  {
   "cell_type": "code",
   "execution_count": 82,
   "id": "54eb2e02",
   "metadata": {},
   "outputs": [
    {
     "name": "stdout",
     "output_type": "stream",
     "text": [
      "New data shape : (1025, 2)\n"
     ]
    },
    {
     "data": {
      "text/plain": [
       "array([[-0.75767773, -0.66632399],\n",
       "       [-0.27236598, -0.46964699],\n",
       "       [ 1.98501231, -1.0890134 ]])"
      ]
     },
     "execution_count": 82,
     "metadata": {},
     "output_type": "execute_result"
    }
   ],
   "source": [
    "## final touch our projected data \n",
    "pc =  eigen_vectors[0:2]\n",
    "new_data =  np.dot(data.iloc[:,:3],pc.T)  # (N,3) ● (3,2) =>  (N,2)\n",
    "print(\"New data shape :\",new_data.shape)\n",
    "new_data[:3]"
   ]
  },
  {
   "cell_type": "code",
   "execution_count": 83,
   "id": "ba8258d1",
   "metadata": {},
   "outputs": [
    {
     "data": {
      "text/html": [
       "<div>\n",
       "<style scoped>\n",
       "    .dataframe tbody tr th:only-of-type {\n",
       "        vertical-align: middle;\n",
       "    }\n",
       "\n",
       "    .dataframe tbody tr th {\n",
       "        vertical-align: top;\n",
       "    }\n",
       "\n",
       "    .dataframe thead th {\n",
       "        text-align: right;\n",
       "    }\n",
       "</style>\n",
       "<table border=\"1\" class=\"dataframe\">\n",
       "  <thead>\n",
       "    <tr style=\"text-align: right;\">\n",
       "      <th></th>\n",
       "      <th>PC1</th>\n",
       "      <th>PC2</th>\n",
       "      <th>target</th>\n",
       "    </tr>\n",
       "  </thead>\n",
       "  <tbody>\n",
       "    <tr>\n",
       "      <th>0</th>\n",
       "      <td>-0.757678</td>\n",
       "      <td>-0.666324</td>\n",
       "      <td>0</td>\n",
       "    </tr>\n",
       "    <tr>\n",
       "      <th>1</th>\n",
       "      <td>-0.272366</td>\n",
       "      <td>-0.469647</td>\n",
       "      <td>0</td>\n",
       "    </tr>\n",
       "  </tbody>\n",
       "</table>\n",
       "</div>"
      ],
      "text/plain": [
       "        PC1       PC2  target\n",
       "0 -0.757678 -0.666324       0\n",
       "1 -0.272366 -0.469647       0"
      ]
     },
     "execution_count": 83,
     "metadata": {},
     "output_type": "execute_result"
    }
   ],
   "source": [
    "\n",
    "new_df = pd.DataFrame(new_data,columns=['PC1','PC2'])\n",
    "new_df[\"target\"] =  data.target.values\n",
    "new_df.head(2)"
   ]
  },
  {
   "cell_type": "code",
   "execution_count": 84,
   "id": "f2e9c61c",
   "metadata": {},
   "outputs": [
    {
     "data": {
      "application/vnd.plotly.v1+json": {
       "config": {
        "plotlyServerURL": "https://plot.ly"
       },
       "data": [
        {
         "hovertemplate": "PC1=%{x}<br>PC2=%{y}<br>target=%{marker.color}<extra></extra>",
         "legendgroup": "",
         "marker": {
          "color": {
           "bdata": "AAAAAAABAAAAAAEAAQAAAQEAAQEAAQEBAQABAAAAAAEAAAEAAQEBAAEBAAABAQEAAQABAAEAAAABAQAAAQEAAQEAAQABAAAAAAAAAQEAAQEAAAABAQEBAAAAAQEAAAEBAQAAAQEBAQEBAAAAAAAAAQAAAAAAAAEBAQAAAQABAQEBAQEBAQEBAAEBAQEAAAABAQABAAEBAAAAAQABAQEBAQABAAAAAAABAQEBAAEBAAAAAAAAAAEAAQEAAAAAAAEBAQEAAQABAQABAQEBAQEAAQEAAQAAAQEBAAEAAAAAAQEBAQABAQAAAQABAQEAAAAAAQABAAEBAAABAQABAAAAAQEBAAEBAQEBAAEAAAABAQEBAAEAAQEAAQEBAQEAAQEBAQABAAEBAAAAAAEBAQEBAAEAAQEAAQAAAAEBAQEBAAEBAQAAAQEAAAABAQABAQAAAQEAAAEBAQEBAAABAAABAAABAAEAAAABAQEBAQABAAABAQAAAQABAQEBAAEAAAAAAAEBAAABAAABAAABAAABAQABAQEAAAEAAQABAAAAAAEBAQEBAQEBAAAAAQEAAAAAAQEBAQAAAQAAAAABAQEBAAEAAAEAAQABAAEBAQABAQEBAQEAAQABAQEBAAEAAAEAAAAAAQAAAAABAQEBAAABAQAAAQEBAQEBAAEAAQAAAQAAAAEAAAEAAAABAQAAAQABAQEAAQABAQEBAQABAAEBAAEAAAEBAQAAAAEAAAABAQABAQEAAAEBAQEBAQABAAABAQABAAEBAQAAAQAAAAABAAAAAAABAQABAAABAQEBAAAAAAAAAAAAAQEBAQAAAAAAAQAAAAEAAAEBAAABAAEAAQEAAQEBAAABAQEAAQEAAQEAAQABAAABAQEBAQABAAAAAQEAAAAAAQABAAAAAAAAAAABAQEAAQAAAQAAAAEAAQEBAAABAQABAAEBAQEAAAEBAAEBAQEAAAEAAQEAAQEAAQAAAAABAQABAQEAAAEBAQEBAQEBAAEBAAABAQEAAAAAAQEBAQAAAQEAAAABAAABAQEAAAAAAAAAAAEAAQEAAAEAAQAAAQEAAQEBAAAAAAEBAQEBAAAAAAEAAQEAAQABAQEAAAABAQEBAAEAAAAAAQABAAABAAAAAQEBAQAAAAAAAAEBAQEBAQEBAQAAAAEAAQEAAAAAAAABAAAAAQAAAAABAQEBAAEAAAEAAQEAAAAAAAEAAAABAAAAAAEBAAAAAQAAAAABAAEBAQABAQABAQEAAQEBAAEAAAEBAQEBAAEBAQEBAAEBAAEAAQEBAQEBAAABAAABAAEBAQEAAAABAQABAAABAAAAAAABAAEBAAEBAQAAAQAAAQAAAAABAQAAAQA=",
           "dtype": "i1"
          },
          "coloraxis": "coloraxis",
          "symbol": "circle"
         },
         "mode": "markers",
         "name": "",
         "showlegend": false,
         "type": "scattergl",
         "x": {
          "bdata": "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",
          "dtype": "f8"
         },
         "xaxis": "x",
         "y": {
          "bdata": "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",
          "dtype": "f8"
         },
         "yaxis": "y"
        }
       ],
       "layout": {
        "coloraxis": {
         "colorbar": {
          "title": {
           "text": "target"
          }
         },
         "colorscale": [
          [
           0,
           "#0d0887"
          ],
          [
           0.1111111111111111,
           "#46039f"
          ],
          [
           0.2222222222222222,
           "#7201a8"
          ],
          [
           0.3333333333333333,
           "#9c179e"
          ],
          [
           0.4444444444444444,
           "#bd3786"
          ],
          [
           0.5555555555555556,
           "#d8576b"
          ],
          [
           0.6666666666666666,
           "#ed7953"
          ],
          [
           0.7777777777777778,
           "#fb9f3a"
          ],
          [
           0.8888888888888888,
           "#fdca26"
          ],
          [
           1,
           "#f0f921"
          ]
         ]
        },
        "legend": {
         "tracegroupgap": 0
        },
        "margin": {
         "t": 60
        },
        "template": {
         "data": {
          "bar": [
           {
            "error_x": {
             "color": "#2a3f5f"
            },
            "error_y": {
             "color": "#2a3f5f"
            },
            "marker": {
             "line": {
              "color": "#E5ECF6",
              "width": 0.5
             },
             "pattern": {
              "fillmode": "overlay",
              "size": 10,
              "solidity": 0.2
             }
            },
            "type": "bar"
           }
          ],
          "barpolar": [
           {
            "marker": {
             "line": {
              "color": "#E5ECF6",
              "width": 0.5
             },
             "pattern": {
              "fillmode": "overlay",
              "size": 10,
              "solidity": 0.2
             }
            },
            "type": "barpolar"
           }
          ],
          "carpet": [
           {
            "aaxis": {
             "endlinecolor": "#2a3f5f",
             "gridcolor": "white",
             "linecolor": "white",
             "minorgridcolor": "white",
             "startlinecolor": "#2a3f5f"
            },
            "baxis": {
             "endlinecolor": "#2a3f5f",
             "gridcolor": "white",
             "linecolor": "white",
             "minorgridcolor": "white",
             "startlinecolor": "#2a3f5f"
            },
            "type": "carpet"
           }
          ],
          "choropleth": [
           {
            "colorbar": {
             "outlinewidth": 0,
             "ticks": ""
            },
            "type": "choropleth"
           }
          ],
          "contour": [
           {
            "colorbar": {
             "outlinewidth": 0,
             "ticks": ""
            },
            "colorscale": [
             [
              0,
              "#0d0887"
             ],
             [
              0.1111111111111111,
              "#46039f"
             ],
             [
              0.2222222222222222,
              "#7201a8"
             ],
             [
              0.3333333333333333,
              "#9c179e"
             ],
             [
              0.4444444444444444,
              "#bd3786"
             ],
             [
              0.5555555555555556,
              "#d8576b"
             ],
             [
              0.6666666666666666,
              "#ed7953"
             ],
             [
              0.7777777777777778,
              "#fb9f3a"
             ],
             [
              0.8888888888888888,
              "#fdca26"
             ],
             [
              1,
              "#f0f921"
             ]
            ],
            "type": "contour"
           }
          ],
          "contourcarpet": [
           {
            "colorbar": {
             "outlinewidth": 0,
             "ticks": ""
            },
            "type": "contourcarpet"
           }
          ],
          "heatmap": [
           {
            "colorbar": {
             "outlinewidth": 0,
             "ticks": ""
            },
            "colorscale": [
             [
              0,
              "#0d0887"
             ],
             [
              0.1111111111111111,
              "#46039f"
             ],
             [
              0.2222222222222222,
              "#7201a8"
             ],
             [
              0.3333333333333333,
              "#9c179e"
             ],
             [
              0.4444444444444444,
              "#bd3786"
             ],
             [
              0.5555555555555556,
              "#d8576b"
             ],
             [
              0.6666666666666666,
              "#ed7953"
             ],
             [
              0.7777777777777778,
              "#fb9f3a"
             ],
             [
              0.8888888888888888,
              "#fdca26"
             ],
             [
              1,
              "#f0f921"
             ]
            ],
            "type": "heatmap"
           }
          ],
          "histogram": [
           {
            "marker": {
             "pattern": {
              "fillmode": "overlay",
              "size": 10,
              "solidity": 0.2
             }
            },
            "type": "histogram"
           }
          ],
          "histogram2d": [
           {
            "colorbar": {
             "outlinewidth": 0,
             "ticks": ""
            },
            "colorscale": [
             [
              0,
              "#0d0887"
             ],
             [
              0.1111111111111111,
              "#46039f"
             ],
             [
              0.2222222222222222,
              "#7201a8"
             ],
             [
              0.3333333333333333,
              "#9c179e"
             ],
             [
              0.4444444444444444,
              "#bd3786"
             ],
             [
              0.5555555555555556,
              "#d8576b"
             ],
             [
              0.6666666666666666,
              "#ed7953"
             ],
             [
              0.7777777777777778,
              "#fb9f3a"
             ],
             [
              0.8888888888888888,
              "#fdca26"
             ],
             [
              1,
              "#f0f921"
             ]
            ],
            "type": "histogram2d"
           }
          ],
          "histogram2dcontour": [
           {
            "colorbar": {
             "outlinewidth": 0,
             "ticks": ""
            },
            "colorscale": [
             [
              0,
              "#0d0887"
             ],
             [
              0.1111111111111111,
              "#46039f"
             ],
             [
              0.2222222222222222,
              "#7201a8"
             ],
             [
              0.3333333333333333,
              "#9c179e"
             ],
             [
              0.4444444444444444,
              "#bd3786"
             ],
             [
              0.5555555555555556,
              "#d8576b"
             ],
             [
              0.6666666666666666,
              "#ed7953"
             ],
             [
              0.7777777777777778,
              "#fb9f3a"
             ],
             [
              0.8888888888888888,
              "#fdca26"
             ],
             [
              1,
              "#f0f921"
             ]
            ],
            "type": "histogram2dcontour"
           }
          ],
          "mesh3d": [
           {
            "colorbar": {
             "outlinewidth": 0,
             "ticks": ""
            },
            "type": "mesh3d"
           }
          ],
          "parcoords": [
           {
            "line": {
             "colorbar": {
              "outlinewidth": 0,
              "ticks": ""
             }
            },
            "type": "parcoords"
           }
          ],
          "pie": [
           {
            "automargin": true,
            "type": "pie"
           }
          ],
          "scatter": [
           {
            "fillpattern": {
             "fillmode": "overlay",
             "size": 10,
             "solidity": 0.2
            },
            "type": "scatter"
           }
          ],
          "scatter3d": [
           {
            "line": {
             "colorbar": {
              "outlinewidth": 0,
              "ticks": ""
             }
            },
            "marker": {
             "colorbar": {
              "outlinewidth": 0,
              "ticks": ""
             }
            },
            "type": "scatter3d"
           }
          ],
          "scattercarpet": [
           {
            "marker": {
             "colorbar": {
              "outlinewidth": 0,
              "ticks": ""
             }
            },
            "type": "scattercarpet"
           }
          ],
          "scattergeo": [
           {
            "marker": {
             "colorbar": {
              "outlinewidth": 0,
              "ticks": ""
             }
            },
            "type": "scattergeo"
           }
          ],
          "scattergl": [
           {
            "marker": {
             "colorbar": {
              "outlinewidth": 0,
              "ticks": ""
             }
            },
            "type": "scattergl"
           }
          ],
          "scattermap": [
           {
            "marker": {
             "colorbar": {
              "outlinewidth": 0,
              "ticks": ""
             }
            },
            "type": "scattermap"
           }
          ],
          "scattermapbox": [
           {
            "marker": {
             "colorbar": {
              "outlinewidth": 0,
              "ticks": ""
             }
            },
            "type": "scattermapbox"
           }
          ],
          "scatterpolar": [
           {
            "marker": {
             "colorbar": {
              "outlinewidth": 0,
              "ticks": ""
             }
            },
            "type": "scatterpolar"
           }
          ],
          "scatterpolargl": [
           {
            "marker": {
             "colorbar": {
              "outlinewidth": 0,
              "ticks": ""
             }
            },
            "type": "scatterpolargl"
           }
          ],
          "scatterternary": [
           {
            "marker": {
             "colorbar": {
              "outlinewidth": 0,
              "ticks": ""
             }
            },
            "type": "scatterternary"
           }
          ],
          "surface": [
           {
            "colorbar": {
             "outlinewidth": 0,
             "ticks": ""
            },
            "colorscale": [
             [
              0,
              "#0d0887"
             ],
             [
              0.1111111111111111,
              "#46039f"
             ],
             [
              0.2222222222222222,
              "#7201a8"
             ],
             [
              0.3333333333333333,
              "#9c179e"
             ],
             [
              0.4444444444444444,
              "#bd3786"
             ],
             [
              0.5555555555555556,
              "#d8576b"
             ],
             [
              0.6666666666666666,
              "#ed7953"
             ],
             [
              0.7777777777777778,
              "#fb9f3a"
             ],
             [
              0.8888888888888888,
              "#fdca26"
             ],
             [
              1,
              "#f0f921"
             ]
            ],
            "type": "surface"
           }
          ],
          "table": [
           {
            "cells": {
             "fill": {
              "color": "#EBF0F8"
             },
             "line": {
              "color": "white"
             }
            },
            "header": {
             "fill": {
              "color": "#C8D4E3"
             },
             "line": {
              "color": "white"
             }
            },
            "type": "table"
           }
          ]
         },
         "layout": {
          "annotationdefaults": {
           "arrowcolor": "#2a3f5f",
           "arrowhead": 0,
           "arrowwidth": 1
          },
          "autotypenumbers": "strict",
          "coloraxis": {
           "colorbar": {
            "outlinewidth": 0,
            "ticks": ""
           }
          },
          "colorscale": {
           "diverging": [
            [
             0,
             "#8e0152"
            ],
            [
             0.1,
             "#c51b7d"
            ],
            [
             0.2,
             "#de77ae"
            ],
            [
             0.3,
             "#f1b6da"
            ],
            [
             0.4,
             "#fde0ef"
            ],
            [
             0.5,
             "#f7f7f7"
            ],
            [
             0.6,
             "#e6f5d0"
            ],
            [
             0.7,
             "#b8e186"
            ],
            [
             0.8,
             "#7fbc41"
            ],
            [
             0.9,
             "#4d9221"
            ],
            [
             1,
             "#276419"
            ]
           ],
           "sequential": [
            [
             0,
             "#0d0887"
            ],
            [
             0.1111111111111111,
             "#46039f"
            ],
            [
             0.2222222222222222,
             "#7201a8"
            ],
            [
             0.3333333333333333,
             "#9c179e"
            ],
            [
             0.4444444444444444,
             "#bd3786"
            ],
            [
             0.5555555555555556,
             "#d8576b"
            ],
            [
             0.6666666666666666,
             "#ed7953"
            ],
            [
             0.7777777777777778,
             "#fb9f3a"
            ],
            [
             0.8888888888888888,
             "#fdca26"
            ],
            [
             1,
             "#f0f921"
            ]
           ],
           "sequentialminus": [
            [
             0,
             "#0d0887"
            ],
            [
             0.1111111111111111,
             "#46039f"
            ],
            [
             0.2222222222222222,
             "#7201a8"
            ],
            [
             0.3333333333333333,
             "#9c179e"
            ],
            [
             0.4444444444444444,
             "#bd3786"
            ],
            [
             0.5555555555555556,
             "#d8576b"
            ],
            [
             0.6666666666666666,
             "#ed7953"
            ],
            [
             0.7777777777777778,
             "#fb9f3a"
            ],
            [
             0.8888888888888888,
             "#fdca26"
            ],
            [
             1,
             "#f0f921"
            ]
           ]
          },
          "colorway": [
           "#636efa",
           "#EF553B",
           "#00cc96",
           "#ab63fa",
           "#FFA15A",
           "#19d3f3",
           "#FF6692",
           "#B6E880",
           "#FF97FF",
           "#FECB52"
          ],
          "font": {
           "color": "#2a3f5f"
          },
          "geo": {
           "bgcolor": "white",
           "lakecolor": "white",
           "landcolor": "#E5ECF6",
           "showlakes": true,
           "showland": true,
           "subunitcolor": "white"
          },
          "hoverlabel": {
           "align": "left"
          },
          "hovermode": "closest",
          "mapbox": {
           "style": "light"
          },
          "paper_bgcolor": "white",
          "plot_bgcolor": "#E5ECF6",
          "polar": {
           "angularaxis": {
            "gridcolor": "white",
            "linecolor": "white",
            "ticks": ""
           },
           "bgcolor": "#E5ECF6",
           "radialaxis": {
            "gridcolor": "white",
            "linecolor": "white",
            "ticks": ""
           }
          },
          "scene": {
           "xaxis": {
            "backgroundcolor": "#E5ECF6",
            "gridcolor": "white",
            "gridwidth": 2,
            "linecolor": "white",
            "showbackground": true,
            "ticks": "",
            "zerolinecolor": "white"
           },
           "yaxis": {
            "backgroundcolor": "#E5ECF6",
            "gridcolor": "white",
            "gridwidth": 2,
            "linecolor": "white",
            "showbackground": true,
            "ticks": "",
            "zerolinecolor": "white"
           },
           "zaxis": {
            "backgroundcolor": "#E5ECF6",
            "gridcolor": "white",
            "gridwidth": 2,
            "linecolor": "white",
            "showbackground": true,
            "ticks": "",
            "zerolinecolor": "white"
           }
          },
          "shapedefaults": {
           "line": {
            "color": "#2a3f5f"
           }
          },
          "ternary": {
           "aaxis": {
            "gridcolor": "white",
            "linecolor": "white",
            "ticks": ""
           },
           "baxis": {
            "gridcolor": "white",
            "linecolor": "white",
            "ticks": ""
           },
           "bgcolor": "#E5ECF6",
           "caxis": {
            "gridcolor": "white",
            "linecolor": "white",
            "ticks": ""
           }
          },
          "title": {
           "x": 0.05
          },
          "xaxis": {
           "automargin": true,
           "gridcolor": "white",
           "linecolor": "white",
           "ticks": "",
           "title": {
            "standoff": 15
           },
           "zerolinecolor": "white",
           "zerolinewidth": 2
          },
          "yaxis": {
           "automargin": true,
           "gridcolor": "white",
           "linecolor": "white",
           "ticks": "",
           "title": {
            "standoff": 15
           },
           "zerolinecolor": "white",
           "zerolinewidth": 2
          }
         }
        },
        "xaxis": {
         "anchor": "y",
         "domain": [
          0,
          1
         ],
         "title": {
          "text": "PC1"
         }
        },
        "yaxis": {
         "anchor": "x",
         "domain": [
          0,
          1
         ],
         "title": {
          "text": "PC2"
         }
        }
       }
      }
     },
     "metadata": {},
     "output_type": "display_data"
    }
   ],
   "source": [
    "## OUR NEW DATA \n",
    "fig =  px.scatter(new_df,x=\"PC1\",y=\"PC2\",color=\"target\")\n",
    "fig.show()"
   ]
  },
  {
   "cell_type": "markdown",
   "id": "1ea6c930",
   "metadata": {},
   "source": [
    "## PCA code \n",
    "(For explained_variance_ratio)"
   ]
  },
  {
   "cell_type": "code",
   "execution_count": 86,
   "id": "e2bd8214",
   "metadata": {},
   "outputs": [
    {
     "data": {
      "text/plain": [
       "array([[62.,  0.,  0., ...,  2.,  0.,  2.],\n",
       "       [40.,  1.,  0., ...,  1.,  0.,  3.],\n",
       "       [55.,  0.,  1., ...,  2.,  0.,  2.],\n",
       "       ...,\n",
       "       [58.,  1.,  1., ...,  1.,  0.,  2.],\n",
       "       [50.,  1.,  0., ...,  1.,  0.,  3.],\n",
       "       [64.,  0.,  2., ...,  2.,  0.,  3.]])"
      ]
     },
     "execution_count": 86,
     "metadata": {},
     "output_type": "execute_result"
    }
   ],
   "source": [
    "## using same data \n",
    "x =  raw.data.drop(columns=[\"target\"]).values\n",
    "y = raw.data[\"target\"].values \n",
    "\n",
    "x_train,x_test,y_train,y_test =  train_test_split(x,y,test_size=0.2)\n",
    "x_train"
   ]
  },
  {
   "cell_type": "code",
   "execution_count": 92,
   "id": "5326fbd1",
   "metadata": {},
   "outputs": [
    {
     "data": {
      "text/plain": [
       "13"
      ]
     },
     "execution_count": 92,
     "metadata": {},
     "output_type": "execute_result"
    }
   ],
   "source": [
    "# NO OF MAX COMPONENTS = n(PC) <= n\n",
    "max_components = min(x_train.shape[0], x_train.shape[1])\n",
    "max_components"
   ]
  },
  {
   "cell_type": "code",
   "execution_count": 93,
   "id": "bd55fbc1",
   "metadata": {},
   "outputs": [
    {
     "name": "stdout",
     "output_type": "stream",
     "text": [
      "C : 1 || SCORE : 1.0 \n",
      "C : 2 || SCORE : 1.0 \n",
      "C : 3 || SCORE : 1.0 \n",
      "C : 4 || SCORE : 1.0 \n",
      "C : 5 || SCORE : 1.0 \n",
      "C : 6 || SCORE : 0.9853658536585366 \n",
      "C : 7 || SCORE : 1.0 \n",
      "C : 8 || SCORE : 1.0 \n",
      "C : 9 || SCORE : 1.0 \n",
      "C : 10 || SCORE : 1.0 \n",
      "C : 11 || SCORE : 1.0 \n",
      "C : 12 || SCORE : 1.0 \n",
      "C : 13 || SCORE : 1.0 \n"
     ]
    }
   ],
   "source": [
    "\n",
    "for c in range(1,14):\n",
    "    pca =  PCA(n_components=c,svd_solver='auto')\n",
    "    x_train_tf =  pca.fit_transform(x_train)\n",
    "    x_test_tf =  pca.transform(x_test)\n",
    "    \n",
    "    model =  RandomForestClassifier()\n",
    "    model.fit(x_train_tf,y_train)\n",
    "    \n",
    "    score = model.score(x_test_tf,y_test)\n",
    "    \n",
    "    print(f\"C : {c} || SCORE : {score} \")"
   ]
  },
  {
   "cell_type": "code",
   "execution_count": 94,
   "id": "86d45816",
   "metadata": {},
   "outputs": [
    {
     "data": {
      "application/vnd.plotly.v1+json": {
       "config": {
        "plotlyServerURL": "https://plot.ly"
       },
       "data": [
        {
         "hovertemplate": "x=%{x}<br>y=%{y}<br>z=%{z}<br>color=%{marker.color}<extra></extra>",
         "legendgroup": "",
         "marker": {
          "color": {
           "bdata": "AQABAAABAQEBAAABAAABAQABAQEBAAABAQAAAQEBAQEBAQABAQAAAAEBAAEAAQAAAQEAAQEAAAEAAAEAAQEAAAEAAQEBAAABAQAAAQAAAQEBAAAAAQEBAQAAAQABAQEAAQABAQABAAEAAAAAAQAAAQEBAQAAAQEAAQABAQABAQABAAAAAAEAAQEAAAEAAQEBAQABAAEAAQEBAQEBAAAAAQEBAAABAQAAAQABAQEBAAAAAAEAAAAAAAABAQEAAAEAAAABAAEBAAEAAQEBAQAAAQAAAQEBAAABAAABAAEBAQEAAQEBAQEAAAEBAQEAAQEAAAEBAAEAAAABAQAAAAEBAAEBAQABAAEBAAABAQAAAQAAAAEBAAABAAEBAAABAAABAAEAAAAAAQAAAQEBAAEAAQAAAQABAQEBAQABAQEAAAEAAAABAQEBAQEBAAEAAAAAAAEAAQAAAAABAQEAAQAAAAEBAQAAAAAAAQAAAAABAAEAAQEBAAABAQEAAAAAAAEBAAAAAQEBAAABAQAAAQAAAQAAAQAAAQABAAAAAAEBAAEBAQEBAAEBAQAAAQABAQAAAQEAAQABAQEBAAEBAQAAAQABAQEAAAEAAAAAAQEAAAEBAAEBAAABAAEAAAEAAQEBAAEBAAAAAAEAAQEBAQABAAAAAQEBAQAAAAEAAQAAAAEBAQEAAAAAAQAAAAEAAAEAAQEBAQAAAQEAAQEAAQEBAQABAQEBAAEBAAEAAQABAAAAAAAAAAEBAQEAAQAAAAEAAQABAAEBAQEBAAABAQEAAAABAAEAAAEBAQAAAAEAAAEBAAAAAQAAAAEBAAABAQEBAAEBAAEBAAEAAQEAAQEBAQEBAQEAAAAAAQAAAAEAAQABAQAAAQEAAAEAAAEBAQABAQEBAQEBAAAAAAEAAAEBAQEAAQEBAAABAAABAAEBAAAAAQEBAQEAAAABAQEBAQAAAQAAAAAAAAAAAQEAAAABAAABAAABAAEBAAABAQAAAAAAAAAAAAABAQAAAAEAAAAAAQEBAAABAAEAAAAAAQAAAQABAQABAAABAAEAAAABAAEBAAAAAQEAAQEBAQEAAQABAQAAAQ==",
           "dtype": "i1"
          },
          "coloraxis": "coloraxis",
          "symbol": "circle"
         },
         "mode": "markers",
         "name": "",
         "scene": "scene",
         "showlegend": false,
         "type": "scatter3d",
         "x": {
          "bdata": "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",
          "dtype": "f8"
         },
         "y": {
          "bdata": "IPv1hayuKECYrSaRJGk/wGjB68UAwjJAjPUyZ8t0NcC89ejAKF1IwKjsqS6wFjpAvra7Zxf/RcC0Gk88+E9EQAAfE1i7cCxAKBPE3g/oM0Dc3b8xIZw1wHhYKCX8MD1AsNVuJkqiGsCgcNWfcqcmwEAjvheKUSxAIHiht2CpGkDgpFy9JjUOwAhPnY+mFjhAUBEJ+cOYSsCA0WsoS3X3v0gbKeTjhD1AaIVrCN+IMEBAkLfyD3wjwJBIiXOuWyBAwJwXoNxBO0AwyrPYM1MhQLr5iqUPfUnALNhpEplBQkCQQPrSQMA6wABK0vi9KgBAgOGAlGBKIUCAHaW1iyUPQOCbJYCiwzVAqOypLrAWOkCYrSaRJGk/wNhU+2LMUDjAQFZ14gZ3JUASfppvuqxOwCx3WxWbUzrAfMoXHffLRsBgducYPuYkQKBn23R+LjlAQLKS9QZaMsD424yDridHQNBplNq0P0rAQOTR37rAI0CAd2dapZo4QOgfFGDoQz5A8DTDaXU0LkBwxj2R6OkuQPDejCUIFx7A0InGI0t8NkAAWn3PbpH/v1D+X62DfilAKFnDq9aSMsCo7KkusBY6QPAMZTM+nRTAYG388GoOIkCgDB831EoRQDDKs9gzUyFAJN7n9Gg6PcC4mvGQdl44QABpcnMC/hXA8CbjUqBDNcBA2CwJGvsxQGiFawjfiDBAAADzM7x7279UdKCFXvFAQAAcaJxwawNAWBLpGUWLNEBwFSKe4OwgQAxgWdjEDkJAEMBZLmMUJkCoIXjqR0REQIw50ofnmDLA4IE91fujEcCgUAZmrIwcwDA8I0tXVSVAaH97I7qOMEAAWI0KcOzYP/Dy2qCzhytAykgQNVsAQcBACN0BBqAlQCBsvaK7EBtAuJuVgLamOUB4WIqAf/M0QDDJAt9WjyXAOFSzARvBO0BQ3oKlDU0iQGD3+lSDXUPA2AM1SCq9P0Doi/HTFqcswAA8T/uo5PE/ANmBGH8sIsAQmTUXNYIkQECykvUGWjLA8PLaoLOHK0AYxRK2a802QACgFuVbU+Q/0GV0Ozg0NkC8B34HEWpTwNDIHSx5GTxAJvY2127OQsCY3us29yA7QLAqDI+sCETAcpRoCqJ1RcASfppvuqxOwECQt/IPfCPAEIUsGVXRMEBuvnsAMnJDwOgV8orK6SjALOZHQ0sfQUCg7glwXGwGwCi3EA91AjhA+NuMg64nR0Bg9/pUg11DwDiYJtCMHCHAADxP+6jk8T9gxxUHlMIlQMBfUgPdGSnA+KrTQTzeMkDgZN+5QF42wHxdUnARrDrAUBEJ+cOYSsBwvzn5XcAlQMhOzFt5OD9AkED60kDAOsBAWEbFm0AoQOCBPdX7oxHAAPjHwbwL0D9wvhrXWSc6wMBfUgPdGSnAMMqz2DNTIUDkJw8GCONLQKhvl7IGBkbAgM0sOzHCEkDITsxbeTg/QChZw6vWkjLAdPymnIv4OsD4ycVxeBA9QOBk37lAXjbALNhpEplBQkDQXPXd1QM2QIAMWzaFTA9AOBA4SPztNcBAEapOIa4EQAAfE1i7cCxAUOlBmUTLEsB6fG9iuqlBwMpIEDVbAEHAVHSghV7xQEC0/y20TAgzwKidrrklVjRAEH4E0663K0DgOQx8cKEZQHDGPZHo6S5A3N2/MSGcNcAwb5cOzyUXwNZzGo1l8kLA+CmDR95XMUCA4YCUYEohQKAmL8R4dArA0Ky59Nb4J0AAoBR7JKPiP7zUBbayTkRAiMY+Rog8MUCg5Fx+BcQ0QIBaaCzvngZAKAQGIAM5N0DKSBA1WwBBwOQnDwYI40tA6MyUOn3qQkCgS6P4FFg/QCADQqokwyDAqCF46kdEREBARFHkhwkrwAAxptoBwRHAOJgm0IwcIcC0/y20TAgzwPRnfhn2HTXAoHDVn3KnJsAAoBR7JKPiP+CkXL0mNQ7A8N6MJQgXHsBQkbioXsskwJBIiXOuWyBA8F66SdZGPUCwVL7eLAw4wAAxptoBwRHAkIPdX0QPFsC4mvGQdl44QHKUaAqidUXA8AxlMz6dFMCg281fxykPwHDGPZHo6S5A4LSLZVq2AsCIy440KyQmwGCpUG5PGyFAOJjVLxZwPsAAStL4vSoAQNZkhOdiXEbA6ANI36ynR0A4VLMBG8E7QABgPTfoqcI/IE9sBvjNMkCg281fxykPwH4qsUZjJEbAePPANm2UP0AmO5aVgAxCwPDejCUIFx7AJE/WvvYdQ8D4Lu+BG4g0QKBn23R+LjlAkIPdX0QPFsCg62DR22YjQPjJxXF4ED1AWBLpGUWLNECQr45FgINEwAAA8zO8e9u/cL4a11knOsD4aI1aZDwxQKADwJ5WPjxA6ItaXDU7M0AoBAYgAzk3QKBw1Z9ypybA4HI2vwbgE8Ag+/WFrK4oQEAL6aqb8R9AAJUGW7sQFsAAwqMItV/bPwC4nPRUFg1AADUoTw1NFcCAYTG5SMEVwOjMlDp96kJAYHbnGD7mJEA4VLMBG8E7QDiY1S8WcD7AuJrxkHZeOEBQEQn5w5hKwKDkXH4FxDRAMGFEPVEGIkCona65JVY0QFie/JlMCTdAfGZ00V0cMMBYnuayUhslwJQkaRVklTTAKL8b1PgtIcAwYUQ9UQYiQDDJAt9WjyXAVGplPDacQMBQ5LN9X/cYwCB60HJ31xVAADGm2gHBEcD4Lu+BG4g0QBiOjOJvnztAUP5frYN+KUAA2YEYfywiwPTFvrv1gTDAsDFzACjcQ0AAxUvPyroRQKAMHzfUShFAoORcfgXENED4qtNBPN4yQLBl6QCPNyJA8Iyak8QcLcBwvzn5XcAlQMD3UgxixAJA+CmDR95XMUCgUAZmrIwcwEg7j5da+SHA+GiNWmQ8MUB8ZnTRXRwwwCY7lpWADELAdPymnIv4OsBgjkHFCu0xQIDLazEhZAJAvPXowChdSMBwV6pIfQw4QOiLWlw1OzNAoORcfgXENEAALc2mkTsVwBB+BNOutytA6Ivx0xanLMDAX1ID3RkpwAA6HQsEHQlAUDNF7VdxIEBgyKiHgKQoQJjOu9xl+zTA6B8UYOhDPkD4ag4vSnBDQCx3WxWbUzrAUIGM+jfhIUBQjAZ07SEuwDSZ1h7KlDHAuJrxkHZeOEBQgYz6N+EhQKh7S44DfSDA0JH65HcXMkDYAzVIKr0/QDQ5/bD55jbAyJuy7rdvNUB6fG9iuqlBwOgV8orK6SjAwBAKxGBCIEC4Y7N7VDUzQBJ+mm+6rE7ADGBZ2MQOQkBKwoknFHxAwPiiXdFxIC3AAMKjCLVf2z+g7glwXGwGwFie5rJSGyXAmN7rNvcgO0Am9jbXbs5CwPAxax3AH0JAkEiJc65bIEDgGlQ47GIkQLAqDI+sCETAAPrYB/goDcAAlQZbuxAWwMBaPy4/EDTAAPjHwbwL0D98ZnTRXRwwwFie5rJSGyXATLAbZ2cvQ8Cg7glwXGwGwBCFLBlV0TBA4BpUOOxiJECwMXMAKNxDQLzUBbayTkRAOJgm0IwcIcCA1oAxtNAewLz16MAoXUjAeNvsM9GlP0Cg62DR22YjQECykvUGWjLAeAxgFHk7McAgT2wG+M0yQPCMmpPEHC3AfF1ScBGsOsDWcxqNZfJCwMD0CyrSRAHA4IaBp0mjEED0Z34Z9h01wIAMC/gkSPk/GI6M4m+fO0As2GkSmUFCQLr5iqUPfUnAfF1ScBGsOsCQg91fRA8WwCCu/0QnUxbAdPymnIv4OsCADFs2hUwPQECtqp4RPStAQMD4q7RVJEDwJuNSoEM1wLAqDI+sCETAGMUStmvNNkCg281fxykPwJzZ5Iq2SDTA2AM1SCq9P0BoO5/7f/4gwCi/G9T4LSHAkMLvUWAaK0Cw1W4mSqIawOgDSN+sp0dAeNvsM9GlP0AQhSwZVdEwQDQZh43tET3A0J12/7u9JkBgxxUHlMIlQEAjvheKUSxAkMLvUWAaK0DoFfKKyukowAA8T/uo5PE/0Fz13dUDNkBgxxUHlMIlQAC4nPRUFg1ATDMe+OcEQkCcQIGlsINPwEBHb4WGTSdAQFhGxZtAKEAAHGiccGsDQGBnCFcC5kBA8DR7T3OAJ0A8KPL99sU6wOC0i2VatgLA0MgdLHkZPECY3us29yA7QMCLVfMYCiRAMDwjS1dVJUDgZN+5QF42wNBldDs4NDZAqJ2uuSVWNEA8XdpOfM03wDgReb9Z9TJAMMkC31aPJcA4EXm/WfUyQOC48cVzUQ7AIANCqiTDIMA4mCbQjBwhwFgS6RlFizRAQJRDGdk7OEBKdo4APDtGwACgFHsko+I/ACocdUKrEkCwqqtTL7I6wAAcaJxwawNAoPXStOPECMAAxUvPyroRQDQZh43tET3AwP4ymcE7M8DAnBeg3EE7QFR0oIVe8UBAaIVrCN+IMEAowK9bnBszwEAL6aqb8R9AeLLTcMxUQUAAoBblW1PkP/Axax3AH0JAoPXStOPECMDgGlQ47GIkQOjMlDp96kJAuHmOXDDuOkBQ3oKlDU0iQEwzHvjnBEJAgMtrMSFkAkBoO5/7f/4gwOCDCKTCxS7AAFiNCnDs2D8ovxvU+C0hwCB60HJ31xVA8ArpCuKUJEDgOQx8cKEZQADFS8/KuhFAYML5DLhLLUCMOdKH55gywHhYKCX8MD1AgNaAMbTQHsCIfMKQP4MvwKADwJ5WPjxAQERR5IcJK8CADAv4JEj5P6D/YMUtBTNAQAvpqpvxH0CAd4cY6hoVQLyk5zk1JjrAwJwXoNxBO0AgbL2iuxAbQCi3EA91AjhA+MnFcXgQPUAw98K1NbgcwAD62Af4KA3AvAd+BxFqU8BAraqeET0rQHjb7DPRpT9A4LSLZVq2AsB+KrFGYyRGwBDdA+2jH0PAQMD4q7RVJEDgcja/BuATwNCsufTW+CdAgDenXRMpGkAQmTUXNYIkQIh8wpA/gy/ANJnWHsqUMcDgAQofcN0oQIDhgJRgSiFA0GmU2rQ/SsBAR2+Fhk0nQHBYIVFZCidAgHdnWqWaOECg/2DFLQUzQCgTxN4P6DNAWBLpGUWLNECo5hHc5Xc0QFCBjPo34SFAgGExuUjBFcAowK9bnBszwOCDCKTCxS7AQERR5IcJK8AgeKG3YKkaQIjGPkaIPDFA0GmU2rQ/SsBAWEbFm0AoQIBpXuYIQ/4/nECBpbCDT8CAYTG5SMEVwKAsgqxw6TZAQK2qnhE9K0BUdKCFXvFAQNBldDs4NDZA0J12/7u9JkBAEapOIa4EQFAIe3LgoDJANJnWHsqUMcAm9jbXbs5CwJQkaRVklTTAgGxB3PJzEcBAVnXiBnclQKDdBdItJRBA+KJd0XEgLcBgbfzwag4iQMCBAnSZDi/AAGlycwL+FcDAMGI2/lQpQPBHUpWkRRjAGI6M4m+fO0Agrv9EJ1MWwNZzGo1l8kLAALic9FQWDUC0Gk88+E9EQCRP1r72HUPAAFp9z26R/7+ADFs2hUwPQKBQBmasjBzAgHeHGOoaFUDA9Asq0kQBwFCMBnTtIS7A+GiNWmQ8MUBoO5/7f/4gwFDegqUNTSJAgHeHGOoaFUCAbEHc8nMRwKhvl7IGBkbAoOtg0dtmI0CYzrvcZfs0wEARqk4hrgRA+K7c17gwOEC4mvGQdl44QECUQxnZOzhAgNFrKEt197+A4/KIzywDwFCMBnTtIS7A5CcPBgjjS0AACETlqSLXP1DpQvVVnylAVGplPDacQMAMYFnYxA5CQJzZ5Iq2SDTAQOTR37rAI0AgA0KqJMMgwJB4V77/MiJAwBAKxGBCIEAsd1sVm1M6wGB25xg+5iRA+CmDR95XMUDkJw8GCONLQFRqZTw2nEDAaDuf+3/+IMC+trtnF/9FwHBYIVFZCidAAGlycwL+FcB4WIqAf/M0QBIcxEnocUPAiMuONCskJsDA/jKZwTszwCjAr1ucGzPA8EdSlaRFGMAgetByd9cVQEBHb4WGTSdAUMXwYLmuH8AoWcOr1pIywKgheOpHRERAEhzESehxQ8CA1oAxtNAewLBl6QCPNyJAQK2qnhE9K0CAxvUSkEgqQABrTgIEARpAYGcIVwLmQEBQkbioXsskwNZkhOdiXEbAMDwjS1dVJUD424yDridHQCCu/0QnUxbAoAwfN9RKEUDIm7Lut281QLzUBbayTkRAPCjy/fbFOsBIGynk44Q9QDQ5/bD55jbAgNFrKEt1978gT2wG+M0yQGDC+Qy4Sy1AjhxF9hPRScB8yhcd98tGwNCR+uR3FzJA0JH65HcXMkAAOh0LBB0JQCb2NtduzkLAUDNF7VdxIEDgpFy9JjUOwFAIe3LgoDJAoCyCrHDpNkCg5GMHngshQFAzRe1XcSBANBmHje0RPcAALc2mkTsVwDQ5/bD55jbAKMCvW5wbM8A4mNUvFnA+wErCiScUfEDAgHdnWqWaOEDw2hC9wD4lQABrTgIEARpALHdbFZtTOsDQu9GSFLUpQLBUvt4sDDjAUP5frYN+KUAovxvU+C0hwFD+X62DfilA4DkMfHChGUBwFSKe4OwgQCY7lpWADELAuGOze1Q1M0A4EDhI/O01wFzaAr0a9TbAvKTnOTUmOsAoE8TeD+gzQOCbJYCiwzVAUAh7cuCgMkCQQPrSQMA6wLia8ZB2XjhA8CbjUqBDNcDwNMNpdTQuQJD+Sy5rtTRAoCyCrHDpNkAAKhx1QqsSQBDAWS5jFCZAOBF5v1n1MkB48bUmIec5QEARqk4hrgRAaH97I7qOMEAAxd5iRFY7QMibsu63bzVAAADzM7x7279gZwhXAuZAQPgu74EbiDRAaH97I7qOMEC0/y20TAgzwJJ+4dEx9ELAQOTR37rAI0BgjkHFCu0xQMD0CyrSRAHAgDenXRMpGkD0Z34Z9h01wJQkaRVklTTAAAhE5aki1z8gbL2iuxAbQNBplNq0P0rAUOSzfV/3GMAAStL4vSoAQKD10rTjxAjA4IMIpMLFLsAwb5cOzyUXwEBWdeIGdyVAenxvYrqpQcBuvnsAMnJDwLDVbiZKohrA+K7c17gwOEBA2CwJGvsxQDwo8v32xTrAAN0RwBBvOcC+trtnF/9FwAAxptoBwRHASnaOADw7RsBAwPirtFUkQIBhMblIwRXAgMb1EpBIKkBgyKiHgKQoQGCpUG5PGyFApL/4hhT1QEC0/y20TAgzwPiq00E83jJAAAhE5aki1z8A2YEYfywiwFie/JlMCTdAgGle5ghD/j8Q3QPtox9DwLr5iqUPfUnA6Ivx0xanLMDQXPXd1QM2QH4qsUZjJEbAqHtLjgN9IMAgzBH+I6MkQFie/JlMCTdAgB2ltYslD0DYVPtizFA4wOCGgadJoxBA8NoQvcA+JUBYnvyZTAk3QHBYIVFZCidAcFeqSH0MOEBQM0XtV3EgQCTe5/RoOj3AUIwGdO0hLsB0oEhbJgQ7wFzaAr0a9TbAYMioh4CkKEAoBAYgAzk3QFzaAr0a9TbA1mSE52JcRsDwJuNSoEM1wFDpQZlEyxLAwBAKxGBCIEC4m5WAtqY5QABafc9ukf+/oN0F0i0lEEAghEVYPZUMwKCVd6X7gzfAdKBIWyYEO8B0/Kaci/g6wAhPnY+mFjhA0InGI0t8NkAALc2mkTsVwNBldDs4NDZAeFgoJfwwPUDwDGUzPp0UwIA3p10TKRpAgMtrMSFkAkBQkbioXsskwLQT4wsSqkHAuGOze1Q1M0AA+tgH+CgNwHgMYBR5OzHAvAd+BxFqU8DwNHtPc4AnQCCu/0QnUxbALOZHQ0sfQUDgcja/BuATwKD10rTjxAjAcL85+V3AJUCM9TJny3Q1wADF3mJEVjtAEN0D7aMfQ8DA/jKZwTszwPDaEL3APiVA4IaBp0mjEEBQxfBgua4fwOABCh9w3ShAcL4a11knOsCQeFe+/zIiQIDG9RKQSCpAkK+ORYCDRMCA4/KIzywDwKAmL8R4dArAAGA9N+ipwj+YrSaRJGk/wCDABBlnZDZAjhxF9hPRScBwFSKe4OwgQDwo8v32xTrAwFo/Lj8QNMCcQIGlsINPwKhvl7IGBkbA4KRcvSY1DsBwFSKe4OwgQJBA+tJAwDrASJm9mkslP0AgwAQZZ2Q2QEBEUeSHCSvA3N2/MSGcNcDQnXb/u70mQMBaPy4/EDTAoNvNX8cpD8BwvhrXWSc6wFDF8GC5rh/AADodCwQdCUAotxAPdQI4QKBLo/gUWD9AIMAEGWdkNkBg9/pUg11DwCDMEf4joyRAUN6CpQ1NIkDA91IMYsQCQFCBjPo34SFAgHeHGOoaFUBACN0BBqAlQIDj8ojPLAPApL/4hhT1QEB8ZnTRXRwwwKhvl7IGBkbAqOYR3OV3NEBg9/pUg11DwAAqHHVCqxJAAGA9N+ipwj/QrLn01vgnQAAfE1i7cCxAjhxF9hPRScCAaV7mCEP+P8CLVfMYCiRAdKBIWyYEO8C4eY5cMO46QMCBAnSZDi/A8N6MJQgXHsBIO4+XWvkhwOiLWlw1OzNAjhxF9hPRScBImb2aSyU/QAAIROWpItc/oJV3pfuDN8DwR1KVpEUYwDgReb9Z9TJA8DTDaXU0LkCkv/iGFPVAQADFS8/KuhFAsDFzACjcQ0Aw98K1NbgcwCB4obdgqRpAYKlQbk8bIUCIxj5GiDwxQJDC71FgGitA0LvRkhS1KUBAkLfyD3wjwJB4V77/MiJAuJuVgLamOUBAWEbFm0AoQDxd2k58zTfA9MW+u/WBMMA=",
          "dtype": "f8"
         },
         "z": {
          "bdata": "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",
          "dtype": "f8"
         }
        }
       ],
       "layout": {
        "coloraxis": {
         "colorbar": {
          "title": {
           "text": "color"
          }
         },
         "colorscale": [
          [
           0,
           "#0d0887"
          ],
          [
           0.1111111111111111,
           "#46039f"
          ],
          [
           0.2222222222222222,
           "#7201a8"
          ],
          [
           0.3333333333333333,
           "#9c179e"
          ],
          [
           0.4444444444444444,
           "#bd3786"
          ],
          [
           0.5555555555555556,
           "#d8576b"
          ],
          [
           0.6666666666666666,
           "#ed7953"
          ],
          [
           0.7777777777777778,
           "#fb9f3a"
          ],
          [
           0.8888888888888888,
           "#fdca26"
          ],
          [
           1,
           "#f0f921"
          ]
         ]
        },
        "legend": {
         "tracegroupgap": 0
        },
        "margin": {
         "t": 60
        },
        "scene": {
         "domain": {
          "x": [
           0,
           1
          ],
          "y": [
           0,
           1
          ]
         },
         "xaxis": {
          "title": {
           "text": "x"
          }
         },
         "yaxis": {
          "title": {
           "text": "y"
          }
         },
         "zaxis": {
          "title": {
           "text": "z"
          }
         }
        },
        "template": {
         "data": {
          "bar": [
           {
            "error_x": {
             "color": "#2a3f5f"
            },
            "error_y": {
             "color": "#2a3f5f"
            },
            "marker": {
             "line": {
              "color": "#E5ECF6",
              "width": 0.5
             },
             "pattern": {
              "fillmode": "overlay",
              "size": 10,
              "solidity": 0.2
             }
            },
            "type": "bar"
           }
          ],
          "barpolar": [
           {
            "marker": {
             "line": {
              "color": "#E5ECF6",
              "width": 0.5
             },
             "pattern": {
              "fillmode": "overlay",
              "size": 10,
              "solidity": 0.2
             }
            },
            "type": "barpolar"
           }
          ],
          "carpet": [
           {
            "aaxis": {
             "endlinecolor": "#2a3f5f",
             "gridcolor": "white",
             "linecolor": "white",
             "minorgridcolor": "white",
             "startlinecolor": "#2a3f5f"
            },
            "baxis": {
             "endlinecolor": "#2a3f5f",
             "gridcolor": "white",
             "linecolor": "white",
             "minorgridcolor": "white",
             "startlinecolor": "#2a3f5f"
            },
            "type": "carpet"
           }
          ],
          "choropleth": [
           {
            "colorbar": {
             "outlinewidth": 0,
             "ticks": ""
            },
            "type": "choropleth"
           }
          ],
          "contour": [
           {
            "colorbar": {
             "outlinewidth": 0,
             "ticks": ""
            },
            "colorscale": [
             [
              0,
              "#0d0887"
             ],
             [
              0.1111111111111111,
              "#46039f"
             ],
             [
              0.2222222222222222,
              "#7201a8"
             ],
             [
              0.3333333333333333,
              "#9c179e"
             ],
             [
              0.4444444444444444,
              "#bd3786"
             ],
             [
              0.5555555555555556,
              "#d8576b"
             ],
             [
              0.6666666666666666,
              "#ed7953"
             ],
             [
              0.7777777777777778,
              "#fb9f3a"
             ],
             [
              0.8888888888888888,
              "#fdca26"
             ],
             [
              1,
              "#f0f921"
             ]
            ],
            "type": "contour"
           }
          ],
          "contourcarpet": [
           {
            "colorbar": {
             "outlinewidth": 0,
             "ticks": ""
            },
            "type": "contourcarpet"
           }
          ],
          "heatmap": [
           {
            "colorbar": {
             "outlinewidth": 0,
             "ticks": ""
            },
            "colorscale": [
             [
              0,
              "#0d0887"
             ],
             [
              0.1111111111111111,
              "#46039f"
             ],
             [
              0.2222222222222222,
              "#7201a8"
             ],
             [
              0.3333333333333333,
              "#9c179e"
             ],
             [
              0.4444444444444444,
              "#bd3786"
             ],
             [
              0.5555555555555556,
              "#d8576b"
             ],
             [
              0.6666666666666666,
              "#ed7953"
             ],
             [
              0.7777777777777778,
              "#fb9f3a"
             ],
             [
              0.8888888888888888,
              "#fdca26"
             ],
             [
              1,
              "#f0f921"
             ]
            ],
            "type": "heatmap"
           }
          ],
          "histogram": [
           {
            "marker": {
             "pattern": {
              "fillmode": "overlay",
              "size": 10,
              "solidity": 0.2
             }
            },
            "type": "histogram"
           }
          ],
          "histogram2d": [
           {
            "colorbar": {
             "outlinewidth": 0,
             "ticks": ""
            },
            "colorscale": [
             [
              0,
              "#0d0887"
             ],
             [
              0.1111111111111111,
              "#46039f"
             ],
             [
              0.2222222222222222,
              "#7201a8"
             ],
             [
              0.3333333333333333,
              "#9c179e"
             ],
             [
              0.4444444444444444,
              "#bd3786"
             ],
             [
              0.5555555555555556,
              "#d8576b"
             ],
             [
              0.6666666666666666,
              "#ed7953"
             ],
             [
              0.7777777777777778,
              "#fb9f3a"
             ],
             [
              0.8888888888888888,
              "#fdca26"
             ],
             [
              1,
              "#f0f921"
             ]
            ],
            "type": "histogram2d"
           }
          ],
          "histogram2dcontour": [
           {
            "colorbar": {
             "outlinewidth": 0,
             "ticks": ""
            },
            "colorscale": [
             [
              0,
              "#0d0887"
             ],
             [
              0.1111111111111111,
              "#46039f"
             ],
             [
              0.2222222222222222,
              "#7201a8"
             ],
             [
              0.3333333333333333,
              "#9c179e"
             ],
             [
              0.4444444444444444,
              "#bd3786"
             ],
             [
              0.5555555555555556,
              "#d8576b"
             ],
             [
              0.6666666666666666,
              "#ed7953"
             ],
             [
              0.7777777777777778,
              "#fb9f3a"
             ],
             [
              0.8888888888888888,
              "#fdca26"
             ],
             [
              1,
              "#f0f921"
             ]
            ],
            "type": "histogram2dcontour"
           }
          ],
          "mesh3d": [
           {
            "colorbar": {
             "outlinewidth": 0,
             "ticks": ""
            },
            "type": "mesh3d"
           }
          ],
          "parcoords": [
           {
            "line": {
             "colorbar": {
              "outlinewidth": 0,
              "ticks": ""
             }
            },
            "type": "parcoords"
           }
          ],
          "pie": [
           {
            "automargin": true,
            "type": "pie"
           }
          ],
          "scatter": [
           {
            "fillpattern": {
             "fillmode": "overlay",
             "size": 10,
             "solidity": 0.2
            },
            "type": "scatter"
           }
          ],
          "scatter3d": [
           {
            "line": {
             "colorbar": {
              "outlinewidth": 0,
              "ticks": ""
             }
            },
            "marker": {
             "colorbar": {
              "outlinewidth": 0,
              "ticks": ""
             }
            },
            "type": "scatter3d"
           }
          ],
          "scattercarpet": [
           {
            "marker": {
             "colorbar": {
              "outlinewidth": 0,
              "ticks": ""
             }
            },
            "type": "scattercarpet"
           }
          ],
          "scattergeo": [
           {
            "marker": {
             "colorbar": {
              "outlinewidth": 0,
              "ticks": ""
             }
            },
            "type": "scattergeo"
           }
          ],
          "scattergl": [
           {
            "marker": {
             "colorbar": {
              "outlinewidth": 0,
              "ticks": ""
             }
            },
            "type": "scattergl"
           }
          ],
          "scattermap": [
           {
            "marker": {
             "colorbar": {
              "outlinewidth": 0,
              "ticks": ""
             }
            },
            "type": "scattermap"
           }
          ],
          "scattermapbox": [
           {
            "marker": {
             "colorbar": {
              "outlinewidth": 0,
              "ticks": ""
             }
            },
            "type": "scattermapbox"
           }
          ],
          "scatterpolar": [
           {
            "marker": {
             "colorbar": {
              "outlinewidth": 0,
              "ticks": ""
             }
            },
            "type": "scatterpolar"
           }
          ],
          "scatterpolargl": [
           {
            "marker": {
             "colorbar": {
              "outlinewidth": 0,
              "ticks": ""
             }
            },
            "type": "scatterpolargl"
           }
          ],
          "scatterternary": [
           {
            "marker": {
             "colorbar": {
              "outlinewidth": 0,
              "ticks": ""
             }
            },
            "type": "scatterternary"
           }
          ],
          "surface": [
           {
            "colorbar": {
             "outlinewidth": 0,
             "ticks": ""
            },
            "colorscale": [
             [
              0,
              "#0d0887"
             ],
             [
              0.1111111111111111,
              "#46039f"
             ],
             [
              0.2222222222222222,
              "#7201a8"
             ],
             [
              0.3333333333333333,
              "#9c179e"
             ],
             [
              0.4444444444444444,
              "#bd3786"
             ],
             [
              0.5555555555555556,
              "#d8576b"
             ],
             [
              0.6666666666666666,
              "#ed7953"
             ],
             [
              0.7777777777777778,
              "#fb9f3a"
             ],
             [
              0.8888888888888888,
              "#fdca26"
             ],
             [
              1,
              "#f0f921"
             ]
            ],
            "type": "surface"
           }
          ],
          "table": [
           {
            "cells": {
             "fill": {
              "color": "#EBF0F8"
             },
             "line": {
              "color": "white"
             }
            },
            "header": {
             "fill": {
              "color": "#C8D4E3"
             },
             "line": {
              "color": "white"
             }
            },
            "type": "table"
           }
          ]
         },
         "layout": {
          "annotationdefaults": {
           "arrowcolor": "#2a3f5f",
           "arrowhead": 0,
           "arrowwidth": 1
          },
          "autotypenumbers": "strict",
          "coloraxis": {
           "colorbar": {
            "outlinewidth": 0,
            "ticks": ""
           }
          },
          "colorscale": {
           "diverging": [
            [
             0,
             "#8e0152"
            ],
            [
             0.1,
             "#c51b7d"
            ],
            [
             0.2,
             "#de77ae"
            ],
            [
             0.3,
             "#f1b6da"
            ],
            [
             0.4,
             "#fde0ef"
            ],
            [
             0.5,
             "#f7f7f7"
            ],
            [
             0.6,
             "#e6f5d0"
            ],
            [
             0.7,
             "#b8e186"
            ],
            [
             0.8,
             "#7fbc41"
            ],
            [
             0.9,
             "#4d9221"
            ],
            [
             1,
             "#276419"
            ]
           ],
           "sequential": [
            [
             0,
             "#0d0887"
            ],
            [
             0.1111111111111111,
             "#46039f"
            ],
            [
             0.2222222222222222,
             "#7201a8"
            ],
            [
             0.3333333333333333,
             "#9c179e"
            ],
            [
             0.4444444444444444,
             "#bd3786"
            ],
            [
             0.5555555555555556,
             "#d8576b"
            ],
            [
             0.6666666666666666,
             "#ed7953"
            ],
            [
             0.7777777777777778,
             "#fb9f3a"
            ],
            [
             0.8888888888888888,
             "#fdca26"
            ],
            [
             1,
             "#f0f921"
            ]
           ],
           "sequentialminus": [
            [
             0,
             "#0d0887"
            ],
            [
             0.1111111111111111,
             "#46039f"
            ],
            [
             0.2222222222222222,
             "#7201a8"
            ],
            [
             0.3333333333333333,
             "#9c179e"
            ],
            [
             0.4444444444444444,
             "#bd3786"
            ],
            [
             0.5555555555555556,
             "#d8576b"
            ],
            [
             0.6666666666666666,
             "#ed7953"
            ],
            [
             0.7777777777777778,
             "#fb9f3a"
            ],
            [
             0.8888888888888888,
             "#fdca26"
            ],
            [
             1,
             "#f0f921"
            ]
           ]
          },
          "colorway": [
           "#636efa",
           "#EF553B",
           "#00cc96",
           "#ab63fa",
           "#FFA15A",
           "#19d3f3",
           "#FF6692",
           "#B6E880",
           "#FF97FF",
           "#FECB52"
          ],
          "font": {
           "color": "#2a3f5f"
          },
          "geo": {
           "bgcolor": "white",
           "lakecolor": "white",
           "landcolor": "#E5ECF6",
           "showlakes": true,
           "showland": true,
           "subunitcolor": "white"
          },
          "hoverlabel": {
           "align": "left"
          },
          "hovermode": "closest",
          "mapbox": {
           "style": "light"
          },
          "paper_bgcolor": "white",
          "plot_bgcolor": "#E5ECF6",
          "polar": {
           "angularaxis": {
            "gridcolor": "white",
            "linecolor": "white",
            "ticks": ""
           },
           "bgcolor": "#E5ECF6",
           "radialaxis": {
            "gridcolor": "white",
            "linecolor": "white",
            "ticks": ""
           }
          },
          "scene": {
           "xaxis": {
            "backgroundcolor": "#E5ECF6",
            "gridcolor": "white",
            "gridwidth": 2,
            "linecolor": "white",
            "showbackground": true,
            "ticks": "",
            "zerolinecolor": "white"
           },
           "yaxis": {
            "backgroundcolor": "#E5ECF6",
            "gridcolor": "white",
            "gridwidth": 2,
            "linecolor": "white",
            "showbackground": true,
            "ticks": "",
            "zerolinecolor": "white"
           },
           "zaxis": {
            "backgroundcolor": "#E5ECF6",
            "gridcolor": "white",
            "gridwidth": 2,
            "linecolor": "white",
            "showbackground": true,
            "ticks": "",
            "zerolinecolor": "white"
           }
          },
          "shapedefaults": {
           "line": {
            "color": "#2a3f5f"
           }
          },
          "ternary": {
           "aaxis": {
            "gridcolor": "white",
            "linecolor": "white",
            "ticks": ""
           },
           "baxis": {
            "gridcolor": "white",
            "linecolor": "white",
            "ticks": ""
           },
           "bgcolor": "#E5ECF6",
           "caxis": {
            "gridcolor": "white",
            "linecolor": "white",
            "ticks": ""
           }
          },
          "title": {
           "x": 0.05
          },
          "xaxis": {
           "automargin": true,
           "gridcolor": "white",
           "linecolor": "white",
           "ticks": "",
           "title": {
            "standoff": 15
           },
           "zerolinecolor": "white",
           "zerolinewidth": 2
          },
          "yaxis": {
           "automargin": true,
           "gridcolor": "white",
           "linecolor": "white",
           "ticks": "",
           "title": {
            "standoff": 15
           },
           "zerolinecolor": "white",
           "zerolinewidth": 2
          }
         }
        }
       }
      }
     },
     "metadata": {},
     "output_type": "display_data"
    }
   ],
   "source": [
    "fig =  px.scatter_3d(data,x=x_train_tf[:,0],y=x_train_tf[:,1],z=x_train_tf[:,2],color=y_train)\n",
    "fig.show()"
   ]
  },
  {
   "cell_type": "code",
   "execution_count": 102,
   "id": "13319972",
   "metadata": {},
   "outputs": [],
   "source": [
    "pca =  PCA(n_components=3,svd_solver='auto') # lets take 3 , u can take any \n",
    "x_train_tf =  pca.fit_transform(x_train)\n",
    "x_test_tf =  pca.transform(x_test)"
   ]
  },
  {
   "cell_type": "code",
   "execution_count": 108,
   "id": "b367a7b9",
   "metadata": {},
   "outputs": [
    {
     "name": "stdout",
     "output_type": "stream",
     "text": [
      "Eigne values :\n",
      " [2799.02026136  541.80956593  314.35445453]\n",
      "Eigen Vectors shape :\n",
      " (3, 13)\n"
     ]
    }
   ],
   "source": [
    "eigen_values_ = pca.explained_variance_\n",
    "eigen_vectors_ = pca.components_\n",
    "print(\"Eigne values :\\n\",eigen_values_)\n",
    "print(\"Eigen Vectors shape :\\n\",eigen_vectors_.shape)"
   ]
  },
  {
   "cell_type": "code",
   "execution_count": 112,
   "id": "5ee6a040",
   "metadata": {},
   "outputs": [
    {
     "name": "stdout",
     "output_type": "stream",
     "text": [
      "These are percentage of lambda each eigen vector explain the variance \n",
      "\n",
      "first one explains approx 75%\n"
     ]
    },
    {
     "data": {
      "text/plain": [
       "array([0.75250339, 0.14566294, 0.08451271])"
      ]
     },
     "execution_count": 112,
     "metadata": {},
     "output_type": "execute_result"
    }
   ],
   "source": [
    "print(\"These are percentage of lambda each eigen vector explain the variance \")\n",
    "print(\"\\nfirst one explains approx 75%\")\n",
    "pca.explained_variance_ratio_"
   ]
  }
 ],
 "metadata": {
  "kernelspec": {
   "display_name": "Python 3",
   "language": "python",
   "name": "python3"
  },
  "language_info": {
   "codemirror_mode": {
    "name": "ipython",
    "version": 3
   },
   "file_extension": ".py",
   "mimetype": "text/x-python",
   "name": "python",
   "nbconvert_exporter": "python",
   "pygments_lexer": "ipython3",
   "version": "3.11.9"
  }
 },
 "nbformat": 4,
 "nbformat_minor": 5
}
