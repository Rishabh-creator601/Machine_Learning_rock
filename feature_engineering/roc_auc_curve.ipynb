{
 "cells": [
  {
   "cell_type": "code",
   "execution_count": 1,
   "id": "d1c69af4",
   "metadata": {},
   "outputs": [],
   "source": [
    "from seedtools import load_seed,show_all_datasets\n",
    "from sklearn.model_selection import train_test_split\n",
    "from sklearn.linear_model import LogisticRegression\n",
    "from sklearn.ensemble import RandomForestClassifier\n",
    "from  sklearn.preprocessing import StandardScaler\n",
    "from sklearn.metrics import roc_curve, auc,classification_report\n",
    "import numpy as np\n",
    "import matplotlib.pyplot as plt"
   ]
  },
  {
   "cell_type": "markdown",
   "id": "e1ed962e",
   "metadata": {},
   "source": [
    "### CONTENTS \n",
    "-  ROC AUC CURVE"
   ]
  },
  {
   "cell_type": "code",
   "execution_count": 2,
   "id": "3c2110ae",
   "metadata": {},
   "outputs": [],
   "source": [
    "df =  load_seed(\"Social_Network_Ads.csv\",\"v3\",quiet=True).data \n",
    "\n",
    "ss =  StandardScaler()\n",
    "for col in [\"Age\",\"EstimatedSalary\"]:\n",
    "    df[col] =  ss.fit_transform(df[col].values.reshape(-1,1))\n",
    "    \n",
    "\n",
    "x =  df.drop(columns=[\"Purchased\"])\n",
    "y =  df[\"Purchased\"]\n",
    "\n",
    "x_train,x_test,y_train,y_test =  train_test_split(x,y,test_size=0.2)\n"
   ]
  },
  {
   "cell_type": "code",
   "execution_count": 3,
   "id": "72005fb5",
   "metadata": {},
   "outputs": [
    {
     "name": "stdout",
     "output_type": "stream",
     "text": [
      "Score : 0.875\n",
      "              precision    recall  f1-score   support\n",
      "\n",
      "           0       0.94      0.88      0.91        56\n",
      "           1       0.75      0.88      0.81        24\n",
      "\n",
      "    accuracy                           0.88        80\n",
      "   macro avg       0.85      0.88      0.86        80\n",
      "weighted avg       0.88      0.88      0.88        80\n",
      "\n"
     ]
    }
   ],
   "source": [
    "model =  RandomForestClassifier()\n",
    "model.fit(x_train,y_train)\n",
    "print(\"Score :\",model.score(x_test,y_test))\n",
    "\n",
    "pred =  model.predict(x_test)\n",
    "print(classification_report(y_test,pred))"
   ]
  },
  {
   "cell_type": "markdown",
   "id": "1d0f8d37",
   "metadata": {},
   "source": [
    "### ROC AUC CURVE "
   ]
  },
  {
   "cell_type": "markdown",
   "id": "29300e45",
   "metadata": {},
   "source": [
    "**predict probs**"
   ]
  },
  {
   "cell_type": "code",
   "execution_count": 4,
   "id": "9d6969df",
   "metadata": {},
   "outputs": [
    {
     "data": {
      "text/plain": [
       "array([0.3 , 0.98, 0.91])"
      ]
     },
     "execution_count": 4,
     "metadata": {},
     "output_type": "execute_result"
    }
   ],
   "source": [
    "y_scores =  model.predict_proba(x_test)[:,1]\n",
    "y_scores[:3]"
   ]
  },
  {
   "cell_type": "markdown",
   "id": "8fe84c14",
   "metadata": {},
   "source": [
    "| AUC Value | Interpretation                    |\n",
    "|-----------|------------------------------------|\n",
    "| 1.0       | Perfect classifier ✅              |\n",
    "| 0.9–1.0   | Excellent model ⭐                  |\n",
    "| 0.8–0.9   | Good model 👍                      |\n",
    "| 0.7–0.8   | Fair model 😐                      |\n",
    "| 0.6–0.7   | Poor model ⚠️                      |\n",
    "| 0.5       | No skill (random guessing) ❌      |\n",
    "| < 0.5     | Worse than random (model is flipped) 🔁 |\n"
   ]
  },
  {
   "cell_type": "markdown",
   "id": "5f8ecfab",
   "metadata": {},
   "source": [
    "**Plot the curve**"
   ]
  },
  {
   "cell_type": "code",
   "execution_count": 5,
   "id": "710401f5",
   "metadata": {},
   "outputs": [
    {
     "name": "stdout",
     "output_type": "stream",
     "text": [
      "AUC SCORE :0.9263392857142857\n"
     ]
    },
    {
     "data": {
      "text/plain": [
       "Text(0, 0.5, 'True Positive Rate')"
      ]
     },
     "execution_count": 5,
     "metadata": {},
     "output_type": "execute_result"
    },
    {
     "data": {
      "image/png": "[encoded data removed]",
      "text/plain": [
       "<Figure size 640x480 with 1 Axes>"
      ]
     },
     "metadata": {},
     "output_type": "display_data"
    }
   ],
   "source": [
    "fpr,tpr,threshold =  roc_curve(y_test,y_scores)\n",
    "roc_auc = auc(fpr, tpr)\n",
    "\n",
    "\n",
    "print(f\"AUC SCORE :{roc_auc}\")\n",
    "\n",
    "\n",
    "plt.plot(fpr,tpr,label=f\"Random Forest : {roc_auc :.2f}\")\n",
    "plt.plot([0,1],[0,1],\"r--\")\n",
    "plt.legend()\n",
    "plt.xlabel('False Positive Rate')\n",
    "plt.ylabel('True Positive Rate')\n"
   ]
  },
  {
   "cell_type": "markdown",
   "id": "52bb6b50",
   "metadata": {},
   "source": [
    "#### *for each point it is calculated*\n",
    "\n",
    "$if x_i > threshold_i =>  x_i =1$ <br />\n",
    "$if x_i < threshold_i =>  x_i = 0$ <br />\n",
    "At threshold = $\\infty, predict : \\text{ No  positive} ⇒ TPR = 0, FPR = 0$ <br />\n",
    "At threshold = $ 0.0 \\text{(very low)}, predict : \\text{ all  positive} ⇒ TPR = 1, FPR = 1$"
   ]
  },
  {
   "cell_type": "code",
   "execution_count": 6,
   "id": "886ea909",
   "metadata": {},
   "outputs": [
    {
     "data": {
      "text/plain": [
       "array([ inf, 1.  , 0.99, 0.98, 0.97, 0.96, 0.95, 0.94, 0.93, 0.92, 0.91,\n",
       "       0.9 , 0.87, 0.86, 0.84, 0.75, 0.65, 0.63, 0.42, 0.4 , 0.08, 0.06,\n",
       "       0.04, 0.03, 0.02, 0.01, 0.  ])"
      ]
     },
     "execution_count": 6,
     "metadata": {},
     "output_type": "execute_result"
    }
   ],
   "source": [
    "threshold "
   ]
  },
  {
   "cell_type": "markdown",
   "id": "6a68be6d",
   "metadata": {},
   "source": [
    "**Threshold overall for all**"
   ]
  },
  {
   "cell_type": "code",
   "execution_count": 8,
   "id": "6aef15e2",
   "metadata": {},
   "outputs": [
    {
     "name": "stdout",
     "output_type": "stream",
     "text": [
      "Best threshold : 0.4\n"
     ]
    }
   ],
   "source": [
    "optimal_idx = (tpr - fpr).argmax() # index of max value , starts with 0 \n",
    "best_threshold = threshold[optimal_idx]\n",
    "print(\"Best threshold :\",best_threshold) # x_i > best_threshold =>  1 else 0"
   ]
  }
 ],
 "metadata": {
  "kernelspec": {
   "display_name": "Python 3",
   "language": "python",
   "name": "python3"
  },
  "language_info": {
   "codemirror_mode": {
    "name": "ipython",
    "version": 3
   },
   "file_extension": ".py",
   "mimetype": "text/x-python",
   "name": "python",
   "nbconvert_exporter": "python",
   "pygments_lexer": "ipython3",
   "version": "3.11.9"
  }
 },
 "nbformat": 4,
 "nbformat_minor": 5
}
