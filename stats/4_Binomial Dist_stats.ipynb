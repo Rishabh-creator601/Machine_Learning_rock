{
 "cells": [
  {
   "cell_type": "code",
   "execution_count": 1,
   "id": "f6711e2c-51d3-4fcf-b68e-9677dea440ac",
   "metadata": {},
   "outputs": [],
   "source": [
    "import numpy as np \n",
    "import random \n",
    "import matplotlib.pyplot as plt"
   ]
  },
  {
   "cell_type": "markdown",
   "id": "180b126d-1b0a-4f35-a139-b568d87b1ac8",
   "metadata": {},
   "source": [
    "**Binomial Distribution**\n",
    "-  Used in Binary Classification\n",
    "-  Models like LogisticRegression ||  NaiveBayes || GaussianNaiveBayes are just variations of binomial distribution , gaussian dist , multinomial dist\n",
    "\n",
    "=> **About Algorithm**  <br />\n",
    "\n",
    "- p > 0.5 Dist is more towards right side\n",
    "- p < 0.5 Dist is more towards Left side\n",
    "- p around 0.5 Dist is centered "
   ]
  },
  {
   "cell_type": "code",
   "execution_count": 4,
   "id": "86775e26-a312-40c8-8fe4-0fb910e9b9fb",
   "metadata": {},
   "outputs": [
    {
     "data": {
      "text/plain": [
       "array([5, 7, 7])"
      ]
     },
     "execution_count": 4,
     "metadata": {},
     "output_type": "execute_result"
    }
   ],
   "source": [
    "n = 10 \n",
    "p =  0.5\n",
    "times =  1000 # roll dice 10 * 1000  times\n",
    "\n",
    "binomial_dist =  np.random.binomial(n,p,times)\n",
    "binomial_dist[:3]"
   ]
  },
  {
   "cell_type": "markdown",
   "id": "bc65eb39-34ac-4862-a4a3-546fd4228f03",
   "metadata": {},
   "source": [
    "**In `binomial_dist`  you can see that there are number likes 5, 7,8 which means if i roll coin 10 times the N(head) =  5,7,8...**"
   ]
  },
  {
   "cell_type": "code",
   "execution_count": null,
   "id": "0366debc-3eb9-41c6-b77b-eda0b5d35ef3",
   "metadata": {},
   "outputs": [],
   "source": []
  }
 ],
 "metadata": {
  "kernelspec": {
   "display_name": "Python 3 (ipykernel)",
   "language": "python",
   "name": "python3"
  },
  "language_info": {
   "codemirror_mode": {
    "name": "ipython",
    "version": 3
   },
   "file_extension": ".py",
   "mimetype": "text/x-python",
   "name": "python",
   "nbconvert_exporter": "python",
   "pygments_lexer": "ipython3",
   "version": "3.10.0"
  }
 },
 "nbformat": 4,
 "nbformat_minor": 5
}
