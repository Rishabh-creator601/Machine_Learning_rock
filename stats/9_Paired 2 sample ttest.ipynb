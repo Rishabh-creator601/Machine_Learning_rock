{
 "cells": [
  {
   "cell_type": "code",
   "execution_count": 5,
   "id": "5da6a0c7-463c-4abc-8cdb-5394dc4bb614",
   "metadata": {},
   "outputs": [],
   "source": [
    "import os \n",
    "import pandas as pd\n",
    "import numpy as np\n",
    "from scipy.stats import shapiro,levene,ttest_rel\n",
    "import scipy.stats as stats "
   ]
  },
  {
   "cell_type": "code",
   "execution_count": 2,
   "id": "9080667b-6f07-403b-9a3e-aa768127c5c3",
   "metadata": {},
   "outputs": [],
   "source": [
    "# pre holds the mileage before applying\n",
    "# the different engine oil\n",
    "pre = [88, 82, 84, 93, 75, 78, 84, 87,\n",
    "       95, 91, 83, 89, 77, 68, 91]\n",
    "\n",
    "# post holds the mileage before applying \n",
    "# the different engine oil\n",
    "post = [91, 84, 88, 90, 79, 80, 88, 90, \n",
    "        90, 96, 88, 89, 81, 74, 92]"
   ]
  },
  {
   "cell_type": "markdown",
   "id": "d9933719-c8b7-4fcf-9c20-858b8a63572a",
   "metadata": {},
   "source": [
    "**H0 => pre = post** <br />\n",
    "**H1 =>  pre =/=  post**"
   ]
  },
  {
   "cell_type": "markdown",
   "id": "a4f5161a-e5d9-4714-84bc-035b3e1eb8d4",
   "metadata": {},
   "source": [
    "**=> Checking normality and varinace**"
   ]
  },
  {
   "cell_type": "code",
   "execution_count": 3,
   "id": "9b9f334c-15d0-4a02-b273-6eaf20246027",
   "metadata": {},
   "outputs": [
    {
     "name": "stdout",
     "output_type": "stream",
     "text": [
      "Shapiro results of pre  ShapiroResult(statistic=0.9618235999878891, pvalue=0.7240583901682427)\n",
      "Shapiro results of post  ShapiroResult(statistic=0.9243801828560043, pvalue=0.22456530219248422)\n"
     ]
    }
   ],
   "source": [
    "print(\"Shapiro results of pre \", shapiro(pre))\n",
    "print(\"Shapiro results of post \", shapiro(post))"
   ]
  },
  {
   "cell_type": "code",
   "execution_count": 4,
   "id": "5658515b-3ed3-46fb-9a9e-85176a7ae917",
   "metadata": {},
   "outputs": [
    {
     "data": {
      "text/plain": [
       "LeveneResult(statistic=0.9731931668856769, pvalue=0.33233363915453795)"
      ]
     },
     "execution_count": 4,
     "metadata": {},
     "output_type": "execute_result"
    }
   ],
   "source": [
    "levene(pre,post)"
   ]
  },
  {
   "cell_type": "code",
   "execution_count": 8,
   "id": "173633d4-4f99-4a87-9d7f-9827500a0a73",
   "metadata": {},
   "outputs": [
    {
     "data": {
      "text/plain": [
       "0.01007144862643272"
      ]
     },
     "execution_count": 8,
     "metadata": {},
     "output_type": "execute_result"
    }
   ],
   "source": [
    "pvalue =  ttest_rel(pre,post).pvalue\n",
    "pvalue"
   ]
  },
  {
   "cell_type": "code",
   "execution_count": 10,
   "id": "1e0667b0-0e05-42d4-b786-443cbae7f2f3",
   "metadata": {},
   "outputs": [
    {
     "name": "stdout",
     "output_type": "stream",
     "text": [
      "Reject the Null Hypothesis\n"
     ]
    }
   ],
   "source": [
    "alpha = 0.05 \n",
    "\n",
    "if pvalue < alpha:\n",
    "    print(\"Reject the Null Hypothesis\")\n",
    "else:\n",
    "    print(\"Accept the Null hypthesis\")"
   ]
  },
  {
   "cell_type": "code",
   "execution_count": null,
   "id": "8cba6f33-8572-4f71-b77e-fd3bac18c7c1",
   "metadata": {},
   "outputs": [],
   "source": []
  }
 ],
 "metadata": {
  "kernelspec": {
   "display_name": "Python 3 (ipykernel)",
   "language": "python",
   "name": "python3"
  },
  "language_info": {
   "codemirror_mode": {
    "name": "ipython",
    "version": 3
   },
   "file_extension": ".py",
   "mimetype": "text/x-python",
   "name": "python",
   "nbconvert_exporter": "python",
   "pygments_lexer": "ipython3",
   "version": "3.10.0"
  }
 },
 "nbformat": 4,
 "nbformat_minor": 5
}
