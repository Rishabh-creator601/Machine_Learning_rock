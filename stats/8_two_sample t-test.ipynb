{
 "cells": [
  {
   "cell_type": "code",
   "execution_count": 22,
   "id": "25a724ec-8663-4868-b56e-d2e118c1b6dd",
   "metadata": {},
   "outputs": [],
   "source": [
    "import os \n",
    "import pandas as pd\n",
    "import numpy as np\n",
    "from scipy.stats import shapiro,levene,ttest_ind\n",
    "import scipy.stats as stats "
   ]
  },
  {
   "cell_type": "code",
   "execution_count": 2,
   "id": "fdbf8dc4-ecf2-4b38-b53c-34ba52c19c07",
   "metadata": {},
   "outputs": [
    {
     "name": "stdout",
     "output_type": "stream",
     "text": [
      "(891, 8)\n"
     ]
    },
    {
     "data": {
      "text/html": [
       "<div>\n",
       "<style scoped>\n",
       "    .dataframe tbody tr th:only-of-type {\n",
       "        vertical-align: middle;\n",
       "    }\n",
       "\n",
       "    .dataframe tbody tr th {\n",
       "        vertical-align: top;\n",
       "    }\n",
       "\n",
       "    .dataframe thead th {\n",
       "        text-align: right;\n",
       "    }\n",
       "</style>\n",
       "<table border=\"1\" class=\"dataframe\">\n",
       "  <thead>\n",
       "    <tr style=\"text-align: right;\">\n",
       "      <th></th>\n",
       "      <th>PassengerId</th>\n",
       "      <th>Survived</th>\n",
       "      <th>Pclass</th>\n",
       "      <th>Sex</th>\n",
       "      <th>Age</th>\n",
       "      <th>SibSp</th>\n",
       "      <th>Parch</th>\n",
       "      <th>Fare</th>\n",
       "    </tr>\n",
       "  </thead>\n",
       "  <tbody>\n",
       "    <tr>\n",
       "      <th>0</th>\n",
       "      <td>1</td>\n",
       "      <td>0</td>\n",
       "      <td>3</td>\n",
       "      <td>male</td>\n",
       "      <td>22.0</td>\n",
       "      <td>1</td>\n",
       "      <td>0</td>\n",
       "      <td>7.2500</td>\n",
       "    </tr>\n",
       "    <tr>\n",
       "      <th>1</th>\n",
       "      <td>2</td>\n",
       "      <td>1</td>\n",
       "      <td>1</td>\n",
       "      <td>female</td>\n",
       "      <td>38.0</td>\n",
       "      <td>1</td>\n",
       "      <td>0</td>\n",
       "      <td>71.2833</td>\n",
       "    </tr>\n",
       "    <tr>\n",
       "      <th>2</th>\n",
       "      <td>3</td>\n",
       "      <td>1</td>\n",
       "      <td>3</td>\n",
       "      <td>female</td>\n",
       "      <td>26.0</td>\n",
       "      <td>0</td>\n",
       "      <td>0</td>\n",
       "      <td>7.9250</td>\n",
       "    </tr>\n",
       "    <tr>\n",
       "      <th>3</th>\n",
       "      <td>4</td>\n",
       "      <td>1</td>\n",
       "      <td>1</td>\n",
       "      <td>female</td>\n",
       "      <td>35.0</td>\n",
       "      <td>1</td>\n",
       "      <td>0</td>\n",
       "      <td>53.1000</td>\n",
       "    </tr>\n",
       "    <tr>\n",
       "      <th>4</th>\n",
       "      <td>5</td>\n",
       "      <td>0</td>\n",
       "      <td>3</td>\n",
       "      <td>male</td>\n",
       "      <td>35.0</td>\n",
       "      <td>0</td>\n",
       "      <td>0</td>\n",
       "      <td>8.0500</td>\n",
       "    </tr>\n",
       "  </tbody>\n",
       "</table>\n",
       "</div>"
      ],
      "text/plain": [
       "   PassengerId  Survived  Pclass     Sex   Age  SibSp  Parch     Fare\n",
       "0            1         0       3    male  22.0      1      0   7.2500\n",
       "1            2         1       1  female  38.0      1      0  71.2833\n",
       "2            3         1       3  female  26.0      0      0   7.9250\n",
       "3            4         1       1  female  35.0      1      0  53.1000\n",
       "4            5         0       3    male  35.0      0      0   8.0500"
      ]
     },
     "execution_count": 2,
     "metadata": {},
     "output_type": "execute_result"
    }
   ],
   "source": [
    "data = pd.read_csv(os.path.join(\"C:/codes/machineL/data/titanic/train.csv\")).drop(columns=[\"Name\",\"Cabin\",\"Embarked\",\"Ticket\"])\n",
    "print(data.shape)\n",
    "data.head()"
   ]
  },
  {
   "cell_type": "code",
   "execution_count": 12,
   "id": "383338fa-b964-43ca-8fda-6f9d7abde6e5",
   "metadata": {},
   "outputs": [],
   "source": [
    "pop_male =  data[data[\"Sex\"]==\"male\"][\"Age\"].sample(300).dropna()\n",
    "pop_female =  data[data[\"Sex\"]==\"female\"][\"Age\"].sample(300).dropna()"
   ]
  },
  {
   "cell_type": "code",
   "execution_count": 13,
   "id": "cfcf4665-5cb5-4017-9b14-96eece14b21d",
   "metadata": {},
   "outputs": [],
   "source": [
    "sample_male =  pop_male.sample(30)\n",
    "sample_female =  pop_female.sample(30)"
   ]
  },
  {
   "cell_type": "code",
   "execution_count": 15,
   "id": "a8875791-7ae4-470c-b3d5-70555f2031f7",
   "metadata": {},
   "outputs": [
    {
     "data": {
      "text/plain": [
       "array([46. , 43. ,  1. , 28. , 19. , 27. , 25. , 47. , 20. , 23.5, 35. ,\n",
       "       30. , 32. ,  3. , 66. , 41. , 31. , 52. , 18. , 32. , 44. , 36. ,\n",
       "       71. , 61. , 32. , 20. , 28. , 26. , 32. , 28. ])"
      ]
     },
     "execution_count": 15,
     "metadata": {},
     "output_type": "execute_result"
    }
   ],
   "source": [
    "np.array(sample_male)"
   ]
  },
  {
   "cell_type": "markdown",
   "id": "2fc685bd-5379-42a4-b107-fe9969854cdd",
   "metadata": {},
   "source": [
    "**H0 =>  Age(M) =  Age(F)** <br />\n",
    "**H1 =>  Age(M) =/=  Age(F)**"
   ]
  },
  {
   "cell_type": "code",
   "execution_count": 17,
   "id": "007f7e0d-aea9-47be-a1b1-81ed447952ce",
   "metadata": {},
   "outputs": [
    {
     "name": "stdout",
     "output_type": "stream",
     "text": [
      "Shapiro results male :  ShapiroResult(statistic=0.9545159596924463, pvalue=0.22298441358565046)\n",
      "Shapiro results Female :  ShapiroResult(statistic=0.9315168294411362, pvalue=0.053882976543199644)\n"
     ]
    }
   ],
   "source": [
    "shap_male =  shapiro(sample_male)\n",
    "shap_Female = shapiro(sample_female)\n",
    "\n",
    "print(\"Shapiro results male : \",shap_male)\n",
    "print(\"Shapiro results Female : \",shap_Female)"
   ]
  },
  {
   "cell_type": "markdown",
   "id": "9ec7ee86-5d3a-4740-aa25-ae296c6b502f",
   "metadata": {},
   "source": [
    "Both are more than 0.05 hence both are normally distributed "
   ]
  },
  {
   "cell_type": "code",
   "execution_count": 20,
   "id": "4d733650-1d34-496b-91e6-f122f7d00914",
   "metadata": {},
   "outputs": [
    {
     "data": {
      "text/plain": [
       "LeveneResult(statistic=0.24283975977704744, pvalue=0.6240230582874032)"
      ]
     },
     "execution_count": 20,
     "metadata": {},
     "output_type": "execute_result"
    }
   ],
   "source": [
    "results_lev=  levene(sample_male,sample_female)\n",
    "results_lev"
   ]
  },
  {
   "cell_type": "markdown",
   "id": "1b622c74-dea7-43c3-9ac0-3cee2435ecf0",
   "metadata": {},
   "source": [
    "results are more than 0.05 hence both have equal  variance "
   ]
  },
  {
   "cell_type": "code",
   "execution_count": 23,
   "id": "8e446dda-1af2-4745-b1d8-1c576b7bca34",
   "metadata": {},
   "outputs": [
    {
     "data": {
      "text/plain": [
       "TtestResult(statistic=1.3171686118778272, pvalue=0.1929622979965505, df=58.0)"
      ]
     },
     "execution_count": 23,
     "metadata": {},
     "output_type": "execute_result"
    }
   ],
   "source": [
    "ttest_results = ttest_ind(sample_male,sample_female)\n",
    "ttest_results"
   ]
  },
  {
   "cell_type": "code",
   "execution_count": 24,
   "id": "acd90af1-fb86-4c43-8643-2c08780b7200",
   "metadata": {},
   "outputs": [
    {
     "name": "stdout",
     "output_type": "stream",
     "text": [
      "Accept the Null hypthesis\n"
     ]
    }
   ],
   "source": [
    "alpha  =  0.05 \n",
    "\n",
    "if ttest_results.pvalue < alpha :\n",
    "    print(\"Reject the Null Hypothesis\")\n",
    "else:\n",
    "    print(\"Accept the Null hypthesis\")"
   ]
  },
  {
   "cell_type": "code",
   "execution_count": 25,
   "id": "d4ac8cb7-59d3-497b-bd1b-dcdb54c68db7",
   "metadata": {},
   "outputs": [
    {
     "data": {
      "text/plain": [
       "(33.25, 28.216666666666665)"
      ]
     },
     "execution_count": 25,
     "metadata": {},
     "output_type": "execute_result"
    }
   ],
   "source": [
    "sample_male.mean(),sample_female.mean()"
   ]
  },
  {
   "cell_type": "code",
   "execution_count": null,
   "id": "e06419a2-1c49-4fc6-b723-5e61a32405a9",
   "metadata": {},
   "outputs": [],
   "source": []
  }
 ],
 "metadata": {
  "kernelspec": {
   "display_name": "Python 3 (ipykernel)",
   "language": "python",
   "name": "python3"
  },
  "language_info": {
   "codemirror_mode": {
    "name": "ipython",
    "version": 3
   },
   "file_extension": ".py",
   "mimetype": "text/x-python",
   "name": "python",
   "nbconvert_exporter": "python",
   "pygments_lexer": "ipython3",
   "version": "3.10.0"
  }
 },
 "nbformat": 4,
 "nbformat_minor": 5
}
