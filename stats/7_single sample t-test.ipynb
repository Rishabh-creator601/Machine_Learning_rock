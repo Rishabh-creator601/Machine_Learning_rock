{
 "cells": [
  {
   "cell_type": "code",
   "execution_count": 36,
   "id": "918c621a-a427-4072-bcca-4e68a175c8db",
   "metadata": {},
   "outputs": [],
   "source": [
    "import os \n",
    "import pandas as pd\n",
    "import numpy as np\n",
    "from scipy.stats import shapiro,ttest_1samp\n",
    "import scipy.stats as stats "
   ]
  },
  {
   "cell_type": "code",
   "execution_count": 11,
   "id": "b1db0f6a-ca7b-4710-9125-f33a55687697",
   "metadata": {},
   "outputs": [
    {
     "name": "stdout",
     "output_type": "stream",
     "text": [
      "(891, 8)\n"
     ]
    },
    {
     "data": {
      "text/html": [
       "<div>\n",
       "<style scoped>\n",
       "    .dataframe tbody tr th:only-of-type {\n",
       "        vertical-align: middle;\n",
       "    }\n",
       "\n",
       "    .dataframe tbody tr th {\n",
       "        vertical-align: top;\n",
       "    }\n",
       "\n",
       "    .dataframe thead th {\n",
       "        text-align: right;\n",
       "    }\n",
       "</style>\n",
       "<table border=\"1\" class=\"dataframe\">\n",
       "  <thead>\n",
       "    <tr style=\"text-align: right;\">\n",
       "      <th></th>\n",
       "      <th>PassengerId</th>\n",
       "      <th>Survived</th>\n",
       "      <th>Pclass</th>\n",
       "      <th>Sex</th>\n",
       "      <th>Age</th>\n",
       "      <th>SibSp</th>\n",
       "      <th>Parch</th>\n",
       "      <th>Fare</th>\n",
       "    </tr>\n",
       "  </thead>\n",
       "  <tbody>\n",
       "    <tr>\n",
       "      <th>0</th>\n",
       "      <td>1</td>\n",
       "      <td>0</td>\n",
       "      <td>3</td>\n",
       "      <td>male</td>\n",
       "      <td>22.0</td>\n",
       "      <td>1</td>\n",
       "      <td>0</td>\n",
       "      <td>7.2500</td>\n",
       "    </tr>\n",
       "    <tr>\n",
       "      <th>1</th>\n",
       "      <td>2</td>\n",
       "      <td>1</td>\n",
       "      <td>1</td>\n",
       "      <td>female</td>\n",
       "      <td>38.0</td>\n",
       "      <td>1</td>\n",
       "      <td>0</td>\n",
       "      <td>71.2833</td>\n",
       "    </tr>\n",
       "    <tr>\n",
       "      <th>2</th>\n",
       "      <td>3</td>\n",
       "      <td>1</td>\n",
       "      <td>3</td>\n",
       "      <td>female</td>\n",
       "      <td>26.0</td>\n",
       "      <td>0</td>\n",
       "      <td>0</td>\n",
       "      <td>7.9250</td>\n",
       "    </tr>\n",
       "    <tr>\n",
       "      <th>3</th>\n",
       "      <td>4</td>\n",
       "      <td>1</td>\n",
       "      <td>1</td>\n",
       "      <td>female</td>\n",
       "      <td>35.0</td>\n",
       "      <td>1</td>\n",
       "      <td>0</td>\n",
       "      <td>53.1000</td>\n",
       "    </tr>\n",
       "    <tr>\n",
       "      <th>4</th>\n",
       "      <td>5</td>\n",
       "      <td>0</td>\n",
       "      <td>3</td>\n",
       "      <td>male</td>\n",
       "      <td>35.0</td>\n",
       "      <td>0</td>\n",
       "      <td>0</td>\n",
       "      <td>8.0500</td>\n",
       "    </tr>\n",
       "  </tbody>\n",
       "</table>\n",
       "</div>"
      ],
      "text/plain": [
       "   PassengerId  Survived  Pclass     Sex   Age  SibSp  Parch     Fare\n",
       "0            1         0       3    male  22.0      1      0   7.2500\n",
       "1            2         1       1  female  38.0      1      0  71.2833\n",
       "2            3         1       3  female  26.0      0      0   7.9250\n",
       "3            4         1       1  female  35.0      1      0  53.1000\n",
       "4            5         0       3    male  35.0      0      0   8.0500"
      ]
     },
     "execution_count": 11,
     "metadata": {},
     "output_type": "execute_result"
    }
   ],
   "source": [
    "data = pd.read_csv(os.path.join(\"C:/codes/machineL/data/titanic/train.csv\")).drop(columns=[\"Name\",\"Cabin\",\"Embarked\",\"Ticket\"])\n",
    "print(data.shape)\n",
    "data.head()"
   ]
  },
  {
   "cell_type": "code",
   "execution_count": null,
   "id": "6b174108-2833-47b0-9a13-ff97a63a2ca9",
   "metadata": {},
   "outputs": [],
   "source": []
  },
  {
   "cell_type": "code",
   "execution_count": 26,
   "id": "37be7dc1-d75c-4e95-b030-606c54ee8bcd",
   "metadata": {},
   "outputs": [],
   "source": [
    "pop =  data[\"Age\"].sample(800).dropna()\n",
    "sample =  np.array(pop.sample(30).values)"
   ]
  },
  {
   "cell_type": "code",
   "execution_count": 27,
   "id": "430c8762-8e1b-4c72-80e9-23c6bd1f84a7",
   "metadata": {},
   "outputs": [
    {
     "data": {
      "text/plain": [
       "array([24.  , 26.  , 60.  , 21.  , 17.  , 36.  ,  0.83, 33.  , 39.  ,\n",
       "       22.  , 41.  , 20.  , 45.  , 40.  ,  8.  , 37.  ,  8.  , 29.  ,\n",
       "       12.  ,  2.  , 32.  , 45.  , 26.  , 28.  , 22.  , 16.  , 20.  ,\n",
       "       28.  , 27.  , 17.  ])"
      ]
     },
     "execution_count": 27,
     "metadata": {},
     "output_type": "execute_result"
    }
   ],
   "source": [
    "sample"
   ]
  },
  {
   "cell_type": "markdown",
   "id": "7fea4232-89f8-4c69-8a01-6550f8b102bc",
   "metadata": {},
   "source": [
    " **H0 => MEAN AGE IS 35**  <br />\n",
    "**H1 => MEAN  AGE IS LESS THAN 35**"
   ]
  },
  {
   "cell_type": "code",
   "execution_count": 30,
   "id": "ea5a0624-1f18-4e33-b347-bc72cad8fa75",
   "metadata": {},
   "outputs": [
    {
     "data": {
      "text/plain": [
       "ShapiroResult(statistic=0.9844914602084358, pvalue=0.9282179689268064)"
      ]
     },
     "execution_count": 30,
     "metadata": {},
     "output_type": "execute_result"
    }
   ],
   "source": [
    "shap_results =  shapiro(sample)\n",
    "shap_results"
   ]
  },
  {
   "cell_type": "markdown",
   "id": "9c08f0d5-cdbe-43d8-9383-d79dda4bdaa6",
   "metadata": {},
   "source": [
    "**If p-value < 0.05 =>  Not Normally distributed** <br />\n",
    "**If p-value > 0.05 =>   Normally distributed** <br />\n",
    "HENCE OUR DATA IS NORMALLY DISTRIBUTED "
   ]
  },
  {
   "cell_type": "code",
   "execution_count": 46,
   "id": "542bde78-6c38-4b24-acbe-b6f0625252d1",
   "metadata": {},
   "outputs": [
    {
     "data": {
      "text/plain": [
       "TtestResult(statistic=-3.6422154223400685, pvalue=0.0010467720932402507, df=29)"
      ]
     },
     "execution_count": 46,
     "metadata": {},
     "output_type": "execute_result"
    }
   ],
   "source": [
    "ttest_results =  ttest_1samp(sample,35) # 35 cuz our hypothesis is of 35 \n",
    "ttest_results"
   ]
  },
  {
   "cell_type": "code",
   "execution_count": 49,
   "id": "032a00d3-f220-40e5-8f1c-eb46a8f32913",
   "metadata": {},
   "outputs": [],
   "source": [
    "#((sample.mean() - 35 ) * np.sqrt(30)) /  sample.std() # ->  -3.704480025320485"
   ]
  },
  {
   "cell_type": "code",
   "execution_count": 53,
   "id": "ae99d8df-93ee-4d68-91f3-74e86dedcf47",
   "metadata": {},
   "outputs": [
    {
     "name": "stdout",
     "output_type": "stream",
     "text": [
      "Reject the Null Hypothesis\n"
     ]
    }
   ],
   "source": [
    "alpha = 0.05\n",
    "\n",
    "if ttest_results.pvalue < alpha:\n",
    "    print(\"Reject the Null Hypothesis\")\n",
    "else: \n",
    "    print(\"Accpet the Null Hypothesis\")"
   ]
  },
  {
   "cell_type": "code",
   "execution_count": 55,
   "id": "2c999438-ab2a-4cf7-b2f4-055b8e6da5ee",
   "metadata": {},
   "outputs": [
    {
     "data": {
      "text/plain": [
       "29.82475819032761"
      ]
     },
     "execution_count": 55,
     "metadata": {},
     "output_type": "execute_result"
    }
   ],
   "source": [
    "##Why reject becasue model is correct !!\n",
    "pop.mean()"
   ]
  },
  {
   "cell_type": "markdown",
   "id": "2144676b-ddf5-4cfe-8e0b-76a79bd6676c",
   "metadata": {},
   "source": [
    "UNDERSTANFING P VALUE https://www.youtube.com/watch?v=8Aw45HN5lnA <br />\n",
    "THEN CHATGPT :  explain p value , like ehy p-value < alpha (0.05)  to reject the null hypothesis <br />\n",
    "                : but 3% comes under 5% , then why reject it ? <br />\n",
    "                : innocent example is good ,explain through it "
   ]
  },
  {
   "cell_type": "code",
   "execution_count": null,
   "id": "017947cc-1ac0-43e8-ae0a-c443900865e1",
   "metadata": {},
   "outputs": [],
   "source": []
  }
 ],
 "metadata": {
  "kernelspec": {
   "display_name": "Python 3 (ipykernel)",
   "language": "python",
   "name": "python3"
  },
  "language_info": {
   "codemirror_mode": {
    "name": "ipython",
    "version": 3
   },
   "file_extension": ".py",
   "mimetype": "text/x-python",
   "name": "python",
   "nbconvert_exporter": "python",
   "pygments_lexer": "ipython3",
   "version": "3.10.0"
  }
 },
 "nbformat": 4,
 "nbformat_minor": 5
}
