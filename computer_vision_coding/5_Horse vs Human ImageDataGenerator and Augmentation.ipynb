{
 "cells": [
  {
   "cell_type": "code",
   "execution_count": 50,
   "id": "7fbc580f-364a-48bf-abd5-fa653ae97343",
   "metadata": {},
   "outputs": [],
   "source": [
    "from tensorflow.keras.datasets import fashion_mnist\n",
    "from tensorflow.keras.models import Sequential\n",
    "from tensorflow.keras.layers import Dense,Conv2D,MaxPool2D,Flatten\n",
    "from tensorflow.keras.utils import to_categorical as to_cat\n",
    "from tensorflow.keras.preprocessing.image import ImageDataGenerator,load_img,img_to_array\n",
    "import numpy as np\n",
    "import matplotlib.pyplot as plt\n",
    "\n",
    "## just for downloading files purpose\n",
    "from urllib.request import urlretrieve\n",
    "import zipfile , os \n"
   ]
  },
  {
   "cell_type": "markdown",
   "id": "528ce686-a6cd-4376-93ea-7438aa0a1119",
   "metadata": {},
   "source": [
    "### Downloading data from source "
   ]
  },
  {
   "cell_type": "code",
   "execution_count": 21,
   "id": "dde698f6-db00-4618-acb7-3c0f16f1df9b",
   "metadata": {},
   "outputs": [],
   "source": [
    "training_data_link = \"https://storage.googleapis.com/learning-datasets/horse-or-human.zip\"\n",
    "file_name = 'data/horse-or-human.zip'\n",
    "urlretrieve(training_data_link,file_name)\n",
    "with zipfile.ZipFile(file_name, 'r') as zip_ref:\n",
    "    zip_ref.extractall('data/horse-human/train')"
   ]
  },
  {
   "cell_type": "code",
   "execution_count": null,
   "id": "13a2fe44-0006-4730-909e-ea3c7b996920",
   "metadata": {},
   "outputs": [],
   "source": []
  },
  {
   "cell_type": "code",
   "execution_count": 22,
   "id": "daa778b4-739e-4a34-8fd7-8056501232e8",
   "metadata": {},
   "outputs": [],
   "source": [
    "validation_data_link = \"https://storage.googleapis.com/learning-datasets/validation-horse-or-human.zip\"\n",
    "file_name = 'data/validation-horse-or-human.zip'\n",
    "urlretrieve(validation_data_link,file_name)\n",
    "with zipfile.ZipFile(file_name, 'r') as zip_ref:\n",
    "    zip_ref.extractall('data/horse-human/validation')"
   ]
  },
  {
   "cell_type": "code",
   "execution_count": 23,
   "id": "3132ab49-0135-4886-bfbd-a72d4dea762a",
   "metadata": {},
   "outputs": [],
   "source": [
    "train_datagen =ImageDataGenerator(rescale=1/255,\n",
    "                                  rotation_range=40,\n",
    "                                  width_shift_range=20,\n",
    "                                  height_shift_range=20,\n",
    "                                  shear_range=20,\n",
    "                                  zoom_range=20,\n",
    "                                  horizontal_flip=True,\n",
    "                                  fill_mode='nearest'\n",
    "                                 )\n",
    "\n",
    "\n",
    "validation_datagen =ImageDataGenerator(rescale=1/255,\n",
    "                                  rotation_range=40,\n",
    "                                  width_shift_range=20,\n",
    "                                  height_shift_range=20,\n",
    "                                  shear_range=20,\n",
    "                                  zoom_range=20,\n",
    "                                  horizontal_flip=True,\n",
    "                                  fill_mode='nearest'\n",
    "                                 )"
   ]
  },
  {
   "cell_type": "code",
   "execution_count": 25,
   "id": "d979b3e6-291f-49f5-a7f8-af64baf1cfc2",
   "metadata": {},
   "outputs": [
    {
     "name": "stdout",
     "output_type": "stream",
     "text": [
      "Found 1027 images belonging to 2 classes.\n",
      "Found 256 images belonging to 2 classes.\n"
     ]
    }
   ],
   "source": [
    "train_gen  =  train_datagen.flow_from_directory(\n",
    "    'data/horse-human/train',\n",
    "    target_size=(300,300),\n",
    "    class_mode='binary'\n",
    ")\n",
    "\n",
    "validation_gen  =  validation_datagen.flow_from_directory(\n",
    "    'data/horse-human/validation',\n",
    "    target_size=(300,300),\n",
    "    class_mode='binary'\n",
    ")"
   ]
  },
  {
   "cell_type": "markdown",
   "id": "2b792355-950d-4f7f-94d2-a7e270639376",
   "metadata": {},
   "source": [
    "### Building Model"
   ]
  },
  {
   "cell_type": "code",
   "execution_count": 26,
   "id": "79d7eded-3149-4cfa-a084-d9067403e74a",
   "metadata": {},
   "outputs": [],
   "source": [
    "model = Sequential([\n",
    "    Conv2D(32,(3,3),activation='relu',input_shape=(300,300,3)),\n",
    "    MaxPool2D(2,2),\n",
    "    Conv2D(32,(3,3),activation='relu'),\n",
    "    MaxPool2D(2,2),\n",
    "    Flatten(),\n",
    "    Dense(128,activation='relu'),\n",
    "    Dense(1,activation='sigmoid')\n",
    "    \n",
    "])"
   ]
  },
  {
   "cell_type": "code",
   "execution_count": 27,
   "id": "bdb2b4d4-4fc6-4a82-9107-ef45cdeba536",
   "metadata": {},
   "outputs": [],
   "source": [
    "model.compile(loss='binary_crossentropy',optimizer='adam',metrics=['acc'])"
   ]
  },
  {
   "cell_type": "code",
   "execution_count": 28,
   "id": "d423fe76-85b8-4aab-820e-2c7005d4e1b6",
   "metadata": {},
   "outputs": [
    {
     "name": "stdout",
     "output_type": "stream",
     "text": [
      "Model: \"sequential_1\"\n",
      "_________________________________________________________________\n",
      " Layer (type)                Output Shape              Param #   \n",
      "=================================================================\n",
      " conv2d_2 (Conv2D)           (None, 298, 298, 32)      896       \n",
      "                                                                 \n",
      " max_pooling2d_2 (MaxPooling  (None, 149, 149, 32)     0         \n",
      " 2D)                                                             \n",
      "                                                                 \n",
      " conv2d_3 (Conv2D)           (None, 147, 147, 32)      9248      \n",
      "                                                                 \n",
      " max_pooling2d_3 (MaxPooling  (None, 73, 73, 32)       0         \n",
      " 2D)                                                             \n",
      "                                                                 \n",
      " flatten_1 (Flatten)         (None, 170528)            0         \n",
      "                                                                 \n",
      " dense_2 (Dense)             (None, 128)               21827712  \n",
      "                                                                 \n",
      " dense_3 (Dense)             (None, 1)                 129       \n",
      "                                                                 \n",
      "=================================================================\n",
      "Total params: 21,837,985\n",
      "Trainable params: 21,837,985\n",
      "Non-trainable params: 0\n",
      "_________________________________________________________________\n"
     ]
    }
   ],
   "source": [
    "model.summary()"
   ]
  },
  {
   "cell_type": "code",
   "execution_count": 29,
   "id": "9ef935dc-2445-4a7d-8ac4-6a34ee5fcef4",
   "metadata": {},
   "outputs": [
    {
     "name": "stdout",
     "output_type": "stream",
     "text": [
      "Epoch 1/10\n",
      "33/33 [==============================] - 58s 2s/step - loss: 3.1188 - acc: 0.5716 - val_loss: 0.6994 - val_acc: 0.5039\n",
      "Epoch 2/10\n",
      "33/33 [==============================] - 53s 2s/step - loss: 0.6153 - acc: 0.6689 - val_loss: 0.8326 - val_acc: 0.5039\n",
      "Epoch 3/10\n",
      "33/33 [==============================] - 53s 2s/step - loss: 0.6581 - acc: 0.6300 - val_loss: 0.7178 - val_acc: 0.5039\n",
      "Epoch 4/10\n",
      "33/33 [==============================] - 51s 2s/step - loss: 0.6104 - acc: 0.6456 - val_loss: 1.1016 - val_acc: 0.5000\n",
      "Epoch 5/10\n",
      "33/33 [==============================] - 53s 2s/step - loss: 0.5611 - acc: 0.7001 - val_loss: 0.7068 - val_acc: 0.5586\n",
      "Epoch 6/10\n",
      "33/33 [==============================] - 53s 2s/step - loss: 0.5516 - acc: 0.7137 - val_loss: 0.9047 - val_acc: 0.5117\n",
      "Epoch 7/10\n",
      "33/33 [==============================] - 68s 2s/step - loss: 0.5183 - acc: 0.7410 - val_loss: 0.6651 - val_acc: 0.5664\n",
      "Epoch 8/10\n",
      "33/33 [==============================] - 65s 2s/step - loss: 0.4990 - acc: 0.7556 - val_loss: 0.7988 - val_acc: 0.5469\n",
      "Epoch 9/10\n",
      "33/33 [==============================] - 69s 2s/step - loss: 0.5358 - acc: 0.7342 - val_loss: 0.7086 - val_acc: 0.5547\n",
      "Epoch 10/10\n",
      "33/33 [==============================] - 75s 2s/step - loss: 0.4471 - acc: 0.7955 - val_loss: 0.9686 - val_acc: 0.5820\n"
     ]
    }
   ],
   "source": [
    "history = model.fit(train_gen,epochs=10,validation_data=validation_gen)"
   ]
  },
  {
   "cell_type": "code",
   "execution_count": 30,
   "id": "60283391-0a62-4ef0-a421-0382f3eb5b15",
   "metadata": {},
   "outputs": [
    {
     "data": {
      "text/plain": [
       "<matplotlib.legend.Legend at 0x2069ac29990>"
      ]
     },
     "execution_count": 30,
     "metadata": {},
     "output_type": "execute_result"
    },
    {
     "data": {
      "image/png": "[encoded data removed]",
      "text/plain": [
       "<Figure size 640x480 with 1 Axes>"
      ]
     },
     "metadata": {},
     "output_type": "display_data"
    }
   ],
   "source": [
    "## Accuracy\n",
    "plt.plot(history.history['acc'])\n",
    "plt.plot(history.history['val_acc'])\n",
    "plt.legend([\"train\",\"val\"],loc='upper left')"
   ]
  },
  {
   "cell_type": "code",
   "execution_count": 31,
   "id": "b9c268b0-6150-4fba-b8af-8b4ccbf7782e",
   "metadata": {},
   "outputs": [
    {
     "data": {
      "text/plain": [
       "<matplotlib.legend.Legend at 0x2069aa7c640>"
      ]
     },
     "execution_count": 31,
     "metadata": {},
     "output_type": "execute_result"
    },
    {
     "data": {
      "image/png": "[encoded data removed]",
      "text/plain": [
       "<Figure size 640x480 with 1 Axes>"
      ]
     },
     "metadata": {},
     "output_type": "display_data"
    }
   ],
   "source": [
    "## Loss\n",
    "plt.plot(history.history['loss'])\n",
    "plt.plot(history.history['val_loss'])\n",
    "plt.legend([\"train\", \"val\"],loc='upper left')"
   ]
  },
  {
   "cell_type": "markdown",
   "id": "8d188e67-6e47-4ebf-955d-68cd27517472",
   "metadata": {},
   "source": [
    "### Making Prediction "
   ]
  },
  {
   "cell_type": "code",
   "execution_count": 77,
   "id": "4654f645-01b9-4832-8de7-3003ea9372d6",
   "metadata": {},
   "outputs": [],
   "source": [
    "def predict(img_path):\n",
    "    img= img_to_array(load_img(img_path,target_size=(300,300)))\n",
    "    img =  np.expand_dims(img,axis=0)\n",
    "    classes =  model.predict([img])\n",
    "    if classes[0] > 0.5:\n",
    "        print(\"human\")\n",
    "    else:\n",
    "        print(\"horse\")"
   ]
  },
  {
   "cell_type": "code",
   "execution_count": 79,
   "id": "f715ad63-0124-4ae6-92dd-0c5205eafe65",
   "metadata": {},
   "outputs": [
    {
     "name": "stdout",
     "output_type": "stream",
     "text": [
      "1/1 [==============================] - 0s 53ms/step\n",
      "human\n"
     ]
    }
   ],
   "source": [
    "file_img  = \"C:/Users/RISHABH/Pictures/images/humanImg.jpg\"\n",
    "predict(file_img)"
   ]
  },
  {
   "cell_type": "code",
   "execution_count": null,
   "id": "6c5c9131-cb65-43f3-8f9b-174c70622111",
   "metadata": {},
   "outputs": [],
   "source": []
  }
 ],
 "metadata": {
  "kernelspec": {
   "display_name": "Python 3 (ipykernel)",
   "language": "python",
   "name": "python3"
  },
  "language_info": {
   "codemirror_mode": {
    "name": "ipython",
    "version": 3
   },
   "file_extension": ".py",
   "mimetype": "text/x-python",
   "name": "python",
   "nbconvert_exporter": "python",
   "pygments_lexer": "ipython3",
   "version": "3.10.0"
  }
 },
 "nbformat": 4,
 "nbformat_minor": 5
}
