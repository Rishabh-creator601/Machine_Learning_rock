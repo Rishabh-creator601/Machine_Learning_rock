{
 "cells": [
  {
   "cell_type": "code",
   "execution_count": 1,
   "id": "56f9ea9e-cada-46b4-be6c-b8d1b0e1bbfe",
   "metadata": {},
   "outputs": [],
   "source": [
    "import cv2 ;  import mediapipe as mp"
   ]
  },
  {
   "cell_type": "code",
   "execution_count": 2,
   "id": "7522aa0a-1fc3-4a8c-9421-dd7feb31bb76",
   "metadata": {},
   "outputs": [],
   "source": [
    "mp_drawing  = mp.solutions.drawing_utils\n",
    "mp_holistic =  mp.solutions.holistic"
   ]
  },
  {
   "cell_type": "code",
   "execution_count": 3,
   "id": "141a4207-a3e5-4ba3-b3b2-d4a67a2d9ec1",
   "metadata": {},
   "outputs": [],
   "source": [
    "\n",
    "cap =  cv2.VideoCapture(0)\n",
    "with mp_holistic.Holistic(min_detection_confidence=0.5,min_tracking_confidence=0.5)  as H :\n",
    "    while cap.isOpened(): \n",
    "        ret,frame =  cap.read()\n",
    "        frame = cv2.flip(frame,1)\n",
    "        frame = cv2.resize(frame, (800, 600))\n",
    "        if not ret:\n",
    "            print(\"Cant Open Web Cam\")\n",
    "            break \n",
    "            \n",
    "        image = cv2.cvtColor(frame,cv2.COLOR_BGR2RGB)\n",
    "        results =  H.process(image)\n",
    "        #image = cv2.cvtColor(image,cv2.COLOR_RGB2BGR)\n",
    "        mp_drawing.draw_landmarks(frame,results.right_hand_landmarks,mp_holistic.HAND_CONNECTIONS) # right hand\n",
    "        mp_drawing.draw_landmarks(frame,results.left_hand_landmarks,mp_holistic.HAND_CONNECTIONS) # left hand\n",
    "        mp_drawing.draw_landmarks(frame,results.pose_landmarks,mp_holistic.POSE_CONNECTIONS) # full body \n",
    "        # FOR FACE THERE IS A FACE MESH \n",
    "        \n",
    "\n",
    "        cv2.imshow(\"Image with drawing\" , frame)\n",
    "\n",
    "        if cv2.waitKey(20) & 0xFF ==  ord(\"q\"):\n",
    "            break \n",
    "cap.release()\n",
    "cv2.destroyAllWindows()"
   ]
  },
  {
   "cell_type": "code",
   "execution_count": null,
   "id": "b094b291-8543-4e21-8fbc-24ef73d6b584",
   "metadata": {},
   "outputs": [],
   "source": []
  }
 ],
 "metadata": {
  "kernelspec": {
   "display_name": "Python 3 (ipykernel)",
   "language": "python",
   "name": "python3"
  },
  "language_info": {
   "codemirror_mode": {
    "name": "ipython",
    "version": 3
   },
   "file_extension": ".py",
   "mimetype": "text/x-python",
   "name": "python",
   "nbconvert_exporter": "python",
   "pygments_lexer": "ipython3",
   "version": "3.10.0"
  }
 },
 "nbformat": 4,
 "nbformat_minor": 5
}
