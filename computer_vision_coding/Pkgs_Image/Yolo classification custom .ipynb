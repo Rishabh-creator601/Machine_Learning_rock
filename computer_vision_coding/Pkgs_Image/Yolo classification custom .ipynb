{
 "cells": [
  {
   "cell_type": "code",
   "execution_count": 1,
   "id": "433102e9-6898-46c8-b213-983fd3b73802",
   "metadata": {},
   "outputs": [],
   "source": [
    "from ultralytics import YOLO"
   ]
  },
  {
   "cell_type": "code",
   "execution_count": 6,
   "id": "b7ecc87d-6e0b-471e-a7b8-e1381a269c00",
   "metadata": {},
   "outputs": [],
   "source": [
    "# Trained On Google Colab :  GPU  and extracted the best model from there\n",
    "# model  = YOLO(\"./media/yolo11n-cls.pt\")\n",
    "# results = model.train(data=\"C:/codes/machineL/CODING/Image/data/Flowers/\",epochs=10,imgsz=640)"
   ]
  },
  {
   "cell_type": "code",
   "execution_count": 11,
   "id": "66a34f9e-52c7-470e-a916-9a95db7bba70",
   "metadata": {},
   "outputs": [],
   "source": [
    "model = YOLO(\"./media/flowers_best.pt\")"
   ]
  },
  {
   "cell_type": "code",
   "execution_count": 12,
   "id": "3f94c94f-ca84-4abd-9aba-b0f4d0c3517c",
   "metadata": {},
   "outputs": [
    {
     "name": "stdout",
     "output_type": "stream",
     "text": [
      "\n",
      "image 1/1 C:\\codes\\machineL\\CODING\\Image\\Pkgs_Image\\media\\testImage.jpeg: 640x640 roses 1.00, tulips 0.00, sunflowers 0.00, daisy 0.00, dandelion 0.00, 173.0ms\n",
      "Speed: 23.3ms preprocess, 173.0ms inference, 0.1ms postprocess per image at shape (1, 3, 640, 640)\n"
     ]
    }
   ],
   "source": [
    "results =  model(\"./media/testImage.jpeg\")"
   ]
  },
  {
   "cell_type": "code",
   "execution_count": 13,
   "id": "2305e3fe-f93c-41bb-8d16-81e08dec22f4",
   "metadata": {},
   "outputs": [],
   "source": [
    "results[0].show()"
   ]
  },
  {
   "cell_type": "code",
   "execution_count": null,
   "id": "f4f155d5-f8a1-4ad9-83c2-a6184ae7caa6",
   "metadata": {},
   "outputs": [],
   "source": []
  }
 ],
 "metadata": {
  "kernelspec": {
   "display_name": "Python 3 (ipykernel)",
   "language": "python",
   "name": "python3"
  },
  "language_info": {
   "codemirror_mode": {
    "name": "ipython",
    "version": 3
   },
   "file_extension": ".py",
   "mimetype": "text/x-python",
   "name": "python",
   "nbconvert_exporter": "python",
   "pygments_lexer": "ipython3",
   "version": "3.10.0"
  }
 },
 "nbformat": 4,
 "nbformat_minor": 5
}
