{
 "cells": [
  {
   "cell_type": "code",
   "execution_count": 10,
   "id": "320f6106-6163-4e70-bb4a-f7e22f87b624",
   "metadata": {},
   "outputs": [],
   "source": [
    "from tensorflow.keras.datasets import fashion_mnist\n",
    "from tensorflow.keras.models import Sequential\n",
    "from tensorflow.keras.layers import Dense,Conv2D,MaxPool2D,Flatten\n",
    "from tensorflow.keras.utils import to_categorical as to_cat\n",
    "from tensorflow.keras.callbacks import Callback\n",
    "import numpy as np\n",
    "import matplotlib.pyplot as plt"
   ]
  },
  {
   "cell_type": "markdown",
   "id": "3fde5f4c",
   "metadata": {},
   "source": [
    "**Just a sample  callback** : custom callbacks <br />\n",
    "but i have implemented over 5 (5  +  1 custom) callbacks in `dl_coding` ->  `callbacks_variations` "
   ]
  },
  {
   "cell_type": "code",
   "execution_count": 22,
   "id": "242ce892-3286-4237-9b63-804de302de00",
   "metadata": {},
   "outputs": [],
   "source": [
    "class myCallBack(Callback):\n",
    "    def  on_epoch_end(self,epoch,logs={}):\n",
    "        if(logs.get('accuracy') > 0.95):\n",
    "            print(\"reached 95% training\")\n",
    "            self.model.stop_training =  True "
   ]
  },
  {
   "cell_type": "code",
   "execution_count": 14,
   "id": "02a47906-f64e-49d8-9c69-ac7ac6c86d4f",
   "metadata": {},
   "outputs": [],
   "source": [
    "callbacks  = myCallBack()"
   ]
  },
  {
   "cell_type": "code",
   "execution_count": 7,
   "id": "d9d9b117-0661-4035-9fab-2e0280fd09c1",
   "metadata": {},
   "outputs": [],
   "source": [
    "(x_train,y_train),(x_test,y_test) = fashion_mnist.load_data()"
   ]
  },
  {
   "cell_type": "code",
   "execution_count": 8,
   "id": "990336b8-2520-40d2-98fd-6741f6e707c9",
   "metadata": {},
   "outputs": [],
   "source": [
    "\n",
    "x_train  =  x_train / 255.0\n",
    "x_test =  x_test / 255.0"
   ]
  },
  {
   "cell_type": "code",
   "execution_count": 9,
   "id": "1b8605fa-0a44-44e0-a6c8-b9b6eaa8cfcf",
   "metadata": {},
   "outputs": [],
   "source": [
    "model = Sequential([\n",
    "    # Conv2D(64,(5,5),padding='same',activation='relu',input_shape=(28,28,1)),\n",
    "    # MaxPool2D((2,2)),\n",
    "    # Conv2D(128,(5,5),padding='same',activation='relu'),\n",
    "    # MaxPool2D((2,2)),\n",
    "    # Conv2D(256,(5,5),padding='same',activation='relu'),\n",
    "    Flatten(input_shape=(28,28)),\n",
    "    Dense(256,activation='relu'),\n",
    "    Dense(10,activation='softmax')\n",
    "    \n",
    "    \n",
    "    \n",
    "])"
   ]
  },
  {
   "cell_type": "code",
   "execution_count": 20,
   "id": "81bc6a28-96d7-44f1-a988-34cab6c1aee7",
   "metadata": {},
   "outputs": [],
   "source": [
    "model.compile(loss='sparse_categorical_crossentropy',optimizer='adam',metrics=['accuracy'])"
   ]
  },
  {
   "cell_type": "code",
   "execution_count": 23,
   "id": "fe371987-47d6-48ca-8293-0b24bc0cce5c",
   "metadata": {},
   "outputs": [
    {
     "name": "stdout",
     "output_type": "stream",
     "text": [
      "Epoch 1/50\n",
      "1875/1875 [==============================] - 5s 3ms/step - loss: 0.2115 - accuracy: 0.9201\n",
      "Epoch 2/50\n",
      "1875/1875 [==============================] - 6s 3ms/step - loss: 0.2039 - accuracy: 0.9232\n",
      "Epoch 3/50\n",
      "1875/1875 [==============================] - 6s 3ms/step - loss: 0.1972 - accuracy: 0.9263\n",
      "Epoch 4/50\n",
      "1875/1875 [==============================] - 6s 3ms/step - loss: 0.1900 - accuracy: 0.9284\n",
      "Epoch 5/50\n",
      "1875/1875 [==============================] - 11s 6ms/step - loss: 0.1850 - accuracy: 0.9294\n",
      "Epoch 6/50\n",
      "1875/1875 [==============================] - 11s 6ms/step - loss: 0.1789 - accuracy: 0.9329\n",
      "Epoch 7/50\n",
      "1875/1875 [==============================] - 6s 3ms/step - loss: 0.1747 - accuracy: 0.9344\n",
      "Epoch 8/50\n",
      "1875/1875 [==============================] - 11s 6ms/step - loss: 0.1695 - accuracy: 0.9356\n",
      "Epoch 9/50\n",
      "1875/1875 [==============================] - 11s 6ms/step - loss: 0.1657 - accuracy: 0.9372\n",
      "Epoch 10/50\n",
      "1875/1875 [==============================] - 11s 6ms/step - loss: 0.1590 - accuracy: 0.9399\n",
      "Epoch 11/50\n",
      "1875/1875 [==============================] - 11s 6ms/step - loss: 0.1543 - accuracy: 0.9423\n",
      "Epoch 12/50\n",
      "1875/1875 [==============================] - 11s 6ms/step - loss: 0.1514 - accuracy: 0.9421\n",
      "Epoch 13/50\n",
      "1875/1875 [==============================] - 11s 6ms/step - loss: 0.1461 - accuracy: 0.9448\n",
      "Epoch 14/50\n",
      "1875/1875 [==============================] - 11s 6ms/step - loss: 0.1431 - accuracy: 0.9455\n",
      "Epoch 15/50\n",
      "1875/1875 [==============================] - 11s 6ms/step - loss: 0.1400 - accuracy: 0.9463\n",
      "Epoch 16/50\n",
      "1875/1875 [==============================] - 11s 6ms/step - loss: 0.1348 - accuracy: 0.9496\n",
      "Epoch 17/50\n",
      "1875/1875 [==============================] - 11s 6ms/step - loss: 0.1323 - accuracy: 0.9507\n"
     ]
    },
    {
     "data": {
      "text/plain": [
       "<keras.callbacks.History at 0x2ba62807a30>"
      ]
     },
     "execution_count": 23,
     "metadata": {},
     "output_type": "execute_result"
    }
   ],
   "source": [
    "model.fit(x_train,y_train,epochs=50,callbacks=[callbacks])"
   ]
  },
  {
   "cell_type": "code",
   "execution_count": null,
   "id": "62ffd8b7-1289-484b-9997-b34e2888dab2",
   "metadata": {},
   "outputs": [],
   "source": []
  }
 ],
 "metadata": {
  "kernelspec": {
   "display_name": "Python 3 (ipykernel)",
   "language": "python",
   "name": "python3"
  },
  "language_info": {
   "codemirror_mode": {
    "name": "ipython",
    "version": 3
   },
   "file_extension": ".py",
   "mimetype": "text/x-python",
   "name": "python",
   "nbconvert_exporter": "python",
   "pygments_lexer": "ipython3",
   "version": "3.10.0"
  }
 },
 "nbformat": 4,
 "nbformat_minor": 5
}
