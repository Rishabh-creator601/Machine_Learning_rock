{
 "cells": [
  {
   "cell_type": "code",
   "execution_count": 1,
   "id": "1201af7e-8368-46e5-8a7a-5cdaf5af3b4d",
   "metadata": {},
   "outputs": [],
   "source": [
    "import cv2 \n",
    "import matplotlib.pyplot as plt \n",
    "import numpy as np"
   ]
  },
  {
   "cell_type": "code",
   "execution_count": 2,
   "id": "51d8fad1-3a52-4c4d-9532-ef46bafe0cf1",
   "metadata": {},
   "outputs": [],
   "source": [
    "face_clf = cv2.CascadeClassifier(\"Haarcascades/haarcascade_frontalface_default.xml\")\n",
    "eyes_clf = cv2.CascadeClassifier(\"Haarcascades/haarcascade_eye.xml\")"
   ]
  },
  {
   "cell_type": "code",
   "execution_count": 15,
   "id": "a7cc93a8-8049-434b-9017-46fc51f2a796",
   "metadata": {},
   "outputs": [],
   "source": [
    "img = cv2.imread(\"Trump.jpg\")\n",
    "gray = cv2.cvtColor(img,cv2.COLOR_BGR2GRAY)"
   ]
  },
  {
   "cell_type": "code",
   "execution_count": 16,
   "id": "bc39fc2f-0383-48f2-bdbe-f957c4d70e39",
   "metadata": {},
   "outputs": [],
   "source": [
    "faces =  face_clf.detectMultiScale(gray,1.3,5)"
   ]
  },
  {
   "cell_type": "markdown",
   "id": "1ccb453b-1e85-4f66-a540-ec3302f5199c",
   "metadata": {},
   "source": [
    "#### DETECT ALWAYS IN GRAY AND AND DISPLAY ALWAYS NORMAL IMAGE"
   ]
  },
  {
   "cell_type": "markdown",
   "id": "d1b72258-781f-4f7c-96dd-4557490fde97",
   "metadata": {},
   "source": [
    "#### Just detecting Face "
   ]
  },
  {
   "cell_type": "code",
   "execution_count": 5,
   "id": "1ba9eff8-6c62-462d-99e4-db87ac542866",
   "metadata": {},
   "outputs": [
    {
     "name": "stderr",
     "output_type": "stream",
     "text": [
      "<>:1: SyntaxWarning: \"is\" with a literal. Did you mean \"==\"?\n",
      "<>:1: SyntaxWarning: \"is\" with a literal. Did you mean \"==\"?\n",
      "C:\\Users\\RISHABH\\AppData\\Local\\Temp\\ipykernel_17672\\3280042967.py:1: SyntaxWarning: \"is\" with a literal. Did you mean \"==\"?\n",
      "  if faces is ():\n"
     ]
    }
   ],
   "source": [
    "if faces is ():\n",
    "    print(\"No faces found\")\n",
    "\n",
    "for (x,y,w,h) in faces:\n",
    "    cv2.rectangle(img,(x,y),(x+w,y+h),(127,0,255),2)\n",
    "    cv2.imshow(\"Face Detection\",img)\n",
    "    cv2.waitKey(0)\n",
    "\n",
    "cv2.destroyAllWindows()"
   ]
  },
  {
   "cell_type": "markdown",
   "id": "7f24e862-6025-4e47-b0d5-48857d0aef6c",
   "metadata": {},
   "source": [
    "#### Just detecting Eyes"
   ]
  },
  {
   "cell_type": "code",
   "execution_count": 17,
   "id": "422400ed-624e-4310-846b-a60bb4e1654f",
   "metadata": {},
   "outputs": [
    {
     "name": "stderr",
     "output_type": "stream",
     "text": [
      "<>:1: SyntaxWarning: \"is\" with a literal. Did you mean \"==\"?\n",
      "<>:1: SyntaxWarning: \"is\" with a literal. Did you mean \"==\"?\n",
      "C:\\Users\\RISHABH\\AppData\\Local\\Temp\\ipykernel_17672\\3428055759.py:1: SyntaxWarning: \"is\" with a literal. Did you mean \"==\"?\n",
      "  if faces is ():\n"
     ]
    }
   ],
   "source": [
    "if faces is ():\n",
    "    print(\"No faces found\")\n",
    "\n",
    "for (x,y,w,h) in faces:\n",
    "    #cv2.rectangle(img,(x,y),(x+w,y+h),(127,0,255),2) # You can Combine both just Uncomment this\n",
    "    gray_points = gray[y:y+h,x:x+w] # detecting eyes on face on gray image\n",
    "    img_points =  img[y:y+h,x:x+w] \n",
    "    eyes = eyes_clf.detectMultiScale(gray_points)\n",
    "    for (ex,ey,ew,eh) in eyes:\n",
    "        cv2.rectangle(img_points,(ex,ey),(ex+ew,ey+eh),(255,255,0),2) # Rect around eyes points on face  points \n",
    "                   \n",
    "        \n",
    "\n",
    "\n",
    "\n",
    "\n",
    "\n",
    "\n",
    "    \n",
    "cv2.imshow(\"Img\",img)\n",
    "cv2.waitKey(0)\n",
    "cv2.destroyAllWindows()\n",
    "\n"
   ]
  },
  {
   "cell_type": "code",
   "execution_count": 18,
   "id": "e543ff02-2707-4c25-bbb4-1a55f43b88a2",
   "metadata": {},
   "outputs": [],
   "source": [
    "#Refer : https://www.tutorialspoint.com/how-to-detect-eyes-in-an-image-using-opencv-python"
   ]
  },
  {
   "cell_type": "code",
   "execution_count": null,
   "id": "896d7732-e33c-4997-a739-40392f1d9e22",
   "metadata": {},
   "outputs": [],
   "source": []
  }
 ],
 "metadata": {
  "kernelspec": {
   "display_name": "Python 3 (ipykernel)",
   "language": "python",
   "name": "python3"
  },
  "language_info": {
   "codemirror_mode": {
    "name": "ipython",
    "version": 3
   },
   "file_extension": ".py",
   "mimetype": "text/x-python",
   "name": "python",
   "nbconvert_exporter": "python",
   "pygments_lexer": "ipython3",
   "version": "3.10.0"
  }
 },
 "nbformat": 4,
 "nbformat_minor": 5
}
