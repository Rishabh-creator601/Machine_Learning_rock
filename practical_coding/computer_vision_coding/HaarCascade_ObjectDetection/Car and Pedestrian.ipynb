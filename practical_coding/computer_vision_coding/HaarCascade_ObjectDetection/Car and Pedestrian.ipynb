{
 "cells": [
  {
   "cell_type": "code",
   "execution_count": 1,
   "id": "97cefd41-4e85-439c-b83b-a90af22f271a",
   "metadata": {},
   "outputs": [],
   "source": [
    "import cv2"
   ]
  },
  {
   "cell_type": "code",
   "execution_count": 4,
   "id": "11c8238a-e33d-4f68-ac45-fddc09ed4399",
   "metadata": {},
   "outputs": [],
   "source": [
    "car_clf = cv2.CascadeClassifier(\"Haarcascades/haarcascade_fullbody.xml\") # CAR OBJECT DETECTION"
   ]
  },
  {
   "cell_type": "markdown",
   "id": "284a1fea-2fe5-485c-8950-89fd643238b7",
   "metadata": {},
   "source": [
    "#### JUST CHANGE THE CASCADE CLASSIFIER AND VIDEO ALL SET"
   ]
  },
  {
   "cell_type": "code",
   "execution_count": 3,
   "id": "9069cc37-546f-4ae9-8b0f-e947bcd0b463",
   "metadata": {},
   "outputs": [],
   "source": [
    "\n",
    "cap = cv2.VideoCapture(\"images/walking.avi\")\n",
    "\n",
    "\n",
    "while cap.isOpened():\n",
    "    _,frame = cap.read()\n",
    "    \n",
    "    gray = cv2.cvtColor(frame,cv2.COLOR_BGR2GRAY)\n",
    "    cars = car_clf.detectMultiScale(gray,1.3,5)\n",
    "    for (x,y,w,h) in cars :\n",
    "        cv2.rectangle(frame,(x,y),(x+w,y+h),(127,0,255),2)\n",
    "    cv2.imshow(\"Cars\",frame)\n",
    "    if cv2.waitKey(1) == ord(\"q\"):\n",
    "       break\n",
    "    \n",
    "\n",
    "\n",
    "cap.release()\n",
    "cv2.destroyAllWindows()\n",
    "\n"
   ]
  },
  {
   "cell_type": "code",
   "execution_count": null,
   "id": "cb9bd6a6-8225-4b84-9acd-327679985e06",
   "metadata": {},
   "outputs": [],
   "source": []
  }
 ],
 "metadata": {
  "kernelspec": {
   "display_name": "Python 3 (ipykernel)",
   "language": "python",
   "name": "python3"
  },
  "language_info": {
   "codemirror_mode": {
    "name": "ipython",
    "version": 3
   },
   "file_extension": ".py",
   "mimetype": "text/x-python",
   "name": "python",
   "nbconvert_exporter": "python",
   "pygments_lexer": "ipython3",
   "version": "3.10.0"
  }
 },
 "nbformat": 4,
 "nbformat_minor": 5
}
