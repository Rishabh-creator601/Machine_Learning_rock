{
 "cells": [
  {
   "cell_type": "code",
   "execution_count": 63,
   "id": "077b54dc",
   "metadata": {},
   "outputs": [],
   "source": [
    "from tensorflow.keras.applications import VGG16\n",
    "from tensorflow.keras.models import Sequential\n",
    "from seedtools import show_all_datasets, connect\n",
    "from tensorflow.keras.layers import Dense,GlobalAveragePooling2D,Flatten\n",
    "from tensorflow.keras.utils import to_categorical as to_cat\n",
    "from tensorflow.keras.preprocessing.image import ImageDataGenerator\n",
    "from tensorflow.keras.callbacks import EarlyStopping\n",
    "from tensorflow.keras.optimizers import Adam \n",
    "import numpy as np \n",
    "import matplotlib.pyplot as plt\n",
    "import os \n",
    "\n",
    "\n",
    "## Just ignoring warnings \n",
    "import warnings\n",
    "warnings.filterwarnings('ignore', category=FutureWarning)\n",
    "import tensorflow as tf \n",
    "tf.get_logger().setLevel('ERROR') "
   ]
  },
  {
   "cell_type": "markdown",
   "id": "6996b343",
   "metadata": {},
   "source": [
    "**TRANSFER LEARNING IN TWO PARTS :**\n",
    "-  lock pretrained model and train only new model that we have created \n",
    "- unlock both and train both but with very low lr like 0.0001(1e-4)\n",
    "\n",
    "but why both : https://www.geeksforgeeks.org/what-is-the-difference-between-fine-tuning-and-transfer-learning/\n"
   ]
  },
  {
   "cell_type": "markdown",
   "id": "a222fda8",
   "metadata": {},
   "source": [
    "**JUST DATA LOADING (SKIP THAT PART)**"
   ]
  },
  {
   "cell_type": "code",
   "execution_count": 49,
   "id": "0e927ece",
   "metadata": {},
   "outputs": [],
   "source": [
    "TRAIN_DIR =  connect(\"Rock-Paper-Scissors/train\")\n",
    "TEST_DIR =  connect(\"Rock-Paper-Scissors/test\")"
   ]
  },
  {
   "cell_type": "code",
   "execution_count": 50,
   "id": "12e0903b",
   "metadata": {},
   "outputs": [],
   "source": [
    "train_gen = ImageDataGenerator(rescale=1/255\n",
    "                               ,horizontal_flip=True,\n",
    "                               shear_range=0.2,width_shift_range=0.4,\n",
    "                               height_shift_range=0.4)\n",
    "\n",
    "\n",
    "test_gen = ImageDataGenerator(rescale=1/255\n",
    "                               ,horizontal_flip=True,\n",
    "                               shear_range=0.2,width_shift_range=0.4,\n",
    "                               height_shift_range=0.4)"
   ]
  },
  {
   "cell_type": "code",
   "execution_count": 51,
   "id": "a1cde460",
   "metadata": {},
   "outputs": [
    {
     "name": "stdout",
     "output_type": "stream",
     "text": [
      "Found 2520 images belonging to 3 classes.\n",
      "Found 2520 images belonging to 3 classes.\n"
     ]
    }
   ],
   "source": [
    "train_data  = train_gen.flow_from_directory(\n",
    "    TRAIN_DIR,\n",
    "    target_size=(100,100),\n",
    "    batch_size=32,\n",
    "    class_mode=\"categorical\"\n",
    ")\n",
    "test_data  = test_gen.flow_from_directory(\n",
    "    TRAIN_DIR,\n",
    "    target_size=(100,100),\n",
    "    batch_size=32,\n",
    "    class_mode=\"categorical\"\n",
    ")"
   ]
  },
  {
   "cell_type": "markdown",
   "id": "5e7de7fd",
   "metadata": {},
   "source": [
    "**transfer learning (part 1)** :  train only new model added "
   ]
  },
  {
   "cell_type": "code",
   "execution_count": 52,
   "id": "45dc6302",
   "metadata": {},
   "outputs": [],
   "source": [
    "base_model =  VGG16(\n",
    "    weights=\"imagenet\",\n",
    "    include_top=False,\n",
    "    input_shape=(100,100,3)\n",
    ")\n",
    "\n",
    "for layer in base_model.layers :\n",
    "    layer.trainable =  False"
   ]
  },
  {
   "cell_type": "code",
   "execution_count": 53,
   "id": "b6cf342b",
   "metadata": {},
   "outputs": [],
   "source": [
    "model =  Sequential([\n",
    "    base_model,\n",
    "    GlobalAveragePooling2D(),\n",
    "    Dense(1024,activation=\"relu\"),\n",
    "    Dense(3,activation=\"softmax\")\n",
    "])\n",
    "model.compile(loss=\"categorical_crossentropy\",optimizer=\"adam\",metrics=[\"acc\"])"
   ]
  },
  {
   "cell_type": "code",
   "execution_count": 60,
   "id": "818ff20a",
   "metadata": {},
   "outputs": [],
   "source": [
    "early_stop =  EarlyStopping( # just in case of overfitting \n",
    "    monitor=\"val_loss\",\n",
    "    patience=2,\n",
    "    restore_best_weights=True,\n",
    ")"
   ]
  },
  {
   "cell_type": "code",
   "execution_count": 55,
   "id": "eb8ab880",
   "metadata": {},
   "outputs": [
    {
     "name": "stdout",
     "output_type": "stream",
     "text": [
      "Epoch 1/3\n",
      "79/79 [==============================] - 174s 2s/step - loss: 0.4121 - acc: 0.8500 - val_loss: 0.2002 - val_acc: 0.9353\n",
      "Epoch 2/3\n",
      "79/79 [==============================] - 177s 2s/step - loss: 0.1764 - acc: 0.9389 - val_loss: 0.1414 - val_acc: 0.9583\n",
      "Epoch 3/3\n",
      "79/79 [==============================] - 153s 2s/step - loss: 0.1292 - acc: 0.9524 - val_loss: 0.1517 - val_acc: 0.9476\n"
     ]
    }
   ],
   "source": [
    "history_pretrained = model.fit(train_data,validation_data=test_data,epochs=3,callbacks=[early_stop])"
   ]
  },
  {
   "cell_type": "markdown",
   "id": "6615f3c9",
   "metadata": {},
   "source": [
    "**transfer learning (part  2)** :  fine tuning (train both with low lr )\n",
    "tip : use early stop +  reduce_lr_on_plateau "
   ]
  },
  {
   "cell_type": "code",
   "execution_count": 56,
   "id": "93d3a839",
   "metadata": {},
   "outputs": [],
   "source": [
    "for layer in  model.layers[-4:]:\n",
    "    layer.trainable  = True \n",
    "    "
   ]
  },
  {
   "cell_type": "code",
   "execution_count": 57,
   "id": "6c306f77",
   "metadata": {},
   "outputs": [
    {
     "name": "stdout",
     "output_type": "stream",
     "text": [
      "Epoch 1/5\n",
      "79/79 [==============================] - 361s 5s/step - loss: 0.3619 - acc: 0.9004 - val_loss: 0.0606 - val_acc: 0.9810\n",
      "Epoch 2/5\n",
      "79/79 [==============================] - 433s 6s/step - loss: 0.0790 - acc: 0.9718 - val_loss: 0.0409 - val_acc: 0.9845\n",
      "Epoch 3/5\n",
      "79/79 [==============================] - 419s 5s/step - loss: 0.0586 - acc: 0.9782 - val_loss: 0.0430 - val_acc: 0.9853\n",
      "Epoch 4/5\n",
      "79/79 [==============================] - 390s 5s/step - loss: 0.0624 - acc: 0.9786 - val_loss: 0.0282 - val_acc: 0.9913\n",
      "Epoch 5/5\n",
      "79/79 [==============================] - 439s 6s/step - loss: 0.0500 - acc: 0.9845 - val_loss: 0.0205 - val_acc: 0.9921\n"
     ]
    }
   ],
   "source": [
    "adam = Adam(learning_rate=0.0001)\n",
    "model.compile(loss=\"categorical_crossentropy\",optimizer=adam,metrics=[\"acc\"])\n",
    "history = model.fit(train_data,validation_data=test_data,epochs=5,callbacks=early_stop)"
   ]
  },
  {
   "cell_type": "code",
   "execution_count": 58,
   "id": "9d3a5581",
   "metadata": {},
   "outputs": [
    {
     "data": {
      "text/plain": [
       "<matplotlib.legend.Legend at 0x2e14dad60d0>"
      ]
     },
     "execution_count": 58,
     "metadata": {},
     "output_type": "execute_result"
    },
    {
     "data": {
      "image/png": "[encoded data removed]",
      "text/plain": [
       "<Figure size 640x480 with 1 Axes>"
      ]
     },
     "metadata": {},
     "output_type": "display_data"
    }
   ],
   "source": [
    "## Loss\n",
    "plt.style.use(\"ggplot\")\n",
    "plt.plot(history.history['loss'])\n",
    "plt.plot(history.history['val_loss'])\n",
    "plt.legend([\"train\", \"val\"],loc='upper left')"
   ]
  }
 ],
 "metadata": {
  "kernelspec": {
   "display_name": "Python 3",
   "language": "python",
   "name": "python3"
  },
  "language_info": {
   "codemirror_mode": {
    "name": "ipython",
    "version": 3
   },
   "file_extension": ".py",
   "mimetype": "text/x-python",
   "name": "python",
   "nbconvert_exporter": "python",
   "pygments_lexer": "ipython3",
   "version": "3.11.9"
  }
 },
 "nbformat": 4,
 "nbformat_minor": 5
}
