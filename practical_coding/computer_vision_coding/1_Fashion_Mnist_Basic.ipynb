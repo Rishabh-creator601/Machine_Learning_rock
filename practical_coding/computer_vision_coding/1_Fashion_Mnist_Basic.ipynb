{
 "cells": [
  {
   "cell_type": "code",
   "execution_count": null,
   "id": "6f85f223-3c64-42c9-ab78-892ed3b483c5",
   "metadata": {},
   "outputs": [],
   "source": [
    "from tensorflow.keras.datasets import fashion_mnist\n",
    "from tensorflow.keras.models import Sequential \n",
    "from tensorflow.keras.utils import to_categorical as to_cat\n",
    "import numpy as np\n",
    "import matplotlib.pyplot as plt"
   ]
  },
  {
   "cell_type": "code",
   "execution_count": 2,
   "id": "d9658032-4aee-4ab5-95dc-4dbb9f81bfa4",
   "metadata": {},
   "outputs": [],
   "source": [
    "(x_train,y_train),(x_test,y_test) = fashion_mnist.load_data()"
   ]
  },
  {
   "cell_type": "code",
   "execution_count": 3,
   "id": "1c668971-b189-4359-a788-dc74a37741a1",
   "metadata": {},
   "outputs": [],
   "source": [
    "# y_train = to_cat(y_train)\n",
    "# y_test =  to_cat(y_test)"
   ]
  },
  {
   "cell_type": "code",
   "execution_count": 4,
   "id": "9b446c13-3e42-4602-ba24-2f71035fb5ac",
   "metadata": {},
   "outputs": [
    {
     "data": {
      "text/plain": [
       "array([9, 0, 0, ..., 3, 0, 5], dtype=uint8)"
      ]
     },
     "execution_count": 4,
     "metadata": {},
     "output_type": "execute_result"
    }
   ],
   "source": [
    "y_train"
   ]
  },
  {
   "cell_type": "code",
   "execution_count": 5,
   "id": "a172cec1-e532-4686-a622-69fb70098e45",
   "metadata": {},
   "outputs": [],
   "source": [
    "x_train  =  x_train / 255.0\n",
    "x_test =  x_test / 255.0\n"
   ]
  },
  {
   "cell_type": "code",
   "execution_count": 6,
   "id": "21735498-7a92-46df-a6e7-f5d0e4554bf1",
   "metadata": {},
   "outputs": [],
   "source": [
    "# UNIQUE LABELS \n",
    "# np.unique(y_train)  #array([0, 1, 2, 3, 4, 5, 6, 7, 8, 9], dtype=uint8)\n"
   ]
  },
  {
   "cell_type": "code",
   "execution_count": 7,
   "id": "78b3572a-0991-4b4e-a755-5217ac5a2ce5",
   "metadata": {},
   "outputs": [
    {
     "data": {
      "text/plain": [
       "(60000, 28, 28)"
      ]
     },
     "execution_count": 7,
     "metadata": {},
     "output_type": "execute_result"
    }
   ],
   "source": [
    "x_train.shape"
   ]
  },
  {
   "cell_type": "code",
   "execution_count": null,
   "id": "2cd0c9b2-f4ef-4b0d-bc61-1d2002896316",
   "metadata": {},
   "outputs": [],
   "source": [
    "model = Sequential([\n",
    "    Flatten(input_shape=(28,28)),\n",
    "    Dense(256,activation='relu'),\n",
    "    Dense(10,activation='softmax')\n",
    "    \n",
    "    \n",
    "    \n",
    "])"
   ]
  },
  {
   "cell_type": "code",
   "execution_count": 9,
   "id": "22d95b55-beeb-4282-b399-6cbfd6b566e2",
   "metadata": {},
   "outputs": [],
   "source": [
    "model.compile(loss='sparse_categorical_crossentropy',optimizer='adam',metrics=['acc'])"
   ]
  },
  {
   "cell_type": "code",
   "execution_count": 10,
   "id": "fe86d1a8-daed-4f64-8bb7-b4c6e4459931",
   "metadata": {},
   "outputs": [
    {
     "name": "stdout",
     "output_type": "stream",
     "text": [
      "Model: \"sequential\"\n",
      "_________________________________________________________________\n",
      " Layer (type)                Output Shape              Param #   \n",
      "=================================================================\n",
      " flatten (Flatten)           (None, 784)               0         \n",
      "                                                                 \n",
      " dense (Dense)               (None, 256)               200960    \n",
      "                                                                 \n",
      " dense_1 (Dense)             (None, 10)                2570      \n",
      "                                                                 \n",
      "=================================================================\n",
      "Total params: 203,530\n",
      "Trainable params: 203,530\n",
      "Non-trainable params: 0\n",
      "_________________________________________________________________\n"
     ]
    }
   ],
   "source": [
    "model.summary()"
   ]
  },
  {
   "cell_type": "code",
   "execution_count": 11,
   "id": "afeafb8c-187d-454a-89e8-8549e32b6aaf",
   "metadata": {},
   "outputs": [
    {
     "data": {
      "text/plain": [
       "(50240, 8320, 1290)"
      ]
     },
     "execution_count": 11,
     "metadata": {},
     "output_type": "execute_result"
    }
   ],
   "source": [
    "784*64+64, 64*128+128, 128*10+10"
   ]
  },
  {
   "cell_type": "code",
   "execution_count": 12,
   "id": "5f6439e3-fa70-41ce-9d61-66b663bbd516",
   "metadata": {},
   "outputs": [
    {
     "name": "stdout",
     "output_type": "stream",
     "text": [
      "Epoch 1/5\n",
      "1500/1500 [==============================] - 5s 3ms/step - loss: 0.5011 - acc: 0.8238 - val_loss: 0.4043 - val_acc: 0.8532\n",
      "Epoch 2/5\n",
      "1500/1500 [==============================] - 5s 3ms/step - loss: 0.3747 - acc: 0.8647 - val_loss: 0.3774 - val_acc: 0.8629\n",
      "Epoch 3/5\n",
      "1500/1500 [==============================] - 5s 3ms/step - loss: 0.3369 - acc: 0.8768 - val_loss: 0.3435 - val_acc: 0.8775\n",
      "Epoch 4/5\n",
      "1500/1500 [==============================] - 5s 3ms/step - loss: 0.3093 - acc: 0.8851 - val_loss: 0.3343 - val_acc: 0.8793\n",
      "Epoch 5/5\n",
      "1500/1500 [==============================] - 5s 3ms/step - loss: 0.2910 - acc: 0.8921 - val_loss: 0.3458 - val_acc: 0.8720\n"
     ]
    }
   ],
   "source": [
    "history  = model.fit(x_train,y_train,epochs=5,validation_split=0.2)"
   ]
  },
  {
   "cell_type": "code",
   "execution_count": 13,
   "id": "1948499f-c4a3-44b9-aea9-1b52f0719c25",
   "metadata": {},
   "outputs": [
    {
     "name": "stdout",
     "output_type": "stream",
     "text": [
      "313/313 [==============================] - 0s 1ms/step - loss: 0.3629 - acc: 0.8672\n"
     ]
    },
    {
     "data": {
      "text/plain": [
       "0.8672000169754028"
      ]
     },
     "execution_count": 13,
     "metadata": {},
     "output_type": "execute_result"
    }
   ],
   "source": [
    "loss,acc = model.evaluate(x_test,y_test)\n",
    "acc"
   ]
  },
  {
   "cell_type": "markdown",
   "id": "a10add5d-9f1b-4287-a8c8-12afa44a9d48",
   "metadata": {},
   "source": [
    "### MODEL GRAPHS"
   ]
  },
  {
   "cell_type": "code",
   "execution_count": 14,
   "id": "98a6efab-a344-4ee3-b373-456b01159086",
   "metadata": {},
   "outputs": [
    {
     "data": {
      "text/plain": [
       "<matplotlib.legend.Legend at 0x28b315c6e30>"
      ]
     },
     "execution_count": 14,
     "metadata": {},
     "output_type": "execute_result"
    },
    {
     "data": {
      "image/png": "[encoded data removed]",
      "text/plain": [
       "<Figure size 640x480 with 1 Axes>"
      ]
     },
     "metadata": {},
     "output_type": "display_data"
    }
   ],
   "source": [
    "plt.plot(history.history['acc'])\n",
    "plt.plot(history.history['val_acc'])\n",
    "plt.legend([\"train\",\"val\"],loc='upper left')"
   ]
  },
  {
   "cell_type": "code",
   "execution_count": 15,
   "id": "88fb1382-2e84-4de0-8e3c-00cc7f773617",
   "metadata": {},
   "outputs": [
    {
     "data": {
      "text/plain": [
       "<matplotlib.legend.Legend at 0x28b2f12f400>"
      ]
     },
     "execution_count": 15,
     "metadata": {},
     "output_type": "execute_result"
    },
    {
     "data": {
      "image/png": "[encoded data removed]",
      "text/plain": [
       "<Figure size 640x480 with 1 Axes>"
      ]
     },
     "metadata": {},
     "output_type": "display_data"
    }
   ],
   "source": [
    "plt.plot(history.history['loss'])\n",
    "plt.plot(history.history['val_loss'])\n",
    "plt.legend([\"train\", \"val\"],loc='upper left')"
   ]
  },
  {
   "cell_type": "markdown",
   "id": "6d423560-0040-4759-bd00-8402d60ce98f",
   "metadata": {},
   "source": [
    "### MAKING PREDICTIONS "
   ]
  },
  {
   "cell_type": "code",
   "execution_count": 32,
   "id": "e966a50d-9832-4a90-89d4-738d88d486ad",
   "metadata": {},
   "outputs": [
    {
     "name": "stdout",
     "output_type": "stream",
     "text": [
      "1/1 [==============================] - 0s 25ms/step\n"
     ]
    }
   ],
   "source": [
    "labels = ['top', 'trouser', 'pullover', 'dress', 'coat',\n",
    "          'sandal', 'shirt', 'sneaker', 'bag', 'ankle_boots']\n",
    "\n",
    "\n",
    "\n",
    "def predict(N): \n",
    "    label_true =  labels[y_test[N]]\n",
    "    sample =  x_test[N]\n",
    "    pred =  labels[np.argmax(model.predict(sample.reshape(-1,28,28))) ] ## just resshape to -1,28,28 for prediction purpose \n",
    "    return (pred,label_true)\n",
    "\n",
    "N=  45\n",
    "sample=  x_test[N]\n",
    "label_true,pred =  predict(N)"
   ]
  },
  {
   "cell_type": "code",
   "execution_count": 17,
   "id": "88c1a3ff-cd3a-4479-bdfa-de98e010d790",
   "metadata": {},
   "outputs": [],
   "source": [
    " ##### SOURCE :  AI AND ML FOR CODERS CHAPTER 2    and geeks for geeks [same code]"
   ]
  },
  {
   "cell_type": "code",
   "execution_count": 33,
   "id": "f36e96ee-e1d9-4f61-acda-08864e7dc367",
   "metadata": {},
   "outputs": [
    {
     "data": {
      "text/plain": [
       "Text(0.5, 0, 'TRUE : sneaker  PRED : sneaker')"
      ]
     },
     "execution_count": 33,
     "metadata": {},
     "output_type": "execute_result"
    },
    {
     "data": {
      "image/png": "[encoded data removed]",
      "text/plain": [
       "<Figure size 640x480 with 1 Axes>"
      ]
     },
     "metadata": {},
     "output_type": "display_data"
    }
   ],
   "source": [
    "plt.imshow(sample,interpolation=\"nearest\")\n",
    "plt.axis(\"off\")\n",
    "plt.xlabel(f\"TRUE : {label_true}  PRED : {pred}\")"
   ]
  },
  {
   "cell_type": "code",
   "execution_count": 19,
   "id": "24b963a8-a5f1-46bb-aaf9-0acecd22fbb2",
   "metadata": {},
   "outputs": [],
   "source": [
    "### NOTE DOWN \n",
    "### SPARSE_CATEGORICAL ENTROPY ✔   TO CATEGORICAL ❌ why ?  sparse ->  integer based not matrix based \n",
    "### CATEGORICAL ENTROPY ✔  TO CATEGORICAL   ✔"
   ]
  },
  {
   "cell_type": "code",
   "execution_count": 34,
   "id": "26f2ea04-a9e2-47f4-804e-c932f128f46b",
   "metadata": {},
   "outputs": [],
   "source": [
    "### ACCURACY GOOD YOU CAN USE IT \n",
    "# 😊😊"
   ]
  },
  {
   "cell_type": "code",
   "execution_count": null,
   "id": "6f654fea-3b51-4850-aebd-e350f594d5e2",
   "metadata": {},
   "outputs": [],
   "source": []
  }
 ],
 "metadata": {
  "kernelspec": {
   "display_name": "Python 3 (ipykernel)",
   "language": "python",
   "name": "python3"
  },
  "language_info": {
   "codemirror_mode": {
    "name": "ipython",
    "version": 3
   },
   "file_extension": ".py",
   "mimetype": "text/x-python",
   "name": "python",
   "nbconvert_exporter": "python",
   "pygments_lexer": "ipython3",
   "version": "3.10.0"
  }
 },
 "nbformat": 4,
 "nbformat_minor": 5
}
