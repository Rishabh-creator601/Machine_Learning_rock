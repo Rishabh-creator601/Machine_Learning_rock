{
 "cells": [
  {
   "cell_type": "code",
   "execution_count": 1,
   "id": "ed5bacd1-a520-429f-ac57-72ee9e450948",
   "metadata": {},
   "outputs": [],
   "source": [
    "from data import DATA\n",
    "from sklearn.naive_bayes import MultinomialNB ,GaussianNB\n",
    "from sklearn.linear_model import LogisticRegression\n",
    "from sklearn.ensemble import RandomForestClassifier \n",
    "from sklearn.svm import SVC \n",
    "from xgboost import XGBClassifier"
   ]
  },
  {
   "cell_type": "markdown",
   "id": "1409df2e-317e-4687-bf94-63bab1d0a39b",
   "metadata": {},
   "source": [
    "## USING COUNTV"
   ]
  },
  {
   "cell_type": "code",
   "execution_count": 2,
   "id": "2016d760-fccb-4a30-bf47-0cf20895dbd6",
   "metadata": {},
   "outputs": [
    {
     "name": "stdout",
     "output_type": "stream",
     "text": [
      "USING CountVectorizer\n",
      "data splitted \n"
     ]
    }
   ],
   "source": [
    "data = DATA()\n",
    "(x_train,x_test,y_train,y_test) = data.load(transform='cv',return_type='new')"
   ]
  },
  {
   "cell_type": "code",
   "execution_count": 5,
   "id": "6c747e71-c6c4-42e5-be80-e70ead7268d3",
   "metadata": {},
   "outputs": [],
   "source": [
    "models = {\"LR\":LogisticRegression(),\n",
    "          \"RF\":RandomForestClassifier(),\n",
    "          \"MNB\":MultinomialNB(),\n",
    "          \"svc\":SVC(),\n",
    "          \"GNB\":GaussianNB(),\n",
    "          \"xgboost\":XGBClassifier()}"
   ]
  },
  {
   "cell_type": "code",
   "execution_count": 6,
   "id": "92e6a685-852a-4a89-ac18-a75211ae577c",
   "metadata": {},
   "outputs": [
    {
     "name": "stdout",
     "output_type": "stream",
     "text": [
      "LR : 0.926984126984127\n",
      "RF : 0.9174603174603174\n",
      "MNB : 0.9158730158730158\n",
      "svc : 0.9079365079365079\n",
      "GNB : 0.6412698412698413\n",
      "xgboost : 0.9206349206349206\n"
     ]
    }
   ],
   "source": [
    "\n",
    "\n",
    "for (key,value) in models.items():\n",
    "    model = value\n",
    "    model.fit(x_train,y_train)\n",
    "    score = model.score(x_test,y_test)\n",
    "    print(\"{} : {}\".format(key,score))"
   ]
  },
  {
   "cell_type": "markdown",
   "id": "dccce6fb-c318-4c9b-852d-8f598fcb4b0d",
   "metadata": {},
   "source": [
    "## USING TFIDF "
   ]
  },
  {
   "cell_type": "code",
   "execution_count": 7,
   "id": "6118f155-ecd6-4892-a3e7-137cf8255f52",
   "metadata": {},
   "outputs": [
    {
     "name": "stdout",
     "output_type": "stream",
     "text": [
      "USING TfidfVectorizer\n",
      "data splitted \n"
     ]
    }
   ],
   "source": [
    "(x_train,x_test,y_train,y_test) = data.load(transform='tf',return_type='new')"
   ]
  },
  {
   "cell_type": "code",
   "execution_count": 8,
   "id": "112a5f7b-834b-4dc9-b15c-706dda2d64bf",
   "metadata": {},
   "outputs": [
    {
     "name": "stdout",
     "output_type": "stream",
     "text": [
      "LR : 0.9015873015873016\n",
      "RF : 0.9238095238095239\n",
      "MNB : 0.9\n",
      "svc : 0.9174603174603174\n",
      "GNB : 0.6492063492063492\n",
      "xgboost : 0.9158730158730158\n"
     ]
    }
   ],
   "source": [
    "for (key,value) in models.items():\n",
    "    model = value\n",
    "    model.fit(x_train,y_train)\n",
    "    score = model.score(x_test,y_test)\n",
    "    print(\"{} : {}\".format(key,score))"
   ]
  },
  {
   "cell_type": "code",
   "execution_count": null,
   "id": "1da5a47e-20d4-4573-9ede-f8412e42d631",
   "metadata": {},
   "outputs": [],
   "source": []
  },
  {
   "cell_type": "code",
   "execution_count": null,
   "id": "cd7e587f-bf23-4dff-8915-2ab8665fa647",
   "metadata": {},
   "outputs": [],
   "source": []
  }
 ],
 "metadata": {
  "kernelspec": {
   "display_name": "Python 3 (ipykernel)",
   "language": "python",
   "name": "python3"
  },
  "language_info": {
   "codemirror_mode": {
    "name": "ipython",
    "version": 3
   },
   "file_extension": ".py",
   "mimetype": "text/x-python",
   "name": "python",
   "nbconvert_exporter": "python",
   "pygments_lexer": "ipython3",
   "version": "3.10.0"
  }
 },
 "nbformat": 4,
 "nbformat_minor": 5
}
