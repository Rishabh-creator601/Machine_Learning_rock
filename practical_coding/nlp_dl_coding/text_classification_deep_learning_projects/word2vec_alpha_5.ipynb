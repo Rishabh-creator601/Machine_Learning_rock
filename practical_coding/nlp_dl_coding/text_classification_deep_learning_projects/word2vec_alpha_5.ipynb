{
 "cells": [
  {
   "cell_type": "code",
   "execution_count": 1,
   "id": "1f472da0-9b1d-42b8-a5f8-fe6f9f2a722a",
   "metadata": {},
   "outputs": [],
   "source": [
    "from data import DATA \n",
    "from gensim.models import Word2Vec\n",
    "import numpy as np\n",
    "from sklearn.naive_bayes import MultinomialNB ,GaussianNB\n",
    "from sklearn.linear_model import LogisticRegression\n",
    "from sklearn.ensemble import RandomForestClassifier \n",
    "from sklearn.svm import SVC\n",
    "from xgboost import XGBClassifier"
   ]
  },
  {
   "cell_type": "code",
   "execution_count": 2,
   "id": "c357bc19-35bd-4fe8-98c1-1e01f279a2dc",
   "metadata": {},
   "outputs": [
    {
     "name": "stdout",
     "output_type": "stream",
     "text": [
      "data splitted \n"
     ]
    }
   ],
   "source": [
    "data = DATA()\n",
    "x_train,x_test,y_train,y_test = data.load(return_type='raw',y_type='new')"
   ]
  },
  {
   "cell_type": "code",
   "execution_count": 3,
   "id": "224c005c-ed16-480d-a0a2-9998d51b9733",
   "metadata": {},
   "outputs": [],
   "source": [
    "sentences = [x.split() for x in x_train]"
   ]
  },
  {
   "cell_type": "code",
   "execution_count": 4,
   "id": "480e20ac-6733-4028-af01-b1422b5e9cb2",
   "metadata": {},
   "outputs": [],
   "source": [
    "model = Word2Vec(\n",
    "    sentences=sentences,\n",
    "    min_count=2,\n",
    "    window=5,\n",
    "    workers=10\n",
    ")"
   ]
  },
  {
   "cell_type": "code",
   "execution_count": 5,
   "id": "50922b5d-ecec-486c-9c86-a0358893c15a",
   "metadata": {},
   "outputs": [],
   "source": [
    "#model.wv['day']"
   ]
  },
  {
   "cell_type": "code",
   "execution_count": 6,
   "id": "5dc61ffd-101f-4a9f-a29b-899297aefe2c",
   "metadata": {},
   "outputs": [],
   "source": [
    "def vectorize_(sentence):\n",
    "    words = sentence.split()\n",
    "    word_vec = [model.wv[word] for word in words if word in model.wv]\n",
    "    if len(word_vec) == 0:\n",
    "        return np.zeros(100)\n",
    "    word_vec  =  np.array(word_vec) # n different matrix for n single words in word_vec \n",
    "    word_vec = word_vec.mean(axis=0) # mean of n matrix\n",
    "    return word_vec"
   ]
  },
  {
   "cell_type": "code",
   "execution_count": 7,
   "id": "d1bb6dff-7931-4258-9372-cc2c274b1dbe",
   "metadata": {},
   "outputs": [
    {
     "data": {
      "text/plain": [
       "array([-0.28543153,  0.3007778 , -0.03468795,  0.0226009 ,  0.13409975,\n",
       "       -0.57406616,  0.18372172,  0.82062954, -0.42803457, -0.1747243 ,\n",
       "       -0.30672675, -0.6862015 , -0.13138397,  0.10079682,  0.25606108,\n",
       "       -0.22367573,  0.0153342 , -0.49410424, -0.06455087, -0.6641461 ,\n",
       "        0.21279876,  0.29440144,  0.30450657, -0.12548847, -0.16045786,\n",
       "        0.0628553 , -0.40188575, -0.22423472, -0.33243603,  0.02449004,\n",
       "        0.6094398 ,  0.08403961,  0.15618233, -0.3382899 , -0.04833996,\n",
       "        0.57022923,  0.01752378, -0.42037138, -0.37481663, -0.7118481 ,\n",
       "        0.14175881, -0.41699064, -0.02162215,  0.10110699,  0.38268724,\n",
       "       -0.0659388 , -0.29938862, -0.10890598,  0.1711206 ,  0.23711939,\n",
       "        0.28488597, -0.4246607 , -0.13646777, -0.00966618, -0.23213668,\n",
       "        0.20611258,  0.26596773,  0.06099962, -0.5537351 ,  0.07937563,\n",
       "        0.20292896,  0.16311885,  0.04373894,  0.0305775 , -0.5636522 ,\n",
       "        0.34553123,  0.14195871,  0.42659917, -0.46904802,  0.59045684,\n",
       "       -0.3061896 ,  0.16687101,  0.4472095 , -0.14520258,  0.43959162,\n",
       "        0.35349026, -0.15599377,  0.05679071, -0.32643008,  0.23357369,\n",
       "       -0.34011528, -0.11006761, -0.50729364,  0.65678465, -0.05271253,\n",
       "       -0.01748204,  0.05663474,  0.6017994 ,  0.5186357 ,  0.16137408,\n",
       "        0.6329522 ,  0.35267234,  0.0946993 ,  0.1337174 ,  0.5746184 ,\n",
       "        0.454964  ,  0.40142083, -0.31817424,  0.10419855, -0.2838945 ],\n",
       "      dtype=float32)"
      ]
     },
     "execution_count": 7,
     "metadata": {},
     "output_type": "execute_result"
    }
   ],
   "source": [
    "vectorize_(\"good nice day\")\n"
   ]
  },
  {
   "cell_type": "code",
   "execution_count": 8,
   "id": "dcc2fbdb-29a4-4f52-98c4-6277f40fedb4",
   "metadata": {},
   "outputs": [],
   "source": [
    "x_train = np.array([vectorize_(sent) for sent in x_train])\n",
    "x_test = np.array([vectorize_(sent) for sent in x_test])"
   ]
  },
  {
   "cell_type": "code",
   "execution_count": 9,
   "id": "407696ef-863f-451c-9940-affc7aaad8fb",
   "metadata": {},
   "outputs": [
    {
     "name": "stdout",
     "output_type": "stream",
     "text": [
      "proceeding.... LR\n",
      "LR : 0.919047619047619\n",
      "proceeding.... RF\n",
      "RF : 0.9365079365079365\n",
      "proceeding.... GNB\n",
      "GNB : 0.7634920634920634\n",
      "proceeding.... svc\n",
      "svc : 0.919047619047619\n",
      "proceeding.... xgboost\n",
      "xgboost : 0.9333333333333333\n"
     ]
    }
   ],
   "source": [
    "\n",
    "models = {\"LR\":LogisticRegression(),\"RF\":RandomForestClassifier(),\"GNB\":GaussianNB(),\"svc\":SVC(),\"xgboost\":XGBClassifier()}\n",
    "for (key,value) in models.items():\n",
    "    model = value\n",
    "    print(\"proceeding....\",key)\n",
    "    model.fit(x_train,y_train)\n",
    "    score = model.score(x_test,y_test)\n",
    "    print(\"{} : {}\".format(key,score))"
   ]
  },
  {
   "cell_type": "code",
   "execution_count": null,
   "id": "5a464b03-329a-4c42-b424-212dd598e98e",
   "metadata": {},
   "outputs": [],
   "source": [
    "# apply word2vec with a different model \n",
    "# https://spotintelligence.com/2023/02/15/word2vec-for-text-classification/#Word2Vec_for_text_classification_example"
   ]
  }
 ],
 "metadata": {
  "kernelspec": {
   "display_name": "Python 3 (ipykernel)",
   "language": "python",
   "name": "python3"
  },
  "language_info": {
   "codemirror_mode": {
    "name": "ipython",
    "version": 3
   },
   "file_extension": ".py",
   "mimetype": "text/x-python",
   "name": "python",
   "nbconvert_exporter": "python",
   "pygments_lexer": "ipython3",
   "version": "3.10.0"
  }
 },
 "nbformat": 4,
 "nbformat_minor": 5
}
