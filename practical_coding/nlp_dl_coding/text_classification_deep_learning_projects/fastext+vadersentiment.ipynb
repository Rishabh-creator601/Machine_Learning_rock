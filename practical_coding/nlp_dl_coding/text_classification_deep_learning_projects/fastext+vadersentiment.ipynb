{
 "cells": [
  {
   "cell_type": "code",
   "execution_count": 1,
   "id": "d06cbfd3-33fd-488a-b8d5-c76a5ee52242",
   "metadata": {},
   "outputs": [],
   "source": [
    "from data import DATA\n",
    "import pandas as pd\n",
    "import fasttext\n",
    "from nltk.sentiment.vader import SentimentIntensityAnalyzer\n",
    "from sklearn.metrics import accuracy_score"
   ]
  },
  {
   "cell_type": "code",
   "execution_count": 2,
   "id": "676a0dc5-c9f1-4923-be69-4f813b1fdd2d",
   "metadata": {},
   "outputs": [],
   "source": [
    "data = DATA()"
   ]
  },
  {
   "cell_type": "markdown",
   "id": "231a38b6-673e-41c0-93e5-9ce9771460dc",
   "metadata": {},
   "source": [
    "## FASTTEXT "
   ]
  },
  {
   "cell_type": "code",
   "execution_count": 3,
   "id": "46b4c03a-8fb7-409c-8863-3729e1be063b",
   "metadata": {},
   "outputs": [
    {
     "name": "stdout",
     "output_type": "stream",
     "text": [
      "data splitted \n"
     ]
    }
   ],
   "source": [
    "\n",
    "x_train,x_test,y_train,y_test= data.load(return_type='raw',y_type='ft')"
   ]
  },
  {
   "cell_type": "code",
   "execution_count": 4,
   "id": "b0562054-e2da-444d-9b3e-a77a875c133f",
   "metadata": {},
   "outputs": [],
   "source": [
    "train = pd.DataFrame()\n",
    "train['final_data'] =  \"__label__\"+y_train+\" \"+x_train\n",
    "\n",
    "\n",
    "\n",
    "test = pd.DataFrame()\n",
    "test['final_data'] =  \"__label__\"+y_test+\" \"+ x_test"
   ]
  },
  {
   "cell_type": "code",
   "execution_count": 5,
   "id": "d311b4f5-7db1-4dd9-877a-b7011f21acaf",
   "metadata": {},
   "outputs": [],
   "source": [
    "train.to_csv(\"train.csv\",columns=['final_data'],index=False,header=False)\n",
    "test.to_csv(\"test.csv\",columns=['final_data'],index=False,header=False)"
   ]
  },
  {
   "cell_type": "code",
   "execution_count": 6,
   "id": "c9429bda-8eed-4e84-8f4d-962204bbcd0c",
   "metadata": {},
   "outputs": [],
   "source": [
    "model = fasttext.train_supervised(input='train.csv')"
   ]
  },
  {
   "cell_type": "code",
   "execution_count": 7,
   "id": "63af6e44-6ee8-48a2-aa6c-d678c20ad3e2",
   "metadata": {},
   "outputs": [
    {
     "data": {
      "text/plain": [
       "(630, 0.919047619047619, 0.919047619047619)"
      ]
     },
     "execution_count": 7,
     "metadata": {},
     "output_type": "execute_result"
    }
   ],
   "source": [
    "model.test('test.csv')"
   ]
  },
  {
   "cell_type": "markdown",
   "id": "baf2723e-08ec-4c4d-83d2-9df63523e83f",
   "metadata": {},
   "source": [
    "## VADER SENTIMENT"
   ]
  },
  {
   "cell_type": "code",
   "execution_count": 31,
   "id": "3bced8d0-b00d-47b0-a6df-a32281f0f9b7",
   "metadata": {},
   "outputs": [],
   "source": [
    "model = SentimentIntensityAnalyzer()\n",
    "\n",
    "\n",
    "def extract_score(text):\n",
    "    score = model.polarity_scores(text)\n",
    "\n",
    "    if score['pos'] >=  score['neg']:\n",
    "        sentiment = 'positive'\n",
    "    else:\n",
    "        sentiment ='negative'\n",
    "    return sentiment\n",
    "    "
   ]
  },
  {
   "cell_type": "code",
   "execution_count": 32,
   "id": "0ec95c8f-1fb4-4572-9d42-d406892def5a",
   "metadata": {},
   "outputs": [
    {
     "data": {
      "text/html": [
       "<div>\n",
       "<style scoped>\n",
       "    .dataframe tbody tr th:only-of-type {\n",
       "        vertical-align: middle;\n",
       "    }\n",
       "\n",
       "    .dataframe tbody tr th {\n",
       "        vertical-align: top;\n",
       "    }\n",
       "\n",
       "    .dataframe thead th {\n",
       "        text-align: right;\n",
       "    }\n",
       "</style>\n",
       "<table border=\"1\" class=\"dataframe\">\n",
       "  <thead>\n",
       "    <tr style=\"text-align: right;\">\n",
       "      <th></th>\n",
       "      <th>verified_reviews</th>\n",
       "      <th>feedback</th>\n",
       "      <th>text</th>\n",
       "      <th>scores</th>\n",
       "    </tr>\n",
       "  </thead>\n",
       "  <tbody>\n",
       "    <tr>\n",
       "      <th>0</th>\n",
       "      <td>Love my Echo!</td>\n",
       "      <td>1</td>\n",
       "      <td>love echo</td>\n",
       "      <td>positive</td>\n",
       "    </tr>\n",
       "    <tr>\n",
       "      <th>1</th>\n",
       "      <td>Loved it!</td>\n",
       "      <td>1</td>\n",
       "      <td>loved</td>\n",
       "      <td>positive</td>\n",
       "    </tr>\n",
       "    <tr>\n",
       "      <th>2</th>\n",
       "      <td>Sometimes while playing a game, you can answer...</td>\n",
       "      <td>1</td>\n",
       "      <td>sometimes playing game answer question correct...</td>\n",
       "      <td>positive</td>\n",
       "    </tr>\n",
       "    <tr>\n",
       "      <th>3</th>\n",
       "      <td>I have had a lot of fun with this thing. My 4 ...</td>\n",
       "      <td>1</td>\n",
       "      <td>lot fun thing 4 yr old learns dinosaurs contro...</td>\n",
       "      <td>positive</td>\n",
       "    </tr>\n",
       "    <tr>\n",
       "      <th>4</th>\n",
       "      <td>Music</td>\n",
       "      <td>1</td>\n",
       "      <td>music</td>\n",
       "      <td>positive</td>\n",
       "    </tr>\n",
       "    <tr>\n",
       "      <th>...</th>\n",
       "      <td>...</td>\n",
       "      <td>...</td>\n",
       "      <td>...</td>\n",
       "      <td>...</td>\n",
       "    </tr>\n",
       "    <tr>\n",
       "      <th>3145</th>\n",
       "      <td>Perfect for kids, adults and everyone in betwe...</td>\n",
       "      <td>1</td>\n",
       "      <td>perfect kids adults everyone</td>\n",
       "      <td>positive</td>\n",
       "    </tr>\n",
       "    <tr>\n",
       "      <th>3146</th>\n",
       "      <td>Listening to music, searching locations, check...</td>\n",
       "      <td>1</td>\n",
       "      <td>listening music searching locations checking t...</td>\n",
       "      <td>positive</td>\n",
       "    </tr>\n",
       "    <tr>\n",
       "      <th>3147</th>\n",
       "      <td>I do love these things, i have them running my...</td>\n",
       "      <td>1</td>\n",
       "      <td>love things running entire home tv lights ther...</td>\n",
       "      <td>positive</td>\n",
       "    </tr>\n",
       "    <tr>\n",
       "      <th>3148</th>\n",
       "      <td>Only complaint I have is that the sound qualit...</td>\n",
       "      <td>1</td>\n",
       "      <td>complaint sound quality great mostly use comma...</td>\n",
       "      <td>positive</td>\n",
       "    </tr>\n",
       "    <tr>\n",
       "      <th>3149</th>\n",
       "      <td>Good</td>\n",
       "      <td>1</td>\n",
       "      <td>good</td>\n",
       "      <td>positive</td>\n",
       "    </tr>\n",
       "  </tbody>\n",
       "</table>\n",
       "<p>3149 rows × 4 columns</p>\n",
       "</div>"
      ],
      "text/plain": [
       "                                       verified_reviews  feedback  \\\n",
       "0                                         Love my Echo!         1   \n",
       "1                                             Loved it!         1   \n",
       "2     Sometimes while playing a game, you can answer...         1   \n",
       "3     I have had a lot of fun with this thing. My 4 ...         1   \n",
       "4                                                 Music         1   \n",
       "...                                                 ...       ...   \n",
       "3145  Perfect for kids, adults and everyone in betwe...         1   \n",
       "3146  Listening to music, searching locations, check...         1   \n",
       "3147  I do love these things, i have them running my...         1   \n",
       "3148  Only complaint I have is that the sound qualit...         1   \n",
       "3149                                               Good         1   \n",
       "\n",
       "                                                   text    scores  \n",
       "0                                             love echo  positive  \n",
       "1                                                 loved  positive  \n",
       "2     sometimes playing game answer question correct...  positive  \n",
       "3     lot fun thing 4 yr old learns dinosaurs contro...  positive  \n",
       "4                                                 music  positive  \n",
       "...                                                 ...       ...  \n",
       "3145                       perfect kids adults everyone  positive  \n",
       "3146  listening music searching locations checking t...  positive  \n",
       "3147  love things running entire home tv lights ther...  positive  \n",
       "3148  complaint sound quality great mostly use comma...  positive  \n",
       "3149                                               good  positive  \n",
       "\n",
       "[3149 rows x 4 columns]"
      ]
     },
     "execution_count": 32,
     "metadata": {},
     "output_type": "execute_result"
    }
   ],
   "source": [
    "data.data['scores'] = data.data['text'].apply(extract_score)\n",
    "data.data\n"
   ]
  },
  {
   "cell_type": "code",
   "execution_count": 33,
   "id": "1e3ae407-d4f7-4689-9fcf-4b49ece6ce5d",
   "metadata": {},
   "outputs": [],
   "source": [
    "data.data['scores'] = data.data['scores'].map({\"positive\":1,\"negative\":0})"
   ]
  },
  {
   "cell_type": "code",
   "execution_count": 34,
   "id": "dc7ec3ef-27d3-4ba5-8d76-14aa723d5d5d",
   "metadata": {},
   "outputs": [
    {
     "data": {
      "text/plain": [
       "0.9091775166719593"
      ]
     },
     "execution_count": 34,
     "metadata": {},
     "output_type": "execute_result"
    }
   ],
   "source": [
    "\n",
    "\n",
    "acc = accuracy_score(data.data['feedback'],data.data['scores'])\n",
    "acc"
   ]
  },
  {
   "cell_type": "code",
   "execution_count": 36,
   "id": "5f0e17ff-b69c-4c0a-abb2-abea8574e4d7",
   "metadata": {},
   "outputs": [
    {
     "data": {
      "text/plain": [
       "'positive'"
      ]
     },
     "execution_count": 36,
     "metadata": {},
     "output_type": "execute_result"
    }
   ],
   "source": [
    "extract_score(\"so good thanks a lot very bad product\")"
   ]
  },
  {
   "cell_type": "code",
   "execution_count": null,
   "id": "d372f9e8-b5bc-4704-a8e3-d661c928f83a",
   "metadata": {},
   "outputs": [],
   "source": []
  }
 ],
 "metadata": {
  "kernelspec": {
   "display_name": "Python 3 (ipykernel)",
   "language": "python",
   "name": "python3"
  },
  "language_info": {
   "codemirror_mode": {
    "name": "ipython",
    "version": 3
   },
   "file_extension": ".py",
   "mimetype": "text/x-python",
   "name": "python",
   "nbconvert_exporter": "python",
   "pygments_lexer": "ipython3",
   "version": "3.10.0"
  }
 },
 "nbformat": 4,
 "nbformat_minor": 5
}
