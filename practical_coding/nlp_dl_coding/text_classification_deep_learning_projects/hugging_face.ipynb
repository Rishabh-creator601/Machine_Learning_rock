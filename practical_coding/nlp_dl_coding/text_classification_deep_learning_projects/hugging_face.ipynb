{
 "cells": [
  {
   "cell_type": "code",
   "execution_count": 1,
   "id": "a9612607-5a9c-403a-8c26-e8648b695784",
   "metadata": {},
   "outputs": [
    {
     "name": "stdout",
     "output_type": "stream",
     "text": [
      "WARNING:tensorflow:From C:\\Users\\RISHABH\\AppData\\Roaming\\Python\\Python310\\site-packages\\keras\\src\\losses.py:2976: The name tf.losses.sparse_softmax_cross_entropy is deprecated. Please use tf.compat.v1.losses.sparse_softmax_cross_entropy instead.\n",
      "\n"
     ]
    }
   ],
   "source": [
    "from data import DATA \n",
    "from transformers import pipeline,AutoTokenizer,AutoModelForSequenceClassification\n",
    "import pandas as pd\n",
    "from sklearn.metrics import accuracy_score\n",
    "import warnings \n",
    "warnings.simplefilter('ignore')"
   ]
  },
  {
   "cell_type": "code",
   "execution_count": 2,
   "id": "1233b956-7063-4a36-9473-cbf69ad3600e",
   "metadata": {},
   "outputs": [],
   "source": [
    "data = DATA()\n"
   ]
  },
  {
   "cell_type": "code",
   "execution_count": 3,
   "id": "f74a8170-da23-4cb5-8743-16f91b36d15f",
   "metadata": {},
   "outputs": [],
   "source": [
    "model_name = \"distilbert/distilbert-base-uncased-finetuned-sst-2-english\"\n",
    "model = AutoModelForSequenceClassification.from_pretrained(model_name)\n",
    "tokenizer = AutoTokenizer.from_pretrained(model_name)\n",
    "clf  = pipeline('sentiment-analysis',model=model,tokenizer=tokenizer)\n"
   ]
  },
  {
   "cell_type": "code",
   "execution_count": 4,
   "id": "22f2f010-bd06-4b66-995c-579919d5c392",
   "metadata": {},
   "outputs": [
    {
     "data": {
      "text/plain": [
       "{'label': 'POSITIVE', 'score': 0.9996528625488281}"
      ]
     },
     "execution_count": 4,
     "metadata": {},
     "output_type": "execute_result"
    }
   ],
   "source": [
    "clf(\"good work but you may improve \")[0]"
   ]
  },
  {
   "cell_type": "code",
   "execution_count": 5,
   "id": "20035b2f-8cd8-42a8-9078-3df7db380e4f",
   "metadata": {},
   "outputs": [],
   "source": [
    "def extract_score(text):\n",
    "    res = clf(text)[0]['score']\n",
    "    if res > 0.5:\n",
    "        res  =  1\n",
    "    else:\n",
    "        res = 0\n",
    "    return res"
   ]
  },
  {
   "cell_type": "code",
   "execution_count": 6,
   "id": "985c80bc-d8ce-445f-b0a6-145bacd68b2b",
   "metadata": {},
   "outputs": [
    {
     "data": {
      "text/plain": [
       "1"
      ]
     },
     "execution_count": 6,
     "metadata": {},
     "output_type": "execute_result"
    }
   ],
   "source": [
    "extract_score(\"good work you may improve \")"
   ]
  },
  {
   "cell_type": "code",
   "execution_count": 7,
   "id": "2a11b79f-6ccb-4efe-b862-25239c8e559d",
   "metadata": {},
   "outputs": [],
   "source": [
    "scores  = pd.DataFrame()\n",
    "\n",
    "scores['scores'] = data.data['text'][:500].apply(extract_score)"
   ]
  },
  {
   "cell_type": "code",
   "execution_count": 8,
   "id": "2f13311f-44f3-4683-acd4-dab8a7013db7",
   "metadata": {},
   "outputs": [
    {
     "data": {
      "text/plain": [
       "0.936"
      ]
     },
     "execution_count": 8,
     "metadata": {},
     "output_type": "execute_result"
    }
   ],
   "source": [
    "accuracy_score(data.data['feedback'][:500],scores['scores'])"
   ]
  },
  {
   "cell_type": "code",
   "execution_count": null,
   "id": "57a75f63-fae5-4eea-86c0-3ebdb7a85a2f",
   "metadata": {},
   "outputs": [],
   "source": []
  }
 ],
 "metadata": {
  "kernelspec": {
   "display_name": "Python 3 (ipykernel)",
   "language": "python",
   "name": "python3"
  },
  "language_info": {
   "codemirror_mode": {
    "name": "ipython",
    "version": 3
   },
   "file_extension": ".py",
   "mimetype": "text/x-python",
   "name": "python",
   "nbconvert_exporter": "python",
   "pygments_lexer": "ipython3",
   "version": "3.10.0"
  }
 },
 "nbformat": 4,
 "nbformat_minor": 5
}
