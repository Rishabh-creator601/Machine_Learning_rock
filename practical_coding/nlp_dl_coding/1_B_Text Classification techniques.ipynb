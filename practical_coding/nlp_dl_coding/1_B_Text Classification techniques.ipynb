{
 "cells": [
  {
   "cell_type": "code",
   "execution_count": 5,
   "id": "0037abd5-2cf5-4635-b490-ec079b5e13aa",
   "metadata": {},
   "outputs": [],
   "source": [
    "from tensorflow.keras.preprocessing.text import Tokenizer\n",
    "from tensorflow.keras.preprocessing.sequence import pad_sequences"
   ]
  },
  {
   "cell_type": "code",
   "execution_count": 6,
   "id": "dd9b9c6e-a374-4b6c-8869-23df080a2658",
   "metadata": {},
   "outputs": [],
   "source": [
    "sentences  = [\n",
    "  \"The sky cracked open, spilling gold across the horizon.\",\n",
    "  \"Time tiptoes past when you're not paying attention.\",\n",
    "  \"Yesterday's dreams are today's blueprints.\",\n",
    "  \"She wrote secrets on coffee-stained napkins.\",\n",
    "  \"Silence speaks volumes in a world that never stops talking.\",\n",
    "  \"The code whispered logic only the machine could understand.\",\n",
    "  \"He chased sunsets like they owed him money.\",\n",
    "  \"Raindrops danced on the rooftop like forgotten lullabies.\",\n",
    "  \"Magic is just science we haven’t explained yet.\",\n",
    "  \"The forest breathed around him, ancient and patient.\",\n",
    "  \"Lost socks and missing pens — the true mysteries of life.\",\n",
    "  \"Not all who wander are buffering.\",\n",
    "  \"The cat looked like it knew exactly what you were thinking.\",\n",
    "  \"Shadows stretched longer than they should have.\",\n",
    "  \"Her laughter broke the monotony like fireworks in fog.\",\n",
    "  \"They buried the past under concrete and denial.\",\n",
    "  \"Reality is just consensus hallucination.\",\n",
    "  \"Even stars burn out, but they do it beautifully.\",\n",
    "  \"Sometimes a typo leads to a masterpiece.\",\n",
    "  \"The algorithm smiled, and everything changed.\"\n",
    "];\n"
   ]
  },
  {
   "cell_type": "code",
   "execution_count": 7,
   "id": "53587d53-484c-42b3-ac51-406a1bc9cac3",
   "metadata": {},
   "outputs": [],
   "source": [
    "token = Tokenizer(num_words=500)\n",
    "token.fit_on_texts(sentences)"
   ]
  },
  {
   "cell_type": "code",
   "execution_count": 14,
   "id": "31d82f7e-d055-4c97-b5d6-0dbb47578048",
   "metadata": {},
   "outputs": [
    {
     "data": {
      "text/plain": [
       "{'the': 1,\n",
       " 'like': 2,\n",
       " 'they': 3,\n",
       " 'and': 4,\n",
       " 'a': 5,\n",
       " 'past': 6,\n",
       " 'not': 7,\n",
       " 'are': 8,\n",
       " 'on': 9,\n",
       " 'in': 10,\n",
       " 'him': 11,\n",
       " 'is': 12,\n",
       " 'just': 13,\n",
       " 'it': 14,\n",
       " 'sky': 15,\n",
       " 'cracked': 16,\n",
       " 'open': 17,\n",
       " 'spilling': 18,\n",
       " 'gold': 19,\n",
       " 'across': 20,\n",
       " 'horizon': 21,\n",
       " 'time': 22,\n",
       " 'tiptoes': 23,\n",
       " 'when': 24,\n",
       " \"you're\": 25,\n",
       " 'paying': 26,\n",
       " 'attention': 27,\n",
       " \"yesterday's\": 28,\n",
       " 'dreams': 29,\n",
       " \"today's\": 30,\n",
       " 'blueprints': 31,\n",
       " 'she': 32,\n",
       " 'wrote': 33,\n",
       " 'secrets': 34,\n",
       " 'coffee': 35,\n",
       " 'stained': 36,\n",
       " 'napkins': 37,\n",
       " 'silence': 38,\n",
       " 'speaks': 39,\n",
       " 'volumes': 40,\n",
       " 'world': 41,\n",
       " 'that': 42,\n",
       " 'never': 43,\n",
       " 'stops': 44,\n",
       " 'talking': 45,\n",
       " 'code': 46,\n",
       " 'whispered': 47,\n",
       " 'logic': 48,\n",
       " 'only': 49,\n",
       " 'machine': 50,\n",
       " 'could': 51,\n",
       " 'understand': 52,\n",
       " 'he': 53,\n",
       " 'chased': 54,\n",
       " 'sunsets': 55,\n",
       " 'owed': 56,\n",
       " 'money': 57,\n",
       " 'raindrops': 58,\n",
       " 'danced': 59,\n",
       " 'rooftop': 60,\n",
       " 'forgotten': 61,\n",
       " 'lullabies': 62,\n",
       " 'magic': 63,\n",
       " 'science': 64,\n",
       " 'we': 65,\n",
       " 'haven’t': 66,\n",
       " 'explained': 67,\n",
       " 'yet': 68,\n",
       " 'forest': 69,\n",
       " 'breathed': 70,\n",
       " 'around': 71,\n",
       " 'ancient': 72,\n",
       " 'patient': 73,\n",
       " 'lost': 74,\n",
       " 'socks': 75,\n",
       " 'missing': 76,\n",
       " 'pens': 77,\n",
       " '—': 78,\n",
       " 'true': 79,\n",
       " 'mysteries': 80,\n",
       " 'of': 81,\n",
       " 'life': 82,\n",
       " 'all': 83,\n",
       " 'who': 84,\n",
       " 'wander': 85,\n",
       " 'buffering': 86,\n",
       " 'cat': 87,\n",
       " 'looked': 88,\n",
       " 'knew': 89,\n",
       " 'exactly': 90,\n",
       " 'what': 91,\n",
       " 'you': 92,\n",
       " 'were': 93,\n",
       " 'thinking': 94,\n",
       " 'shadows': 95,\n",
       " 'stretched': 96,\n",
       " 'longer': 97,\n",
       " 'than': 98,\n",
       " 'should': 99,\n",
       " 'have': 100,\n",
       " 'her': 101,\n",
       " 'laughter': 102,\n",
       " 'broke': 103,\n",
       " 'monotony': 104,\n",
       " 'fireworks': 105,\n",
       " 'fog': 106,\n",
       " 'buried': 107,\n",
       " 'under': 108,\n",
       " 'concrete': 109,\n",
       " 'denial': 110,\n",
       " 'reality': 111,\n",
       " 'consensus': 112,\n",
       " 'hallucination': 113,\n",
       " 'even': 114,\n",
       " 'stars': 115,\n",
       " 'burn': 116,\n",
       " 'out': 117,\n",
       " 'but': 118,\n",
       " 'do': 119,\n",
       " 'beautifully': 120,\n",
       " 'sometimes': 121,\n",
       " 'typo': 122,\n",
       " 'leads': 123,\n",
       " 'to': 124,\n",
       " 'masterpiece': 125,\n",
       " 'algorithm': 126,\n",
       " 'smiled': 127,\n",
       " 'everything': 128,\n",
       " 'changed': 129}"
      ]
     },
     "execution_count": 14,
     "metadata": {},
     "output_type": "execute_result"
    }
   ],
   "source": [
    "token.word_index"
   ]
  },
  {
   "cell_type": "code",
   "execution_count": null,
   "id": "cb6ab1b3-7453-46f3-b92b-bc4ebaac12c4",
   "metadata": {},
   "outputs": [],
   "source": [
    "sents  =  token.texts_to_sequences(sentences)[:5]\n",
    "padded = pad_sequences(sents )"
   ]
  },
  {
   "cell_type": "code",
   "execution_count": 17,
   "id": "337d6d80-18ea-454c-ba9d-283f9a72a3a4",
   "metadata": {},
   "outputs": [
    {
     "data": {
      "text/plain": [
       "array([[ 1, 15, 16, 17, 18, 19, 20,  1, 21,  0],\n",
       "       [22, 23,  6, 24, 25,  7, 26, 27,  0,  0],\n",
       "       [28, 29,  8, 30, 31,  0,  0,  0,  0,  0],\n",
       "       [32, 33, 34,  9, 35, 36, 37,  0,  0,  0],\n",
       "       [38, 39, 40, 10,  5, 41, 42, 43, 44, 45]], dtype=int32)"
      ]
     },
     "execution_count": 17,
     "metadata": {},
     "output_type": "execute_result"
    }
   ],
   "source": [
    "padded_post =  pad_sequences(sents,padding=\"post\")\n",
    "padded_post"
   ]
  },
  {
   "cell_type": "markdown",
   "id": "75c4afc6-36be-4a91-9595-0dfc105b4127",
   "metadata": {},
   "source": [
    "=> Notice that word index starts with 1 instead of 0 as counting starts with 0 , because will be used in padded sequences for non existing values "
   ]
  },
  {
   "cell_type": "code",
   "execution_count": 25,
   "id": "81c7284b-f704-484e-b383-3f8b457f7215",
   "metadata": {},
   "outputs": [
    {
     "data": {
      "text/plain": [
       "array([[18, 19, 20,  1, 21],\n",
       "       [24, 25,  7, 26, 27],\n",
       "       [28, 29,  8, 30, 31],\n",
       "       [34,  9, 35, 36, 37],\n",
       "       [41, 42, 43, 44, 45]], dtype=int32)"
      ]
     },
     "execution_count": 25,
     "metadata": {},
     "output_type": "execute_result"
    }
   ],
   "source": [
    "#NOW ,\n",
    "padded_length =  pad_sequences(sents,padding=\"post\",maxlen = 5) \n",
    "padded_length # losing words"
   ]
  },
  {
   "cell_type": "markdown",
   "id": "e5304fcd-9637-4374-a5e0-9201cd840767",
   "metadata": {},
   "source": [
    "=>  defining maxlen will definitely make lose words but what if you want to lose words from the end instead of start"
   ]
  },
  {
   "cell_type": "code",
   "execution_count": 24,
   "id": "eb6ee9a3-5263-455e-8b69-12f0f4121bcb",
   "metadata": {},
   "outputs": [
    {
     "data": {
      "text/plain": [
       "array([[ 1, 15, 16, 17, 18],\n",
       "       [22, 23,  6, 24, 25],\n",
       "       [28, 29,  8, 30, 31],\n",
       "       [32, 33, 34,  9, 35],\n",
       "       [38, 39, 40, 10,  5]], dtype=int32)"
      ]
     },
     "execution_count": 24,
     "metadata": {},
     "output_type": "execute_result"
    }
   ],
   "source": [
    "padded_length_post =  pad_sequences(sents,padding=\"post\",maxlen = 5,truncating=\"post\") \n",
    "padded_length_post "
   ]
  },
  {
   "cell_type": "code",
   "execution_count": null,
   "id": "1da25ced-0286-4507-983b-cefe13a2aa7e",
   "metadata": {},
   "outputs": [],
   "source": []
  }
 ],
 "metadata": {
  "kernelspec": {
   "display_name": "Python 3 (ipykernel)",
   "language": "python",
   "name": "python3"
  },
  "language_info": {
   "codemirror_mode": {
    "name": "ipython",
    "version": 3
   },
   "file_extension": ".py",
   "mimetype": "text/x-python",
   "name": "python",
   "nbconvert_exporter": "python",
   "pygments_lexer": "ipython3",
   "version": "3.10.0"
  }
 },
 "nbformat": 4,
 "nbformat_minor": 5
}
