{
 "cells": [
  {
   "cell_type": "code",
   "execution_count": 1,
   "id": "dff62e65",
   "metadata": {},
   "outputs": [],
   "source": [
    "\n",
    "import numpy as np ; import matplotlib.pyplot as plt\n",
    "from sklearn.model_selection import train_test_split\n",
    "from seedtools  import connect\n",
    "import pandas as pd\n",
    "import fasttext\n",
    "import re ,string,unicodedata,contractions\n",
    "from bs4 import BeautifulSoup\n",
    "from nltk.corpus import stopwords\n",
    "STOPWORDS =  stopwords.words(\"english\")"
   ]
  },
  {
   "cell_type": "code",
   "execution_count": 2,
   "id": "112c34a5",
   "metadata": {},
   "outputs": [],
   "source": [
    "def clean_text(text):\n",
    "\ttext = str(text).lower()\n",
    "\ttext = re.sub(\"[^\\w\\s]\",\" \",text)\n",
    "\ttext =  ' '.join([w for w in text.split() if w not in STOPWORDS])\n",
    "\treturn text"
   ]
  },
  {
   "cell_type": "code",
   "execution_count": 19,
   "id": "a18a2e4f",
   "metadata": {},
   "outputs": [
    {
     "data": {
      "text/plain": [
       "(2519,)"
      ]
     },
     "execution_count": 19,
     "metadata": {},
     "output_type": "execute_result"
    }
   ],
   "source": [
    "data   = pd.read_csv(connect(\"amazon_alexa.tsv\"),sep=\"\\t\")[[\"verified_reviews\",\"feedback\"]]\n",
    "data = data.dropna()\n",
    "data[\"cleaned\"] = data[\"verified_reviews\"].apply(lambda  x : clean_text(x))\n",
    "x_train,x_test,y_train,y_test =  train_test_split(data[\"cleaned\"].values,data[\"feedback\"].values,test_size=0.2,random_state=42)\n",
    "x_train.shape"
   ]
  },
  {
   "cell_type": "code",
   "execution_count": 41,
   "id": "17c344f9",
   "metadata": {},
   "outputs": [],
   "source": [
    "\n",
    "\n",
    "mapper = {\"0\":\"negative\",\"1\":\"positive\"}\n",
    "\n",
    "\n",
    "train = pd.DataFrame()\n",
    "train['final_data'] = labeled_data = [\n",
    "    f\"__label__{mapper[str(y)]} {x}\"\n",
    "    for x, y in zip(x_train, y_train)\n",
    "]\n",
    "\n",
    "## old method :  \"__label__\"+y_train+\" \"+x_train\n",
    "\n",
    "## data format : __label__positive thank you\n",
    "\n",
    "test = pd.DataFrame()\n",
    "test['final_data'] =  labeled_data = [\n",
    "    f\"__label__{mapper[str(y)]} {x}\"\n",
    "    for x, y in zip(x_test, y_test)\n",
    "]\n",
    "\n",
    "\n",
    "train.to_csv(\"train.csv\",columns=['final_data'],index=False,header=False) ## compulsory\n",
    "test.to_csv(\"test.csv\",columns=['final_data'],index=False,header=False) ## compulsory\n"
   ]
  },
  {
   "cell_type": "code",
   "execution_count": 37,
   "id": "3c9a9404",
   "metadata": {},
   "outputs": [],
   "source": [
    "model  =  fasttext.train_supervised(input=\"train.csv\")"
   ]
  },
  {
   "cell_type": "code",
   "execution_count": 39,
   "id": "47818029",
   "metadata": {},
   "outputs": [
    {
     "name": "stdout",
     "output_type": "stream",
     "text": [
      "No of samples tested :  630\n",
      "Precision :  0.9079365079365079\n",
      "Recall : 0.9079365079365079\n"
     ]
    }
   ],
   "source": [
    "n_samples_tested , precision, recall = model.test('test.csv')\n",
    "\n",
    "print(\"No of samples tested : \",n_samples_tested)\n",
    "print(\"Precision : \",precision)\n",
    "print(\"Recall :\",recall)"
   ]
  }
 ],
 "metadata": {
  "kernelspec": {
   "display_name": "Python 3",
   "language": "python",
   "name": "python3"
  },
  "language_info": {
   "codemirror_mode": {
    "name": "ipython",
    "version": 3
   },
   "file_extension": ".py",
   "mimetype": "text/x-python",
   "name": "python",
   "nbconvert_exporter": "python",
   "pygments_lexer": "ipython3",
   "version": "3.11.9"
  }
 },
 "nbformat": 4,
 "nbformat_minor": 5
}
