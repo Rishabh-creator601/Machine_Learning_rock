{
 "cells": [
  {
   "cell_type": "code",
   "execution_count": 7,
   "id": "3b5ec18b",
   "metadata": {},
   "outputs": [],
   "source": [
    "\n",
    "import numpy as np ; import matplotlib.pyplot as plt\n",
    "from nltk.sentiment.vader import SentimentIntensityAnalyzer\n",
    "from sklearn.model_selection import train_test_split\n",
    "from seedtools  import connect\n",
    "import pandas as pd\n",
    "import re ,string,unicodedata,contractions\n",
    "from bs4 import BeautifulSoup\n",
    "from sklearn.metrics import accuracy_score\n",
    "from nltk.corpus import stopwords\n",
    "STOPWORDS =  stopwords.words(\"english\")"
   ]
  },
  {
   "cell_type": "code",
   "execution_count": 2,
   "id": "55f1c066",
   "metadata": {},
   "outputs": [],
   "source": [
    "def clean_text(text):\n",
    "\ttext = str(text).lower()\n",
    "\ttext = re.sub(\"[^\\w\\s]\",\" \",text)\n",
    "\ttext =  ' '.join([w for w in text.split() if w not in STOPWORDS])\n",
    "\treturn text"
   ]
  },
  {
   "cell_type": "code",
   "execution_count": 3,
   "id": "b7926877",
   "metadata": {},
   "outputs": [
    {
     "data": {
      "text/plain": [
       "(2520,)"
      ]
     },
     "execution_count": 3,
     "metadata": {},
     "output_type": "execute_result"
    }
   ],
   "source": [
    "data   = pd.read_csv(connect(\"amazon_alexa.tsv\"),sep=\"\\t\")[[\"verified_reviews\",\"feedback\"]]\n",
    "data[\"cleaned\"] = data[\"verified_reviews\"].apply(lambda  x : clean_text(x))\n",
    "x_train,x_test,y_train,y_test =  train_test_split(data[\"cleaned\"].values,data[\"feedback\"].values,test_size=0.2,random_state=42)\n",
    "x_train.shape"
   ]
  },
  {
   "cell_type": "code",
   "execution_count": 4,
   "id": "da42dba8",
   "metadata": {},
   "outputs": [],
   "source": [
    "model =  SentimentIntensityAnalyzer()"
   ]
  },
  {
   "cell_type": "code",
   "execution_count": 5,
   "id": "74071dbb",
   "metadata": {},
   "outputs": [],
   "source": [
    "def extract_score(text):\n",
    "    score = model.polarity_scores(text)\n",
    "\n",
    "    if score['pos'] >=  score['neg']:\n",
    "        sentiment = 'positive'\n",
    "    else:\n",
    "        sentiment ='negative'\n",
    "    return sentiment"
   ]
  },
  {
   "cell_type": "code",
   "execution_count": 6,
   "id": "e0a28c61",
   "metadata": {},
   "outputs": [
    {
     "data": {
      "text/html": [
       "<div>\n",
       "<style scoped>\n",
       "    .dataframe tbody tr th:only-of-type {\n",
       "        vertical-align: middle;\n",
       "    }\n",
       "\n",
       "    .dataframe tbody tr th {\n",
       "        vertical-align: top;\n",
       "    }\n",
       "\n",
       "    .dataframe thead th {\n",
       "        text-align: right;\n",
       "    }\n",
       "</style>\n",
       "<table border=\"1\" class=\"dataframe\">\n",
       "  <thead>\n",
       "    <tr style=\"text-align: right;\">\n",
       "      <th></th>\n",
       "      <th>verified_reviews</th>\n",
       "      <th>feedback</th>\n",
       "      <th>cleaned</th>\n",
       "      <th>scores</th>\n",
       "    </tr>\n",
       "  </thead>\n",
       "  <tbody>\n",
       "    <tr>\n",
       "      <th>0</th>\n",
       "      <td>Love my Echo!</td>\n",
       "      <td>1</td>\n",
       "      <td>love echo</td>\n",
       "      <td>positive</td>\n",
       "    </tr>\n",
       "    <tr>\n",
       "      <th>1</th>\n",
       "      <td>Loved it!</td>\n",
       "      <td>1</td>\n",
       "      <td>loved</td>\n",
       "      <td>positive</td>\n",
       "    </tr>\n",
       "    <tr>\n",
       "      <th>2</th>\n",
       "      <td>Sometimes while playing a game, you can answer...</td>\n",
       "      <td>1</td>\n",
       "      <td>sometimes playing game answer question correct...</td>\n",
       "      <td>positive</td>\n",
       "    </tr>\n",
       "    <tr>\n",
       "      <th>3</th>\n",
       "      <td>I have had a lot of fun with this thing. My 4 ...</td>\n",
       "      <td>1</td>\n",
       "      <td>lot fun thing 4 yr old learns dinosaurs contro...</td>\n",
       "      <td>positive</td>\n",
       "    </tr>\n",
       "    <tr>\n",
       "      <th>4</th>\n",
       "      <td>Music</td>\n",
       "      <td>1</td>\n",
       "      <td>music</td>\n",
       "      <td>positive</td>\n",
       "    </tr>\n",
       "    <tr>\n",
       "      <th>...</th>\n",
       "      <td>...</td>\n",
       "      <td>...</td>\n",
       "      <td>...</td>\n",
       "      <td>...</td>\n",
       "    </tr>\n",
       "    <tr>\n",
       "      <th>3145</th>\n",
       "      <td>Perfect for kids, adults and everyone in betwe...</td>\n",
       "      <td>1</td>\n",
       "      <td>perfect kids adults everyone</td>\n",
       "      <td>positive</td>\n",
       "    </tr>\n",
       "    <tr>\n",
       "      <th>3146</th>\n",
       "      <td>Listening to music, searching locations, check...</td>\n",
       "      <td>1</td>\n",
       "      <td>listening music searching locations checking t...</td>\n",
       "      <td>positive</td>\n",
       "    </tr>\n",
       "    <tr>\n",
       "      <th>3147</th>\n",
       "      <td>I do love these things, i have them running my...</td>\n",
       "      <td>1</td>\n",
       "      <td>love things running entire home tv lights ther...</td>\n",
       "      <td>positive</td>\n",
       "    </tr>\n",
       "    <tr>\n",
       "      <th>3148</th>\n",
       "      <td>Only complaint I have is that the sound qualit...</td>\n",
       "      <td>1</td>\n",
       "      <td>complaint sound quality great mostly use comma...</td>\n",
       "      <td>positive</td>\n",
       "    </tr>\n",
       "    <tr>\n",
       "      <th>3149</th>\n",
       "      <td>Good</td>\n",
       "      <td>1</td>\n",
       "      <td>good</td>\n",
       "      <td>positive</td>\n",
       "    </tr>\n",
       "  </tbody>\n",
       "</table>\n",
       "<p>3150 rows × 4 columns</p>\n",
       "</div>"
      ],
      "text/plain": [
       "                                       verified_reviews  feedback  \\\n",
       "0                                         Love my Echo!         1   \n",
       "1                                             Loved it!         1   \n",
       "2     Sometimes while playing a game, you can answer...         1   \n",
       "3     I have had a lot of fun with this thing. My 4 ...         1   \n",
       "4                                                 Music         1   \n",
       "...                                                 ...       ...   \n",
       "3145  Perfect for kids, adults and everyone in betwe...         1   \n",
       "3146  Listening to music, searching locations, check...         1   \n",
       "3147  I do love these things, i have them running my...         1   \n",
       "3148  Only complaint I have is that the sound qualit...         1   \n",
       "3149                                               Good         1   \n",
       "\n",
       "                                                cleaned    scores  \n",
       "0                                             love echo  positive  \n",
       "1                                                 loved  positive  \n",
       "2     sometimes playing game answer question correct...  positive  \n",
       "3     lot fun thing 4 yr old learns dinosaurs contro...  positive  \n",
       "4                                                 music  positive  \n",
       "...                                                 ...       ...  \n",
       "3145                       perfect kids adults everyone  positive  \n",
       "3146  listening music searching locations checking t...  positive  \n",
       "3147  love things running entire home tv lights ther...  positive  \n",
       "3148  complaint sound quality great mostly use comma...  positive  \n",
       "3149                                               good  positive  \n",
       "\n",
       "[3150 rows x 4 columns]"
      ]
     },
     "execution_count": 6,
     "metadata": {},
     "output_type": "execute_result"
    }
   ],
   "source": [
    "data['scores'] = data['cleaned'].apply(extract_score)\n",
    "data"
   ]
  },
  {
   "cell_type": "markdown",
   "id": "dac00e2f",
   "metadata": {},
   "source": [
    "**Calculating Accuracy**"
   ]
  },
  {
   "cell_type": "code",
   "execution_count": 8,
   "id": "9bf64c93",
   "metadata": {},
   "outputs": [
    {
     "data": {
      "text/plain": [
       "0.9088888888888889"
      ]
     },
     "execution_count": 8,
     "metadata": {},
     "output_type": "execute_result"
    }
   ],
   "source": [
    "data['scores'] = data['scores'].map({\"positive\":1,\"negative\":0})\n",
    "acc = accuracy_score(data['feedback'],data['scores'])\n",
    "acc"
   ]
  },
  {
   "cell_type": "code",
   "execution_count": null,
   "id": "219f9ad8",
   "metadata": {},
   "outputs": [],
   "source": []
  }
 ],
 "metadata": {
  "kernelspec": {
   "display_name": "Python 3",
   "language": "python",
   "name": "python3"
  },
  "language_info": {
   "codemirror_mode": {
    "name": "ipython",
    "version": 3
   },
   "file_extension": ".py",
   "mimetype": "text/x-python",
   "name": "python",
   "nbconvert_exporter": "python",
   "pygments_lexer": "ipython3",
   "version": "3.11.9"
  }
 },
 "nbformat": 4,
 "nbformat_minor": 5
}
