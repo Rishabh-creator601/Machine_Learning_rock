{
 "cells": [
  {
   "cell_type": "code",
   "execution_count": 1,
   "id": "867b017a-d570-4c8d-9ddc-14999b3a07e2",
   "metadata": {},
   "outputs": [
    {
     "name": "stdout",
     "output_type": "stream",
     "text": [
      "WARNING:tensorflow:From C:\\Users\\RISHABH\\AppData\\Roaming\\Python\\Python311\\site-packages\\keras\\src\\losses.py:2976: The name tf.losses.sparse_softmax_cross_entropy is deprecated. Please use tf.compat.v1.losses.sparse_softmax_cross_entropy instead.\n",
      "\n"
     ]
    }
   ],
   "source": [
    "from tensorflow.keras.datasets import reuters\n",
    "from tensorflow.keras.models import Sequential\n",
    "from tensorflow.keras.layers import Dense,Embedding,Flatten\n",
    "from tensorflow.keras.utils import to_categorical as to_cat\n",
    "import numpy as np ; import matplotlib.pyplot as plt\n",
    "#import cv2,os \n",
    "from tensorflow.keras.preprocessing.text import Tokenizer\n",
    "from tensorflow.keras.preprocessing.sequence import pad_sequences"
   ]
  },
  {
   "cell_type": "code",
   "execution_count": 3,
   "id": "c7b626aa-ff9d-4c0e-aa8a-1841103b26d0",
   "metadata": {},
   "outputs": [],
   "source": [
    "(x_train,y_train) ,(x_test,y_test) =  reuters.load_data(num_words=10000)"
   ]
  },
  {
   "cell_type": "code",
   "execution_count": 5,
   "id": "74b9f00a-0c3b-4c04-a35f-fae8b6a497e8",
   "metadata": {
    "scrolled": true
   },
   "outputs": [
    {
     "name": "stdout",
     "output_type": "stream",
     "text": [
      "[1, 2, 2, 8, 43]\n",
      "(8982,) (8982,)\n"
     ]
    }
   ],
   "source": [
    "print(x_train[0][:5])\n",
    "print(x_train.shape,y_train.shape)"
   ]
  },
  {
   "cell_type": "raw",
   "id": "4f72848b-8ebf-4e81-899f-2304ee64fcbf",
   "metadata": {
    "vscode": {
     "languageId": "raw"
    }
   },
   "source": [
    "word_index =  reuters.get_word_index()\n",
    "len(word_index) "
   ]
  },
  {
   "cell_type": "code",
   "execution_count": 6,
   "id": "e7dcfe99-2ced-4928-8fa5-94e6e3d44d86",
   "metadata": {},
   "outputs": [
    {
     "name": "stdout",
     "output_type": "stream",
     "text": [
      "100 116\n"
     ]
    },
    {
     "data": {
      "text/plain": [
       "array([ 0,  1,  2,  3,  4,  5,  6,  7,  8,  9, 10, 11, 12, 13, 14, 15, 16,\n",
       "       17, 18, 19, 20, 21, 22, 23, 24, 25, 26, 27, 28, 29, 30, 31, 32, 33,\n",
       "       34, 35, 36, 37, 38, 39, 40, 41, 42, 43, 44, 45], dtype=int64)"
      ]
     },
     "execution_count": 6,
     "metadata": {},
     "output_type": "execute_result"
    }
   ],
   "source": [
    "print(len(x_train[6]), len(x_train[5]))\n",
    "np.unique(np.array(y_train))"
   ]
  },
  {
   "cell_type": "code",
   "execution_count": 8,
   "id": "a27cdccb-ff0f-4229-9709-eb384626a322",
   "metadata": {},
   "outputs": [],
   "source": [
    "def vectorize_sequences(sequences,dimensions=10000):\n",
    "    results =  np.zeros((len(sequences),dimensions))\n",
    "\n",
    "    for (i ,sequence) in enumerate(sequences):\n",
    "        for j in sequence:\n",
    "            results[i, j]  =  1 \n",
    "    return results\n",
    "        "
   ]
  },
  {
   "cell_type": "code",
   "execution_count": 9,
   "id": "bb8f2fbd-f19f-4300-911b-29ebb3df5100",
   "metadata": {},
   "outputs": [
    {
     "data": {
      "text/plain": [
       "array([0., 1., 1., ..., 0., 0., 0.])"
      ]
     },
     "execution_count": 9,
     "metadata": {},
     "output_type": "execute_result"
    }
   ],
   "source": [
    "x_train_vector = vectorize_sequences(x_train)\n",
    "x_test_vector =  vectorize_sequences(x_test)\n",
    "x_train_vector[0]"
   ]
  },
  {
   "cell_type": "code",
   "execution_count": 33,
   "id": "46ebe41f-d20f-4095-b6fe-a99b5f92408e",
   "metadata": {},
   "outputs": [
    {
     "data": {
      "text/plain": [
       "(8982, 10000)"
      ]
     },
     "execution_count": 33,
     "metadata": {},
     "output_type": "execute_result"
    }
   ],
   "source": [
    "x_train_vector.shape"
   ]
  },
  {
   "cell_type": "code",
   "execution_count": 10,
   "id": "43086f8a-62be-4b05-9611-6dc8e756c585",
   "metadata": {},
   "outputs": [
    {
     "data": {
      "text/plain": [
       "(8982, 46)"
      ]
     },
     "execution_count": 10,
     "metadata": {},
     "output_type": "execute_result"
    }
   ],
   "source": [
    "y_train_cat = to_cat(y_train)\n",
    "y_test_cat =  to_cat(y_test)\n",
    "y_train_cat.shape"
   ]
  },
  {
   "cell_type": "code",
   "execution_count": 36,
   "id": "3a6df71c-de59-4e7d-ac9a-6a0550a4afe7",
   "metadata": {},
   "outputs": [
    {
     "name": "stdout",
     "output_type": "stream",
     "text": [
      "Epoch 1/10\n",
      "\u001b[1m281/281\u001b[0m \u001b[32m━━━━━━━━━━━━━━━━━━━━\u001b[0m\u001b[37m\u001b[0m \u001b[1m7s\u001b[0m 17ms/step - acc: 0.5517 - loss: 2.0949 - val_acc: 0.7636 - val_loss: 1.0429\n",
      "Epoch 2/10\n",
      "\u001b[1m281/281\u001b[0m \u001b[32m━━━━━━━━━━━━━━━━━━━━\u001b[0m\u001b[37m\u001b[0m \u001b[1m4s\u001b[0m 14ms/step - acc: 0.8460 - loss: 0.6804 - val_acc: 0.7956 - val_loss: 0.9188\n",
      "Epoch 3/10\n",
      "\u001b[1m281/281\u001b[0m \u001b[32m━━━━━━━━━━━━━━━━━━━━\u001b[0m\u001b[37m\u001b[0m \u001b[1m4s\u001b[0m 14ms/step - acc: 0.9347 - loss: 0.3169 - val_acc: 0.7992 - val_loss: 0.9376\n",
      "Epoch 4/10\n",
      "\u001b[1m281/281\u001b[0m \u001b[32m━━━━━━━━━━━━━━━━━━━━\u001b[0m\u001b[37m\u001b[0m \u001b[1m5s\u001b[0m 15ms/step - acc: 0.9522 - loss: 0.2238 - val_acc: 0.7992 - val_loss: 0.9603\n",
      "Epoch 5/10\n",
      "\u001b[1m281/281\u001b[0m \u001b[32m━━━━━━━━━━━━━━━━━━━━\u001b[0m\u001b[37m\u001b[0m \u001b[1m5s\u001b[0m 15ms/step - acc: 0.9549 - loss: 0.1699 - val_acc: 0.7930 - val_loss: 1.0132\n",
      "Epoch 6/10\n",
      "\u001b[1m281/281\u001b[0m \u001b[32m━━━━━━━━━━━━━━━━━━━━\u001b[0m\u001b[37m\u001b[0m \u001b[1m5s\u001b[0m 15ms/step - acc: 0.9566 - loss: 0.1535 - val_acc: 0.7934 - val_loss: 1.0019\n",
      "Epoch 7/10\n",
      "\u001b[1m281/281\u001b[0m \u001b[32m━━━━━━━━━━━━━━━━━━━━\u001b[0m\u001b[37m\u001b[0m \u001b[1m5s\u001b[0m 15ms/step - acc: 0.9609 - loss: 0.1364 - val_acc: 0.7970 - val_loss: 0.9949\n",
      "Epoch 8/10\n",
      "\u001b[1m281/281\u001b[0m \u001b[32m━━━━━━━━━━━━━━━━━━━━\u001b[0m\u001b[37m\u001b[0m \u001b[1m5s\u001b[0m 15ms/step - acc: 0.9551 - loss: 0.1433 - val_acc: 0.7916 - val_loss: 1.0530\n",
      "Epoch 9/10\n",
      "\u001b[1m281/281\u001b[0m \u001b[32m━━━━━━━━━━━━━━━━━━━━\u001b[0m\u001b[37m\u001b[0m \u001b[1m5s\u001b[0m 15ms/step - acc: 0.9553 - loss: 0.1319 - val_acc: 0.7947 - val_loss: 1.0617\n",
      "Epoch 10/10\n",
      "\u001b[1m281/281\u001b[0m \u001b[32m━━━━━━━━━━━━━━━━━━━━\u001b[0m\u001b[37m\u001b[0m \u001b[1m5s\u001b[0m 15ms/step - acc: 0.9610 - loss: 0.1115 - val_acc: 0.7961 - val_loss: 1.0975\n"
     ]
    },
    {
     "data": {
      "text/plain": [
       "<keras.src.callbacks.history.History at 0x1de4292f100>"
      ]
     },
     "execution_count": 36,
     "metadata": {},
     "output_type": "execute_result"
    }
   ],
   "source": [
    "model = Sequential([\n",
    "    Dense(64,activation=\"relu\"),\n",
    "    Dense(64,activation=\"relu\"),\n",
    "    Dense(46,activation=\"softmax\")\n",
    "])\n",
    "model.compile(loss=\"categorical_crossentropy\",optimizer=\"adam\",metrics=[\"acc\"])\n",
    "model.fit(x_train_vector,y_train_cat,validation_data=(x_test_vector,y_test_cat),epochs=10)"
   ]
  },
  {
   "cell_type": "code",
   "execution_count": 38,
   "id": "887741c8-7eee-42f4-8427-a7afa8d65c84",
   "metadata": {},
   "outputs": [
    {
     "name": "stdout",
     "output_type": "stream",
     "text": [
      "\u001b[1m71/71\u001b[0m \u001b[32m━━━━━━━━━━━━━━━━━━━━\u001b[0m\u001b[37m\u001b[0m \u001b[1m1s\u001b[0m 7ms/step - acc: 0.8071 - loss: 1.0285\n"
     ]
    },
    {
     "data": {
      "text/plain": [
       "0.7960819005966187"
      ]
     },
     "execution_count": 38,
     "metadata": {},
     "output_type": "execute_result"
    }
   ],
   "source": [
    "loss,acc = model.evaluate(x_test_vector,y_test_cat)\n",
    "acc"
   ]
  },
  {
   "cell_type": "markdown",
   "id": "0f1be1f4-4b65-46c7-87f6-d78eb3507854",
   "metadata": {},
   "source": [
    "Model has 79% ACC on test set "
   ]
  },
  {
   "cell_type": "code",
   "execution_count": 39,
   "id": "3b106ce8-8dba-47c3-9685-46316d8c6954",
   "metadata": {},
   "outputs": [],
   "source": [
    "del model"
   ]
  },
  {
   "cell_type": "code",
   "execution_count": 55,
   "id": "fdf8c07c-837f-4706-bf53-75e26c030425",
   "metadata": {},
   "outputs": [],
   "source": [
    "num_words =  10000\n",
    "maxlen = 100\n",
    "pad_type= \"post\"\n",
    "trunc_type=\"post\"\n",
    "#embed_dim =  128"
   ]
  },
  {
   "cell_type": "code",
   "execution_count": 44,
   "id": "224a0bbe-3048-45b3-9268-07fb245dc7f8",
   "metadata": {},
   "outputs": [],
   "source": [
    "token  = Tokenizer(num_words=num_words)\n",
    "token.fit_on_sequences(x_train)"
   ]
  },
  {
   "cell_type": "code",
   "execution_count": 45,
   "id": "8b5059ef-02f3-4b6a-a400-7352e38f16ba",
   "metadata": {},
   "outputs": [
    {
     "data": {
      "text/plain": [
       "array([0., 1., 1., ..., 0., 0., 0.])"
      ]
     },
     "execution_count": 45,
     "metadata": {},
     "output_type": "execute_result"
    }
   ],
   "source": [
    "x_train_ =  token.sequences_to_matrix(x_train)\n",
    "x_test_ =  token.sequences_to_matrix(x_test)\n",
    "x_train_[0]"
   ]
  },
  {
   "cell_type": "code",
   "execution_count": 48,
   "id": "b659224c-7c04-4164-8e6b-442bc53e08d1",
   "metadata": {},
   "outputs": [],
   "source": [
    "x_train_padded =  pad_sequences(x_train_,padding=pad_type,truncating=trunc_type,maxlen=maxlen)\n",
    "x_test_padded =  pad_sequences(x_test_,padding=pad_type,truncating=trunc_type,maxlen=maxlen)"
   ]
  },
  {
   "cell_type": "code",
   "execution_count": 56,
   "id": "9fa8bc0e-4fc5-4ee5-a9bf-5c0d27f5a167",
   "metadata": {},
   "outputs": [
    {
     "data": {
      "text/plain": [
       "(2246, 100)"
      ]
     },
     "execution_count": 56,
     "metadata": {},
     "output_type": "execute_result"
    }
   ],
   "source": [
    "x_test_padded.shape"
   ]
  },
  {
   "cell_type": "code",
   "execution_count": 53,
   "id": "33325e01-c91a-4c5b-b7c9-02d3d3960f2b",
   "metadata": {
    "scrolled": true
   },
   "outputs": [
    {
     "name": "stdout",
     "output_type": "stream",
     "text": [
      "Epoch 1/10\n",
      "\u001b[1m281/281\u001b[0m \u001b[32m━━━━━━━━━━━━━━━━━━━━\u001b[0m\u001b[37m\u001b[0m \u001b[1m5s\u001b[0m 14ms/step - acc: 0.5041 - loss: 2.0894 - val_acc: 0.6411 - val_loss: 1.4827\n",
      "Epoch 2/10\n",
      "\u001b[1m281/281\u001b[0m \u001b[32m━━━━━━━━━━━━━━━━━━━━\u001b[0m\u001b[37m\u001b[0m \u001b[1m4s\u001b[0m 14ms/step - acc: 0.6679 - loss: 1.3708 - val_acc: 0.6625 - val_loss: 1.3812\n",
      "Epoch 3/10\n",
      "\u001b[1m281/281\u001b[0m \u001b[32m━━━━━━━━━━━━━━━━━━━━\u001b[0m\u001b[37m\u001b[0m \u001b[1m4s\u001b[0m 14ms/step - acc: 0.6887 - loss: 1.2508 - val_acc: 0.6670 - val_loss: 1.3595\n",
      "Epoch 4/10\n",
      "\u001b[1m281/281\u001b[0m \u001b[32m━━━━━━━━━━━━━━━━━━━━\u001b[0m\u001b[37m\u001b[0m \u001b[1m4s\u001b[0m 15ms/step - acc: 0.7081 - loss: 1.1558 - val_acc: 0.6790 - val_loss: 1.3369\n",
      "Epoch 5/10\n",
      "\u001b[1m281/281\u001b[0m \u001b[32m━━━━━━━━━━━━━━━━━━━━\u001b[0m\u001b[37m\u001b[0m \u001b[1m4s\u001b[0m 15ms/step - acc: 0.7260 - loss: 1.0724 - val_acc: 0.6781 - val_loss: 1.3191\n",
      "Epoch 6/10\n",
      "\u001b[1m281/281\u001b[0m \u001b[32m━━━━━━━━━━━━━━━━━━━━\u001b[0m\u001b[37m\u001b[0m \u001b[1m4s\u001b[0m 15ms/step - acc: 0.7331 - loss: 1.0445 - val_acc: 0.6736 - val_loss: 1.3509\n",
      "Epoch 7/10\n",
      "\u001b[1m281/281\u001b[0m \u001b[32m━━━━━━━━━━━━━━━━━━━━\u001b[0m\u001b[37m\u001b[0m \u001b[1m4s\u001b[0m 15ms/step - acc: 0.7438 - loss: 0.9986 - val_acc: 0.6834 - val_loss: 1.3371\n",
      "Epoch 8/10\n",
      "\u001b[1m281/281\u001b[0m \u001b[32m━━━━━━━━━━━━━━━━━━━━\u001b[0m\u001b[37m\u001b[0m \u001b[1m4s\u001b[0m 15ms/step - acc: 0.7408 - loss: 0.9914 - val_acc: 0.6790 - val_loss: 1.3472\n",
      "Epoch 9/10\n",
      "\u001b[1m281/281\u001b[0m \u001b[32m━━━━━━━━━━━━━━━━━━━━\u001b[0m\u001b[37m\u001b[0m \u001b[1m4s\u001b[0m 15ms/step - acc: 0.7535 - loss: 0.9265 - val_acc: 0.6656 - val_loss: 1.3873\n",
      "Epoch 10/10\n",
      "\u001b[1m281/281\u001b[0m \u001b[32m━━━━━━━━━━━━━━━━━━━━\u001b[0m\u001b[37m\u001b[0m \u001b[1m4s\u001b[0m 16ms/step - acc: 0.7634 - loss: 0.8788 - val_acc: 0.6679 - val_loss: 1.4248\n"
     ]
    }
   ],
   "source": [
    "model = Sequential([\n",
    "    Embedding(input_dim=num_words,output_dim=150,input_length=maxlen),\n",
    "    Flatten(),\n",
    "    Dense(64,activation=\"relu\"),\n",
    "    Dense(64,activation=\"relu\"),\n",
    "    Dense(46,activation=\"softmax\")\n",
    "])\n",
    "model.compile(loss=\"categorical_crossentropy\",optimizer=\"adam\",metrics=[\"acc\"])\n",
    "history  = model.fit(x_train_padded,y_train_cat,validation_data=(x_test_padded,y_test_cat),epochs=10)"
   ]
  },
  {
   "cell_type": "code",
   "execution_count": 54,
   "id": "dd435493-8238-4f5c-b0ce-1a4cf825d7d1",
   "metadata": {},
   "outputs": [
    {
     "name": "stdout",
     "output_type": "stream",
     "text": [
      "\u001b[1m71/71\u001b[0m \u001b[32m━━━━━━━━━━━━━━━━━━━━\u001b[0m\u001b[37m\u001b[0m \u001b[1m0s\u001b[0m 5ms/step - acc: 0.6597 - loss: 1.4551\n"
     ]
    },
    {
     "data": {
      "text/plain": [
       "0.6678539514541626"
      ]
     },
     "execution_count": 54,
     "metadata": {},
     "output_type": "execute_result"
    }
   ],
   "source": [
    "loss,acc = model.evaluate(x_test_padded,y_test_cat)\n",
    "acc"
   ]
  },
  {
   "cell_type": "markdown",
   "id": "604ce2b7-c159-4fba-8dae-85a95c7bd368",
   "metadata": {},
   "source": [
    "Model has 66% acc on test set "
   ]
  },
  {
   "cell_type": "code",
   "execution_count": null,
   "id": "59f13eda-36d5-4599-9429-04693e8fcc27",
   "metadata": {},
   "outputs": [],
   "source": []
  }
 ],
 "metadata": {
  "kernelspec": {
   "display_name": "Python 3",
   "language": "python",
   "name": "python3"
  },
  "language_info": {
   "codemirror_mode": {
    "name": "ipython",
    "version": 3
   },
   "file_extension": ".py",
   "mimetype": "text/x-python",
   "name": "python",
   "nbconvert_exporter": "python",
   "pygments_lexer": "ipython3",
   "version": "3.11.9"
  }
 },
 "nbformat": 4,
 "nbformat_minor": 5
}
