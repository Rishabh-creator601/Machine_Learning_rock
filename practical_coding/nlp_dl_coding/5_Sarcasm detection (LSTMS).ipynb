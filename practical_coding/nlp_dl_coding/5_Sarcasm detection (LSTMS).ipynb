{
 "cells": [
  {
   "cell_type": "code",
   "execution_count": 1,
   "id": "9e618241-4179-49d1-a52e-dcfed14a4d55",
   "metadata": {},
   "outputs": [],
   "source": [
    "from bs4 import BeautifulSoup \n",
    "import string, unicodedata , contractions , json , re\n",
    "from nltk.corpus import stopwords \n",
    "from tensorflow.keras.preprocessing.text import Tokenizer\n",
    "from tensorflow.keras.preprocessing.sequence import pad_sequences\n",
    "from tensorflow.keras.models import Sequential\n",
    "from tensorflow.keras.layers import Dense,Embedding,GlobalAveragePooling1D,Bidirectional,LSTM\n",
    "import numpy as np ; import matplotlib.pyplot as plt"
   ]
  },
  {
   "cell_type": "code",
   "execution_count": 2,
   "id": "50d8ce26-4885-457b-aa2b-606d7fc98b2a",
   "metadata": {},
   "outputs": [],
   "source": [
    "STOPWORDS = stopwords.words(\"english\")"
   ]
  },
  {
   "cell_type": "code",
   "execution_count": 3,
   "id": "24b689b2-cee0-4dca-aa04-869bb858e520",
   "metadata": {},
   "outputs": [],
   "source": [
    "data  = []\n",
    "with open(\"C:/codes/machineL/data/scarcasm/Sarcasm_Headlines_Dataset_v2.json\",\"r\") as f:\n",
    "    for line in f:\n",
    "        data.append(json.loads(line))"
   ]
  },
  {
   "cell_type": "code",
   "execution_count": 4,
   "id": "63f46023-089b-4f7a-b98f-8ab2b5eda7ed",
   "metadata": {},
   "outputs": [],
   "source": [
    "def remove_html_tags(text):\n",
    "    return BeautifulSoup(text,\"html.parser\").get_text()\n",
    "\n",
    "def convert_unicode_data(text):\n",
    "    return unicodedata.normalize(\"NFKD\",text).encode(\"ascii\",\"ignore\").decode(\"utf-8\",\"ignore\")\n",
    "\n",
    "def remove_urls(text):\n",
    "    text =   re.sub('https?:\\S*', ' ', text)\n",
    "    text = re.sub('www?.\\S*', ' ', text)\n",
    "    return text \n",
    "\n",
    "def expand_contractions(text):\n",
    "    expanded_words  = []\n",
    "\n",
    "    for word in text :\n",
    "        expanded_words.append(contractions.fix(word))\n",
    "    return \"\".join(expanded_words)\n",
    "\n",
    "def remove_mentions(text):\n",
    "    text = re.sub(r'@\\S*', ' ', text)\n",
    "    text = re.sub(r'#\\S*', ' ', text)\n",
    "    return text\n",
    "\n",
    "def removing_special_chars(text):\n",
    "    pat = r'[^a-zA-z0-9.,!?/:;\\\"\\'\\s]'\n",
    "    return re.sub(pat,' ',text)\n",
    "\n",
    "def removing_numbers(text):\n",
    "    pattern = r'[^a-zA-z.,!?/:;\\\"\\'\\s]' \n",
    "    return re.sub(pattern,' ',text)\n",
    "\n",
    "def remove_punctuation(text):\n",
    "    return ''.join([c for c in text if c not in string.punctuation])\n",
    "\n",
    "\n",
    "\n",
    "def clean_text(text):\n",
    "    text = text.lower()\n",
    "    text = remove_html_tags(text)\n",
    "    text = convert_unicode_data(text)\n",
    "    text = remove_urls(text)\n",
    "    text = expand_contractions(text)\n",
    "    text = remove_mentions(text)\n",
    "    text = removing_numbers(text)\n",
    "    text = remove_punctuation(text)\n",
    "    text = \" \".join(w for w in text.split() if w not in STOPWORDS)\n",
    "    return text "
   ]
  },
  {
   "cell_type": "code",
   "execution_count": 5,
   "id": "94074af0-b6e5-4de0-8273-cc24ee171981",
   "metadata": {},
   "outputs": [],
   "source": [
    "headlines = []\n",
    "labels = []\n",
    "for item in data :\n",
    "    headlines.append(clean_text(item[\"headline\"]))\n",
    "    labels.append(item[\"is_sarcastic\"])"
   ]
  },
  {
   "cell_type": "code",
   "execution_count": 6,
   "id": "dae3b246-df87-4b21-89c9-43ae9846d9de",
   "metadata": {},
   "outputs": [],
   "source": [
    "train_size= 23000\n",
    "last_size=  28000\n",
    "training_data = headlines[0:train_size]\n",
    "testing_data = headlines[train_size:last_size]\n",
    "training_labels= np.array(labels[0:train_size])\n",
    "testing_labels = np.array(labels[train_size:last_size])"
   ]
  },
  {
   "cell_type": "code",
   "execution_count": 7,
   "id": "7c7ff60d-c866-4e1e-a2f1-83d0f1f776ac",
   "metadata": {},
   "outputs": [],
   "source": [
    "num_words  = 20000 # vocab size also \n",
    "oov_token = \"<OOV>\"\n",
    "pad_type = \"post\"\n",
    "trunc_type=\"post\"\n",
    "embed_dim = 16\n"
   ]
  },
  {
   "cell_type": "code",
   "execution_count": 8,
   "id": "ddc880a9-a0ea-4a5c-8e12-0698d817f0e8",
   "metadata": {},
   "outputs": [],
   "source": [
    "token = Tokenizer(num_words=num_words,oov_token=oov_token)\n",
    "token.fit_on_texts(training_data)"
   ]
  },
  {
   "cell_type": "code",
   "execution_count": 9,
   "id": "de784c2c-1014-45a6-a60c-7ba0b51ec027",
   "metadata": {},
   "outputs": [],
   "source": [
    "train_data = token.texts_to_sequences(training_data)\n",
    "train_data = pad_sequences(train_data,padding=pad_type,truncating=trunc_type)\n",
    "train_data = np.array(train_data)"
   ]
  },
  {
   "cell_type": "code",
   "execution_count": 10,
   "id": "54aa9247-dd3a-450f-bf4d-6cf3837bffb8",
   "metadata": {},
   "outputs": [],
   "source": [
    "test_data = token.texts_to_sequences(testing_data)\n",
    "test_data = pad_sequences(test_data,padding=pad_type,truncating=trunc_type)\n",
    "test_data = np.array(test_data )"
   ]
  },
  {
   "cell_type": "code",
   "execution_count": 11,
   "id": "3e76c646-18e3-4c55-a8fb-415302a40daa",
   "metadata": {},
   "outputs": [],
   "source": [
    "model = Sequential([\n",
    "    Embedding(num_words,embed_dim),\n",
    "    Bidirectional(LSTM(embed_dim,return_sequences=True)),\n",
    "    Bidirectional(LSTM(embed_dim)),\n",
    "    Dense(24,activation=\"relu\"),\n",
    "    Dense(1,activation=\"sigmoid\")\n",
    "])"
   ]
  },
  {
   "cell_type": "code",
   "execution_count": 12,
   "id": "fc33301b-0a83-40a5-b3fc-d9a866534c24",
   "metadata": {},
   "outputs": [],
   "source": [
    "model.compile(loss=\"binary_crossentropy\",optimizer=\"adam\",metrics=[\"acc\"])"
   ]
  },
  {
   "cell_type": "code",
   "execution_count": 13,
   "id": "2d3567a9-41fe-484f-8558-04cf68af08a2",
   "metadata": {},
   "outputs": [
    {
     "name": "stdout",
     "output_type": "stream",
     "text": [
      "Epoch 1/10\n",
      "\u001b[1m719/719\u001b[0m \u001b[32m━━━━━━━━━━━━━━━━━━━━\u001b[0m\u001b[37m\u001b[0m \u001b[1m77s\u001b[0m 90ms/step - acc: 0.6513 - loss: 0.5808 - val_acc: 0.8034 - val_loss: 0.4249\n",
      "Epoch 2/10\n",
      "\u001b[1m719/719\u001b[0m \u001b[32m━━━━━━━━━━━━━━━━━━━━\u001b[0m\u001b[37m\u001b[0m \u001b[1m80s\u001b[0m 88ms/step - acc: 0.8947 - loss: 0.2637 - val_acc: 0.8074 - val_loss: 0.4432\n",
      "Epoch 3/10\n",
      "\u001b[1m719/719\u001b[0m \u001b[32m━━━━━━━━━━━━━━━━━━━━\u001b[0m\u001b[37m\u001b[0m \u001b[1m65s\u001b[0m 91ms/step - acc: 0.9400 - loss: 0.1597 - val_acc: 0.7934 - val_loss: 0.4695\n",
      "Epoch 4/10\n",
      "\u001b[1m719/719\u001b[0m \u001b[32m━━━━━━━━━━━━━━━━━━━━\u001b[0m\u001b[37m\u001b[0m \u001b[1m88s\u001b[0m 99ms/step - acc: 0.9456 - loss: 0.1465 - val_acc: 0.7832 - val_loss: 0.5745\n",
      "Epoch 5/10\n",
      "\u001b[1m719/719\u001b[0m \u001b[32m━━━━━━━━━━━━━━━━━━━━\u001b[0m\u001b[37m\u001b[0m \u001b[1m75s\u001b[0m 90ms/step - acc: 0.9616 - loss: 0.1073 - val_acc: 0.7854 - val_loss: 0.6548\n",
      "Epoch 6/10\n",
      "\u001b[1m719/719\u001b[0m \u001b[32m━━━━━━━━━━━━━━━━━━━━\u001b[0m\u001b[37m\u001b[0m \u001b[1m65s\u001b[0m 91ms/step - acc: 0.9738 - loss: 0.0855 - val_acc: 0.7856 - val_loss: 0.6739\n",
      "Epoch 7/10\n",
      "\u001b[1m719/719\u001b[0m \u001b[32m━━━━━━━━━━━━━━━━━━━━\u001b[0m\u001b[37m\u001b[0m \u001b[1m84s\u001b[0m 93ms/step - acc: 0.9816 - loss: 0.0652 - val_acc: 0.7850 - val_loss: 0.7377\n",
      "Epoch 8/10\n",
      "\u001b[1m719/719\u001b[0m \u001b[32m━━━━━━━━━━━━━━━━━━━━\u001b[0m\u001b[37m\u001b[0m \u001b[1m83s\u001b[0m 95ms/step - acc: 0.9833 - loss: 0.0578 - val_acc: 0.7846 - val_loss: 0.7550\n",
      "Epoch 9/10\n",
      "\u001b[1m719/719\u001b[0m \u001b[32m━━━━━━━━━━━━━━━━━━━━\u001b[0m\u001b[37m\u001b[0m \u001b[1m81s\u001b[0m 93ms/step - acc: 0.9870 - loss: 0.0474 - val_acc: 0.7808 - val_loss: 0.9683\n",
      "Epoch 10/10\n",
      "\u001b[1m719/719\u001b[0m \u001b[32m━━━━━━━━━━━━━━━━━━━━\u001b[0m\u001b[37m\u001b[0m \u001b[1m82s\u001b[0m 93ms/step - acc: 0.9877 - loss: 0.0437 - val_acc: 0.7794 - val_loss: 0.8766\n"
     ]
    }
   ],
   "source": [
    "history = model.fit(train_data,training_labels,validation_data=(test_data,testing_labels),epochs=10)"
   ]
  },
  {
   "cell_type": "code",
   "execution_count": 14,
   "id": "a15c1965-e06b-461e-bd7d-f346dd67f1ba",
   "metadata": {},
   "outputs": [
    {
     "data": {
      "text/plain": [
       "<matplotlib.legend.Legend at 0x25a471a2dd0>"
      ]
     },
     "execution_count": 14,
     "metadata": {},
     "output_type": "execute_result"
    },
    {
     "data": {
      "image/png": "[encoded data removed]",
      "text/plain": [
       "<Figure size 640x480 with 1 Axes>"
      ]
     },
     "metadata": {},
     "output_type": "display_data"
    }
   ],
   "source": [
    "## Accuracy\n",
    "plt.style.use(\"ggplot\")\n",
    "plt.plot(history.history['acc'])\n",
    "plt.plot(history.history['val_acc'])\n",
    "plt.legend([\"train\",\"val\"],loc='upper left')"
   ]
  },
  {
   "cell_type": "code",
   "execution_count": 16,
   "id": "99794c11-70bf-44c8-9d23-555826b0bfc3",
   "metadata": {},
   "outputs": [
    {
     "data": {
      "text/plain": [
       "<matplotlib.legend.Legend at 0x25a53b0ec20>"
      ]
     },
     "execution_count": 16,
     "metadata": {},
     "output_type": "execute_result"
    },
    {
     "data": {
      "image/png": "[encoded data removed]",
      "text/plain": [
       "<Figure size 640x480 with 1 Axes>"
      ]
     },
     "metadata": {},
     "output_type": "display_data"
    }
   ],
   "source": [
    "## Loss\n",
    "plt.plot(history.history['loss'])\n",
    "plt.plot(history.history['val_loss'])\n",
    "plt.legend([\"train\", \"val\"],loc='upper left')"
   ]
  },
  {
   "cell_type": "code",
   "execution_count": null,
   "id": "8df86fd0-76b4-4057-82cf-1bc9e83aecae",
   "metadata": {},
   "outputs": [],
   "source": []
  }
 ],
 "metadata": {
  "kernelspec": {
   "display_name": "Python 3 (ipykernel)",
   "language": "python",
   "name": "python3"
  },
  "language_info": {
   "codemirror_mode": {
    "name": "ipython",
    "version": 3
   },
   "file_extension": ".py",
   "mimetype": "text/x-python",
   "name": "python",
   "nbconvert_exporter": "python",
   "pygments_lexer": "ipython3",
   "version": "3.10.0"
  }
 },
 "nbformat": 4,
 "nbformat_minor": 5
}
