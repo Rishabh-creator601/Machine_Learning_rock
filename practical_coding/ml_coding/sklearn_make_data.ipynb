{
 "cells": [
  {
   "cell_type": "code",
   "execution_count": 8,
   "id": "da929a40-a976-4f74-b421-61647e15037d",
   "metadata": {},
   "outputs": [],
   "source": [
    "from sklearn import datasets \n",
    "import numpy as np"
   ]
  },
  {
   "cell_type": "code",
   "execution_count": 7,
   "id": "9c917365-90b1-4264-99d3-6beab088694a",
   "metadata": {},
   "outputs": [
    {
     "name": "stdout",
     "output_type": "stream",
     "text": [
      "Datsets List : \n"
     ]
    },
    {
     "data": {
      "text/plain": [
       "datasets.make_biclusters\n",
       "datasets.make_blobs\n",
       "datasets.make_checkerboard\n",
       "datasets.make_circles\n",
       "datasets.make_classification\n",
       "datasets.make_friedman1\n",
       "datasets.make_friedman2\n",
       "datasets.make_friedman3\n",
       "datasets.make_gaussian_quantiles\n",
       "datasets.make_hastie_10_2\n",
       "datasets.make_low_rank_matrix\n",
       "datasets.make_moons\n",
       "datasets.make_multilabel_classification\n",
       "datasets.make_regression\n",
       "datasets.make_s_curve\n",
       "datasets.make_sparse_coded_signal\n",
       "datasets.make_sparse_spd_matrix\n",
       "datasets.make_sparse_uncorrelated\n",
       "datasets.make_spd_matrix\n",
       "datasets.make_swiss_roll"
      ]
     },
     "metadata": {},
     "output_type": "display_data"
    }
   ],
   "source": [
    "print(\"Datsets List : \")\n",
    "datasets.make_*?"
   ]
  },
  {
   "cell_type": "markdown",
   "id": "e108c6a0-3b2f-4060-b5dc-2e1bf9cfb154",
   "metadata": {},
   "source": [
    "**make_regression**"
   ]
  },
  {
   "cell_type": "code",
   "execution_count": 24,
   "id": "7fde0edb-34c5-4e04-ab96-bf48a7ffc40b",
   "metadata": {},
   "outputs": [],
   "source": [
    "data_reg =  datasets.make_regression(bias=1.0,n_targets=2,n_features=10,n_samples=1000)"
   ]
  },
  {
   "cell_type": "markdown",
   "id": "83ce1034-c16f-4a80-a40e-b7888d211d92",
   "metadata": {},
   "source": [
    "targets {y} :  2 <br/>\n",
    "n_samples x n_features =  (1000,10)<br/>\n",
    "bias =  1.0 <br/>\n",
    "noise =  not added (0.1 make be) <br/> \n",
    "n_informative (No of useful features) :  not added (5 maybe ) "
   ]
  },
  {
   "cell_type": "code",
   "execution_count": 25,
   "id": "da252e9d-80cd-4e49-a7ff-a4cbc462800f",
   "metadata": {},
   "outputs": [
    {
     "data": {
      "text/plain": [
       "(1000, 10)"
      ]
     },
     "execution_count": 25,
     "metadata": {},
     "output_type": "execute_result"
    }
   ],
   "source": [
    "data_reg[0].shape"
   ]
  },
  {
   "cell_type": "code",
   "execution_count": 26,
   "id": "cc6166ef-431b-4577-94de-731d06746b18",
   "metadata": {},
   "outputs": [
    {
     "data": {
      "text/plain": [
       "array([-0.03401717,  0.95220007,  1.23877333, -0.27952177, -0.78335467,\n",
       "       -0.53077522,  0.24431397, -1.20884654,  0.51213759, -0.23680393])"
      ]
     },
     "execution_count": 26,
     "metadata": {},
     "output_type": "execute_result"
    }
   ],
   "source": [
    "data_reg[0][0]"
   ]
  },
  {
   "cell_type": "markdown",
   "id": "2ceb8087-ec10-411b-bd12-432e8c7b07c7",
   "metadata": {},
   "source": [
    "**make_classification**"
   ]
  },
  {
   "cell_type": "code",
   "execution_count": 34,
   "id": "12f20ce3-5b51-4da7-abc3-2942e94b95f2",
   "metadata": {},
   "outputs": [],
   "source": [
    "data_class  = datasets.make_classification(n_samples = 1000, n_features=10,n_classes=3,n_clusters_per_class=3,n_informative=4)"
   ]
  },
  {
   "cell_type": "markdown",
   "id": "fd4dd9e8-9aab-4ebe-a740-d605627c4fa6",
   "metadata": {},
   "source": [
    "n_samples x n_features =  (1000,10)\n",
    "n_classes =  3 (no of classification)\n",
    "\n",
    "n_classes(3) * n_clusters_per_class(3) must be smaller or equal 2**n_informative(2)=4  <= act accordingly "
   ]
  },
  {
   "cell_type": "code",
   "execution_count": 36,
   "id": "3f91c290-85ff-4c62-8c04-6116ce8db760",
   "metadata": {},
   "outputs": [
    {
     "data": {
      "text/plain": [
       "(1000, 10)"
      ]
     },
     "execution_count": 36,
     "metadata": {},
     "output_type": "execute_result"
    }
   ],
   "source": [
    "data_class[0].shape"
   ]
  },
  {
   "cell_type": "code",
   "execution_count": null,
   "id": "652b363c-6200-42ac-ba6e-b62eac36583b",
   "metadata": {},
   "outputs": [],
   "source": []
  }
 ],
 "metadata": {
  "kernelspec": {
   "display_name": "Python 3 (ipykernel)",
   "language": "python",
   "name": "python3"
  },
  "language_info": {
   "codemirror_mode": {
    "name": "ipython",
    "version": 3
   },
   "file_extension": ".py",
   "mimetype": "text/x-python",
   "name": "python",
   "nbconvert_exporter": "python",
   "pygments_lexer": "ipython3",
   "version": "3.10.0"
  }
 },
 "nbformat": 4,
 "nbformat_minor": 5
}
