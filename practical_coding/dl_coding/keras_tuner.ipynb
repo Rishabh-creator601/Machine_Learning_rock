{
 "cells": [
  {
   "cell_type": "code",
   "execution_count": 8,
   "id": "c0fa73e0-6842-4409-b68d-7ae6fee51d57",
   "metadata": {},
   "outputs": [],
   "source": [
    "from seedtools import show_all_datasets ,load_seed,register_csv\n",
    "import numpy as np \n",
    "import matplotlib.pyplot as plt\n",
    "import pandas as pd \n",
    "from sklearn.model_selection import train_test_split \n",
    "from sklearn.preprocessing import StandardScaler\n",
    "from tensorflow.keras.models import Sequential\n",
    "from tensorflow.keras.layers import Dense,Conv2D,MaxPool2D,Flatten\n",
    "import keras_tuner as kt "
   ]
  },
  {
   "cell_type": "code",
   "execution_count": 20,
   "id": "1daf6e1a",
   "metadata": {},
   "outputs": [],
   "source": [
    "ss =  StandardScaler()"
   ]
  },
  {
   "cell_type": "code",
   "execution_count": 21,
   "id": "c5566602-6e9a-4055-bb2b-6fa3697a47d2",
   "metadata": {},
   "outputs": [
    {
     "name": "stdout",
     "output_type": "stream",
     "text": [
      "- data File ✔\n",
      "- Seed file ✔\n",
      "shape :  [768, 9]\n",
      "columns :  ['Pregnancies', 'Glucose', 'BloodPressure', 'SkinThickness', 'Insulin', 'BMI', 'DiabetesPedigreeFunction', 'Age', 'Outcome']\n",
      "desc :  DATA IS NOT YET PROVIDED\n"
     ]
    }
   ],
   "source": [
    "data = pd.read_csv(load_seed(\"pima_indians_diabetest.csv\"))\n",
    "x =  data.drop(columns=[\"Outcome\"]).values\n",
    "y =  data[\"Outcome\"].values\n",
    "x_train,x_test,y_train,y_test =  train_test_split(x,y,test_size=0.2)\n",
    "\n",
    "x_train =  ss.fit_transform(x_train)\n",
    "x_test = ss.transform(x_test)"
   ]
  },
  {
   "cell_type": "markdown",
   "id": "a2819edc",
   "metadata": {},
   "source": [
    "**SIMPLE MODEL**"
   ]
  },
  {
   "cell_type": "code",
   "execution_count": 6,
   "id": "54df0cb0-9861-467b-85c2-96141a65de48",
   "metadata": {},
   "outputs": [
    {
     "name": "stdout",
     "output_type": "stream",
     "text": [
      "WARNING:tensorflow:From C:\\Users\\RISHABH\\AppData\\Roaming\\Python\\Python311\\site-packages\\keras\\src\\backend.py:873: The name tf.get_default_graph is deprecated. Please use tf.compat.v1.get_default_graph instead.\n",
      "\n",
      "WARNING:tensorflow:From C:\\Users\\RISHABH\\AppData\\Roaming\\Python\\Python311\\site-packages\\keras\\src\\optimizers\\__init__.py:309: The name tf.train.Optimizer is deprecated. Please use tf.compat.v1.train.Optimizer instead.\n",
      "\n",
      "Model: \"sequential\"\n",
      "_________________________________________________________________\n",
      " Layer (type)                Output Shape              Param #   \n",
      "=================================================================\n",
      " dense (Dense)               (None, 32)                288       \n",
      "                                                                 \n",
      " dense_1 (Dense)             (None, 1)                 33        \n",
      "                                                                 \n",
      "=================================================================\n",
      "Total params: 321 (1.25 KB)\n",
      "Trainable params: 321 (1.25 KB)\n",
      "Non-trainable params: 0 (0.00 Byte)\n",
      "_________________________________________________________________\n"
     ]
    }
   ],
   "source": [
    "model = Sequential([\n",
    "    Dense(32,activation=\"relu\",input_dim=8),\n",
    "    Dense(1,activation=\"sigmoid\")\n",
    "])\n",
    "model.compile(loss=\"binary_crossentropy\",optimizer=\"adam\",metrics=[\"acc\"])\n",
    "model.summary()"
   ]
  },
  {
   "cell_type": "code",
   "execution_count": 7,
   "id": "0092575e",
   "metadata": {},
   "outputs": [
    {
     "name": "stdout",
     "output_type": "stream",
     "text": [
      "Epoch 1/10\n",
      "WARNING:tensorflow:From C:\\Users\\RISHABH\\AppData\\Roaming\\Python\\Python311\\site-packages\\keras\\src\\utils\\tf_utils.py:492: The name tf.ragged.RaggedTensorValue is deprecated. Please use tf.compat.v1.ragged.RaggedTensorValue instead.\n",
      "\n",
      "WARNING:tensorflow:From C:\\Users\\RISHABH\\AppData\\Roaming\\Python\\Python311\\site-packages\\keras\\src\\engine\\base_layer_utils.py:384: The name tf.executing_eagerly_outside_functions is deprecated. Please use tf.compat.v1.executing_eagerly_outside_functions instead.\n",
      "\n",
      "20/20 [==============================] - 1s 9ms/step - loss: 0.6616 - acc: 0.6319 - val_loss: 0.6597 - val_acc: 0.6494\n",
      "Epoch 2/10\n",
      "20/20 [==============================] - 0s 3ms/step - loss: 0.6245 - acc: 0.6759 - val_loss: 0.6284 - val_acc: 0.6753\n",
      "Epoch 3/10\n",
      "20/20 [==============================] - 0s 2ms/step - loss: 0.5962 - acc: 0.7117 - val_loss: 0.6036 - val_acc: 0.7143\n",
      "Epoch 4/10\n",
      "20/20 [==============================] - 0s 2ms/step - loss: 0.5735 - acc: 0.7199 - val_loss: 0.5839 - val_acc: 0.7143\n",
      "Epoch 5/10\n",
      "20/20 [==============================] - 0s 2ms/step - loss: 0.5555 - acc: 0.7378 - val_loss: 0.5681 - val_acc: 0.7143\n",
      "Epoch 6/10\n",
      "20/20 [==============================] - 0s 2ms/step - loss: 0.5388 - acc: 0.7394 - val_loss: 0.5538 - val_acc: 0.7143\n",
      "Epoch 7/10\n",
      "20/20 [==============================] - 0s 3ms/step - loss: 0.5252 - acc: 0.7524 - val_loss: 0.5412 - val_acc: 0.7208\n",
      "Epoch 8/10\n",
      "20/20 [==============================] - 0s 2ms/step - loss: 0.5147 - acc: 0.7557 - val_loss: 0.5302 - val_acc: 0.7338\n",
      "Epoch 9/10\n",
      "20/20 [==============================] - 0s 2ms/step - loss: 0.5043 - acc: 0.7638 - val_loss: 0.5216 - val_acc: 0.7403\n",
      "Epoch 10/10\n",
      "20/20 [==============================] - 0s 3ms/step - loss: 0.4964 - acc: 0.7704 - val_loss: 0.5124 - val_acc: 0.7468\n"
     ]
    }
   ],
   "source": [
    "history =  model.fit(x_train,y_train,epochs=10,validation_data=(x_test,y_test))"
   ]
  },
  {
   "cell_type": "markdown",
   "id": "21463c1d",
   "metadata": {},
   "source": [
    "**KERAS TUNER IMPLEMENTTATION**\n",
    "- we can find anything like `loss`,`optimizer`,`num_layers`,`units in num_layers`,`activation`\n",
    "- below is just the sample demonstration of optimizer finding \n",
    "- while running it a directory named `untitled_project` will be generated but yeah u can change its name "
   ]
  },
  {
   "cell_type": "code",
   "execution_count": 22,
   "id": "79d080ac",
   "metadata": {},
   "outputs": [],
   "source": [
    "def build_model(hp):\n",
    "    model = Sequential([\n",
    "        Dense(32,activation=\"relu\",input_dim=8),\n",
    "        Dense(1,activation=\"sigmoid\")\n",
    "    ])\n",
    "    \n",
    "    opt =  hp.Choice(\"optimizer\",values=[\"adam\",\"rmsprop\",\"adadelta\",\"sgd\"])\n",
    "    model.compile(loss=\"binary_crossentropy\",optimizer=opt,metrics=[\"acc\"])\n",
    "    return model"
   ]
  },
  {
   "cell_type": "code",
   "execution_count": 23,
   "id": "048a4263",
   "metadata": {},
   "outputs": [
    {
     "name": "stdout",
     "output_type": "stream",
     "text": [
      "Reloading Tuner from .\\untitled_project\\tuner0.json\n"
     ]
    }
   ],
   "source": [
    "tuner =  kt.RandomSearch(build_model,max_trials=5,objective=\"val_acc\")"
   ]
  },
  {
   "cell_type": "code",
   "execution_count": 24,
   "id": "e3917a9a",
   "metadata": {},
   "outputs": [],
   "source": [
    "tuner.search(x_train,y_train,epochs=5,validation_data=(x_test,y_test))"
   ]
  },
  {
   "cell_type": "code",
   "execution_count": 25,
   "id": "da1a230b",
   "metadata": {},
   "outputs": [
    {
     "data": {
      "text/plain": [
       "{'optimizer': 'rmsprop'}"
      ]
     },
     "execution_count": 25,
     "metadata": {},
     "output_type": "execute_result"
    }
   ],
   "source": [
    "tuner.get_best_hyperparameters()[0].values"
   ]
  },
  {
   "cell_type": "code",
   "execution_count": 26,
   "id": "560fddbb",
   "metadata": {},
   "outputs": [
    {
     "name": "stdout",
     "output_type": "stream",
     "text": [
      "Model: \"sequential\"\n",
      "_________________________________________________________________\n",
      " Layer (type)                Output Shape              Param #   \n",
      "=================================================================\n",
      " dense (Dense)               (None, 32)                288       \n",
      "                                                                 \n",
      " dense_1 (Dense)             (None, 1)                 33        \n",
      "                                                                 \n",
      "=================================================================\n",
      "Total params: 321 (1.25 KB)\n",
      "Trainable params: 321 (1.25 KB)\n",
      "Non-trainable params: 0 (0.00 Byte)\n",
      "_________________________________________________________________\n"
     ]
    }
   ],
   "source": [
    "model =  tuner.get_best_models(num_models=1)[0]\n",
    "model.summary()"
   ]
  },
  {
   "cell_type": "code",
   "execution_count": 27,
   "id": "41302865",
   "metadata": {},
   "outputs": [
    {
     "name": "stdout",
     "output_type": "stream",
     "text": [
      "Epoch 7/100\n",
      "20/20 [==============================] - 0s 8ms/step - loss: 0.5312 - acc: 0.7459 - val_loss: 0.5564 - val_acc: 0.6948\n",
      "Epoch 8/100\n",
      "20/20 [==============================] - 0s 2ms/step - loss: 0.5142 - acc: 0.7590 - val_loss: 0.5436 - val_acc: 0.7078\n",
      "Epoch 9/100\n",
      "20/20 [==============================] - 0s 2ms/step - loss: 0.5007 - acc: 0.7622 - val_loss: 0.5340 - val_acc: 0.7143\n",
      "Epoch 10/100\n",
      "20/20 [==============================] - 0s 2ms/step - loss: 0.4908 - acc: 0.7704 - val_loss: 0.5272 - val_acc: 0.7078\n",
      "Epoch 11/100\n",
      "20/20 [==============================] - 0s 2ms/step - loss: 0.4822 - acc: 0.7720 - val_loss: 0.5218 - val_acc: 0.7143\n",
      "Epoch 12/100\n",
      "20/20 [==============================] - 0s 2ms/step - loss: 0.4758 - acc: 0.7736 - val_loss: 0.5186 - val_acc: 0.7208\n",
      "Epoch 13/100\n",
      "20/20 [==============================] - 0s 2ms/step - loss: 0.4707 - acc: 0.7769 - val_loss: 0.5157 - val_acc: 0.7273\n",
      "Epoch 14/100\n",
      "20/20 [==============================] - 0s 2ms/step - loss: 0.4663 - acc: 0.7752 - val_loss: 0.5132 - val_acc: 0.7338\n",
      "Epoch 15/100\n",
      "20/20 [==============================] - 0s 2ms/step - loss: 0.4628 - acc: 0.7736 - val_loss: 0.5104 - val_acc: 0.7403\n",
      "Epoch 16/100\n",
      "20/20 [==============================] - 0s 2ms/step - loss: 0.4595 - acc: 0.7752 - val_loss: 0.5093 - val_acc: 0.7403\n",
      "Epoch 17/100\n",
      "20/20 [==============================] - 0s 2ms/step - loss: 0.4568 - acc: 0.7818 - val_loss: 0.5057 - val_acc: 0.7468\n",
      "Epoch 18/100\n",
      "20/20 [==============================] - 0s 2ms/step - loss: 0.4547 - acc: 0.7785 - val_loss: 0.5051 - val_acc: 0.7403\n",
      "Epoch 19/100\n",
      "20/20 [==============================] - 0s 2ms/step - loss: 0.4529 - acc: 0.7834 - val_loss: 0.5045 - val_acc: 0.7468\n",
      "Epoch 20/100\n",
      "20/20 [==============================] - 0s 2ms/step - loss: 0.4506 - acc: 0.7834 - val_loss: 0.5046 - val_acc: 0.7468\n",
      "Epoch 21/100\n",
      "20/20 [==============================] - 0s 2ms/step - loss: 0.4490 - acc: 0.7834 - val_loss: 0.5024 - val_acc: 0.7532\n",
      "Epoch 22/100\n",
      "20/20 [==============================] - 0s 2ms/step - loss: 0.4475 - acc: 0.7866 - val_loss: 0.5032 - val_acc: 0.7468\n",
      "Epoch 23/100\n",
      "20/20 [==============================] - 0s 2ms/step - loss: 0.4461 - acc: 0.7866 - val_loss: 0.5014 - val_acc: 0.7468\n",
      "Epoch 24/100\n",
      "20/20 [==============================] - 0s 2ms/step - loss: 0.4449 - acc: 0.7899 - val_loss: 0.5011 - val_acc: 0.7403\n",
      "Epoch 25/100\n",
      "20/20 [==============================] - 0s 2ms/step - loss: 0.4436 - acc: 0.7883 - val_loss: 0.4999 - val_acc: 0.7532\n",
      "Epoch 26/100\n",
      "20/20 [==============================] - 0s 2ms/step - loss: 0.4426 - acc: 0.7883 - val_loss: 0.4983 - val_acc: 0.7468\n",
      "Epoch 27/100\n",
      "20/20 [==============================] - 0s 2ms/step - loss: 0.4414 - acc: 0.7883 - val_loss: 0.4995 - val_acc: 0.7468\n",
      "Epoch 28/100\n",
      "20/20 [==============================] - 0s 2ms/step - loss: 0.4403 - acc: 0.7899 - val_loss: 0.4973 - val_acc: 0.7468\n",
      "Epoch 29/100\n",
      "20/20 [==============================] - 0s 2ms/step - loss: 0.4395 - acc: 0.7866 - val_loss: 0.4988 - val_acc: 0.7468\n",
      "Epoch 30/100\n",
      "20/20 [==============================] - 0s 2ms/step - loss: 0.4386 - acc: 0.7883 - val_loss: 0.4985 - val_acc: 0.7468\n",
      "Epoch 31/100\n",
      "20/20 [==============================] - 0s 3ms/step - loss: 0.4378 - acc: 0.7899 - val_loss: 0.5005 - val_acc: 0.7468\n",
      "Epoch 32/100\n",
      "20/20 [==============================] - 0s 2ms/step - loss: 0.4368 - acc: 0.7866 - val_loss: 0.4993 - val_acc: 0.7468\n",
      "Epoch 33/100\n",
      "20/20 [==============================] - 0s 2ms/step - loss: 0.4362 - acc: 0.7899 - val_loss: 0.4986 - val_acc: 0.7468\n",
      "Epoch 34/100\n",
      "20/20 [==============================] - 0s 2ms/step - loss: 0.4354 - acc: 0.7915 - val_loss: 0.4990 - val_acc: 0.7532\n",
      "Epoch 35/100\n",
      "20/20 [==============================] - 0s 2ms/step - loss: 0.4348 - acc: 0.7932 - val_loss: 0.4993 - val_acc: 0.7532\n",
      "Epoch 36/100\n",
      "20/20 [==============================] - 0s 3ms/step - loss: 0.4337 - acc: 0.7915 - val_loss: 0.4968 - val_acc: 0.7468\n",
      "Epoch 37/100\n",
      "20/20 [==============================] - 0s 2ms/step - loss: 0.4328 - acc: 0.7932 - val_loss: 0.4968 - val_acc: 0.7468\n",
      "Epoch 38/100\n",
      "20/20 [==============================] - 0s 2ms/step - loss: 0.4323 - acc: 0.7932 - val_loss: 0.4957 - val_acc: 0.7468\n",
      "Epoch 39/100\n",
      "20/20 [==============================] - 0s 2ms/step - loss: 0.4317 - acc: 0.7915 - val_loss: 0.4939 - val_acc: 0.7468\n",
      "Epoch 40/100\n",
      "20/20 [==============================] - 0s 2ms/step - loss: 0.4312 - acc: 0.7932 - val_loss: 0.4949 - val_acc: 0.7468\n",
      "Epoch 41/100\n",
      "20/20 [==============================] - 0s 2ms/step - loss: 0.4306 - acc: 0.7964 - val_loss: 0.4940 - val_acc: 0.7468\n",
      "Epoch 42/100\n",
      "20/20 [==============================] - 0s 2ms/step - loss: 0.4298 - acc: 0.7866 - val_loss: 0.4942 - val_acc: 0.7468\n",
      "Epoch 43/100\n",
      "20/20 [==============================] - 0s 2ms/step - loss: 0.4292 - acc: 0.7915 - val_loss: 0.4947 - val_acc: 0.7532\n",
      "Epoch 44/100\n",
      "20/20 [==============================] - 0s 2ms/step - loss: 0.4286 - acc: 0.7899 - val_loss: 0.4936 - val_acc: 0.7468\n",
      "Epoch 45/100\n",
      "20/20 [==============================] - 0s 2ms/step - loss: 0.4283 - acc: 0.7866 - val_loss: 0.4952 - val_acc: 0.7468\n",
      "Epoch 46/100\n",
      "20/20 [==============================] - 0s 2ms/step - loss: 0.4274 - acc: 0.7915 - val_loss: 0.4955 - val_acc: 0.7597\n",
      "Epoch 47/100\n",
      "20/20 [==============================] - 0s 2ms/step - loss: 0.4271 - acc: 0.7948 - val_loss: 0.4939 - val_acc: 0.7532\n",
      "Epoch 48/100\n",
      "20/20 [==============================] - 0s 2ms/step - loss: 0.4263 - acc: 0.7948 - val_loss: 0.4944 - val_acc: 0.7597\n",
      "Epoch 49/100\n",
      "20/20 [==============================] - 0s 2ms/step - loss: 0.4261 - acc: 0.7997 - val_loss: 0.4947 - val_acc: 0.7468\n",
      "Epoch 50/100\n",
      "20/20 [==============================] - 0s 2ms/step - loss: 0.4255 - acc: 0.7964 - val_loss: 0.4945 - val_acc: 0.7468\n",
      "Epoch 51/100\n",
      "20/20 [==============================] - 0s 2ms/step - loss: 0.4248 - acc: 0.7964 - val_loss: 0.4936 - val_acc: 0.7597\n",
      "Epoch 52/100\n",
      "20/20 [==============================] - 0s 2ms/step - loss: 0.4242 - acc: 0.7964 - val_loss: 0.4930 - val_acc: 0.7597\n",
      "Epoch 53/100\n",
      "20/20 [==============================] - 0s 2ms/step - loss: 0.4239 - acc: 0.7915 - val_loss: 0.4946 - val_acc: 0.7532\n",
      "Epoch 54/100\n",
      "20/20 [==============================] - 0s 2ms/step - loss: 0.4230 - acc: 0.7915 - val_loss: 0.4953 - val_acc: 0.7403\n",
      "Epoch 55/100\n",
      "20/20 [==============================] - 0s 2ms/step - loss: 0.4229 - acc: 0.7980 - val_loss: 0.4934 - val_acc: 0.7468\n",
      "Epoch 56/100\n",
      "20/20 [==============================] - 0s 2ms/step - loss: 0.4224 - acc: 0.7932 - val_loss: 0.4944 - val_acc: 0.7532\n",
      "Epoch 57/100\n",
      "20/20 [==============================] - 0s 2ms/step - loss: 0.4214 - acc: 0.7964 - val_loss: 0.4936 - val_acc: 0.7532\n",
      "Epoch 58/100\n",
      "20/20 [==============================] - 0s 2ms/step - loss: 0.4213 - acc: 0.7964 - val_loss: 0.4949 - val_acc: 0.7597\n",
      "Epoch 59/100\n",
      "20/20 [==============================] - 0s 2ms/step - loss: 0.4209 - acc: 0.7980 - val_loss: 0.4952 - val_acc: 0.7662\n",
      "Epoch 60/100\n",
      "20/20 [==============================] - 0s 3ms/step - loss: 0.4208 - acc: 0.7997 - val_loss: 0.4958 - val_acc: 0.7597\n",
      "Epoch 61/100\n",
      "20/20 [==============================] - 0s 2ms/step - loss: 0.4201 - acc: 0.7964 - val_loss: 0.4952 - val_acc: 0.7662\n",
      "Epoch 62/100\n",
      "20/20 [==============================] - 0s 2ms/step - loss: 0.4197 - acc: 0.7997 - val_loss: 0.4958 - val_acc: 0.7597\n",
      "Epoch 63/100\n",
      "20/20 [==============================] - 0s 2ms/step - loss: 0.4190 - acc: 0.7980 - val_loss: 0.4958 - val_acc: 0.7532\n",
      "Epoch 64/100\n",
      "20/20 [==============================] - 0s 2ms/step - loss: 0.4189 - acc: 0.7964 - val_loss: 0.4956 - val_acc: 0.7532\n",
      "Epoch 65/100\n",
      "20/20 [==============================] - 0s 2ms/step - loss: 0.4187 - acc: 0.7997 - val_loss: 0.4957 - val_acc: 0.7468\n",
      "Epoch 66/100\n",
      "20/20 [==============================] - 0s 2ms/step - loss: 0.4179 - acc: 0.7997 - val_loss: 0.4960 - val_acc: 0.7532\n",
      "Epoch 67/100\n",
      "20/20 [==============================] - 0s 2ms/step - loss: 0.4175 - acc: 0.8013 - val_loss: 0.4963 - val_acc: 0.7468\n",
      "Epoch 68/100\n",
      "20/20 [==============================] - 0s 3ms/step - loss: 0.4173 - acc: 0.8013 - val_loss: 0.4961 - val_acc: 0.7468\n",
      "Epoch 69/100\n",
      "20/20 [==============================] - 0s 2ms/step - loss: 0.4167 - acc: 0.7997 - val_loss: 0.4977 - val_acc: 0.7532\n",
      "Epoch 70/100\n",
      "20/20 [==============================] - 0s 2ms/step - loss: 0.4164 - acc: 0.7997 - val_loss: 0.4969 - val_acc: 0.7468\n",
      "Epoch 71/100\n",
      "20/20 [==============================] - 0s 2ms/step - loss: 0.4160 - acc: 0.7997 - val_loss: 0.4966 - val_acc: 0.7468\n",
      "Epoch 72/100\n",
      "20/20 [==============================] - 0s 3ms/step - loss: 0.4157 - acc: 0.7980 - val_loss: 0.4938 - val_acc: 0.7468\n",
      "Epoch 73/100\n",
      "20/20 [==============================] - 0s 3ms/step - loss: 0.4153 - acc: 0.7964 - val_loss: 0.4934 - val_acc: 0.7468\n",
      "Epoch 74/100\n",
      "20/20 [==============================] - 0s 2ms/step - loss: 0.4150 - acc: 0.7980 - val_loss: 0.4955 - val_acc: 0.7532\n",
      "Epoch 75/100\n",
      "20/20 [==============================] - 0s 2ms/step - loss: 0.4143 - acc: 0.8013 - val_loss: 0.4953 - val_acc: 0.7532\n",
      "Epoch 76/100\n",
      "20/20 [==============================] - 0s 2ms/step - loss: 0.4143 - acc: 0.7980 - val_loss: 0.4940 - val_acc: 0.7532\n",
      "Epoch 77/100\n",
      "20/20 [==============================] - 0s 2ms/step - loss: 0.4136 - acc: 0.7980 - val_loss: 0.4946 - val_acc: 0.7532\n",
      "Epoch 78/100\n",
      "20/20 [==============================] - 0s 2ms/step - loss: 0.4135 - acc: 0.7997 - val_loss: 0.4947 - val_acc: 0.7532\n",
      "Epoch 79/100\n",
      "20/20 [==============================] - 0s 2ms/step - loss: 0.4126 - acc: 0.8029 - val_loss: 0.4950 - val_acc: 0.7597\n",
      "Epoch 80/100\n",
      "20/20 [==============================] - 0s 2ms/step - loss: 0.4122 - acc: 0.7964 - val_loss: 0.4957 - val_acc: 0.7532\n",
      "Epoch 81/100\n",
      "20/20 [==============================] - 0s 2ms/step - loss: 0.4116 - acc: 0.7997 - val_loss: 0.4931 - val_acc: 0.7532\n",
      "Epoch 82/100\n",
      "20/20 [==============================] - 0s 2ms/step - loss: 0.4113 - acc: 0.7980 - val_loss: 0.4954 - val_acc: 0.7532\n",
      "Epoch 83/100\n",
      "20/20 [==============================] - 0s 3ms/step - loss: 0.4115 - acc: 0.7980 - val_loss: 0.4966 - val_acc: 0.7532\n",
      "Epoch 84/100\n",
      "20/20 [==============================] - 0s 2ms/step - loss: 0.4110 - acc: 0.7997 - val_loss: 0.4948 - val_acc: 0.7532\n",
      "Epoch 85/100\n",
      "20/20 [==============================] - 0s 2ms/step - loss: 0.4105 - acc: 0.8062 - val_loss: 0.4942 - val_acc: 0.7468\n",
      "Epoch 86/100\n",
      "20/20 [==============================] - 0s 2ms/step - loss: 0.4102 - acc: 0.8029 - val_loss: 0.4965 - val_acc: 0.7532\n",
      "Epoch 87/100\n",
      "20/20 [==============================] - 0s 2ms/step - loss: 0.4097 - acc: 0.8013 - val_loss: 0.4971 - val_acc: 0.7532\n",
      "Epoch 88/100\n",
      "20/20 [==============================] - 0s 2ms/step - loss: 0.4092 - acc: 0.7980 - val_loss: 0.4984 - val_acc: 0.7532\n",
      "Epoch 89/100\n",
      "20/20 [==============================] - 0s 2ms/step - loss: 0.4095 - acc: 0.8013 - val_loss: 0.4972 - val_acc: 0.7532\n",
      "Epoch 90/100\n",
      "20/20 [==============================] - 0s 2ms/step - loss: 0.4086 - acc: 0.8046 - val_loss: 0.4964 - val_acc: 0.7532\n",
      "Epoch 91/100\n",
      "20/20 [==============================] - 0s 2ms/step - loss: 0.4084 - acc: 0.8013 - val_loss: 0.4973 - val_acc: 0.7532\n",
      "Epoch 92/100\n",
      "20/20 [==============================] - 0s 2ms/step - loss: 0.4080 - acc: 0.8046 - val_loss: 0.4965 - val_acc: 0.7532\n",
      "Epoch 93/100\n",
      "20/20 [==============================] - 0s 2ms/step - loss: 0.4074 - acc: 0.8062 - val_loss: 0.4963 - val_acc: 0.7468\n",
      "Epoch 94/100\n",
      "20/20 [==============================] - 0s 2ms/step - loss: 0.4069 - acc: 0.8062 - val_loss: 0.4982 - val_acc: 0.7532\n",
      "Epoch 95/100\n",
      "20/20 [==============================] - 0s 2ms/step - loss: 0.4064 - acc: 0.8046 - val_loss: 0.4981 - val_acc: 0.7532\n",
      "Epoch 96/100\n",
      "20/20 [==============================] - 0s 2ms/step - loss: 0.4062 - acc: 0.8046 - val_loss: 0.4988 - val_acc: 0.7597\n",
      "Epoch 97/100\n",
      "20/20 [==============================] - 0s 2ms/step - loss: 0.4060 - acc: 0.8062 - val_loss: 0.4976 - val_acc: 0.7532\n",
      "Epoch 98/100\n",
      "20/20 [==============================] - 0s 2ms/step - loss: 0.4056 - acc: 0.8062 - val_loss: 0.4979 - val_acc: 0.7532\n",
      "Epoch 99/100\n",
      "20/20 [==============================] - 0s 2ms/step - loss: 0.4054 - acc: 0.8013 - val_loss: 0.4979 - val_acc: 0.7532\n",
      "Epoch 100/100\n",
      "20/20 [==============================] - 0s 2ms/step - loss: 0.4051 - acc: 0.8062 - val_loss: 0.4979 - val_acc: 0.7532\n"
     ]
    },
    {
     "data": {
      "text/plain": [
       "<keras.src.callbacks.History at 0x26269ba5950>"
      ]
     },
     "execution_count": 27,
     "metadata": {},
     "output_type": "execute_result"
    }
   ],
   "source": [
    "model.fit(x_train,y_train,epochs=100,initial_epoch=6,validation_data=(x_test,y_test))"
   ]
  },
  {
   "cell_type": "code",
   "execution_count": 28,
   "id": "59dd8661",
   "metadata": {},
   "outputs": [
    {
     "name": "stdout",
     "output_type": "stream",
     "text": [
      "5/5 [==============================] - 0s 990us/step - loss: 0.4979 - acc: 0.7532\n"
     ]
    },
    {
     "data": {
      "text/plain": [
       "0.7532467246055603"
      ]
     },
     "execution_count": 28,
     "metadata": {},
     "output_type": "execute_result"
    }
   ],
   "source": [
    "loss,acc=  model.evaluate(x_test,y_test)\n",
    "acc"
   ]
  },
  {
   "cell_type": "code",
   "execution_count": null,
   "id": "9c318363",
   "metadata": {},
   "outputs": [],
   "source": []
  }
 ],
 "metadata": {
  "kernelspec": {
   "display_name": "Python 3",
   "language": "python",
   "name": "python3"
  },
  "language_info": {
   "codemirror_mode": {
    "name": "ipython",
    "version": 3
   },
   "file_extension": ".py",
   "mimetype": "text/x-python",
   "name": "python",
   "nbconvert_exporter": "python",
   "pygments_lexer": "ipython3",
   "version": "3.11.9"
  }
 },
 "nbformat": 4,
 "nbformat_minor": 5
}
