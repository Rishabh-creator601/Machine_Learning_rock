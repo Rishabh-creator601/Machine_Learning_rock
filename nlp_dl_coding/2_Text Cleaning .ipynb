{
 "cells": [
  {
   "cell_type": "code",
   "execution_count": 21,
   "id": "e1393c7f-591f-4d16-aff0-c54ba9c74f56",
   "metadata": {},
   "outputs": [],
   "source": [
    "from bs4 import BeautifulSoup\n",
    "import unicodedata, re, contractions , string \n",
    "from nltk.corpus import stopwords"
   ]
  },
  {
   "cell_type": "code",
   "execution_count": null,
   "id": "79102e3a-3e1f-4a66-a70a-033b1952cab1",
   "metadata": {
    "scrolled": true
   },
   "outputs": [],
   "source": [
    "!pip install nltk contractions "
   ]
  },
  {
   "cell_type": "code",
   "execution_count": 22,
   "id": "3ef4872b-5028-4099-94a3-6784edbb0006",
   "metadata": {},
   "outputs": [],
   "source": [
    "STOPWORDS = stopwords.words(\"english\")"
   ]
  },
  {
   "cell_type": "code",
   "execution_count": 46,
   "id": "ffc00df9-6d41-4490-883b-3593d22769b2",
   "metadata": {},
   "outputs": [],
   "source": [
    "def remove_html_tags(text):\n",
    "    return BeautifulSoup(text,\"html.parser\").get_text()\n",
    "\n",
    "def convert_unicode_data(text):\n",
    "    return unicodedata.normalize(\"NFKD\",text).encode(\"ascii\",\"ignore\").decode(\"utf-8\",\"ignore\")\n",
    "\n",
    "def remove_urls(text):\n",
    "    text =   re.sub('https?:\\S*', ' ', text)\n",
    "    text = re.sub('www?.\\S*', ' ', text)\n",
    "    return text \n",
    "\n",
    "def expand_contractions(text):\n",
    "    expanded_words  = []\n",
    "\n",
    "    for word in text :\n",
    "        expanded_words.append(contractions.fix(word))\n",
    "    return \"\".join(expanded_words)\n",
    "\n",
    "def remove_mentions(text):\n",
    "    text = re.sub(r'@\\S*', ' ', text)\n",
    "    text = re.sub(r'#\\S*', ' ', text)\n",
    "    return text\n",
    "\n",
    "def removing_special_chars(text):\n",
    "    pat = r'[^a-zA-z0-9.,!?/:;\\\"\\'\\s]'\n",
    "    return re.sub(pat,' ',text)\n",
    "\n",
    "def removing_numbers(text):\n",
    "    pattern = r'[^a-zA-z.,!?/:;\\\"\\'\\s]' \n",
    "    return re.sub(pattern,' ',text)\n",
    "\n",
    "def remove_punctuation(text):\n",
    "    return ''.join([c for c in text if c not in string.punctuation])\n",
    "    "
   ]
  },
  {
   "cell_type": "code",
   "execution_count": 47,
   "id": "7f00b0a4-b163-47db-baf1-0ae3a2b02259",
   "metadata": {},
   "outputs": [],
   "source": [
    "def clean_text(text):\n",
    "    text = text.lower()\n",
    "    text = remove_html_tags(text)\n",
    "    text = convert_unicode_data(text)\n",
    "    text = remove_urls(text)\n",
    "    text = expand_contractions(text)\n",
    "    text = remove_mentions(text)\n",
    "    text = removing_numbers(text)\n",
    "    text = remove_punctuation(text)\n",
    "    text = \" \".join(w for w in text.split() if w not in STOPWORDS)\n",
    "    return text \n",
    "    \n",
    "    \n",
    "    "
   ]
  },
  {
   "cell_type": "code",
   "execution_count": 48,
   "id": "d3aeb208-6c3e-4129-9c44-aed4fcb84bc9",
   "metadata": {},
   "outputs": [],
   "source": [
    "sample_texts = [\n",
    "    \"Buy now!!! $$$ Limited time offer!!! Visit: www.fakeurl.com/deal\",\n",
    "\"she's been waitin' 4 u 2 call. u shud've msgd her b4.\",\n",
    "\"The results were 98.75% accurate!!! Isn't that gr8?\",\n",
    "\"RT @elonmusk: AI will transform the world. #Future #AI\"\n",
    "]"
   ]
  },
  {
   "cell_type": "code",
   "execution_count": 49,
   "id": "760e8d63-3232-46df-8995-d498b800de6c",
   "metadata": {},
   "outputs": [
    {
     "name": "stdout",
     "output_type": "stream",
     "text": [
      "byouy limited time offer visit\n",
      "shes waitin call shyoudve msgd b\n",
      "resyoults accyourate isnt gr\n",
      "rt ai transform world\n"
     ]
    }
   ],
   "source": [
    "for i in sample_texts:\n",
    "    print(clean_text(i))"
   ]
  },
  {
   "cell_type": "code",
   "execution_count": null,
   "id": "c38eb356-bacd-441f-b2b3-fc4012ad87f6",
   "metadata": {},
   "outputs": [],
   "source": []
  }
 ],
 "metadata": {
  "kernelspec": {
   "display_name": "Python 3 (ipykernel)",
   "language": "python",
   "name": "python3"
  },
  "language_info": {
   "codemirror_mode": {
    "name": "ipython",
    "version": 3
   },
   "file_extension": ".py",
   "mimetype": "text/x-python",
   "name": "python",
   "nbconvert_exporter": "python",
   "pygments_lexer": "ipython3",
   "version": "3.10.0"
  }
 },
 "nbformat": 4,
 "nbformat_minor": 5
}
