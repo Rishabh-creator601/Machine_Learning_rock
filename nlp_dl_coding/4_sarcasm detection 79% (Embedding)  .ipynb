{
 "cells": [
  {
   "cell_type": "code",
   "execution_count": 50,
   "id": "e186e9b7-d8ad-4006-9fc6-492bd575520d",
   "metadata": {},
   "outputs": [],
   "source": [
    "\n",
    "from bs4 import BeautifulSoup \n",
    "import string, unicodedata , contractions , json , re\n",
    "from nltk.corpus import stopwords \n",
    "from tensorflow.keras.preprocessing.text import Tokenizer\n",
    "from tensorflow.keras.preprocessing.sequence import pad_sequences\n",
    "from tensorflow.keras.models import Sequential\n",
    "from tensorflow.keras.layers import Dense,Embedding,GlobalAveragePooling1D\n",
    "import numpy as np ; import matplotlib.pyplot as plt"
   ]
  },
  {
   "cell_type": "code",
   "execution_count": 23,
   "id": "ab25539b-77ee-4511-9e69-df2b697d2789",
   "metadata": {},
   "outputs": [],
   "source": [
    "STOPWORDS = stopwords.words(\"english\")"
   ]
  },
  {
   "cell_type": "markdown",
   "id": "0dd2d139-7373-483f-af42-6fd582e1bad2",
   "metadata": {},
   "source": [
    "**LOADING AND CLEANING DATA**"
   ]
  },
  {
   "cell_type": "code",
   "execution_count": 7,
   "id": "969ad8b2-d195-4067-ace1-531e8c2a20cf",
   "metadata": {},
   "outputs": [],
   "source": [
    "data  = []\n",
    "with open(\"C:/codes/machineL/data/scarcasm/Sarcasm_Headlines_Dataset_v2.json\",\"r\") as f:\n",
    "    for line in f:\n",
    "        data.append(json.loads(line))"
   ]
  },
  {
   "cell_type": "code",
   "execution_count": 9,
   "id": "1db72720-9b81-4477-bf62-125d4c132d41",
   "metadata": {},
   "outputs": [
    {
     "data": {
      "text/plain": [
       "{'is_sarcastic': 1,\n",
       " 'headline': 'thirtysomething scientists unveil doomsday clock of hair loss',\n",
       " 'article_link': 'https://www.theonion.com/thirtysomething-scientists-unveil-doomsday-clock-of-hai-1819586205'}"
      ]
     },
     "execution_count": 9,
     "metadata": {},
     "output_type": "execute_result"
    }
   ],
   "source": [
    "data[0]"
   ]
  },
  {
   "cell_type": "code",
   "execution_count": 24,
   "id": "8ccd8daf-be3b-4ddd-8390-f161b12603b2",
   "metadata": {},
   "outputs": [],
   "source": [
    "\n",
    "\n",
    "def remove_html_tags(text):\n",
    "    return BeautifulSoup(text,\"html.parser\").get_text()\n",
    "\n",
    "def convert_unicode_data(text):\n",
    "    return unicodedata.normalize(\"NFKD\",text).encode(\"ascii\",\"ignore\").decode(\"utf-8\",\"ignore\")\n",
    "\n",
    "def remove_urls(text):\n",
    "    text =   re.sub('https?:\\S*', ' ', text)\n",
    "    text = re.sub('www?.\\S*', ' ', text)\n",
    "    return text \n",
    "\n",
    "def expand_contractions(text):\n",
    "    expanded_words  = []\n",
    "\n",
    "    for word in text :\n",
    "        expanded_words.append(contractions.fix(word))\n",
    "    return \"\".join(expanded_words)\n",
    "\n",
    "def remove_mentions(text):\n",
    "    text = re.sub(r'@\\S*', ' ', text)\n",
    "    text = re.sub(r'#\\S*', ' ', text)\n",
    "    return text\n",
    "\n",
    "def removing_special_chars(text):\n",
    "    pat = r'[^a-zA-z0-9.,!?/:;\\\"\\'\\s]'\n",
    "    return re.sub(pat,' ',text)\n",
    "\n",
    "def removing_numbers(text):\n",
    "    pattern = r'[^a-zA-z.,!?/:;\\\"\\'\\s]' \n",
    "    return re.sub(pattern,' ',text)\n",
    "\n",
    "def remove_punctuation(text):\n",
    "    return ''.join([c for c in text if c not in string.punctuation])\n",
    "\n",
    "\n",
    "\n",
    "def clean_text(text):\n",
    "    text = text.lower()\n",
    "    text = remove_html_tags(text)\n",
    "    text = convert_unicode_data(text)\n",
    "    text = remove_urls(text)\n",
    "    text = expand_contractions(text)\n",
    "    text = remove_mentions(text)\n",
    "    text = removing_numbers(text)\n",
    "    text = remove_punctuation(text)\n",
    "    text = \" \".join(w for w in text.split() if w not in STOPWORDS)\n",
    "    return text "
   ]
  },
  {
   "cell_type": "code",
   "execution_count": 25,
   "id": "e0d3a7c8-36bf-4b69-8af7-34a32251e8ec",
   "metadata": {},
   "outputs": [],
   "source": [
    "headlines = []\n",
    "labels = []\n",
    "for item in data :\n",
    "    headlines.append(clean_text(item[\"headline\"]))\n",
    "    labels.append(item[\"is_sarcastic\"])\n",
    "    "
   ]
  },
  {
   "cell_type": "code",
   "execution_count": 67,
   "id": "3f7da4b8-3685-4c9f-92e2-c0c71453e6d1",
   "metadata": {},
   "outputs": [],
   "source": [
    "train_size= 23000\n",
    "last_size=  28000\n",
    "training_data = headlines[0:train_size]\n",
    "testing_data = headlines[train_size:last_size]\n",
    "training_labels= np.array(labels[0:train_size])\n",
    "testing_labels = np.array(labels[train_size:last_size])"
   ]
  },
  {
   "cell_type": "code",
   "execution_count": 32,
   "id": "312ec3e5-dbd9-4a96-a29b-58f50ba9acbe",
   "metadata": {},
   "outputs": [
    {
     "data": {
      "text/plain": [
       "['thirtysomething scientists younveil doomsday clock hair loss',\n",
       " 'dem rep totally nails congress falling short gender racial eqyouality',\n",
       " 'eat yoyour veggies delicioyously different recipes',\n",
       " 'inclement weather prevents liar getting work',\n",
       " 'mother comes pretty close yousing word streaming correctly']"
      ]
     },
     "execution_count": 32,
     "metadata": {},
     "output_type": "execute_result"
    }
   ],
   "source": [
    "training_data[:5]"
   ]
  },
  {
   "cell_type": "code",
   "execution_count": 76,
   "id": "4b13e149-691b-4e15-91b8-bd072f4ee650",
   "metadata": {},
   "outputs": [],
   "source": [
    "num_words  = 20000 # vocab size also \n",
    "oov_token = \"<OOV>\"\n",
    "pad_type = \"post\"\n",
    "trunc_type=\"post\"\n",
    "embed_dim = 16\n"
   ]
  },
  {
   "cell_type": "code",
   "execution_count": 61,
   "id": "79cb0f9f-c3d7-4064-a1e9-db69c4ece1f7",
   "metadata": {},
   "outputs": [],
   "source": [
    "token = Tokenizer(num_words=num_words,oov_token=oov_token)\n",
    "token.fit_on_texts(training_data)"
   ]
  },
  {
   "cell_type": "code",
   "execution_count": 68,
   "id": "0bc1e59f-f23a-468d-a28d-c05525bdbc03",
   "metadata": {},
   "outputs": [],
   "source": [
    "train_data = token.texts_to_sequences(training_data)\n",
    "train_data = pad_sequences(train_data,padding=pad_type,truncating=trunc_type)\n",
    "train_data = np.array(train_data)"
   ]
  },
  {
   "cell_type": "code",
   "execution_count": 69,
   "id": "b8242ba2-30f3-4409-a1eb-1f5f92c31bcc",
   "metadata": {},
   "outputs": [],
   "source": [
    "test_data = token.texts_to_sequences(testing_data)\n",
    "test_data = pad_sequences(test_data,padding=pad_type,truncating=trunc_type)\n",
    "test_data = np.array(test_data )"
   ]
  },
  {
   "cell_type": "markdown",
   "id": "21941aac-796d-4ba2-85e4-dfeee67318da",
   "metadata": {},
   "source": [
    "**Model Building**"
   ]
  },
  {
   "cell_type": "code",
   "execution_count": 81,
   "id": "d1c8e72b-a498-414c-bcd5-4f2131b22d10",
   "metadata": {},
   "outputs": [],
   "source": [
    "\n",
    "model  = Sequential([\n",
    "    Embedding(num_words,embed_dim),\n",
    "    GlobalAveragePooling1D(),\n",
    "    Dense(32,activation=\"relu\"),\n",
    "    Dense(1,activation=\"sigmoid\")\n",
    "    \n",
    "])"
   ]
  },
  {
   "cell_type": "code",
   "execution_count": 82,
   "id": "061821e6-8aba-437b-b154-f64b9036c2f3",
   "metadata": {},
   "outputs": [],
   "source": [
    "model.compile(loss='binary_crossentropy',optimizer=\"adam\",metrics=[\"acc\"])"
   ]
  },
  {
   "cell_type": "code",
   "execution_count": 89,
   "id": "7ce75f1a-300f-4930-900b-972484477d9e",
   "metadata": {},
   "outputs": [
    {
     "data": {
      "text/html": [
       "<pre style=\"white-space:pre;overflow-x:auto;line-height:normal;font-family:Menlo,'DejaVu Sans Mono',consolas,'Courier New',monospace\"><span style=\"font-weight: bold\">Model: \"sequential_6\"</span>\n",
       "</pre>\n"
      ],
      "text/plain": [
       "\u001b[1mModel: \"sequential_6\"\u001b[0m\n"
      ]
     },
     "metadata": {},
     "output_type": "display_data"
    },
    {
     "data": {
      "text/html": [
       "<pre style=\"white-space:pre;overflow-x:auto;line-height:normal;font-family:Menlo,'DejaVu Sans Mono',consolas,'Courier New',monospace\">┏━━━━━━━━━━━━━━━━━━━━━━━━━━━━━━━━━━━━━━┳━━━━━━━━━━━━━━━━━━━━━━━━━━━━━┳━━━━━━━━━━━━━━━━━┓\n",
       "┃<span style=\"font-weight: bold\"> Layer (type)                         </span>┃<span style=\"font-weight: bold\"> Output Shape                </span>┃<span style=\"font-weight: bold\">         Param # </span>┃\n",
       "┡━━━━━━━━━━━━━━━━━━━━━━━━━━━━━━━━━━━━━━╇━━━━━━━━━━━━━━━━━━━━━━━━━━━━━╇━━━━━━━━━━━━━━━━━┩\n",
       "│ embedding_6 (<span style=\"color: #0087ff; text-decoration-color: #0087ff\">Embedding</span>)              │ (<span style=\"color: #00d7ff; text-decoration-color: #00d7ff\">None</span>, <span style=\"color: #00af00; text-decoration-color: #00af00\">110</span>, <span style=\"color: #00af00; text-decoration-color: #00af00\">16</span>)             │         <span style=\"color: #00af00; text-decoration-color: #00af00\">320,000</span> │\n",
       "├──────────────────────────────────────┼─────────────────────────────┼─────────────────┤\n",
       "│ global_average_pooling1d_6           │ (<span style=\"color: #00d7ff; text-decoration-color: #00d7ff\">None</span>, <span style=\"color: #00af00; text-decoration-color: #00af00\">16</span>)                  │               <span style=\"color: #00af00; text-decoration-color: #00af00\">0</span> │\n",
       "│ (<span style=\"color: #0087ff; text-decoration-color: #0087ff\">GlobalAveragePooling1D</span>)             │                             │                 │\n",
       "├──────────────────────────────────────┼─────────────────────────────┼─────────────────┤\n",
       "│ dense_12 (<span style=\"color: #0087ff; text-decoration-color: #0087ff\">Dense</span>)                     │ (<span style=\"color: #00d7ff; text-decoration-color: #00d7ff\">None</span>, <span style=\"color: #00af00; text-decoration-color: #00af00\">32</span>)                  │             <span style=\"color: #00af00; text-decoration-color: #00af00\">544</span> │\n",
       "├──────────────────────────────────────┼─────────────────────────────┼─────────────────┤\n",
       "│ dense_13 (<span style=\"color: #0087ff; text-decoration-color: #0087ff\">Dense</span>)                     │ (<span style=\"color: #00d7ff; text-decoration-color: #00d7ff\">None</span>, <span style=\"color: #00af00; text-decoration-color: #00af00\">1</span>)                   │              <span style=\"color: #00af00; text-decoration-color: #00af00\">33</span> │\n",
       "└──────────────────────────────────────┴─────────────────────────────┴─────────────────┘\n",
       "</pre>\n"
      ],
      "text/plain": [
       "┏━━━━━━━━━━━━━━━━━━━━━━━━━━━━━━━━━━━━━━┳━━━━━━━━━━━━━━━━━━━━━━━━━━━━━┳━━━━━━━━━━━━━━━━━┓\n",
       "┃\u001b[1m \u001b[0m\u001b[1mLayer (type)                        \u001b[0m\u001b[1m \u001b[0m┃\u001b[1m \u001b[0m\u001b[1mOutput Shape               \u001b[0m\u001b[1m \u001b[0m┃\u001b[1m \u001b[0m\u001b[1m        Param #\u001b[0m\u001b[1m \u001b[0m┃\n",
       "┡━━━━━━━━━━━━━━━━━━━━━━━━━━━━━━━━━━━━━━╇━━━━━━━━━━━━━━━━━━━━━━━━━━━━━╇━━━━━━━━━━━━━━━━━┩\n",
       "│ embedding_6 (\u001b[38;5;33mEmbedding\u001b[0m)              │ (\u001b[38;5;45mNone\u001b[0m, \u001b[38;5;34m110\u001b[0m, \u001b[38;5;34m16\u001b[0m)             │         \u001b[38;5;34m320,000\u001b[0m │\n",
       "├──────────────────────────────────────┼─────────────────────────────┼─────────────────┤\n",
       "│ global_average_pooling1d_6           │ (\u001b[38;5;45mNone\u001b[0m, \u001b[38;5;34m16\u001b[0m)                  │               \u001b[38;5;34m0\u001b[0m │\n",
       "│ (\u001b[38;5;33mGlobalAveragePooling1D\u001b[0m)             │                             │                 │\n",
       "├──────────────────────────────────────┼─────────────────────────────┼─────────────────┤\n",
       "│ dense_12 (\u001b[38;5;33mDense\u001b[0m)                     │ (\u001b[38;5;45mNone\u001b[0m, \u001b[38;5;34m32\u001b[0m)                  │             \u001b[38;5;34m544\u001b[0m │\n",
       "├──────────────────────────────────────┼─────────────────────────────┼─────────────────┤\n",
       "│ dense_13 (\u001b[38;5;33mDense\u001b[0m)                     │ (\u001b[38;5;45mNone\u001b[0m, \u001b[38;5;34m1\u001b[0m)                   │              \u001b[38;5;34m33\u001b[0m │\n",
       "└──────────────────────────────────────┴─────────────────────────────┴─────────────────┘\n"
      ]
     },
     "metadata": {},
     "output_type": "display_data"
    },
    {
     "data": {
      "text/html": [
       "<pre style=\"white-space:pre;overflow-x:auto;line-height:normal;font-family:Menlo,'DejaVu Sans Mono',consolas,'Courier New',monospace\"><span style=\"font-weight: bold\"> Total params: </span><span style=\"color: #00af00; text-decoration-color: #00af00\">961,733</span> (3.67 MB)\n",
       "</pre>\n"
      ],
      "text/plain": [
       "\u001b[1m Total params: \u001b[0m\u001b[38;5;34m961,733\u001b[0m (3.67 MB)\n"
      ]
     },
     "metadata": {},
     "output_type": "display_data"
    },
    {
     "data": {
      "text/html": [
       "<pre style=\"white-space:pre;overflow-x:auto;line-height:normal;font-family:Menlo,'DejaVu Sans Mono',consolas,'Courier New',monospace\"><span style=\"font-weight: bold\"> Trainable params: </span><span style=\"color: #00af00; text-decoration-color: #00af00\">320,577</span> (1.22 MB)\n",
       "</pre>\n"
      ],
      "text/plain": [
       "\u001b[1m Trainable params: \u001b[0m\u001b[38;5;34m320,577\u001b[0m (1.22 MB)\n"
      ]
     },
     "metadata": {},
     "output_type": "display_data"
    },
    {
     "data": {
      "text/html": [
       "<pre style=\"white-space:pre;overflow-x:auto;line-height:normal;font-family:Menlo,'DejaVu Sans Mono',consolas,'Courier New',monospace\"><span style=\"font-weight: bold\"> Non-trainable params: </span><span style=\"color: #00af00; text-decoration-color: #00af00\">0</span> (0.00 B)\n",
       "</pre>\n"
      ],
      "text/plain": [
       "\u001b[1m Non-trainable params: \u001b[0m\u001b[38;5;34m0\u001b[0m (0.00 B)\n"
      ]
     },
     "metadata": {},
     "output_type": "display_data"
    },
    {
     "data": {
      "text/html": [
       "<pre style=\"white-space:pre;overflow-x:auto;line-height:normal;font-family:Menlo,'DejaVu Sans Mono',consolas,'Courier New',monospace\"><span style=\"font-weight: bold\"> Optimizer params: </span><span style=\"color: #00af00; text-decoration-color: #00af00\">641,156</span> (2.45 MB)\n",
       "</pre>\n"
      ],
      "text/plain": [
       "\u001b[1m Optimizer params: \u001b[0m\u001b[38;5;34m641,156\u001b[0m (2.45 MB)\n"
      ]
     },
     "metadata": {},
     "output_type": "display_data"
    }
   ],
   "source": [
    "model.summary()"
   ]
  },
  {
   "cell_type": "code",
   "execution_count": 84,
   "id": "b4ea545a-721f-4a75-b1a8-86aaf03c7689",
   "metadata": {},
   "outputs": [
    {
     "name": "stdout",
     "output_type": "stream",
     "text": [
      "Epoch 1/10\n",
      "\u001b[1m719/719\u001b[0m \u001b[32m━━━━━━━━━━━━━━━━━━━━\u001b[0m\u001b[37m\u001b[0m \u001b[1m5s\u001b[0m 6ms/step - acc: 0.5284 - loss: 0.6915 - val_acc: 0.6252 - val_loss: 0.6821\n",
      "Epoch 2/10\n",
      "\u001b[1m719/719\u001b[0m \u001b[32m━━━━━━━━━━━━━━━━━━━━\u001b[0m\u001b[37m\u001b[0m \u001b[1m5s\u001b[0m 6ms/step - acc: 0.5507 - loss: 0.6865 - val_acc: 0.7092 - val_loss: 0.5683\n",
      "Epoch 3/10\n",
      "\u001b[1m719/719\u001b[0m \u001b[32m━━━━━━━━━━━━━━━━━━━━\u001b[0m\u001b[37m\u001b[0m \u001b[1m4s\u001b[0m 5ms/step - acc: 0.7146 - loss: 0.6025 - val_acc: 0.7580 - val_loss: 0.5525\n",
      "Epoch 4/10\n",
      "\u001b[1m719/719\u001b[0m \u001b[32m━━━━━━━━━━━━━━━━━━━━\u001b[0m\u001b[37m\u001b[0m \u001b[1m5s\u001b[0m 5ms/step - acc: 0.7888 - loss: 0.4687 - val_acc: 0.7672 - val_loss: 0.6890\n",
      "Epoch 5/10\n",
      "\u001b[1m719/719\u001b[0m \u001b[32m━━━━━━━━━━━━━━━━━━━━\u001b[0m\u001b[37m\u001b[0m \u001b[1m4s\u001b[0m 5ms/step - acc: 0.8302 - loss: 0.3931 - val_acc: 0.7748 - val_loss: 0.7744\n",
      "Epoch 6/10\n",
      "\u001b[1m719/719\u001b[0m \u001b[32m━━━━━━━━━━━━━━━━━━━━\u001b[0m\u001b[37m\u001b[0m \u001b[1m4s\u001b[0m 6ms/step - acc: 0.8588 - loss: 0.3405 - val_acc: 0.7860 - val_loss: 0.8197\n",
      "Epoch 7/10\n",
      "\u001b[1m719/719\u001b[0m \u001b[32m━━━━━━━━━━━━━━━━━━━━\u001b[0m\u001b[37m\u001b[0m \u001b[1m4s\u001b[0m 6ms/step - acc: 0.8783 - loss: 0.3032 - val_acc: 0.7888 - val_loss: 0.8939\n",
      "Epoch 8/10\n",
      "\u001b[1m719/719\u001b[0m \u001b[32m━━━━━━━━━━━━━━━━━━━━\u001b[0m\u001b[37m\u001b[0m \u001b[1m4s\u001b[0m 6ms/step - acc: 0.8833 - loss: 0.2824 - val_acc: 0.7918 - val_loss: 0.9386\n",
      "Epoch 9/10\n",
      "\u001b[1m719/719\u001b[0m \u001b[32m━━━━━━━━━━━━━━━━━━━━\u001b[0m\u001b[37m\u001b[0m \u001b[1m5s\u001b[0m 6ms/step - acc: 0.8885 - loss: 0.2735 - val_acc: 0.7918 - val_loss: 1.0042\n",
      "Epoch 10/10\n",
      "\u001b[1m719/719\u001b[0m \u001b[32m━━━━━━━━━━━━━━━━━━━━\u001b[0m\u001b[37m\u001b[0m \u001b[1m4s\u001b[0m 6ms/step - acc: 0.9018 - loss: 0.2432 - val_acc: 0.7954 - val_loss: 1.0011\n"
     ]
    }
   ],
   "source": [
    "history =  model.fit(train_data,training_labels,validation_data=(test_data,testing_labels),epochs=10)"
   ]
  },
  {
   "cell_type": "code",
   "execution_count": 85,
   "id": "9b5ad245-1a5f-4c8a-b204-9b1fb635437a",
   "metadata": {},
   "outputs": [
    {
     "name": "stdout",
     "output_type": "stream",
     "text": [
      "\u001b[1m157/157\u001b[0m \u001b[32m━━━━━━━━━━━━━━━━━━━━\u001b[0m\u001b[37m\u001b[0m \u001b[1m0s\u001b[0m 2ms/step - acc: 0.7953 - loss: 0.9974\n"
     ]
    },
    {
     "data": {
      "text/plain": [
       "0.7954000234603882"
      ]
     },
     "execution_count": 85,
     "metadata": {},
     "output_type": "execute_result"
    }
   ],
   "source": [
    "loss,acc = model.evaluate(test_data,testing_labels)\n",
    "acc"
   ]
  },
  {
   "cell_type": "code",
   "execution_count": 87,
   "id": "f7a96073-8c02-48fc-8e61-4396426251ac",
   "metadata": {},
   "outputs": [
    {
     "data": {
      "text/plain": [
       "<matplotlib.legend.Legend at 0x1dcc7a652d0>"
      ]
     },
     "execution_count": 87,
     "metadata": {},
     "output_type": "execute_result"
    },
    {
     "data": {
      "image/png": "[encoded data removed]",
      "text/plain": [
       "<Figure size 640x480 with 1 Axes>"
      ]
     },
     "metadata": {},
     "output_type": "display_data"
    }
   ],
   "source": [
    "## Accuracy\n",
    "plt.style.use(\"ggplot\")\n",
    "plt.plot(history.history['acc'])\n",
    "plt.plot(history.history['val_acc'])\n",
    "plt.legend([\"train\",\"val\"],loc='upper left')"
   ]
  },
  {
   "cell_type": "code",
   "execution_count": 88,
   "id": "e91b8e96-d569-44ca-b0a7-12836fa4c387",
   "metadata": {},
   "outputs": [
    {
     "data": {
      "text/plain": [
       "<matplotlib.legend.Legend at 0x1dcc7af44f0>"
      ]
     },
     "execution_count": 88,
     "metadata": {},
     "output_type": "execute_result"
    },
    {
     "data": {
      "image/png": "[encoded data removed]",
      "text/plain": [
       "<Figure size 640x480 with 1 Axes>"
      ]
     },
     "metadata": {},
     "output_type": "display_data"
    }
   ],
   "source": [
    "## Loss\n",
    "plt.plot(history.history['loss'])\n",
    "plt.plot(history.history['val_loss'])\n",
    "plt.legend([\"train\", \"val\"],loc='upper left')"
   ]
  },
  {
   "cell_type": "markdown",
   "id": "09cb37a1-ea90-4cc2-aa27-75db454acee8",
   "metadata": {},
   "source": [
    "**Making Predictions**"
   ]
  },
  {
   "cell_type": "code",
   "execution_count": 93,
   "id": "055d9f17-1b2d-481e-8e82-f5c3b17b6394",
   "metadata": {},
   "outputs": [],
   "source": [
    "sentences = [\"granny starting to fear spiders in the garden might be real\",\n",
    " \"game of thrones season finale showing this sunday night\",\n",
    " \"TensorFlow book will be a best seller\"]\n"
   ]
  },
  {
   "cell_type": "code",
   "execution_count": 94,
   "id": "9934788e-81ce-4eef-a041-1291c00eb99a",
   "metadata": {},
   "outputs": [],
   "source": [
    "def make_predictions(sents):\n",
    "    sents = token.texts_to_sequences(sents)\n",
    "    sents = pad_sequences(sents)\n",
    "    return model.predict(sents)"
   ]
  },
  {
   "cell_type": "code",
   "execution_count": 95,
   "id": "baf5ce54-ca32-4633-973a-640de449ff2e",
   "metadata": {},
   "outputs": [
    {
     "name": "stdout",
     "output_type": "stream",
     "text": [
      "\u001b[1m1/1\u001b[0m \u001b[32m━━━━━━━━━━━━━━━━━━━━\u001b[0m\u001b[37m\u001b[0m \u001b[1m0s\u001b[0m 137ms/step\n"
     ]
    },
    {
     "data": {
      "text/plain": [
       "array([[0.99999994],\n",
       "       [1.        ],\n",
       "       [0.01105639]], dtype=float32)"
      ]
     },
     "execution_count": 95,
     "metadata": {},
     "output_type": "execute_result"
    }
   ],
   "source": [
    "make_predictions(sentences)"
   ]
  },
  {
   "cell_type": "markdown",
   "id": "aaab3f03-7cd7-4676-b40f-7908a82775ce",
   "metadata": {},
   "source": [
    "**towards 1 means its sarcastic**"
   ]
  },
  {
   "cell_type": "code",
   "execution_count": null,
   "id": "e01931f6-f618-4444-a044-e7a39a2c6b40",
   "metadata": {},
   "outputs": [],
   "source": []
  }
 ],
 "metadata": {
  "kernelspec": {
   "display_name": "Python 3 (ipykernel)",
   "language": "python",
   "name": "python3"
  },
  "language_info": {
   "codemirror_mode": {
    "name": "ipython",
    "version": 3
   },
   "file_extension": ".py",
   "mimetype": "text/x-python",
   "name": "python",
   "nbconvert_exporter": "python",
   "pygments_lexer": "ipython3",
   "version": "3.10.0"
  }
 },
 "nbformat": 4,
 "nbformat_minor": 5
}
