{
 "cells": [
  {
   "cell_type": "code",
   "execution_count": 540,
   "id": "0d4d6f01",
   "metadata": {},
   "outputs": [],
   "source": [
    "import numpy as np \n",
    "from sklearn.linear_model  import LinearRegression\n",
    "from sklearn.metrics import r2_score\n",
    "from sklearn.model_selection import train_test_split\n",
    "from sklearn.datasets import load_diabetes,make_regression\n",
    "import matplotlib.pyplot as plt "
   ]
  },
  {
   "cell_type": "markdown",
   "id": "4ed1feaa",
   "metadata": {},
   "source": [
    "## CONTENTS\n",
    "-  Batch GD from scratch \n",
    "- Sklearn Model ( for evaluation)"
   ]
  },
  {
   "cell_type": "code",
   "execution_count": null,
   "id": "2d476ef7",
   "metadata": {},
   "outputs": [],
   "source": [
    "\n",
    "\n",
    "def load_dataset(data=\"multiple\"):\n",
    "    if data == \"multiple\":\n",
    "        x,y = load_diabetes(return_X_y=True)\n",
    "    if data == \"single\":\n",
    "        x,y = x,y = make_regression(n_features=1,n_samples=100,n_targets=1,n_informative=1,noise=20,random_state=13)\n",
    "    x_train,x_test,y_train,y_test =  train_test_split(x,y,test_size=0.2)\n",
    "    print(x_train.shape,y_train.shape)\n",
    "    return (x_train,x_test,y_train,y_test )\n",
    "\n",
    "\n",
    "    "
   ]
  },
  {
   "cell_type": "markdown",
   "id": "c5beff89",
   "metadata": {},
   "source": [
    "#### Batch GD from scratch "
   ]
  },
  {
   "cell_type": "code",
   "execution_count": 542,
   "id": "f8bb8f3c",
   "metadata": {},
   "outputs": [],
   "source": [
    "class BatchGD:\n",
    "    def __init__(self,x,y,epochs,lr=0.001):\n",
    "        self.x =  x\n",
    "        self.y =  y\n",
    "        self.epochs =  epochs\n",
    "        self.lr =  lr \n",
    "        self.m  =  np.ones(x.shape[1])\n",
    "        self.b = 0\n",
    "    \n",
    "    def fit(self):\n",
    "        \n",
    "        \n",
    "        \n",
    "        for i in range(self.epochs):\n",
    "            \n",
    "            y_diff = self.y - (np.dot(self.x,self.m) + self.b  )\n",
    "                \n",
    "            \n",
    "            b_slope =  -2 * np.sum(y_diff)  / self.x.shape[0]\n",
    "            self.b -= b_slope * self.lr\n",
    "            \n",
    "            \n",
    "            m_slope =  -2 * np.dot(y_diff, self.x) / self.x.shape[0]\n",
    "            self.m -= m_slope * self.lr\n",
    "            \n",
    "        print(\"Coef : \",self.m)\n",
    "        print(\"Bias : \",self.b)\n",
    "            \n",
    "            \n",
    "    def predict(self,x_test):\n",
    "        return np.dot(x_test,self.m) +  self.b "
   ]
  },
  {
   "cell_type": "code",
   "execution_count": 543,
   "id": "bd618fd2",
   "metadata": {},
   "outputs": [
    {
     "name": "stdout",
     "output_type": "stream",
     "text": [
      "(353, 10) (353,)\n"
     ]
    }
   ],
   "source": [
    "(x_train,x_test,y_train,y_test ) =  load_dataset(\"multiple\")"
   ]
  },
  {
   "cell_type": "code",
   "execution_count": 544,
   "id": "ad4a23e6",
   "metadata": {},
   "outputs": [
    {
     "name": "stdout",
     "output_type": "stream",
     "text": [
      "Coef :  [ -18.92889614 -195.10930068  454.27555471  281.67908838  -19.81677674\n",
      " -130.21401467 -198.51630048  148.22001709  454.22799778  142.79545989]\n",
      "Bias :  151.22209642057675\n",
      "R2 Score :  0.543559595376127\n"
     ]
    }
   ],
   "source": [
    "model =  BatchGD(x_train,y_train,epochs=9000,lr=0.05)\n",
    "model.fit()\n",
    "\n",
    "y_pred =  model.predict(x_test)\n",
    "r2 = r2_score(y_test,y_pred)\n",
    "print(\"R2 Score : \",r2)"
   ]
  },
  {
   "cell_type": "markdown",
   "id": "1a6cf0ee",
   "metadata": {},
   "source": [
    "#### Sklearn Model"
   ]
  },
  {
   "cell_type": "code",
   "execution_count": 545,
   "id": "fb6d4813",
   "metadata": {},
   "outputs": [
    {
     "name": "stdout",
     "output_type": "stream",
     "text": [
      "Coef :  [ -35.50037877 -252.66023476  496.18742151  308.11981012 -237.81729996\n",
      "  -14.03168194  -88.68015966  192.10327339  622.8927202    84.82113158]\n",
      "Bias :  151.09185110743894\n",
      "R2 Score :  0.5360651993949905\n"
     ]
    }
   ],
   "source": [
    "model2 =  LinearRegression()\n",
    "model2.fit(x_train,y_train)\n",
    "print(\"Coef : \",model2.coef_)\n",
    "print(\"Bias : \",model2.intercept_)\n",
    "\n",
    "y_pred_ = model2.predict(x_test)\n",
    "r2 = r2_score(y_test,y_pred_)\n",
    "print(\"R2 Score : \",r2)"
   ]
  }
 ],
 "metadata": {
  "kernelspec": {
   "display_name": "Python 3",
   "language": "python",
   "name": "python3"
  },
  "language_info": {
   "codemirror_mode": {
    "name": "ipython",
    "version": 3
   },
   "file_extension": ".py",
   "mimetype": "text/x-python",
   "name": "python",
   "nbconvert_exporter": "python",
   "pygments_lexer": "ipython3",
   "version": "3.11.9"
  }
 },
 "nbformat": 4,
 "nbformat_minor": 5
}
