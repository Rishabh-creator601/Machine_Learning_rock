{
 "cells": [
  {
   "cell_type": "code",
   "execution_count": 9,
   "id": "049cbccc",
   "metadata": {},
   "outputs": [],
   "source": [
    "import pandas as pd\n",
    "import numpy as np\n",
    "import matplotlib.pyplot  as plt\n",
    "import seaborn as sns \n",
    "from sklearn.tree import DecisionTreeClassifier\n",
    "from sklearn.ensemble import RandomForestClassifier\n",
    "from sklearn.datasets import fetch_california_housing,load_iris\n",
    "from sklearn.model_selection import train_test_split,RandomizedSearchCV\n",
    "from seedtools import load_seed"
   ]
  },
  {
   "cell_type": "markdown",
   "id": "e2145f7a",
   "metadata": {},
   "source": [
    "## CONTENTS \n",
    "- OOB SCORE \n",
    "- Feature importance viz \n",
    "- Feature importance averaging \n",
    "- RandomizedSearchCV"
   ]
  },
  {
   "cell_type": "code",
   "execution_count": 2,
   "id": "02d128f9",
   "metadata": {},
   "outputs": [
    {
     "name": "stderr",
     "output_type": "stream",
     "text": [
      "C:\\Users\\RISHABH\\AppData\\Roaming\\Python\\Python311\\site-packages\\seedtools\\seed_file.py:191: UserWarning: SEED FILE IS NOT CONFIGURED YET , CONFIGURE IT USING `register` and `register_version`\n",
      "  warnings.warn(\"SEED FILE IS NOT CONFIGURED YET , CONFIGURE IT USING `register` and `register_version`\")\n"
     ]
    }
   ],
   "source": [
    "data =  load_seed(\"heart.csv\").data\n",
    "x =  data.drop(columns=[\"target\"]).values\n",
    "y =  data[\"target\"].values \n",
    "x_train,x_test,y_train,y_test =  train_test_split(x,y,test_size=0.2)"
   ]
  },
  {
   "cell_type": "markdown",
   "id": "5d3a3e6c",
   "metadata": {},
   "source": [
    "### OOB SCORE\n",
    "(OOB =  out of bag)"
   ]
  },
  {
   "cell_type": "code",
   "execution_count": 3,
   "id": "b8b81ddd",
   "metadata": {},
   "outputs": [
    {
     "name": "stdout",
     "output_type": "stream",
     "text": [
      "SCORE : 0.9560975609756097\n",
      "OOB SCORE: 0.7609756097560976\n"
     ]
    },
    {
     "name": "stderr",
     "output_type": "stream",
     "text": [
      "C:\\Users\\RISHABH\\AppData\\Roaming\\Python\\Python311\\site-packages\\sklearn\\ensemble\\_forest.py:611: UserWarning: Some inputs do not have OOB scores. This probably means too few trees were used to compute any reliable OOB estimates.\n",
      "  warn(\n"
     ]
    }
   ],
   "source": [
    "rf1 =  RandomForestClassifier(oob_score=True,n_estimators=2)\n",
    "rf1.fit(x_train,y_train)\n",
    "\n",
    "score = rf1.score(x_test,y_test)\n",
    "oob_score = rf1.oob_score_\n",
    "\n",
    "print(\"SCORE :\",score)\n",
    "print(\"OOB SCORE:\",oob_score)"
   ]
  },
  {
   "cell_type": "markdown",
   "id": "37d776c1",
   "metadata": {},
   "source": [
    "### feature imp viz"
   ]
  },
  {
   "cell_type": "code",
   "execution_count": 4,
   "id": "631ebf37",
   "metadata": {},
   "outputs": [
    {
     "name": "stdout",
     "output_type": "stream",
     "text": [
      "Feature importance shape : (13,)\n"
     ]
    },
    {
     "data": {
      "text/plain": [
       "array([0.09036339, 0.02956301, 0.24792141, 0.10527909, 0.08969101,\n",
       "       0.01040488, 0.01147999, 0.10741213, 0.02638972, 0.17003451,\n",
       "       0.01101222, 0.06627499, 0.03417365])"
      ]
     },
     "execution_count": 4,
     "metadata": {},
     "output_type": "execute_result"
    }
   ],
   "source": [
    "print(\"Feature importance shape :\", rf1.feature_importances_.shape)\n",
    "rf1.feature_importances_"
   ]
  },
  {
   "cell_type": "code",
   "execution_count": 5,
   "id": "629046a7",
   "metadata": {},
   "outputs": [
    {
     "data": {
      "text/plain": [
       "Text(0.5, 1.0, 'feature importance ')"
      ]
     },
     "execution_count": 5,
     "metadata": {},
     "output_type": "execute_result"
    },
    {
     "data": {
      "image/png": "[encoded data removed]",
      "text/plain": [
       "<Figure size 640x480 with 2 Axes>"
      ]
     },
     "metadata": {},
     "output_type": "display_data"
    }
   ],
   "source": [
    "sns.heatmap(rf1.feature_importances_.reshape(13,1))\n",
    "plt.title(\"feature importance \")"
   ]
  },
  {
   "cell_type": "markdown",
   "id": "9d441962",
   "metadata": {},
   "source": [
    "## feature importance averging \n",
    "(how rf average out the dt feature importance)"
   ]
  },
  {
   "cell_type": "code",
   "execution_count": 6,
   "id": "131ada07",
   "metadata": {},
   "outputs": [
    {
     "data": {
      "text/plain": [
       "array([0.08705952, 0.04036181, 0.30995578, 0.06511178, 0.07374467,\n",
       "       0.        , 0.        , 0.05932313, 0.02704143, 0.11093641,\n",
       "       0.01609664, 0.10557067, 0.10479816])"
      ]
     },
     "execution_count": 6,
     "metadata": {},
     "output_type": "execute_result"
    }
   ],
   "source": [
    "dt =  DecisionTreeClassifier()\n",
    "dt.fit(x_train,y_train)\n",
    "dt.feature_importances_"
   ]
  },
  {
   "cell_type": "code",
   "execution_count": 7,
   "id": "3cc2695a",
   "metadata": {},
   "outputs": [
    {
     "name": "stdout",
     "output_type": "stream",
     "text": [
      "Feature importance of first tree :\n",
      " [0.10847986 0.02169202 0.13222135 0.08935194 0.11495638 0.00406853\n",
      " 0.0053329  0.17753612 0.00726522 0.24795018 0.01778335 0.05862791\n",
      " 0.01473424]\n",
      "Feature importance of second tree :\n",
      " [0.07224691 0.03743399 0.36362147 0.12120624 0.06442563 0.01674123\n",
      " 0.01762709 0.03728813 0.04551422 0.09211884 0.00424109 0.07392207\n",
      " 0.05361307]\n"
     ]
    }
   ],
   "source": [
    "print(\"Feature importance of first tree :\\n\",rf1.estimators_[0].feature_importances_)\n",
    "print(\"Feature importance of second tree :\\n\",rf1.estimators_[1].feature_importances_)"
   ]
  },
  {
   "cell_type": "code",
   "execution_count": null,
   "id": "679231cf",
   "metadata": {},
   "outputs": [
    {
     "data": {
      "text/plain": [
       "0.0903633889775762"
      ]
     },
     "execution_count": 8,
     "metadata": {},
     "output_type": "execute_result"
    }
   ],
   "source": [
    "# average first value of first tree and first value of second tree\n",
    "# 2 => no of tress {n_estimators}  if trees=3 then divide by 3 not 2 \n",
    "(rf1.estimators_[0].feature_importances_[0] + rf1.estimators_[1].feature_importances_[0]) /2"
   ]
  },
  {
   "cell_type": "markdown",
   "id": "7c95167f",
   "metadata": {},
   "source": [
    "## Randomized SearchCV\n",
    "(not better results than gridsearch but fast results and more complex feature selection)"
   ]
  },
  {
   "cell_type": "code",
   "execution_count": 14,
   "id": "a6dd1502",
   "metadata": {},
   "outputs": [],
   "source": [
    "model =  RandomForestClassifier()\n",
    "\n",
    "\n",
    "param_dict = {\n",
    "    'n_estimators': [10, 50, 100, 200, 300],\n",
    "    'max_depth': [None, 5, 10, 15, 20],\n",
    "    'min_samples_split': [2, 5, 10],\n",
    "    'min_samples_leaf': [1, 2, 4],\n",
    "    'max_features': ['sqrt', 'log2', None],\n",
    "    'bootstrap': [True, False]\n",
    "}"
   ]
  },
  {
   "cell_type": "code",
   "execution_count": 20,
   "id": "5dfc74ea",
   "metadata": {},
   "outputs": [
    {
     "name": "stdout",
     "output_type": "stream",
     "text": [
      "Best Parameters:\n",
      " {'n_estimators': 50, 'min_samples_split': 5, 'min_samples_leaf': 1, 'max_features': 'sqrt', 'max_depth': 20, 'bootstrap': False}\n",
      "Test Accuracy: 0.9853658536585366\n"
     ]
    }
   ],
   "source": [
    "\n",
    "random_search = RandomizedSearchCV(\n",
    "    estimator=model,\n",
    "    param_distributions=param_dict,\n",
    "    n_iter=20,\n",
    "    cv=5, \n",
    "    random_state=42,\n",
    ")\n",
    "random_search.fit(x_train, y_train)\n",
    "\n",
    "print(\"Best Parameters:\\n\", random_search.best_params_)\n",
    "print(\"Test Accuracy:\", random_search.best_estimator_.score(x_test, y_test))"
   ]
  }
 ],
 "metadata": {
  "kernelspec": {
   "display_name": "Python 3",
   "language": "python",
   "name": "python3"
  },
  "language_info": {
   "codemirror_mode": {
    "name": "ipython",
    "version": 3
   },
   "file_extension": ".py",
   "mimetype": "text/x-python",
   "name": "python",
   "nbconvert_exporter": "python",
   "pygments_lexer": "ipython3",
   "version": "3.11.9"
  }
 },
 "nbformat": 4,
 "nbformat_minor": 5
}
