{
 "cells": [
  {
   "cell_type": "code",
   "execution_count": 19,
   "id": "4658341c",
   "metadata": {},
   "outputs": [],
   "source": [
    "import numpy as np \n",
    "import matplotlib.pyplot as plt\n",
    "import pandas as pd\n",
    "from sklearn.linear_model import LogisticRegression,LinearRegression\n",
    "from sklearn.neighbors import KNeighborsClassifier\n",
    "from sklearn.ensemble import RandomForestClassifier,VotingClassifier,VotingRegressor,RandomForestRegressor,BaggingClassifier,BaggingRegressor\n",
    "from sklearn.tree import DecisionTreeClassifier,DecisionTreeRegressor\n",
    "from xgboost import XGBRegressor,XGBRFRegressor\n",
    "from sklearn.model_selection import train_test_split\n",
    "from sklearn.svm import SVC,SVR\n",
    "from sklearn.metrics import r2_score,mean_squared_error\n",
    "from sklearn.preprocessing import StandardScaler\n",
    "from seedtools import load_seed,dropper,mapper_auto"
   ]
  },
  {
   "cell_type": "markdown",
   "id": "1f780cbf",
   "metadata": {},
   "source": [
    "## CONTENTS \n",
    "-  BaggingClassifier (+variations)\n",
    "- BaggingRegressor "
   ]
  },
  {
   "cell_type": "markdown",
   "id": "4717b8ca",
   "metadata": {},
   "source": [
    "\n",
    "### About Hyperparamteres \n",
    "`boostrap = True` =>  row duplication <br /> \n",
    "<br />\n",
    "`boostrap_features  = True` => feature duplication <br />\n",
    "`max_samples :`\n",
    "-  if float value => 1.0/0.25 use 100% rows , 0.25 rows \n",
    "-  if int value =>  700 , 400 use exactly 700 rows , 400 rows \n",
    "\n",
    "`max_features :`  or you can say ***columns***\n",
    "-  if float value => 1.0/0.25 use 100% features , 0.25 features \n",
    "-  if int value =>  700 , 400 use exactly 700 features , 400 features \n",
    "- if  str like \"log2\" =>  log_2(n_features) | \"sqrt\" =>  sqrt(n_features)\n",
    "\n",
    "### Bagging Tips\n",
    "- Bagging generally gives better results than Pasting\n",
    "- Good results come around the 25% to 50% row sampling mark\n",
    "- Random patches and subspaces should be used while dealing with high dimensional data\n",
    "- To find the correct hyperparameter values we can do GridSearchCV/RandomSearchCV\n"
   ]
  },
  {
   "cell_type": "markdown",
   "id": "1c857ddf",
   "metadata": {},
   "source": [
    "## BaggingClassifer "
   ]
  },
  {
   "cell_type": "code",
   "execution_count": 20,
   "id": "9a36ee4a",
   "metadata": {},
   "outputs": [
    {
     "name": "stdout",
     "output_type": "stream",
     "text": [
      "X train shape : (320, 3)\n"
     ]
    },
    {
     "data": {
      "text/html": [
       "<div>\n",
       "<style scoped>\n",
       "    .dataframe tbody tr th:only-of-type {\n",
       "        vertical-align: middle;\n",
       "    }\n",
       "\n",
       "    .dataframe tbody tr th {\n",
       "        vertical-align: top;\n",
       "    }\n",
       "\n",
       "    .dataframe thead th {\n",
       "        text-align: right;\n",
       "    }\n",
       "</style>\n",
       "<table border=\"1\" class=\"dataframe\">\n",
       "  <thead>\n",
       "    <tr style=\"text-align: right;\">\n",
       "      <th></th>\n",
       "      <th>Gender</th>\n",
       "      <th>Age</th>\n",
       "      <th>EstimatedSalary</th>\n",
       "      <th>Purchased</th>\n",
       "    </tr>\n",
       "  </thead>\n",
       "  <tbody>\n",
       "    <tr>\n",
       "      <th>0</th>\n",
       "      <td>0</td>\n",
       "      <td>-1.781797</td>\n",
       "      <td>-1.490046</td>\n",
       "      <td>0</td>\n",
       "    </tr>\n",
       "    <tr>\n",
       "      <th>1</th>\n",
       "      <td>0</td>\n",
       "      <td>-0.253587</td>\n",
       "      <td>-1.460681</td>\n",
       "      <td>0</td>\n",
       "    </tr>\n",
       "    <tr>\n",
       "      <th>2</th>\n",
       "      <td>1</td>\n",
       "      <td>-1.113206</td>\n",
       "      <td>-0.785290</td>\n",
       "      <td>0</td>\n",
       "    </tr>\n",
       "  </tbody>\n",
       "</table>\n",
       "</div>"
      ],
      "text/plain": [
       "   Gender       Age  EstimatedSalary  Purchased\n",
       "0       0 -1.781797        -1.490046          0\n",
       "1       0 -0.253587        -1.460681          0\n",
       "2       1 -1.113206        -0.785290          0"
      ]
     },
     "execution_count": 20,
     "metadata": {},
     "output_type": "execute_result"
    }
   ],
   "source": [
    "df = load_seed(\"Social_Network_Ads.csv\",\"v3\",True).data\n",
    "\n",
    "ss =  StandardScaler()\n",
    "cols = [\"Age\",\"EstimatedSalary\"]\n",
    "\n",
    "for col  in cols:\n",
    "    df[col]  = ss.fit_transform(df[col].values.reshape(-1,1))\n",
    "    \n",
    "x = df.drop(columns=[\"Purchased\"]).values\n",
    "y =  df[\"Purchased\"].values\n",
    "\n",
    "x_train,x_test,y_train,y_test =  train_test_split(x,y,test_size=0.2)\n",
    "print(\"X train shape :\",x_train.shape)\n",
    "df.head(3)"
   ]
  },
  {
   "cell_type": "markdown",
   "id": "c10b1a98",
   "metadata": {},
   "source": [
    "**Variation 1 : {bootstrap=True}**"
   ]
  },
  {
   "cell_type": "code",
   "execution_count": 21,
   "id": "a73ac8cf",
   "metadata": {},
   "outputs": [
    {
     "name": "stdout",
     "output_type": "stream",
     "text": [
      "Score : 0.925\n",
      "OOB Score : 0.903125\n"
     ]
    }
   ],
   "source": [
    "\n",
    "bagging_C =  BaggingClassifier(\n",
    "    estimator=DecisionTreeClassifier(),\n",
    "    n_estimators=500,\n",
    "    max_samples=0.5, # 100% rows\n",
    "    bootstrap=True, # row duplication,\n",
    "    oob_score=True,\n",
    "    max_features=1.0, # 100% columns \n",
    "    random_state=42\n",
    "    \n",
    ")\n",
    "bagging_C.fit(x_train,y_train)\n",
    "print(\"Score :\",bagging_C.score(x_test,y_test))\n",
    "print(\"OOB Score :\",bagging_C.oob_score_) # we dont use r2 score for classification tasks "
   ]
  },
  {
   "cell_type": "markdown",
   "id": "4843752a",
   "metadata": {},
   "source": [
    "**Variation 2 : {bootstrap=False}**"
   ]
  },
  {
   "cell_type": "code",
   "execution_count": 22,
   "id": "03a28497",
   "metadata": {},
   "outputs": [
    {
     "name": "stdout",
     "output_type": "stream",
     "text": [
      "Score : 0.9125\n"
     ]
    }
   ],
   "source": [
    "bagging2 =  BaggingClassifier(\n",
    "    estimator=DecisionTreeClassifier(),\n",
    "    n_estimators=500,\n",
    "    max_samples=0.5, # 50% samples\n",
    "    bootstrap=False, # No row duplication \n",
    "    random_state=42\n",
    "    \n",
    ")\n",
    "bagging2.fit(x_train,y_train)\n",
    "\n",
    "print(\"Score :\",bagging2.score(x_test,y_test))\n"
   ]
  },
  {
   "cell_type": "markdown",
   "id": "f3ee8d02",
   "metadata": {},
   "source": [
    "## BaggingRegressor"
   ]
  },
  {
   "cell_type": "code",
   "execution_count": 23,
   "id": "3a465ab8",
   "metadata": {},
   "outputs": [],
   "source": [
    "def score_model(model,model_name,given=False):\n",
    "    if \"model_\" in (locals() or globals()):\n",
    "        del model_\n",
    "        \n",
    "    \n",
    "    model_ =  model() if given ==False else model \n",
    "    print(f\"{model_name} :\")\n",
    "    model_.fit(x_train,y_train)\n",
    "    score = model_.score(x_test,y_test)\n",
    "    pred =  model_.predict(x_test)\n",
    "    \n",
    "    r2  = r2_score(y_test,pred)\n",
    "    mse =  mean_squared_error(y_test,pred)\n",
    "    \n",
    "    print(f\"|| Score : {score}\")\n",
    "    print(f\"|| R2 Score : {r2}\")\n",
    "    print(f\"|| MSE : {mse}\")\n",
    "    "
   ]
  },
  {
   "cell_type": "code",
   "execution_count": 24,
   "id": "399d6f70",
   "metadata": {},
   "outputs": [
    {
     "name": "stdout",
     "output_type": "stream",
     "text": [
      "X train shape : (7200, 10)\n"
     ]
    },
    {
     "data": {
      "text/html": [
       "<div>\n",
       "<style scoped>\n",
       "    .dataframe tbody tr th:only-of-type {\n",
       "        vertical-align: middle;\n",
       "    }\n",
       "\n",
       "    .dataframe tbody tr th {\n",
       "        vertical-align: top;\n",
       "    }\n",
       "\n",
       "    .dataframe thead th {\n",
       "        text-align: right;\n",
       "    }\n",
       "</style>\n",
       "<table border=\"1\" class=\"dataframe\">\n",
       "  <thead>\n",
       "    <tr style=\"text-align: right;\">\n",
       "      <th></th>\n",
       "      <th>transmission</th>\n",
       "      <th>odometer_value</th>\n",
       "      <th>engine_fuel</th>\n",
       "      <th>engine_has_gas</th>\n",
       "      <th>engine_type</th>\n",
       "      <th>engine_capacity</th>\n",
       "      <th>has_warranty</th>\n",
       "      <th>state</th>\n",
       "      <th>drivetrain</th>\n",
       "      <th>price_usd</th>\n",
       "      <th>is_exchangeable</th>\n",
       "    </tr>\n",
       "  </thead>\n",
       "  <tbody>\n",
       "    <tr>\n",
       "      <th>0</th>\n",
       "      <td>0</td>\n",
       "      <td>-0.375676</td>\n",
       "      <td>0</td>\n",
       "      <td>0</td>\n",
       "      <td>0</td>\n",
       "      <td>0.965421</td>\n",
       "      <td>0</td>\n",
       "      <td>0</td>\n",
       "      <td>0</td>\n",
       "      <td>10900.0</td>\n",
       "      <td>0</td>\n",
       "    </tr>\n",
       "    <tr>\n",
       "      <th>1</th>\n",
       "      <td>0</td>\n",
       "      <td>0.381466</td>\n",
       "      <td>0</td>\n",
       "      <td>0</td>\n",
       "      <td>0</td>\n",
       "      <td>1.826107</td>\n",
       "      <td>0</td>\n",
       "      <td>0</td>\n",
       "      <td>0</td>\n",
       "      <td>5000.0</td>\n",
       "      <td>1</td>\n",
       "    </tr>\n",
       "    <tr>\n",
       "      <th>2</th>\n",
       "      <td>0</td>\n",
       "      <td>1.229466</td>\n",
       "      <td>0</td>\n",
       "      <td>0</td>\n",
       "      <td>0</td>\n",
       "      <td>0.965421</td>\n",
       "      <td>0</td>\n",
       "      <td>0</td>\n",
       "      <td>0</td>\n",
       "      <td>2800.0</td>\n",
       "      <td>1</td>\n",
       "    </tr>\n",
       "  </tbody>\n",
       "</table>\n",
       "</div>"
      ],
      "text/plain": [
       "   transmission  odometer_value  engine_fuel  engine_has_gas  engine_type  \\\n",
       "0             0       -0.375676            0               0            0   \n",
       "1             0        0.381466            0               0            0   \n",
       "2             0        1.229466            0               0            0   \n",
       "\n",
       "   engine_capacity  has_warranty  state  drivetrain  price_usd  \\\n",
       "0         0.965421             0      0           0    10900.0   \n",
       "1         1.826107             0      0           0     5000.0   \n",
       "2         0.965421             0      0           0     2800.0   \n",
       "\n",
       "   is_exchangeable  \n",
       "0                0  \n",
       "1                1  \n",
       "2                1  "
      ]
     },
     "execution_count": 24,
     "metadata": {},
     "output_type": "execute_result"
    }
   ],
   "source": [
    "cols_ =  [\"odometer_value\",\"engine_capacity\"]\n",
    "ss2 = StandardScaler()\n",
    "\n",
    "cars  = load_seed(\"cars.csv\",\"v2\",quiet=True).data.dropna()[:9000]\n",
    "for col  in cols_:\n",
    "    cars[col]  = ss2.fit_transform(cars[col].values.reshape(-1,1))\n",
    "\n",
    "\n",
    "x =  cars.drop(columns=['price_usd']).values\n",
    "y =  cars[\"price_usd\"].values\n",
    "x_train,x_test,y_train,y_test =  train_test_split(x,y,test_size=0.2)\n",
    "print(\"X train shape :\",x_train.shape)\n",
    "cars.head(3)"
   ]
  },
  {
   "cell_type": "code",
   "execution_count": 25,
   "id": "754c003c",
   "metadata": {},
   "outputs": [
    {
     "name": "stdout",
     "output_type": "stream",
     "text": [
      "Bagging_regressor :\n",
      "|| Score : 0.5729725912400716\n",
      "|| R2 Score : 0.5729725912400716\n",
      "|| MSE : 12118118.130967489\n",
      "decision_tree_regressor :\n",
      "|| Score : 0.390125584918823\n",
      "|| R2 Score : 0.390125584918823\n",
      "|| MSE : 17306922.355335984\n",
      "random_forest_regressor  :\n",
      "|| Score : 0.5717453487076618\n",
      "|| R2 Score : 0.5717453487076618\n",
      "|| MSE : 12152944.630808042\n"
     ]
    }
   ],
   "source": [
    "bgreg =  BaggingRegressor(random_state=1,bootstrap=True,bootstrap_features=False,max_features=1.0,max_samples=0.5)\n",
    "score_model(bgreg,\"Bagging_regressor\",given=True)\n",
    "\n",
    "\n",
    "score_model(DecisionTreeRegressor,\"decision_tree_regressor\")\n",
    "score_model(RandomForestRegressor,\"random_forest_regressor \")\n"
   ]
  },
  {
   "cell_type": "code",
   "execution_count": null,
   "id": "8dcb70f2",
   "metadata": {},
   "outputs": [],
   "source": []
  }
 ],
 "metadata": {
  "kernelspec": {
   "display_name": "Python 3",
   "language": "python",
   "name": "python3"
  },
  "language_info": {
   "codemirror_mode": {
    "name": "ipython",
    "version": 3
   },
   "file_extension": ".py",
   "mimetype": "text/x-python",
   "name": "python",
   "nbconvert_exporter": "python",
   "pygments_lexer": "ipython3",
   "version": "3.11.9"
  }
 },
 "nbformat": 4,
 "nbformat_minor": 5
}
