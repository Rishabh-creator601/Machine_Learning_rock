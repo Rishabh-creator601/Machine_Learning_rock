{
 "cells": [
  {
   "cell_type": "code",
   "execution_count": 10,
   "id": "63dfcf15",
   "metadata": {},
   "outputs": [],
   "source": [
    "import numpy as np \n",
    "import matplotlib.pyplot as plt\n",
    "import pandas as pd\n",
    "from sklearn.linear_model import LogisticRegression,LinearRegression\n",
    "from sklearn.neighbors import KNeighborsClassifier\n",
    "from sklearn.ensemble import RandomForestClassifier,VotingClassifier,VotingRegressor,RandomForestRegressor\n",
    "from sklearn.tree import DecisionTreeClassifier,DecisionTreeRegressor\n",
    "from xgboost import XGBRegressor,XGBRFRegressor\n",
    "from sklearn.model_selection import train_test_split\n",
    "from sklearn.svm import SVC,SVR\n",
    "from sklearn.metrics import r2_score,mean_squared_error\n",
    "from sklearn.preprocessing import StandardScaler\n",
    "from seedtools import load_seed,dropper,mapper_auto"
   ]
  },
  {
   "cell_type": "markdown",
   "id": "6346e08a",
   "metadata": {},
   "source": [
    "## CONTENTS \n",
    "\n",
    "-  VotingClassifier\n",
    "-  Voting Regressor"
   ]
  },
  {
   "cell_type": "code",
   "execution_count": 11,
   "id": "ab26e6cf",
   "metadata": {},
   "outputs": [],
   "source": [
    "cols = [\"Age\",\"EstimatedSalary\"]\n",
    "ss =  StandardScaler()\n",
    "\n",
    "lr =  LogisticRegression()\n",
    "rf  = RandomForestClassifier()\n",
    "kn =  KNeighborsClassifier()\n",
    "svc =  SVC()\n",
    "svc_soft =  SVC(probability=True)\n",
    "rfr = RandomForestRegressor()\n",
    "svr =  SVR()\n",
    "lr2 =  LinearRegression()\n",
    "dtr =  DecisionTreeRegressor(max_depth=3)\n",
    "xgbr =  XGBRegressor()\n",
    "xgbrf =  XGBRFRegressor() \n",
    "\n",
    "\n",
    "estims =  [('lr',lr),('rf',rf),('kn',kn)] # for classification hard\n",
    "estims2 =  [('lr',lr),('rf',rf),('svc',svc_soft)] # for classification soft \n",
    "estims3 =  [('LR',lr2),('rfr',rfr),('svr',svr)]  # for regression \n",
    "estims4 =  [('LR',lr2),('rfr',rfr),('dtr',dtr)]  # for regression \n",
    "estims5 =  [('dtr',dtr),('rfr',rfr),('xgbr',xgbr)]  # for regression \n",
    "estims6 =  [('xgbrf',xgbrf),('dtr',dtr),('xgb',xgbr)]"
   ]
  },
  {
   "cell_type": "code",
   "execution_count": 12,
   "id": "8006d1e6",
   "metadata": {},
   "outputs": [
    {
     "name": "stdout",
     "output_type": "stream",
     "text": [
      "X train shape : (320, 3)\n"
     ]
    },
    {
     "data": {
      "text/html": [
       "<div>\n",
       "<style scoped>\n",
       "    .dataframe tbody tr th:only-of-type {\n",
       "        vertical-align: middle;\n",
       "    }\n",
       "\n",
       "    .dataframe tbody tr th {\n",
       "        vertical-align: top;\n",
       "    }\n",
       "\n",
       "    .dataframe thead th {\n",
       "        text-align: right;\n",
       "    }\n",
       "</style>\n",
       "<table border=\"1\" class=\"dataframe\">\n",
       "  <thead>\n",
       "    <tr style=\"text-align: right;\">\n",
       "      <th></th>\n",
       "      <th>Gender</th>\n",
       "      <th>Age</th>\n",
       "      <th>EstimatedSalary</th>\n",
       "      <th>Purchased</th>\n",
       "    </tr>\n",
       "  </thead>\n",
       "  <tbody>\n",
       "    <tr>\n",
       "      <th>0</th>\n",
       "      <td>0</td>\n",
       "      <td>-1.781797</td>\n",
       "      <td>-1.490046</td>\n",
       "      <td>0</td>\n",
       "    </tr>\n",
       "    <tr>\n",
       "      <th>1</th>\n",
       "      <td>0</td>\n",
       "      <td>-0.253587</td>\n",
       "      <td>-1.460681</td>\n",
       "      <td>0</td>\n",
       "    </tr>\n",
       "    <tr>\n",
       "      <th>2</th>\n",
       "      <td>1</td>\n",
       "      <td>-1.113206</td>\n",
       "      <td>-0.785290</td>\n",
       "      <td>0</td>\n",
       "    </tr>\n",
       "  </tbody>\n",
       "</table>\n",
       "</div>"
      ],
      "text/plain": [
       "   Gender       Age  EstimatedSalary  Purchased\n",
       "0       0 -1.781797        -1.490046          0\n",
       "1       0 -0.253587        -1.460681          0\n",
       "2       1 -1.113206        -0.785290          0"
      ]
     },
     "execution_count": 12,
     "metadata": {},
     "output_type": "execute_result"
    }
   ],
   "source": [
    "df = load_seed(\"Social_Network_Ads.csv\",\"v3\",True).data\n",
    "for col  in cols:\n",
    "    df[col]  = ss.fit_transform(df[col].values.reshape(-1,1))\n",
    "    \n",
    "x = df.drop(columns=[\"Purchased\"]).values\n",
    "y =  df[\"Purchased\"].values\n",
    "\n",
    "x_train,x_test,y_train,y_test =  train_test_split(x,y,test_size=0.2)\n",
    "print(\"X train shape :\",x_train.shape)\n",
    "df.head(3)\n"
   ]
  },
  {
   "cell_type": "markdown",
   "id": "51f9ba53",
   "metadata": {},
   "source": [
    "## Voting Classifier\n"
   ]
  },
  {
   "cell_type": "markdown",
   "id": "64804dcc",
   "metadata": {},
   "source": [
    "**Hard Voting**"
   ]
  },
  {
   "cell_type": "code",
   "execution_count": 13,
   "id": "f7c3801d",
   "metadata": {},
   "outputs": [
    {
     "name": "stdout",
     "output_type": "stream",
     "text": [
      "Score : 0.9375\n"
     ]
    }
   ],
   "source": [
    "\n",
    "\n",
    "voting_hard =  VotingClassifier(estimators=estims)\n",
    "voting_hard.fit(x_train,y_train)\n",
    "preds =  voting_hard.predict(x_test)\n",
    "print(\"Score :\",voting_hard.score(x_test,y_test))"
   ]
  },
  {
   "cell_type": "markdown",
   "id": "befff9ec",
   "metadata": {},
   "source": [
    "**Soft Voting**"
   ]
  },
  {
   "cell_type": "code",
   "execution_count": 14,
   "id": "b794066f",
   "metadata": {},
   "outputs": [
    {
     "name": "stdout",
     "output_type": "stream",
     "text": [
      "Score : 0.95\n"
     ]
    }
   ],
   "source": [
    "\n",
    "\n",
    "voting_soft =  VotingClassifier(estimators=estims2,voting=\"soft\")\n",
    "voting_soft.fit(x_train,y_train)\n",
    "preds =  voting_soft.predict(x_test)\n",
    "print(\"Score :\",voting_soft.score(x_test,y_test))"
   ]
  },
  {
   "cell_type": "markdown",
   "id": "71d06bcc",
   "metadata": {},
   "source": [
    "## Voting Regressor"
   ]
  },
  {
   "cell_type": "code",
   "execution_count": 15,
   "id": "1a617ebd",
   "metadata": {},
   "outputs": [
    {
     "name": "stdout",
     "output_type": "stream",
     "text": [
      "X train shape : (7200, 10)\n"
     ]
    },
    {
     "data": {
      "text/html": [
       "<div>\n",
       "<style scoped>\n",
       "    .dataframe tbody tr th:only-of-type {\n",
       "        vertical-align: middle;\n",
       "    }\n",
       "\n",
       "    .dataframe tbody tr th {\n",
       "        vertical-align: top;\n",
       "    }\n",
       "\n",
       "    .dataframe thead th {\n",
       "        text-align: right;\n",
       "    }\n",
       "</style>\n",
       "<table border=\"1\" class=\"dataframe\">\n",
       "  <thead>\n",
       "    <tr style=\"text-align: right;\">\n",
       "      <th></th>\n",
       "      <th>transmission</th>\n",
       "      <th>odometer_value</th>\n",
       "      <th>engine_fuel</th>\n",
       "      <th>engine_has_gas</th>\n",
       "      <th>engine_type</th>\n",
       "      <th>engine_capacity</th>\n",
       "      <th>has_warranty</th>\n",
       "      <th>state</th>\n",
       "      <th>drivetrain</th>\n",
       "      <th>price_usd</th>\n",
       "      <th>is_exchangeable</th>\n",
       "    </tr>\n",
       "  </thead>\n",
       "  <tbody>\n",
       "    <tr>\n",
       "      <th>0</th>\n",
       "      <td>0</td>\n",
       "      <td>-0.375676</td>\n",
       "      <td>0</td>\n",
       "      <td>0</td>\n",
       "      <td>0</td>\n",
       "      <td>0.965421</td>\n",
       "      <td>0</td>\n",
       "      <td>0</td>\n",
       "      <td>0</td>\n",
       "      <td>10900.0</td>\n",
       "      <td>0</td>\n",
       "    </tr>\n",
       "    <tr>\n",
       "      <th>1</th>\n",
       "      <td>0</td>\n",
       "      <td>0.381466</td>\n",
       "      <td>0</td>\n",
       "      <td>0</td>\n",
       "      <td>0</td>\n",
       "      <td>1.826107</td>\n",
       "      <td>0</td>\n",
       "      <td>0</td>\n",
       "      <td>0</td>\n",
       "      <td>5000.0</td>\n",
       "      <td>1</td>\n",
       "    </tr>\n",
       "    <tr>\n",
       "      <th>2</th>\n",
       "      <td>0</td>\n",
       "      <td>1.229466</td>\n",
       "      <td>0</td>\n",
       "      <td>0</td>\n",
       "      <td>0</td>\n",
       "      <td>0.965421</td>\n",
       "      <td>0</td>\n",
       "      <td>0</td>\n",
       "      <td>0</td>\n",
       "      <td>2800.0</td>\n",
       "      <td>1</td>\n",
       "    </tr>\n",
       "  </tbody>\n",
       "</table>\n",
       "</div>"
      ],
      "text/plain": [
       "   transmission  odometer_value  engine_fuel  engine_has_gas  engine_type  \\\n",
       "0             0       -0.375676            0               0            0   \n",
       "1             0        0.381466            0               0            0   \n",
       "2             0        1.229466            0               0            0   \n",
       "\n",
       "   engine_capacity  has_warranty  state  drivetrain  price_usd  \\\n",
       "0         0.965421             0      0           0    10900.0   \n",
       "1         1.826107             0      0           0     5000.0   \n",
       "2         0.965421             0      0           0     2800.0   \n",
       "\n",
       "   is_exchangeable  \n",
       "0                0  \n",
       "1                1  \n",
       "2                1  "
      ]
     },
     "execution_count": 15,
     "metadata": {},
     "output_type": "execute_result"
    }
   ],
   "source": [
    "cars  = load_seed(\"cars.csv\",\"v2\",quiet=True).data.dropna()[:9000]\n",
    "\n",
    "cols_ =  [\"odometer_value\",\"engine_capacity\"]\n",
    "ss2 = StandardScaler() \n",
    "\n",
    "for col  in cols_:\n",
    "    cars[col]  = ss2.fit_transform(cars[col].values.reshape(-1,1))\n",
    "\n",
    "\n",
    "x =  cars.drop(columns=['price_usd']).values\n",
    "y =  cars[\"price_usd\"].values\n",
    "\n",
    "x_train,x_test,y_train,y_test =  train_test_split(x,y,test_size=0.2)\n",
    "print(\"X train shape :\",x_train.shape)\n",
    "cars.head(3)\n"
   ]
  },
  {
   "cell_type": "code",
   "execution_count": 16,
   "id": "1b559a3f",
   "metadata": {},
   "outputs": [
    {
     "name": "stdout",
     "output_type": "stream",
     "text": [
      "Score : 0.6400043868288716\n",
      "R2 Score : 0.6400043868288716\n",
      "MSE : 10936909.02848146\n"
     ]
    }
   ],
   "source": [
    "voting_Reg =  VotingRegressor(estimators=estims5)\n",
    "voting_Reg.fit(x_train,y_train)\n",
    "\n",
    "preds =  voting_Reg.predict(x_test)\n",
    "\n",
    "print(\"Score :\",voting_Reg.score(x_test,y_test))\n",
    "print(\"R2 Score :\",r2_score(y_test,preds))\n",
    "print(\"MSE :\",mean_squared_error(y_test,preds))"
   ]
  }
 ],
 "metadata": {
  "kernelspec": {
   "display_name": "Python 3",
   "language": "python",
   "name": "python3"
  },
  "language_info": {
   "codemirror_mode": {
    "name": "ipython",
    "version": 3
   },
   "file_extension": ".py",
   "mimetype": "text/x-python",
   "name": "python",
   "nbconvert_exporter": "python",
   "pygments_lexer": "ipython3",
   "version": "3.11.9"
  }
 },
 "nbformat": 4,
 "nbformat_minor": 5
}
