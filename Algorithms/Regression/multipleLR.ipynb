{
 "cells": [
  {
   "cell_type": "code",
   "execution_count": 17,
   "id": "a9b1682e-4f8a-49c8-b23b-3bcf6a03ea1f",
   "metadata": {},
   "outputs": [],
   "source": [
    "import numpy as np \n",
    "import pandas as pd  \n",
    "from sklearn.linear_model import LinearRegression\n",
    "from sklearn.model_selection import train_test_split \n",
    "from sklearn.datasets import make_regression\n",
    "from sklearn.metrics import r2_score, mean_absolute_error,mean_squared_error\n",
    "import plotly.express as px\n",
    "import plotly.graph_objects  as go"
   ]
  },
  {
   "cell_type": "markdown",
   "id": "a0e38baf-56b9-4f9f-9a3e-0c6958ad8711",
   "metadata": {},
   "source": [
    "## CONTENTS \n",
    "\n",
    "- Multiple LR Demo \n",
    "-  Its visualization with plotly "
   ]
  },
  {
   "cell_type": "code",
   "execution_count": 18,
   "id": "c03505d3-a48d-4aa1-a8e9-975838886681",
   "metadata": {},
   "outputs": [
    {
     "name": "stdout",
     "output_type": "stream",
     "text": [
      "X and y shape : (100, 2) (100,)\n",
      "df shape  :  (100, 3)\n"
     ]
    },
    {
     "data": {
      "text/html": [
       "<div>\n",
       "<style scoped>\n",
       "    .dataframe tbody tr th:only-of-type {\n",
       "        vertical-align: middle;\n",
       "    }\n",
       "\n",
       "    .dataframe tbody tr th {\n",
       "        vertical-align: top;\n",
       "    }\n",
       "\n",
       "    .dataframe thead th {\n",
       "        text-align: right;\n",
       "    }\n",
       "</style>\n",
       "<table border=\"1\" class=\"dataframe\">\n",
       "  <thead>\n",
       "    <tr style=\"text-align: right;\">\n",
       "      <th></th>\n",
       "      <th>feature1</th>\n",
       "      <th>feature2</th>\n",
       "      <th>target</th>\n",
       "    </tr>\n",
       "  </thead>\n",
       "  <tbody>\n",
       "    <tr>\n",
       "      <th>0</th>\n",
       "      <td>-1.699200</td>\n",
       "      <td>-1.782225</td>\n",
       "      <td>-165.406709</td>\n",
       "    </tr>\n",
       "    <tr>\n",
       "      <th>1</th>\n",
       "      <td>0.197078</td>\n",
       "      <td>-0.169761</td>\n",
       "      <td>-31.184329</td>\n",
       "    </tr>\n",
       "    <tr>\n",
       "      <th>2</th>\n",
       "      <td>-0.851166</td>\n",
       "      <td>1.220172</td>\n",
       "      <td>48.378612</td>\n",
       "    </tr>\n",
       "  </tbody>\n",
       "</table>\n",
       "</div>"
      ],
      "text/plain": [
       "   feature1  feature2      target\n",
       "0 -1.699200 -1.782225 -165.406709\n",
       "1  0.197078 -0.169761  -31.184329\n",
       "2 -0.851166  1.220172   48.378612"
      ]
     },
     "execution_count": 18,
     "metadata": {},
     "output_type": "execute_result"
    }
   ],
   "source": [
    "x,y  =  make_regression(n_features=2,n_targets=1,noise=50,n_informative=2,n_samples=100)\n",
    "df = pd.DataFrame({'feature1':x[:,0],'feature2':x[:,1],'target':y})\n",
    "\n",
    "print(\"X and y shape :\",x.shape, y.shape)\n",
    "print(\"df shape  : \",df.shape)\n",
    "df.head(3)"
   ]
  },
  {
   "cell_type": "code",
   "execution_count": 19,
   "id": "d38b6b07-e9c3-4bde-9e59-099780552e44",
   "metadata": {},
   "outputs": [
    {
     "name": "stdout",
     "output_type": "stream",
     "text": [
      "X_train and y_train shape (75, 2) (75,)\n",
      "[[ 0.0589505   0.86615226]\n",
      " [-0.23015423  0.15988289]\n",
      " [ 0.24227277 -0.04037005]]\n"
     ]
    }
   ],
   "source": [
    "x_train,x_test,y_train,y_test =  train_test_split(x,y,random_state=42)\n",
    "print(\"X_train and y_train shape\",x_train.shape, y_train.shape )\n",
    "print(x_train[:3])"
   ]
  },
  {
   "cell_type": "code",
   "execution_count": 20,
   "id": "61a70281-45e6-4b7d-86d8-860bab48e4d0",
   "metadata": {},
   "outputs": [
    {
     "data": {
      "application/vnd.plotly.v1+json": {
       "config": {
        "plotlyServerURL": "https://plot.ly"
       },
       "data": [
        {
         "hovertemplate": "feature1=%{x}<br>feature2=%{y}<br>target=%{z}<extra></extra>",
         "legendgroup": "",
         "marker": {
          "color": "#636efa",
          "symbol": "circle"
         },
         "mode": "markers",
         "name": "",
         "scene": "scene",
         "showlegend": false,
         "type": "scatter3d",
         "x": {
          "bdata": "WFrOI+wv+7/yPDnM3DnJP7j0cp7APOu/Vi4qfsbJsr9tzrCFl0iKP1CRSypshPG/Gy4HL6fp8j8uSrs2yPjQvwusroy/Zsk/dDTChfoM3b/+w/mMo8Tyv67MAsdAdpG/1X+qskhY1D9hG3+AAxfbP7qvw/xGi/a/mfslk8Iurj+FUTdcNMz1P4WFEZS3xt+/vjaF/lDt6T+6rb7gzO32Py4BjswAxva/ryRPw8P47D/mhvPHY1PiP/y0innF1OK/WlrkI+7tyj8rWl3mErOYv9H/hzjjybU/AfPtFB5K8L88NmOVIk/nvz6A51vCqea/nlkJ3Zfxyr+1kVFs2lXyv+AeTdAZh/6/QYlIzi9G6j+yWK4XX8Xzv+2JtF6Vm9w/+LlsGdVR1j9PYtttW4T3vzbDsaw8u+S/bvQVIGOa9j/7fY6csXXNvyRVH4e9YqQ/5h4iLmXB5z9VsMYS45T0P9NP9dn/T90/0NRiTtuP47+XHQ19BVnLP4h8rTRA2ug/nmNo6d3By78sdEgKovvkP0z/6AqTGPC/MxUFCP9u9z8VhHDoG3nxv59GeRtvsPy/MQ6AREtF/D81xWKRDlz7Pzm9MC6vM/m/LZL6+zny8D+HMq44PdSxv5Pir6Sa17m/mknHegQJ8j9gmTtZnDrsv0fOJMJFjtu/jxvJlC6eAUA2+SNHv7n7v+etEHWsBuG/3YO9oag22r/y/tcBURT7P+EuCkYkL+e/wmt/KCIayr+ChPoCnubdv7Lz9PFWbdA/4cONeKs1+r+vsD6U723nP0eWtyChLfA/7YJ4FrjP5D8sqd+LHwTjvzMRih9RJsU/3ZhKRoqh17/NFadsbzXqv8BHiaHbqd4/bw18RsGt3D930I4FyBy/v+S+kwrW7uU/YjWBALPq9r+wHKTZZQf7P+0Ev1ka0du/6JUvm2Ib5j/oUPU8FOv4v244jn3mZcG/ovrgw+CGo78AXgfci23Hv4DtsZTUn8+/tUBI3k+Enj/ilR/KxAHNPwZPVXZJMfE/tLmYU8sCzz/msOef4O35P7Xh8BmTI+U/uyF9cLDJtz8=",
          "dtype": "f8"
         },
         "y": {
          "bdata": "hY924P6D/L8P00abt7rFv+rExwnThfM/YQdXjSLo4T/tQ7St2lnlP+ry35+Cqd2/t2OMUNCprL+exrXKDzHoP3Yc2lL0d7U/YMhVVhgZ1D8kNViPHcH8vwwME32haO4/7vAS9bGapb/m6zkTQ67nv7+oSHyDQfA/JcTd74S36z/AQKhNxNbwv+0k+6mmurs/9GrUEWhV+T8qte7JW9HyP3zkLYIEuve/AGwi/Vd78r8qJylf/QsDwG8EdUD70gPAMgi6ZAYL5j+rr3C3tyjaP5LQDzXt/dm/YQ6DkG359L8DwjaChznKP6YwAmb1Bsa/ZP0kd/r04T8rMybPvz3YP319zB2Ca/O/dZvFApQx87/NPetXTMX+v2KG8imdI/I/v3Kn5fSj+T/lCc+t0UfYP5oIPK8WRLM/rGVRiCmHAcBpry7hCnfEPxaJaW8ZHP0/TwCK7b8Jtz/OF7O/8W3DPxBnRI/Fwvg/lMbD0jcs4L/9xNR7EpTZP/86Wwqh9uY/YMiG7TvN27/DG/PUctECQNIfxNZbbnC/H3Ol6Q322j8bx0iXV2PWv07OVFm/8es/BynQH5Lb3z8qQIk0/4r2v9DkDV5RAAhATAIPeouq5D9INIUAdeDoP+pqusHTde4/p/Fx52Ia3T+9/MVAzEzyPzwPDfss9dM/sFuUnMQaw79hwEaJ7pnwv94/stvfyPk/e/mgrZdY3j8oaP7UfYTSP3TPN05jXZq/YJo4TLZKzL+CPhUZmfP2v2PHCnGekO2/3oUWYWWf9j8HfKy/x/vsvy/YdLDpcuy/cNujSkR94T/FRMS8R+zov+HIxIU54vg/mUdjWNLZ7L/aIMBFv7WZv0HxjGo+UOq/XPyzshYe978AmyJaedLWv/mdagz7n/K/9B3E+4quyr8wfX2KGu/ivxYEvqQ7nNA/SbMuP9EP9j9z5Y+a2hABQBC+iQTG4OA/JEmiElue/T/iTuhLCS3hv51YIo7cGsc/z7sVGgG4wj+7um+3oYvJv5CwP4jxSsm/OrZrHGKrpL/YlioI40eAv0SjppZjhbc/3Or+gJ2Bvr8=",
          "dtype": "f8"
         },
         "z": {
          "bdata": "Wrr+wgOtZMBCN9AzMC8/wMy4Qlp2MEhAsKtODGCeQMAdwwZ15oddQC7EqC7J+2DADgulXL4NVkCmcmhddulDQHU+snYeIjfA7KVkqpg4SkA2+b/RqOVdwDxuuZ8AKDzA3i9/nowpM0CDURI57dMfwMkb6aK7AkfAjv2HmJMDVECCjYIdFrZAQD49sT22jlLAjg8hx+5kZUDN6TrpbXdkQBSj/9tJbUPA1COHZUkoHMBtSAsyT+piwMsixBwUu2DAehPqvhKLRkCY5v6m+f8sQIulyumFcTjAcLl9G4QZQsD2fPVaLHVXwKiRHUpf8kLAgGaNb3ItRUD1f31Em9NDwAG8mKtuhVXACk3KOGxZN0CS4XodEKhkwPGBX9094WJAyavm2EjyQkAN5msGem5OwOuXc5Enx0XAMManUAh/XMBKR+onRPY7wKkHeHFcsFJAGCV8+RdFLMA/dARxAo5HQNj2H53y515AcJ6jY/69NcBOpm+ik/FEQIEy07l6CUJAZv/q3UP+QUC2rIIZxYReQJ9UqnUDaErA0kcTfk9LVECbPx1NQnBHwKAsVgeClVzAkS/jVK7HY0DiYJau9v9HQD4jQQn5ClLAp6CsmlzxVkBRxaGG8DxQQHhcjPuNCB9ASUHwzqsMYUCg1INIrTg5wOpRPO9z5D7A3jatG6M9VECWeQhXZfdmwDCqWRdZnztA2gHAadN74L+MoQkEF0ZkQGanxdHCYzPAXUa9M9okJsAYpCIq1gQ+wPX1TFRQwzLAihFVre/9QsC4kOlRGsUUQF6Y6CtQNUnA6Jvg2KirV0B+LPJx3D82wDaGmmxDFl1ARnHeLS+6XMAJmH7+UXpLwNCq/MiEiuc/wIdHG6zHRMB2G+rREAVXwJwZxrriPAfATkQCuBsXXMAsdcMmHzA1wKwa6E63xQVAcAbAw8t/SEBD+5Re+ctRQKTbzu2ylxvA4ncavw7tVUBM4X9XIlJhwHYaDo2EcDxAHvAiURjUGkBKRvTjJkokQM2m5+2HuzxA5QJLUM6XU8BP0dVxlMdiQBNw/prUWV1AjCKZHLYVQMA=",
          "dtype": "f8"
         }
        }
       ],
       "layout": {
        "legend": {
         "tracegroupgap": 0
        },
        "margin": {
         "t": 60
        },
        "scene": {
         "domain": {
          "x": [
           0,
           1
          ],
          "y": [
           0,
           1
          ]
         },
         "xaxis": {
          "title": {
           "text": "feature1"
          }
         },
         "yaxis": {
          "title": {
           "text": "feature2"
          }
         },
         "zaxis": {
          "title": {
           "text": "target"
          }
         }
        },
        "template": {
         "data": {
          "bar": [
           {
            "error_x": {
             "color": "#2a3f5f"
            },
            "error_y": {
             "color": "#2a3f5f"
            },
            "marker": {
             "line": {
              "color": "#E5ECF6",
              "width": 0.5
             },
             "pattern": {
              "fillmode": "overlay",
              "size": 10,
              "solidity": 0.2
             }
            },
            "type": "bar"
           }
          ],
          "barpolar": [
           {
            "marker": {
             "line": {
              "color": "#E5ECF6",
              "width": 0.5
             },
             "pattern": {
              "fillmode": "overlay",
              "size": 10,
              "solidity": 0.2
             }
            },
            "type": "barpolar"
           }
          ],
          "carpet": [
           {
            "aaxis": {
             "endlinecolor": "#2a3f5f",
             "gridcolor": "white",
             "linecolor": "white",
             "minorgridcolor": "white",
             "startlinecolor": "#2a3f5f"
            },
            "baxis": {
             "endlinecolor": "#2a3f5f",
             "gridcolor": "white",
             "linecolor": "white",
             "minorgridcolor": "white",
             "startlinecolor": "#2a3f5f"
            },
            "type": "carpet"
           }
          ],
          "choropleth": [
           {
            "colorbar": {
             "outlinewidth": 0,
             "ticks": ""
            },
            "type": "choropleth"
           }
          ],
          "contour": [
           {
            "colorbar": {
             "outlinewidth": 0,
             "ticks": ""
            },
            "colorscale": [
             [
              0,
              "#0d0887"
             ],
             [
              0.1111111111111111,
              "#46039f"
             ],
             [
              0.2222222222222222,
              "#7201a8"
             ],
             [
              0.3333333333333333,
              "#9c179e"
             ],
             [
              0.4444444444444444,
              "#bd3786"
             ],
             [
              0.5555555555555556,
              "#d8576b"
             ],
             [
              0.6666666666666666,
              "#ed7953"
             ],
             [
              0.7777777777777778,
              "#fb9f3a"
             ],
             [
              0.8888888888888888,
              "#fdca26"
             ],
             [
              1,
              "#f0f921"
             ]
            ],
            "type": "contour"
           }
          ],
          "contourcarpet": [
           {
            "colorbar": {
             "outlinewidth": 0,
             "ticks": ""
            },
            "type": "contourcarpet"
           }
          ],
          "heatmap": [
           {
            "colorbar": {
             "outlinewidth": 0,
             "ticks": ""
            },
            "colorscale": [
             [
              0,
              "#0d0887"
             ],
             [
              0.1111111111111111,
              "#46039f"
             ],
             [
              0.2222222222222222,
              "#7201a8"
             ],
             [
              0.3333333333333333,
              "#9c179e"
             ],
             [
              0.4444444444444444,
              "#bd3786"
             ],
             [
              0.5555555555555556,
              "#d8576b"
             ],
             [
              0.6666666666666666,
              "#ed7953"
             ],
             [
              0.7777777777777778,
              "#fb9f3a"
             ],
             [
              0.8888888888888888,
              "#fdca26"
             ],
             [
              1,
              "#f0f921"
             ]
            ],
            "type": "heatmap"
           }
          ],
          "histogram": [
           {
            "marker": {
             "pattern": {
              "fillmode": "overlay",
              "size": 10,
              "solidity": 0.2
             }
            },
            "type": "histogram"
           }
          ],
          "histogram2d": [
           {
            "colorbar": {
             "outlinewidth": 0,
             "ticks": ""
            },
            "colorscale": [
             [
              0,
              "#0d0887"
             ],
             [
              0.1111111111111111,
              "#46039f"
             ],
             [
              0.2222222222222222,
              "#7201a8"
             ],
             [
              0.3333333333333333,
              "#9c179e"
             ],
             [
              0.4444444444444444,
              "#bd3786"
             ],
             [
              0.5555555555555556,
              "#d8576b"
             ],
             [
              0.6666666666666666,
              "#ed7953"
             ],
             [
              0.7777777777777778,
              "#fb9f3a"
             ],
             [
              0.8888888888888888,
              "#fdca26"
             ],
             [
              1,
              "#f0f921"
             ]
            ],
            "type": "histogram2d"
           }
          ],
          "histogram2dcontour": [
           {
            "colorbar": {
             "outlinewidth": 0,
             "ticks": ""
            },
            "colorscale": [
             [
              0,
              "#0d0887"
             ],
             [
              0.1111111111111111,
              "#46039f"
             ],
             [
              0.2222222222222222,
              "#7201a8"
             ],
             [
              0.3333333333333333,
              "#9c179e"
             ],
             [
              0.4444444444444444,
              "#bd3786"
             ],
             [
              0.5555555555555556,
              "#d8576b"
             ],
             [
              0.6666666666666666,
              "#ed7953"
             ],
             [
              0.7777777777777778,
              "#fb9f3a"
             ],
             [
              0.8888888888888888,
              "#fdca26"
             ],
             [
              1,
              "#f0f921"
             ]
            ],
            "type": "histogram2dcontour"
           }
          ],
          "mesh3d": [
           {
            "colorbar": {
             "outlinewidth": 0,
             "ticks": ""
            },
            "type": "mesh3d"
           }
          ],
          "parcoords": [
           {
            "line": {
             "colorbar": {
              "outlinewidth": 0,
              "ticks": ""
             }
            },
            "type": "parcoords"
           }
          ],
          "pie": [
           {
            "automargin": true,
            "type": "pie"
           }
          ],
          "scatter": [
           {
            "fillpattern": {
             "fillmode": "overlay",
             "size": 10,
             "solidity": 0.2
            },
            "type": "scatter"
           }
          ],
          "scatter3d": [
           {
            "line": {
             "colorbar": {
              "outlinewidth": 0,
              "ticks": ""
             }
            },
            "marker": {
             "colorbar": {
              "outlinewidth": 0,
              "ticks": ""
             }
            },
            "type": "scatter3d"
           }
          ],
          "scattercarpet": [
           {
            "marker": {
             "colorbar": {
              "outlinewidth": 0,
              "ticks": ""
             }
            },
            "type": "scattercarpet"
           }
          ],
          "scattergeo": [
           {
            "marker": {
             "colorbar": {
              "outlinewidth": 0,
              "ticks": ""
             }
            },
            "type": "scattergeo"
           }
          ],
          "scattergl": [
           {
            "marker": {
             "colorbar": {
              "outlinewidth": 0,
              "ticks": ""
             }
            },
            "type": "scattergl"
           }
          ],
          "scattermap": [
           {
            "marker": {
             "colorbar": {
              "outlinewidth": 0,
              "ticks": ""
             }
            },
            "type": "scattermap"
           }
          ],
          "scattermapbox": [
           {
            "marker": {
             "colorbar": {
              "outlinewidth": 0,
              "ticks": ""
             }
            },
            "type": "scattermapbox"
           }
          ],
          "scatterpolar": [
           {
            "marker": {
             "colorbar": {
              "outlinewidth": 0,
              "ticks": ""
             }
            },
            "type": "scatterpolar"
           }
          ],
          "scatterpolargl": [
           {
            "marker": {
             "colorbar": {
              "outlinewidth": 0,
              "ticks": ""
             }
            },
            "type": "scatterpolargl"
           }
          ],
          "scatterternary": [
           {
            "marker": {
             "colorbar": {
              "outlinewidth": 0,
              "ticks": ""
             }
            },
            "type": "scatterternary"
           }
          ],
          "surface": [
           {
            "colorbar": {
             "outlinewidth": 0,
             "ticks": ""
            },
            "colorscale": [
             [
              0,
              "#0d0887"
             ],
             [
              0.1111111111111111,
              "#46039f"
             ],
             [
              0.2222222222222222,
              "#7201a8"
             ],
             [
              0.3333333333333333,
              "#9c179e"
             ],
             [
              0.4444444444444444,
              "#bd3786"
             ],
             [
              0.5555555555555556,
              "#d8576b"
             ],
             [
              0.6666666666666666,
              "#ed7953"
             ],
             [
              0.7777777777777778,
              "#fb9f3a"
             ],
             [
              0.8888888888888888,
              "#fdca26"
             ],
             [
              1,
              "#f0f921"
             ]
            ],
            "type": "surface"
           }
          ],
          "table": [
           {
            "cells": {
             "fill": {
              "color": "#EBF0F8"
             },
             "line": {
              "color": "white"
             }
            },
            "header": {
             "fill": {
              "color": "#C8D4E3"
             },
             "line": {
              "color": "white"
             }
            },
            "type": "table"
           }
          ]
         },
         "layout": {
          "annotationdefaults": {
           "arrowcolor": "#2a3f5f",
           "arrowhead": 0,
           "arrowwidth": 1
          },
          "autotypenumbers": "strict",
          "coloraxis": {
           "colorbar": {
            "outlinewidth": 0,
            "ticks": ""
           }
          },
          "colorscale": {
           "diverging": [
            [
             0,
             "#8e0152"
            ],
            [
             0.1,
             "#c51b7d"
            ],
            [
             0.2,
             "#de77ae"
            ],
            [
             0.3,
             "#f1b6da"
            ],
            [
             0.4,
             "#fde0ef"
            ],
            [
             0.5,
             "#f7f7f7"
            ],
            [
             0.6,
             "#e6f5d0"
            ],
            [
             0.7,
             "#b8e186"
            ],
            [
             0.8,
             "#7fbc41"
            ],
            [
             0.9,
             "#4d9221"
            ],
            [
             1,
             "#276419"
            ]
           ],
           "sequential": [
            [
             0,
             "#0d0887"
            ],
            [
             0.1111111111111111,
             "#46039f"
            ],
            [
             0.2222222222222222,
             "#7201a8"
            ],
            [
             0.3333333333333333,
             "#9c179e"
            ],
            [
             0.4444444444444444,
             "#bd3786"
            ],
            [
             0.5555555555555556,
             "#d8576b"
            ],
            [
             0.6666666666666666,
             "#ed7953"
            ],
            [
             0.7777777777777778,
             "#fb9f3a"
            ],
            [
             0.8888888888888888,
             "#fdca26"
            ],
            [
             1,
             "#f0f921"
            ]
           ],
           "sequentialminus": [
            [
             0,
             "#0d0887"
            ],
            [
             0.1111111111111111,
             "#46039f"
            ],
            [
             0.2222222222222222,
             "#7201a8"
            ],
            [
             0.3333333333333333,
             "#9c179e"
            ],
            [
             0.4444444444444444,
             "#bd3786"
            ],
            [
             0.5555555555555556,
             "#d8576b"
            ],
            [
             0.6666666666666666,
             "#ed7953"
            ],
            [
             0.7777777777777778,
             "#fb9f3a"
            ],
            [
             0.8888888888888888,
             "#fdca26"
            ],
            [
             1,
             "#f0f921"
            ]
           ]
          },
          "colorway": [
           "#636efa",
           "#EF553B",
           "#00cc96",
           "#ab63fa",
           "#FFA15A",
           "#19d3f3",
           "#FF6692",
           "#B6E880",
           "#FF97FF",
           "#FECB52"
          ],
          "font": {
           "color": "#2a3f5f"
          },
          "geo": {
           "bgcolor": "white",
           "lakecolor": "white",
           "landcolor": "#E5ECF6",
           "showlakes": true,
           "showland": true,
           "subunitcolor": "white"
          },
          "hoverlabel": {
           "align": "left"
          },
          "hovermode": "closest",
          "mapbox": {
           "style": "light"
          },
          "paper_bgcolor": "white",
          "plot_bgcolor": "#E5ECF6",
          "polar": {
           "angularaxis": {
            "gridcolor": "white",
            "linecolor": "white",
            "ticks": ""
           },
           "bgcolor": "#E5ECF6",
           "radialaxis": {
            "gridcolor": "white",
            "linecolor": "white",
            "ticks": ""
           }
          },
          "scene": {
           "xaxis": {
            "backgroundcolor": "#E5ECF6",
            "gridcolor": "white",
            "gridwidth": 2,
            "linecolor": "white",
            "showbackground": true,
            "ticks": "",
            "zerolinecolor": "white"
           },
           "yaxis": {
            "backgroundcolor": "#E5ECF6",
            "gridcolor": "white",
            "gridwidth": 2,
            "linecolor": "white",
            "showbackground": true,
            "ticks": "",
            "zerolinecolor": "white"
           },
           "zaxis": {
            "backgroundcolor": "#E5ECF6",
            "gridcolor": "white",
            "gridwidth": 2,
            "linecolor": "white",
            "showbackground": true,
            "ticks": "",
            "zerolinecolor": "white"
           }
          },
          "shapedefaults": {
           "line": {
            "color": "#2a3f5f"
           }
          },
          "ternary": {
           "aaxis": {
            "gridcolor": "white",
            "linecolor": "white",
            "ticks": ""
           },
           "baxis": {
            "gridcolor": "white",
            "linecolor": "white",
            "ticks": ""
           },
           "bgcolor": "#E5ECF6",
           "caxis": {
            "gridcolor": "white",
            "linecolor": "white",
            "ticks": ""
           }
          },
          "title": {
           "x": 0.05
          },
          "xaxis": {
           "automargin": true,
           "gridcolor": "white",
           "linecolor": "white",
           "ticks": "",
           "title": {
            "standoff": 15
           },
           "zerolinecolor": "white",
           "zerolinewidth": 2
          },
          "yaxis": {
           "automargin": true,
           "gridcolor": "white",
           "linecolor": "white",
           "ticks": "",
           "title": {
            "standoff": 15
           },
           "zerolinecolor": "white",
           "zerolinewidth": 2
          }
         }
        }
       }
      }
     },
     "metadata": {},
     "output_type": "display_data"
    }
   ],
   "source": [
    "px.scatter_3d(df,x='feature1',y='feature2',z='target') # just for vis purpose "
   ]
  },
  {
   "cell_type": "markdown",
   "id": "795931d4-0331-4c7b-a887-212163ab058d",
   "metadata": {},
   "source": [
    "### Model Building "
   ]
  },
  {
   "cell_type": "code",
   "execution_count": 21,
   "id": "74fe8c92-d22a-40cc-938f-cb4e97fa2116",
   "metadata": {},
   "outputs": [
    {
     "data": {
      "text/plain": [
       "0.6692989673258638"
      ]
     },
     "execution_count": 21,
     "metadata": {},
     "output_type": "execute_result"
    }
   ],
   "source": [
    "model = LinearRegression()\n",
    "model.fit(x_train,y_train)\n",
    "model.score(x_test,y_test)"
   ]
  },
  {
   "cell_type": "code",
   "execution_count": 22,
   "id": "bf7aaea0-fff6-4b9a-be6d-0aa8777ea73c",
   "metadata": {},
   "outputs": [
    {
     "name": "stdout",
     "output_type": "stream",
     "text": [
      "β1  =  56.48823570712881, β2 = 36.937062161603286 \n",
      "β0  = -4.010271156381657\n"
     ]
    }
   ],
   "source": [
    "coef = model.coef_ # β1 , β2 ||  m1 and m2 \n",
    "print(f\"β1  =  {coef[0]}, β2 = {coef[1]} \")\n",
    "\n",
    "bias =  model.intercept_ # β0 ||  b \n",
    "print(f\"β0  = {bias}\")"
   ]
  },
  {
   "cell_type": "markdown",
   "id": "7d0bb212-d69f-487f-88de-fda7b9ef3e51",
   "metadata": {},
   "source": [
    "### Evaluation "
   ]
  },
  {
   "cell_type": "code",
   "execution_count": null,
   "id": "e6e89de6-ac97-4cae-a773-9048c84aef77",
   "metadata": {},
   "outputs": [],
   "source": [
    "y_predict   =  model.predict(x_test)\n",
    "print(\"MAE\",mean_absolute_error(y_test,y_predict))\n",
    "print(\"MSE\",mean_squared_error(y_test,y_predict))\n",
    "print(\"R2 Score \",r2_score(y_test,y_predict))"
   ]
  },
  {
   "cell_type": "markdown",
   "id": "83d33b2f-39cb-441d-9c1b-8721133fe27e",
   "metadata": {},
   "source": [
    "### JUST VISUALIZATION "
   ]
  },
  {
   "cell_type": "code",
   "execution_count": 25,
   "id": "7f6e48ee-60ac-43f8-b5c8-c225f4592373",
   "metadata": {},
   "outputs": [],
   "source": [
    "## Ignore the code whole code is copied only for the purpose of visualization\n",
    "x = np.linspace(-5, 5, 10)\n",
    "y = np.linspace(-5, 5, 10)\n",
    "xGrid, yGrid = np.meshgrid(y, x)\n",
    "final = np.vstack((xGrid.ravel().reshape(1,100),yGrid.ravel().reshape(1,100))).T\n",
    "z_final = model.predict(final).reshape(10,10)\n",
    "\n",
    "z = z_final\n",
    "\n"
   ]
  },
  {
   "cell_type": "code",
   "execution_count": 26,
   "id": "eced74c4-b8ea-4e36-bde2-37b2a118d4fe",
   "metadata": {},
   "outputs": [
    {
     "data": {
      "application/vnd.plotly.v1+json": {
       "config": {
        "plotlyServerURL": "https://plot.ly"
       },
       "data": [
        {
         "hovertemplate": "feature1=%{x}<br>feature2=%{y}<br>target=%{z}<extra></extra>",
         "legendgroup": "",
         "marker": {
          "color": "#636efa",
          "symbol": "circle"
         },
         "mode": "markers",
         "name": "",
         "scene": "scene",
         "showlegend": false,
         "type": "scatter3d",
         "x": {
          "bdata": "WFrOI+wv+7/yPDnM3DnJP7j0cp7APOu/Vi4qfsbJsr9tzrCFl0iKP1CRSypshPG/Gy4HL6fp8j8uSrs2yPjQvwusroy/Zsk/dDTChfoM3b/+w/mMo8Tyv67MAsdAdpG/1X+qskhY1D9hG3+AAxfbP7qvw/xGi/a/mfslk8Iurj+FUTdcNMz1P4WFEZS3xt+/vjaF/lDt6T+6rb7gzO32Py4BjswAxva/ryRPw8P47D/mhvPHY1PiP/y0innF1OK/WlrkI+7tyj8rWl3mErOYv9H/hzjjybU/AfPtFB5K8L88NmOVIk/nvz6A51vCqea/nlkJ3Zfxyr+1kVFs2lXyv+AeTdAZh/6/QYlIzi9G6j+yWK4XX8Xzv+2JtF6Vm9w/+LlsGdVR1j9PYtttW4T3vzbDsaw8u+S/bvQVIGOa9j/7fY6csXXNvyRVH4e9YqQ/5h4iLmXB5z9VsMYS45T0P9NP9dn/T90/0NRiTtuP47+XHQ19BVnLP4h8rTRA2ug/nmNo6d3By78sdEgKovvkP0z/6AqTGPC/MxUFCP9u9z8VhHDoG3nxv59GeRtvsPy/MQ6AREtF/D81xWKRDlz7Pzm9MC6vM/m/LZL6+zny8D+HMq44PdSxv5Pir6Sa17m/mknHegQJ8j9gmTtZnDrsv0fOJMJFjtu/jxvJlC6eAUA2+SNHv7n7v+etEHWsBuG/3YO9oag22r/y/tcBURT7P+EuCkYkL+e/wmt/KCIayr+ChPoCnubdv7Lz9PFWbdA/4cONeKs1+r+vsD6U723nP0eWtyChLfA/7YJ4FrjP5D8sqd+LHwTjvzMRih9RJsU/3ZhKRoqh17/NFadsbzXqv8BHiaHbqd4/bw18RsGt3D930I4FyBy/v+S+kwrW7uU/YjWBALPq9r+wHKTZZQf7P+0Ev1ka0du/6JUvm2Ib5j/oUPU8FOv4v244jn3mZcG/ovrgw+CGo78AXgfci23Hv4DtsZTUn8+/tUBI3k+Enj/ilR/KxAHNPwZPVXZJMfE/tLmYU8sCzz/msOef4O35P7Xh8BmTI+U/uyF9cLDJtz8=",
          "dtype": "f8"
         },
         "y": {
          "bdata": "hY924P6D/L8P00abt7rFv+rExwnThfM/YQdXjSLo4T/tQ7St2lnlP+ry35+Cqd2/t2OMUNCprL+exrXKDzHoP3Yc2lL0d7U/YMhVVhgZ1D8kNViPHcH8vwwME32haO4/7vAS9bGapb/m6zkTQ67nv7+oSHyDQfA/JcTd74S36z/AQKhNxNbwv+0k+6mmurs/9GrUEWhV+T8qte7JW9HyP3zkLYIEuve/AGwi/Vd78r8qJylf/QsDwG8EdUD70gPAMgi6ZAYL5j+rr3C3tyjaP5LQDzXt/dm/YQ6DkG359L8DwjaChznKP6YwAmb1Bsa/ZP0kd/r04T8rMybPvz3YP319zB2Ca/O/dZvFApQx87/NPetXTMX+v2KG8imdI/I/v3Kn5fSj+T/lCc+t0UfYP5oIPK8WRLM/rGVRiCmHAcBpry7hCnfEPxaJaW8ZHP0/TwCK7b8Jtz/OF7O/8W3DPxBnRI/Fwvg/lMbD0jcs4L/9xNR7EpTZP/86Wwqh9uY/YMiG7TvN27/DG/PUctECQNIfxNZbbnC/H3Ol6Q322j8bx0iXV2PWv07OVFm/8es/BynQH5Lb3z8qQIk0/4r2v9DkDV5RAAhATAIPeouq5D9INIUAdeDoP+pqusHTde4/p/Fx52Ia3T+9/MVAzEzyPzwPDfss9dM/sFuUnMQaw79hwEaJ7pnwv94/stvfyPk/e/mgrZdY3j8oaP7UfYTSP3TPN05jXZq/YJo4TLZKzL+CPhUZmfP2v2PHCnGekO2/3oUWYWWf9j8HfKy/x/vsvy/YdLDpcuy/cNujSkR94T/FRMS8R+zov+HIxIU54vg/mUdjWNLZ7L/aIMBFv7WZv0HxjGo+UOq/XPyzshYe978AmyJaedLWv/mdagz7n/K/9B3E+4quyr8wfX2KGu/ivxYEvqQ7nNA/SbMuP9EP9j9z5Y+a2hABQBC+iQTG4OA/JEmiElue/T/iTuhLCS3hv51YIo7cGsc/z7sVGgG4wj+7um+3oYvJv5CwP4jxSsm/OrZrHGKrpL/YlioI40eAv0SjppZjhbc/3Or+gJ2Bvr8=",
          "dtype": "f8"
         },
         "z": {
          "bdata": "Wrr+wgOtZMBCN9AzMC8/wMy4Qlp2MEhAsKtODGCeQMAdwwZ15oddQC7EqC7J+2DADgulXL4NVkCmcmhddulDQHU+snYeIjfA7KVkqpg4SkA2+b/RqOVdwDxuuZ8AKDzA3i9/nowpM0CDURI57dMfwMkb6aK7AkfAjv2HmJMDVECCjYIdFrZAQD49sT22jlLAjg8hx+5kZUDN6TrpbXdkQBSj/9tJbUPA1COHZUkoHMBtSAsyT+piwMsixBwUu2DAehPqvhKLRkCY5v6m+f8sQIulyumFcTjAcLl9G4QZQsD2fPVaLHVXwKiRHUpf8kLAgGaNb3ItRUD1f31Em9NDwAG8mKtuhVXACk3KOGxZN0CS4XodEKhkwPGBX9094WJAyavm2EjyQkAN5msGem5OwOuXc5Enx0XAMManUAh/XMBKR+onRPY7wKkHeHFcsFJAGCV8+RdFLMA/dARxAo5HQNj2H53y515AcJ6jY/69NcBOpm+ik/FEQIEy07l6CUJAZv/q3UP+QUC2rIIZxYReQJ9UqnUDaErA0kcTfk9LVECbPx1NQnBHwKAsVgeClVzAkS/jVK7HY0DiYJau9v9HQD4jQQn5ClLAp6CsmlzxVkBRxaGG8DxQQHhcjPuNCB9ASUHwzqsMYUCg1INIrTg5wOpRPO9z5D7A3jatG6M9VECWeQhXZfdmwDCqWRdZnztA2gHAadN74L+MoQkEF0ZkQGanxdHCYzPAXUa9M9okJsAYpCIq1gQ+wPX1TFRQwzLAihFVre/9QsC4kOlRGsUUQF6Y6CtQNUnA6Jvg2KirV0B+LPJx3D82wDaGmmxDFl1ARnHeLS+6XMAJmH7+UXpLwNCq/MiEiuc/wIdHG6zHRMB2G+rREAVXwJwZxrriPAfATkQCuBsXXMAsdcMmHzA1wKwa6E63xQVAcAbAw8t/SEBD+5Re+ctRQKTbzu2ylxvA4ncavw7tVUBM4X9XIlJhwHYaDo2EcDxAHvAiURjUGkBKRvTjJkokQM2m5+2HuzxA5QJLUM6XU8BP0dVxlMdiQBNw/prUWV1AjCKZHLYVQMA=",
          "dtype": "f8"
         }
        },
        {
         "type": "surface",
         "x": {
          "bdata": "AAAAAAAAFMDHcRzHcRwPwI7jOI7jOAbAqqqqqqqq+r9wHMdxHMfhv3Acx3Ecx+E/rKqqqqqq+j+Q4ziO4zgGQMhxHMdxHA9AAAAAAAAAFEA=",
          "dtype": "f8"
         },
         "y": {
          "bdata": "AAAAAAAAFMDHcRzHcRwPwI7jOI7jOAbAqqqqqqqq+r9wHMdxHMfhv3Acx3Ecx+E/rKqqqqqq+j+Q4ziO4zgGQMhxHMdxHA9AAAAAAAAAFEA=",
          "dtype": "f8"
         },
         "z": {
          "bdata": "DDHHKzByfcBbxQ/v84V5wKlZWLK3mXXA+e2gdXutccCQBNNxfoJrwC4tZPgFqmPAlqvq/RqjV8A+8zMsqMg/wNLHQp8b+z5AtmCu2rdvV0DY6Tp/h+F6wCd+g0JL9XbAdRLMBQ8Jc8CKTSmSpTluwCh2uhgtYWbAjD2XPmkRXcCLHXOX8MBKwAMAITnFgyJAxM4BmmkBUkDDvm9GLdlgQKSirtLeUHjA8zb3laJkdMBByz9ZZnhwwCK/EDlUGGnAwOehv9s/YcC8IGaMxs5SwK2PQ8ys7ijAoXmqsjYmSUCU6zJMDERcQCtNiJ9++mVAcFsiJjbAdcC/72rp+dNxwBwIZ1l7z2vAujD43wL3Y8CwshLNFD1YwNgHarRHGEHAaquiYjSTPECgWYYLvtVWQDIEMn9XQ2NAk9ug+M8ba0A8FJZ5jS9zwBdRvXmihm7AtHlOACquZsCkRL8NY6tdwL0rwzXk9EvARo7Bf+1nG0Cqx9nKb2dRQDi7214wjGBAmpJK2KhkaED+tNyokB5wQAjNCc3knnDAr8KkIFFlacBM6zWn2IxhwNQnjlvAaFPAfciDRXu+LcBna1oUQ/JHQHrkCn0SqltAoEn0t4GtZUACIWMx+oVtQDL8aFU5r3JAqQv7QHgcbMBHNIzH/0NkwMe5OpwO11jABRa6UjtMQsAIjwImTSs6QIRSXjzEO1ZApQCel1r2YkAJ2AwR085qQLbXPcWlU3FAZkP1AeI/dUBAfeLnJvtmwLxL59xcRV7A6zkT1NcoTcDmHEGNUMgRQJLAsft1zVBAq7dHdzM/YEAOj7bwqxdoQHFmJWok8G9A6h7KcU7kc0CbioGuitB3QNjuyY7V2WHA7C62KroCVMCWAGLfJEcxwD1dCnZPvkZAYt3irRgQW0ATRmDQhGBlQHYdz0n9OG1Abfqe4bqIckAeZlYe93R2QM/RDVszYXpA4sBiawhxWcA7JArxLoBDwKJyYullwzdAbEs2bcqhVUAY/QmwXaliQHrUeCnWgWpA79VzUSctcUChQSuOYxl1QFGt4sqfBXlAAhmaB9zxfEA=",
          "dtype": "f8",
          "shape": "10, 10"
         }
        }
       ],
       "layout": {
        "legend": {
         "tracegroupgap": 0
        },
        "margin": {
         "t": 60
        },
        "scene": {
         "domain": {
          "x": [
           0,
           1
          ],
          "y": [
           0,
           1
          ]
         },
         "xaxis": {
          "title": {
           "text": "feature1"
          }
         },
         "yaxis": {
          "title": {
           "text": "feature2"
          }
         },
         "zaxis": {
          "title": {
           "text": "target"
          }
         }
        },
        "template": {
         "data": {
          "bar": [
           {
            "error_x": {
             "color": "#2a3f5f"
            },
            "error_y": {
             "color": "#2a3f5f"
            },
            "marker": {
             "line": {
              "color": "#E5ECF6",
              "width": 0.5
             },
             "pattern": {
              "fillmode": "overlay",
              "size": 10,
              "solidity": 0.2
             }
            },
            "type": "bar"
           }
          ],
          "barpolar": [
           {
            "marker": {
             "line": {
              "color": "#E5ECF6",
              "width": 0.5
             },
             "pattern": {
              "fillmode": "overlay",
              "size": 10,
              "solidity": 0.2
             }
            },
            "type": "barpolar"
           }
          ],
          "carpet": [
           {
            "aaxis": {
             "endlinecolor": "#2a3f5f",
             "gridcolor": "white",
             "linecolor": "white",
             "minorgridcolor": "white",
             "startlinecolor": "#2a3f5f"
            },
            "baxis": {
             "endlinecolor": "#2a3f5f",
             "gridcolor": "white",
             "linecolor": "white",
             "minorgridcolor": "white",
             "startlinecolor": "#2a3f5f"
            },
            "type": "carpet"
           }
          ],
          "choropleth": [
           {
            "colorbar": {
             "outlinewidth": 0,
             "ticks": ""
            },
            "type": "choropleth"
           }
          ],
          "contour": [
           {
            "colorbar": {
             "outlinewidth": 0,
             "ticks": ""
            },
            "colorscale": [
             [
              0,
              "#0d0887"
             ],
             [
              0.1111111111111111,
              "#46039f"
             ],
             [
              0.2222222222222222,
              "#7201a8"
             ],
             [
              0.3333333333333333,
              "#9c179e"
             ],
             [
              0.4444444444444444,
              "#bd3786"
             ],
             [
              0.5555555555555556,
              "#d8576b"
             ],
             [
              0.6666666666666666,
              "#ed7953"
             ],
             [
              0.7777777777777778,
              "#fb9f3a"
             ],
             [
              0.8888888888888888,
              "#fdca26"
             ],
             [
              1,
              "#f0f921"
             ]
            ],
            "type": "contour"
           }
          ],
          "contourcarpet": [
           {
            "colorbar": {
             "outlinewidth": 0,
             "ticks": ""
            },
            "type": "contourcarpet"
           }
          ],
          "heatmap": [
           {
            "colorbar": {
             "outlinewidth": 0,
             "ticks": ""
            },
            "colorscale": [
             [
              0,
              "#0d0887"
             ],
             [
              0.1111111111111111,
              "#46039f"
             ],
             [
              0.2222222222222222,
              "#7201a8"
             ],
             [
              0.3333333333333333,
              "#9c179e"
             ],
             [
              0.4444444444444444,
              "#bd3786"
             ],
             [
              0.5555555555555556,
              "#d8576b"
             ],
             [
              0.6666666666666666,
              "#ed7953"
             ],
             [
              0.7777777777777778,
              "#fb9f3a"
             ],
             [
              0.8888888888888888,
              "#fdca26"
             ],
             [
              1,
              "#f0f921"
             ]
            ],
            "type": "heatmap"
           }
          ],
          "histogram": [
           {
            "marker": {
             "pattern": {
              "fillmode": "overlay",
              "size": 10,
              "solidity": 0.2
             }
            },
            "type": "histogram"
           }
          ],
          "histogram2d": [
           {
            "colorbar": {
             "outlinewidth": 0,
             "ticks": ""
            },
            "colorscale": [
             [
              0,
              "#0d0887"
             ],
             [
              0.1111111111111111,
              "#46039f"
             ],
             [
              0.2222222222222222,
              "#7201a8"
             ],
             [
              0.3333333333333333,
              "#9c179e"
             ],
             [
              0.4444444444444444,
              "#bd3786"
             ],
             [
              0.5555555555555556,
              "#d8576b"
             ],
             [
              0.6666666666666666,
              "#ed7953"
             ],
             [
              0.7777777777777778,
              "#fb9f3a"
             ],
             [
              0.8888888888888888,
              "#fdca26"
             ],
             [
              1,
              "#f0f921"
             ]
            ],
            "type": "histogram2d"
           }
          ],
          "histogram2dcontour": [
           {
            "colorbar": {
             "outlinewidth": 0,
             "ticks": ""
            },
            "colorscale": [
             [
              0,
              "#0d0887"
             ],
             [
              0.1111111111111111,
              "#46039f"
             ],
             [
              0.2222222222222222,
              "#7201a8"
             ],
             [
              0.3333333333333333,
              "#9c179e"
             ],
             [
              0.4444444444444444,
              "#bd3786"
             ],
             [
              0.5555555555555556,
              "#d8576b"
             ],
             [
              0.6666666666666666,
              "#ed7953"
             ],
             [
              0.7777777777777778,
              "#fb9f3a"
             ],
             [
              0.8888888888888888,
              "#fdca26"
             ],
             [
              1,
              "#f0f921"
             ]
            ],
            "type": "histogram2dcontour"
           }
          ],
          "mesh3d": [
           {
            "colorbar": {
             "outlinewidth": 0,
             "ticks": ""
            },
            "type": "mesh3d"
           }
          ],
          "parcoords": [
           {
            "line": {
             "colorbar": {
              "outlinewidth": 0,
              "ticks": ""
             }
            },
            "type": "parcoords"
           }
          ],
          "pie": [
           {
            "automargin": true,
            "type": "pie"
           }
          ],
          "scatter": [
           {
            "fillpattern": {
             "fillmode": "overlay",
             "size": 10,
             "solidity": 0.2
            },
            "type": "scatter"
           }
          ],
          "scatter3d": [
           {
            "line": {
             "colorbar": {
              "outlinewidth": 0,
              "ticks": ""
             }
            },
            "marker": {
             "colorbar": {
              "outlinewidth": 0,
              "ticks": ""
             }
            },
            "type": "scatter3d"
           }
          ],
          "scattercarpet": [
           {
            "marker": {
             "colorbar": {
              "outlinewidth": 0,
              "ticks": ""
             }
            },
            "type": "scattercarpet"
           }
          ],
          "scattergeo": [
           {
            "marker": {
             "colorbar": {
              "outlinewidth": 0,
              "ticks": ""
             }
            },
            "type": "scattergeo"
           }
          ],
          "scattergl": [
           {
            "marker": {
             "colorbar": {
              "outlinewidth": 0,
              "ticks": ""
             }
            },
            "type": "scattergl"
           }
          ],
          "scattermap": [
           {
            "marker": {
             "colorbar": {
              "outlinewidth": 0,
              "ticks": ""
             }
            },
            "type": "scattermap"
           }
          ],
          "scattermapbox": [
           {
            "marker": {
             "colorbar": {
              "outlinewidth": 0,
              "ticks": ""
             }
            },
            "type": "scattermapbox"
           }
          ],
          "scatterpolar": [
           {
            "marker": {
             "colorbar": {
              "outlinewidth": 0,
              "ticks": ""
             }
            },
            "type": "scatterpolar"
           }
          ],
          "scatterpolargl": [
           {
            "marker": {
             "colorbar": {
              "outlinewidth": 0,
              "ticks": ""
             }
            },
            "type": "scatterpolargl"
           }
          ],
          "scatterternary": [
           {
            "marker": {
             "colorbar": {
              "outlinewidth": 0,
              "ticks": ""
             }
            },
            "type": "scatterternary"
           }
          ],
          "surface": [
           {
            "colorbar": {
             "outlinewidth": 0,
             "ticks": ""
            },
            "colorscale": [
             [
              0,
              "#0d0887"
             ],
             [
              0.1111111111111111,
              "#46039f"
             ],
             [
              0.2222222222222222,
              "#7201a8"
             ],
             [
              0.3333333333333333,
              "#9c179e"
             ],
             [
              0.4444444444444444,
              "#bd3786"
             ],
             [
              0.5555555555555556,
              "#d8576b"
             ],
             [
              0.6666666666666666,
              "#ed7953"
             ],
             [
              0.7777777777777778,
              "#fb9f3a"
             ],
             [
              0.8888888888888888,
              "#fdca26"
             ],
             [
              1,
              "#f0f921"
             ]
            ],
            "type": "surface"
           }
          ],
          "table": [
           {
            "cells": {
             "fill": {
              "color": "#EBF0F8"
             },
             "line": {
              "color": "white"
             }
            },
            "header": {
             "fill": {
              "color": "#C8D4E3"
             },
             "line": {
              "color": "white"
             }
            },
            "type": "table"
           }
          ]
         },
         "layout": {
          "annotationdefaults": {
           "arrowcolor": "#2a3f5f",
           "arrowhead": 0,
           "arrowwidth": 1
          },
          "autotypenumbers": "strict",
          "coloraxis": {
           "colorbar": {
            "outlinewidth": 0,
            "ticks": ""
           }
          },
          "colorscale": {
           "diverging": [
            [
             0,
             "#8e0152"
            ],
            [
             0.1,
             "#c51b7d"
            ],
            [
             0.2,
             "#de77ae"
            ],
            [
             0.3,
             "#f1b6da"
            ],
            [
             0.4,
             "#fde0ef"
            ],
            [
             0.5,
             "#f7f7f7"
            ],
            [
             0.6,
             "#e6f5d0"
            ],
            [
             0.7,
             "#b8e186"
            ],
            [
             0.8,
             "#7fbc41"
            ],
            [
             0.9,
             "#4d9221"
            ],
            [
             1,
             "#276419"
            ]
           ],
           "sequential": [
            [
             0,
             "#0d0887"
            ],
            [
             0.1111111111111111,
             "#46039f"
            ],
            [
             0.2222222222222222,
             "#7201a8"
            ],
            [
             0.3333333333333333,
             "#9c179e"
            ],
            [
             0.4444444444444444,
             "#bd3786"
            ],
            [
             0.5555555555555556,
             "#d8576b"
            ],
            [
             0.6666666666666666,
             "#ed7953"
            ],
            [
             0.7777777777777778,
             "#fb9f3a"
            ],
            [
             0.8888888888888888,
             "#fdca26"
            ],
            [
             1,
             "#f0f921"
            ]
           ],
           "sequentialminus": [
            [
             0,
             "#0d0887"
            ],
            [
             0.1111111111111111,
             "#46039f"
            ],
            [
             0.2222222222222222,
             "#7201a8"
            ],
            [
             0.3333333333333333,
             "#9c179e"
            ],
            [
             0.4444444444444444,
             "#bd3786"
            ],
            [
             0.5555555555555556,
             "#d8576b"
            ],
            [
             0.6666666666666666,
             "#ed7953"
            ],
            [
             0.7777777777777778,
             "#fb9f3a"
            ],
            [
             0.8888888888888888,
             "#fdca26"
            ],
            [
             1,
             "#f0f921"
            ]
           ]
          },
          "colorway": [
           "#636efa",
           "#EF553B",
           "#00cc96",
           "#ab63fa",
           "#FFA15A",
           "#19d3f3",
           "#FF6692",
           "#B6E880",
           "#FF97FF",
           "#FECB52"
          ],
          "font": {
           "color": "#2a3f5f"
          },
          "geo": {
           "bgcolor": "white",
           "lakecolor": "white",
           "landcolor": "#E5ECF6",
           "showlakes": true,
           "showland": true,
           "subunitcolor": "white"
          },
          "hoverlabel": {
           "align": "left"
          },
          "hovermode": "closest",
          "mapbox": {
           "style": "light"
          },
          "paper_bgcolor": "white",
          "plot_bgcolor": "#E5ECF6",
          "polar": {
           "angularaxis": {
            "gridcolor": "white",
            "linecolor": "white",
            "ticks": ""
           },
           "bgcolor": "#E5ECF6",
           "radialaxis": {
            "gridcolor": "white",
            "linecolor": "white",
            "ticks": ""
           }
          },
          "scene": {
           "xaxis": {
            "backgroundcolor": "#E5ECF6",
            "gridcolor": "white",
            "gridwidth": 2,
            "linecolor": "white",
            "showbackground": true,
            "ticks": "",
            "zerolinecolor": "white"
           },
           "yaxis": {
            "backgroundcolor": "#E5ECF6",
            "gridcolor": "white",
            "gridwidth": 2,
            "linecolor": "white",
            "showbackground": true,
            "ticks": "",
            "zerolinecolor": "white"
           },
           "zaxis": {
            "backgroundcolor": "#E5ECF6",
            "gridcolor": "white",
            "gridwidth": 2,
            "linecolor": "white",
            "showbackground": true,
            "ticks": "",
            "zerolinecolor": "white"
           }
          },
          "shapedefaults": {
           "line": {
            "color": "#2a3f5f"
           }
          },
          "ternary": {
           "aaxis": {
            "gridcolor": "white",
            "linecolor": "white",
            "ticks": ""
           },
           "baxis": {
            "gridcolor": "white",
            "linecolor": "white",
            "ticks": ""
           },
           "bgcolor": "#E5ECF6",
           "caxis": {
            "gridcolor": "white",
            "linecolor": "white",
            "ticks": ""
           }
          },
          "title": {
           "x": 0.05
          },
          "xaxis": {
           "automargin": true,
           "gridcolor": "white",
           "linecolor": "white",
           "ticks": "",
           "title": {
            "standoff": 15
           },
           "zerolinecolor": "white",
           "zerolinewidth": 2
          },
          "yaxis": {
           "automargin": true,
           "gridcolor": "white",
           "linecolor": "white",
           "ticks": "",
           "title": {
            "standoff": 15
           },
           "zerolinecolor": "white",
           "zerolinewidth": 2
          }
         }
        }
       }
      }
     },
     "metadata": {},
     "output_type": "display_data"
    }
   ],
   "source": [
    "\n",
    "fig = px.scatter_3d(df, x='feature1', y='feature2', z='target')\n",
    "\n",
    "fig.add_trace(go.Surface(x = x, y = y, z =z ))\n",
    "\n",
    "fig.show()"
   ]
  },
  {
   "cell_type": "code",
   "execution_count": null,
   "id": "eac054d3-6912-4069-bd13-355dea88edc3",
   "metadata": {},
   "outputs": [],
   "source": []
  }
 ],
 "metadata": {
  "kernelspec": {
   "display_name": "Python 3",
   "language": "python",
   "name": "python3"
  },
  "language_info": {
   "codemirror_mode": {
    "name": "ipython",
    "version": 3
   },
   "file_extension": ".py",
   "mimetype": "text/x-python",
   "name": "python",
   "nbconvert_exporter": "python",
   "pygments_lexer": "ipython3",
   "version": "3.11.9"
  }
 },
 "nbformat": 4,
 "nbformat_minor": 5
}
