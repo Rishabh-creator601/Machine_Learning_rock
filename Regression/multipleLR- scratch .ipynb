{
 "cells": [
  {
   "cell_type": "code",
   "execution_count": 23,
   "id": "ade80c57-1f24-4834-a91d-f84499625638",
   "metadata": {},
   "outputs": [],
   "source": [
    "import numpy as np  ; import pandas as pd \n",
    "\n",
    "from sklearn.datasets import load_diabetes\n",
    "from sklearn.linear_model import LinearRegression\n",
    "from sklearn.model_selection import train_test_split \n",
    "from sklearn.metrics import r2_score"
   ]
  },
  {
   "cell_type": "markdown",
   "id": "bae12774",
   "metadata": {},
   "source": [
    "## CONTENTS : \n",
    "-  Multiple LR from scratch \n",
    "- Sklearn model (for evaluation purpose)"
   ]
  },
  {
   "cell_type": "code",
   "execution_count": 24,
   "id": "f71a619e-5f30-4da1-bec2-547d1346efe7",
   "metadata": {},
   "outputs": [
    {
     "name": "stdout",
     "output_type": "stream",
     "text": [
      "X train and y train shape :  (331, 10) (331,)\n"
     ]
    }
   ],
   "source": [
    "x,y = load_diabetes(return_X_y=True)\n",
    "x_train,x_test,y_train,y_test =  train_test_split(x,y)\n",
    "print(\"X train and y train shape : \",x_train.shape,y_train.shape)"
   ]
  },
  {
   "cell_type": "markdown",
   "id": "6f42b619-02db-443a-b658-4d301fef84d0",
   "metadata": {},
   "source": [
    "##### Most imp  thing to notice \n",
    "=>  if you see mathemtaical formulation then you  will notice that first value of every row is 1  <br />\n",
    "=>  we need to implement that same "
   ]
  },
  {
   "cell_type": "markdown",
   "id": "a008c5a5-63c5-4c8f-9835-00999b244226",
   "metadata": {
    "jp-MarkdownHeadingCollapsed": true
   },
   "source": [
    "## Multiple LR  from scratch "
   ]
  },
  {
   "cell_type": "code",
   "execution_count": 25,
   "id": "f62faf37-716f-405c-ae8b-a9122528ea21",
   "metadata": {},
   "outputs": [],
   "source": [
    "class MultipleLR :\n",
    "    def fit(self,x,y):\n",
    "        x = np.insert(x,0,1,axis=1) # putting values 1 in very first column columnwise \n",
    "        beta_matrix  =  np.linalg.inv(np.dot(x.T,x)).dot(x.T).dot(y)\n",
    "        self.coef_ =  beta_matrix[1:]\n",
    "        self.intercept_  = beta_matrix[0]\n",
    "        self.beta_matrix =  beta_matrix\n",
    "    def predict(self,x_test):\n",
    "        #x_test = np.squeeze(np.asarray(x_test))\n",
    "        # in source there is x_test not x_test.T so adjust if it works or not \n",
    "        y_hat =  np.dot(self.coef_,x_test.T)  +  self.intercept_\n",
    "        return y_hat\n",
    "\n",
    "        "
   ]
  },
  {
   "cell_type": "code",
   "execution_count": 26,
   "id": "69bebf40-4c47-4abf-873d-6bbdc15a6502",
   "metadata": {},
   "outputs": [
    {
     "name": "stdout",
     "output_type": "stream",
     "text": [
      "Bias : 152.28649677564698\n",
      "Coefs :\n",
      "[ -14.81880834 -225.71523858  532.08846688  281.78677692 -877.1538269\n",
      "  491.90539849  216.68304939  269.64104587  784.30465998   77.25232392]\n",
      "R2 Score  :  0.4702610428104361\n"
     ]
    }
   ],
   "source": [
    "model = MultipleLR()\n",
    "model.fit(x_train,y_train)\n",
    "\n",
    "bias = model.intercept_\n",
    "coefs= model.coef_\n",
    "y_hat =  model.predict(x_test)\n",
    "print(\"Bias :\",bias)\n",
    "print(\"Coefs :\")\n",
    "print(coefs)\n",
    "y_hat =  model.predict(x_test)\n",
    "r2_score_ =  r2_score(y_test,y_hat)\n",
    "print(\"R2 Score  : \",r2_score_)"
   ]
  },
  {
   "cell_type": "markdown",
   "id": "43c16cb8-950c-4a08-bbc2-7a3d9a68ba26",
   "metadata": {
    "jp-MarkdownHeadingCollapsed": true
   },
   "source": [
    "### SKLEARN MODEL"
   ]
  },
  {
   "cell_type": "code",
   "execution_count": 27,
   "id": "4ccd7ec1-f7f3-4fda-afcd-118eee3aadfd",
   "metadata": {},
   "outputs": [
    {
     "name": "stdout",
     "output_type": "stream",
     "text": [
      "Bias : 152.28649677564692\n",
      "Coefs :\n",
      "[ -14.81880834 -225.71523858  532.08846688  281.78677692 -877.1538269\n",
      "  491.90539849  216.68304938  269.64104587  784.30465998   77.25232392]\n",
      "R2 Score  :  0.47026104281043657\n"
     ]
    }
   ],
   "source": [
    "model_= LinearRegression()\n",
    "model_.fit(x_train,y_train)\n",
    "\n",
    "\n",
    "bias = model_.intercept_\n",
    "coefs= model_.coef_\n",
    "y_hat =  model_.predict(x_test)\n",
    "print(\"Bias :\",bias)\n",
    "print(\"Coefs :\")\n",
    "print(coefs)\n",
    "y_predicted=  model_.predict(x_test)\n",
    "r2_score_ = r2_score(y_test,y_predicted)\n",
    "print(\"R2 Score  : \",r2_score_)"
   ]
  }
 ],
 "metadata": {
  "kernelspec": {
   "display_name": "Python 3",
   "language": "python",
   "name": "python3"
  },
  "language_info": {
   "codemirror_mode": {
    "name": "ipython",
    "version": 3
   },
   "file_extension": ".py",
   "mimetype": "text/x-python",
   "name": "python",
   "nbconvert_exporter": "python",
   "pygments_lexer": "ipython3",
   "version": "3.11.9"
  }
 },
 "nbformat": 4,
 "nbformat_minor": 5
}
