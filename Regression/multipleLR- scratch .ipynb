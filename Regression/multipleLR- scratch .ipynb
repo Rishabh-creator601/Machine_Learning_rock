{
 "cells": [
  {
   "cell_type": "code",
   "execution_count": 55,
   "id": "ade80c57-1f24-4834-a91d-f84499625638",
   "metadata": {},
   "outputs": [],
   "source": [
    "import numpy as np \n",
    "import pandas as pd \n",
    "\n",
    "from sklearn.datasets import load_diabetes\n",
    "from sklearn.linear_model import LinearRegression\n",
    "from sklearn.model_selection import train_test_split \n",
    "from sklearn.metrics import r2_score"
   ]
  },
  {
   "cell_type": "code",
   "execution_count": 2,
   "id": "f71a619e-5f30-4da1-bec2-547d1346efe7",
   "metadata": {},
   "outputs": [],
   "source": [
    "x,y = load_diabetes(return_X_y=True)"
   ]
  },
  {
   "cell_type": "code",
   "execution_count": 3,
   "id": "67cdd857-a8d4-4132-ae9b-52d99d446df4",
   "metadata": {},
   "outputs": [],
   "source": [
    "x_train,x_test,y_train,y_test =  train_test_split(x,y)"
   ]
  },
  {
   "cell_type": "code",
   "execution_count": 4,
   "id": "6be3cbcb-d191-4057-b0a8-4b7423cf813b",
   "metadata": {},
   "outputs": [
    {
     "data": {
      "text/plain": [
       "((331, 10), (331,))"
      ]
     },
     "execution_count": 4,
     "metadata": {},
     "output_type": "execute_result"
    }
   ],
   "source": [
    "x_train.shape,y_train.shape"
   ]
  },
  {
   "cell_type": "markdown",
   "id": "6f42b619-02db-443a-b658-4d301fef84d0",
   "metadata": {},
   "source": [
    "### Most imp  thing to notice \n",
    "=>  if you see mathemtaical formulation then you  will notice that first value of every row is 1  <br />\n",
    "=>  we need to implement that same "
   ]
  },
  {
   "cell_type": "markdown",
   "id": "877541bb-3aac-44ed-b4fb-10aec66aa8a0",
   "metadata": {},
   "source": [
    "## MODELS"
   ]
  },
  {
   "cell_type": "markdown",
   "id": "a008c5a5-63c5-4c8f-9835-00999b244226",
   "metadata": {
    "jp-MarkdownHeadingCollapsed": true
   },
   "source": [
    "### My model "
   ]
  },
  {
   "cell_type": "code",
   "execution_count": 54,
   "id": "f62faf37-716f-405c-ae8b-a9122528ea21",
   "metadata": {},
   "outputs": [],
   "source": [
    "class MultipleLR :\n",
    "    def fit(self,x,y):\n",
    "        x = np.insert(x,0,1,axis=1) # putting values 1 in very first column columnwise \n",
    "        beta_matrix  =  np.linalg.inv(np.dot(x.T,x)).dot(x.T).dot(y)\n",
    "        self.coef_ =  beta_matrix[1:]\n",
    "        self.intercept_  = beta_matrix[0]\n",
    "        self.beta_matrix =  beta_matrix\n",
    "    def predict(self,x_test):\n",
    "        #x_test = np.squeeze(np.asarray(x_test))\n",
    "        # in source there is x_test not x_test.T so adjust if it works or not \n",
    "        y_hat =  np.dot(self.coef_,x_test.T)  +  self.intercept_\n",
    "        return y_hat\n",
    "\n",
    "        "
   ]
  },
  {
   "cell_type": "code",
   "execution_count": 49,
   "id": "69bebf40-4c47-4abf-873d-6bbdc15a6502",
   "metadata": {},
   "outputs": [
    {
     "data": {
      "text/plain": [
       "(151.2624562539996,\n",
       " array([  -11.78902527,  -256.90665059,   459.59203106,   394.18712273,\n",
       "        -1016.05245842,   569.12458825,   276.54131045,   311.75931378,\n",
       "          823.06798047,    90.37008205]))"
      ]
     },
     "execution_count": 49,
     "metadata": {},
     "output_type": "execute_result"
    }
   ],
   "source": [
    "model = MultipleLR()\n",
    "model.fit(x_train,y_train)\n",
    "model.intercept_, model.coef_"
   ]
  },
  {
   "cell_type": "code",
   "execution_count": 59,
   "id": "9468adfd-b924-4e3f-b48d-bdab88ef0a15",
   "metadata": {},
   "outputs": [
    {
     "data": {
      "text/plain": [
       "array([199.60745042,  67.0770163 , 123.07823034, 235.09639194,\n",
       "        99.28931329, 130.54765948, 172.94061696, 227.17633561,\n",
       "       155.62576106, 214.04367335, 122.99503215, 107.29383382,\n",
       "       144.57387134,  66.07826211, 215.5354894 ])"
      ]
     },
     "execution_count": 59,
     "metadata": {},
     "output_type": "execute_result"
    }
   ],
   "source": [
    "y_hat =  model.predict(x_test)\n",
    "y_hat[:15]"
   ]
  },
  {
   "cell_type": "code",
   "execution_count": 64,
   "id": "a767d8ea-5b23-4a8a-bc26-27332c0c8ad7",
   "metadata": {},
   "outputs": [
    {
     "data": {
      "text/plain": [
       "0.4630765355127088"
      ]
     },
     "execution_count": 64,
     "metadata": {},
     "output_type": "execute_result"
    }
   ],
   "source": [
    "r2_score(y_test,y_hat)"
   ]
  },
  {
   "cell_type": "markdown",
   "id": "43c16cb8-950c-4a08-bbc2-7a3d9a68ba26",
   "metadata": {
    "jp-MarkdownHeadingCollapsed": true
   },
   "source": [
    "### SKLEARN MODEL"
   ]
  },
  {
   "cell_type": "code",
   "execution_count": 52,
   "id": "4ccd7ec1-f7f3-4fda-afcd-118eee3aadfd",
   "metadata": {},
   "outputs": [
    {
     "data": {
      "text/plain": [
       "(array([  -11.78902527,  -256.90665059,   459.59203106,   394.18712273,\n",
       "        -1016.05245842,   569.12458825,   276.54131045,   311.75931378,\n",
       "          823.06798047,    90.37008205]),\n",
       " 151.26245625399963)"
      ]
     },
     "execution_count": 52,
     "metadata": {},
     "output_type": "execute_result"
    }
   ],
   "source": [
    "model_= LinearRegression()\n",
    "model_.fit(x_train,y_train)\n",
    "model_.coef_,model_.intercept_"
   ]
  },
  {
   "cell_type": "code",
   "execution_count": 53,
   "id": "38f05dcc-5c55-4783-ae47-9fc67bf59960",
   "metadata": {},
   "outputs": [
    {
     "data": {
      "text/plain": [
       "array([199.60745042,  67.0770163 , 123.07823034, 235.09639194,\n",
       "        99.28931329, 130.54765948, 172.94061696, 227.17633561,\n",
       "       155.62576106, 214.04367335, 122.99503215, 107.29383382,\n",
       "       144.57387134,  66.07826211, 215.5354894 ,  71.73829603,\n",
       "       149.74719582, 102.35612755,  79.82694531, 138.46102182,\n",
       "       162.89758517, 215.49065877, 196.70303149, 177.88087412,\n",
       "       285.65653504,  35.32894346, 136.42006725,  80.16002078,\n",
       "        60.91065407,  70.07298618, 147.23646825, 148.56667924,\n",
       "       177.26050244, 163.89355727, 141.15639354, 164.99848697,\n",
       "       178.99454369, 126.4242048 , 123.03380354,  81.12595661,\n",
       "       132.20685755, 132.28795282,  99.5002833 , 200.06126911,\n",
       "       160.7819767 , 170.0546013 , 202.5107534 , 134.5302556 ,\n",
       "       162.19821987, 202.9210897 , 288.83294062,  72.24820457,\n",
       "        55.33626988,  69.21212807,  66.66301823, 139.31015749,\n",
       "        37.7943852 , 161.30200009, 193.79469838, 139.49002058,\n",
       "       112.75058469,  56.25617455, 198.89212781, 187.34996916,\n",
       "       105.46532174, 221.84642597,  71.95454276,  80.71973868,\n",
       "       145.48765837, 143.39205582, 121.31152308, 170.92805343,\n",
       "        63.12604607,  96.83100272, 152.71111064, 234.13898754,\n",
       "        72.69828012,  91.13290981, 103.91918966,  88.13209335,\n",
       "       126.07580643, 133.28035833, 223.87471117, 143.12077953,\n",
       "        77.47090731, 122.6636418 , 203.87489452, 159.95300235,\n",
       "       198.82929739, 114.24649703, 146.03333679, 104.60382059,\n",
       "       199.11484024, 226.99637766,  63.79597618, 179.67188013,\n",
       "       125.31622036,  84.10379341,  85.26271646, 154.51235733,\n",
       "       236.00693915, 125.46769456, 184.0841864 , 182.21968513,\n",
       "       164.3970764 , 234.14567047, 165.95658214, 142.99510507,\n",
       "       100.27387893, 116.8973025 , 208.37897331])"
      ]
     },
     "execution_count": 53,
     "metadata": {},
     "output_type": "execute_result"
    }
   ],
   "source": [
    "model_.predict(x_test)"
   ]
  },
  {
   "cell_type": "code",
   "execution_count": 61,
   "id": "1cb9eef9-de45-4310-baff-bebff89cffae",
   "metadata": {},
   "outputs": [
    {
     "data": {
      "text/plain": [
       "array([199.60745042,  67.0770163 , 123.07823034, 235.09639194,\n",
       "        99.28931329, 130.54765948, 172.94061696, 227.17633561,\n",
       "       155.62576106, 214.04367335, 122.99503215, 107.29383382,\n",
       "       144.57387134,  66.07826211, 215.5354894 ])"
      ]
     },
     "execution_count": 61,
     "metadata": {},
     "output_type": "execute_result"
    }
   ],
   "source": [
    "y_predicted=  model_.predict(x_test)\n",
    "y_predicted[:15]\n"
   ]
  },
  {
   "cell_type": "code",
   "execution_count": 63,
   "id": "f0dfaac7-190b-4173-bd81-446414883e7b",
   "metadata": {},
   "outputs": [
    {
     "data": {
      "text/plain": [
       "0.4630765355127088"
      ]
     },
     "execution_count": 63,
     "metadata": {},
     "output_type": "execute_result"
    }
   ],
   "source": [
    "r2_score(y_test,y_predicted)"
   ]
  },
  {
   "cell_type": "code",
   "execution_count": null,
   "id": "49e14da6-1103-4c65-85d9-7dc5a7bab990",
   "metadata": {},
   "outputs": [],
   "source": []
  }
 ],
 "metadata": {
  "kernelspec": {
   "display_name": "Python 3 (ipykernel)",
   "language": "python",
   "name": "python3"
  },
  "language_info": {
   "codemirror_mode": {
    "name": "ipython",
    "version": 3
   },
   "file_extension": ".py",
   "mimetype": "text/x-python",
   "name": "python",
   "nbconvert_exporter": "python",
   "pygments_lexer": "ipython3",
   "version": "3.10.0"
  }
 },
 "nbformat": 4,
 "nbformat_minor": 5
}
